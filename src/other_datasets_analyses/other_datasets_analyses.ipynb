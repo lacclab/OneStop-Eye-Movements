{
 "cells": [
  {
   "cell_type": "code",
   "execution_count": 1,
   "metadata": {},
   "outputs": [
    {
     "name": "stdout",
     "output_type": "stream",
     "text": [
      "Detected IPython. Loading juliacall extension. See https://juliapy.github.io/PythonCall.jl/stable/compat/#IPython\n"
     ]
    }
   ],
   "source": [
    "from itertools import combinations\n",
    "\n",
    "import pandas as pd\n",
    "import plotly.graph_objects as go\n",
    "import plotly.subplots as sp\n",
    "from other_datasets_utils import (\n",
    "    get_outcome_vars,\n",
    "    load_and_process_dataset,\n",
    "    rounding_dict,\n",
    ")\n",
    "from scipy import stats\n",
    "\n",
    "from src.linear_mm_utils.calc_means_main import (\n",
    "    calc_mm_means_for_all_outcomes,\n",
    ")\n",
    "from src.linear_mm_utils.constants import outcome_name_mapping\n",
    "from src.linear_mm_utils.julia_linear_mm import jl, run_linear_mm\n",
    "from src.linear_mm_utils.utils import exclude_IAs, dropbox_upload\n"
   ]
  },
  {
   "cell_type": "markdown",
   "metadata": {},
   "source": [
    "# Means with 95% confidence intervals for eye movement measures in Each Dataset\n"
   ]
  },
  {
   "cell_type": "code",
   "execution_count": 2,
   "metadata": {},
   "outputs": [],
   "source": [
    "dataset = \"celer\""
   ]
  },
  {
   "cell_type": "code",
   "execution_count": 3,
   "metadata": {},
   "outputs": [
    {
     "name": "stderr",
     "output_type": "stream",
     "text": [
      "/data/home/meiri.yoav/OneStop-Eye-Movements/src/other_datasets_analyses/other_datasets_utils.py:175: DtypeWarning: Columns (44) have mixed types. Specify dtype option on import or set low_memory=False.\n",
      "  fix_rep = pd.read_csv(\n"
     ]
    },
    {
     "name": "stdout",
     "output_type": "stream",
     "text": [
      "Could not convert IA_FIRST_PASS_GAZE_DURATION to numeric\n"
     ]
    }
   ],
   "source": [
    "ia_rep, fix_rep, ia_rep_fixated_only = load_and_process_dataset(dataset=dataset)\n",
    "pos_outcomes, fix_rep_outcomes, non_pos_outcomes = get_outcome_vars(dataset=dataset)"
   ]
  },
  {
   "cell_type": "code",
   "execution_count": 10,
   "metadata": {},
   "outputs": [],
   "source": [
    "if dataset == \"onestop\":\n",
    "    evs = [\"has_preview\", \"reread\"]\n",
    "elif dataset == \"celer\":\n",
    "    evs = [\"L1\"]\n",
    "else:\n",
    "    evs = []\n",
    "\n",
    "if dataset == \"onestop\":\n",
    "    re_columns = [\"subject_id\", \"unique_paragraph_id\"]\n",
    "elif dataset == \"sbsat\":\n",
    "    re_columns = [\"RECORDING_SESSION_LABEL\", \"page_name\"]\n",
    "elif dataset == \"geco\":\n",
    "    re_columns = [\"PP_NR\"]\n",
    "elif dataset == \"celer\":\n",
    "    re_columns = [\"list\"]"
   ]
  },
  {
   "cell_type": "code",
   "execution_count": 11,
   "metadata": {},
   "outputs": [
    {
     "name": "stdout",
     "output_type": "stream",
     "text": [
      "outcome_variable: IA_FIRST_FIXATION_DURATION\n",
      "df_m shape before dropping nan: (1452564, 106)\n",
      "df_m shape after dropping nan: (1452564, 106)\n",
      "u_vals: ['Gathering__0', 'Gathering__1', 'Hunting__0', 'Hunting__1']\n"
     ]
    },
    {
     "name": "stderr",
     "output_type": "stream",
     "text": [
      "100%|██████████| 4/4 [00:15<00:00,  3.95s/it]\n"
     ]
    },
    {
     "name": "stdout",
     "output_type": "stream",
     "text": [
      "outcome_variable: IA_FIRST_RUN_DWELL_TIME\n",
      "df_m shape before dropping nan: (1452564, 106)\n",
      "df_m shape after dropping nan: (1452564, 106)\n",
      "u_vals: ['Gathering__0', 'Gathering__1', 'Hunting__0', 'Hunting__1']\n"
     ]
    },
    {
     "name": "stderr",
     "output_type": "stream",
     "text": [
      "100%|██████████| 4/4 [00:03<00:00,  1.14it/s]\n"
     ]
    },
    {
     "name": "stdout",
     "output_type": "stream",
     "text": [
      "outcome_variable: IA_FIRST_PASS_GAZE_DURATION\n",
      "df_m shape before dropping nan: (1452564, 106)\n",
      "df_m shape after dropping nan: (1006744, 106)\n",
      "u_vals: ['Gathering__0', 'Gathering__1', 'Hunting__0', 'Hunting__1']\n"
     ]
    },
    {
     "name": "stderr",
     "output_type": "stream",
     "text": [
      "100%|██████████| 4/4 [00:02<00:00,  1.38it/s]\n"
     ]
    },
    {
     "name": "stdout",
     "output_type": "stream",
     "text": [
      "outcome_variable: IA_DWELL_TIME\n",
      "df_m shape before dropping nan: (1452564, 106)\n",
      "df_m shape after dropping nan: (1452564, 106)\n",
      "u_vals: ['Gathering__0', 'Gathering__1', 'Hunting__0', 'Hunting__1']\n"
     ]
    },
    {
     "name": "stderr",
     "output_type": "stream",
     "text": [
      "100%|██████████| 4/4 [00:03<00:00,  1.16it/s]\n"
     ]
    },
    {
     "name": "stdout",
     "output_type": "stream",
     "text": [
      "outcome_variable: IA_REGRESSION_OUT_FULL_COUNT\n",
      "df_m shape before dropping nan: (2532799, 105)\n",
      "df_m shape after dropping nan: (2532799, 105)\n",
      "u_vals: ['Gathering__0', 'Gathering__1', 'Hunting__0', 'Hunting__1']\n"
     ]
    },
    {
     "name": "stderr",
     "output_type": "stream",
     "text": [
      "100%|██████████| 4/4 [00:07<00:00,  1.78s/it]\n"
     ]
    },
    {
     "name": "stdout",
     "output_type": "stream",
     "text": [
      "outcome_variable: IA_FIXATION_COUNT\n",
      "df_m shape before dropping nan: (2532799, 105)\n",
      "df_m shape after dropping nan: (2532799, 105)\n",
      "u_vals: ['Gathering__0', 'Gathering__1', 'Hunting__0', 'Hunting__1']\n"
     ]
    },
    {
     "name": "stderr",
     "output_type": "stream",
     "text": [
      "100%|██████████| 4/4 [00:06<00:00,  1.74s/it]\n"
     ]
    },
    {
     "name": "stdout",
     "output_type": "stream",
     "text": [
      "outcome_variable: IA_ZERO_TF\n",
      "df_m shape before dropping nan: (2532799, 105)\n",
      "df_m shape after dropping nan: (2532799, 105)\n",
      "u_vals: ['Gathering__0', 'Gathering__1', 'Hunting__0', 'Hunting__1']\n"
     ]
    },
    {
     "name": "stderr",
     "output_type": "stream",
     "text": [
      "100%|██████████| 4/4 [00:06<00:00,  1.67s/it]\n"
     ]
    },
    {
     "name": "stdout",
     "output_type": "stream",
     "text": [
      "outcome_variable: IA_SKIP\n",
      "df_m shape before dropping nan: (2532799, 105)\n",
      "df_m shape after dropping nan: (2532799, 105)\n",
      "u_vals: ['Gathering__0', 'Gathering__1', 'Hunting__0', 'Hunting__1']\n"
     ]
    },
    {
     "name": "stderr",
     "output_type": "stream",
     "text": [
      "100%|██████████| 4/4 [00:06<00:00,  1.67s/it]\n"
     ]
    },
    {
     "name": "stdout",
     "output_type": "stream",
     "text": [
      "outcome_variable: NEXT_SAC_AMPLITUDE\n",
      "df_m shape before dropping nan: (2289445, 63)\n",
      "df_m shape after dropping nan: (2270276, 63)\n",
      "u_vals: ['Gathering__0', 'Gathering__1', 'Hunting__0', 'Hunting__1']\n"
     ]
    },
    {
     "name": "stderr",
     "output_type": "stream",
     "text": [
      "100%|██████████| 4/4 [00:04<00:00,  1.16s/it]\n"
     ]
    },
    {
     "name": "stdout",
     "output_type": "stream",
     "text": [
      "outcome_variable: CURRENT_FIX_DURATION\n",
      "df_m shape before dropping nan: (2289445, 63)\n",
      "df_m shape after dropping nan: (2289445, 63)\n",
      "u_vals: ['Gathering__0', 'Gathering__1', 'Hunting__0', 'Hunting__1']\n"
     ]
    },
    {
     "name": "stderr",
     "output_type": "stream",
     "text": [
      "100%|██████████| 4/4 [00:05<00:00,  1.29s/it]\n"
     ]
    }
   ],
   "source": [
    "ia_means_df = calc_mm_means_for_all_outcomes(\n",
    "    df=ia_rep_fixated_only,  # type: ignore\n",
    "    explanatory_variable_list=evs,\n",
    "    re_columns=re_columns,\n",
    "    outcomes=pos_outcomes,\n",
    "    mean_mode=\"subset_mean\",\n",
    ")\n",
    "\n",
    "if dataset != \"sbsat\":\n",
    "    means_skip_rate = calc_mm_means_for_all_outcomes(\n",
    "        df=ia_rep,\n",
    "        explanatory_variable_list=evs,\n",
    "        re_columns=re_columns,\n",
    "        outcomes=non_pos_outcomes,\n",
    "        mean_mode=\"subset_mean\",\n",
    "    )\n",
    "\n",
    "if type(fix_rep) is pd.DataFrame:\n",
    "    fix_means_df = calc_mm_means_for_all_outcomes(\n",
    "        df=fix_rep,\n",
    "        explanatory_variable_list=evs,\n",
    "        re_columns=re_columns,\n",
    "        outcomes=fix_rep_outcomes,\n",
    "        mean_mode=\"subset_mean\",\n",
    "    )"
   ]
  },
  {
   "cell_type": "code",
   "execution_count": 12,
   "metadata": {},
   "outputs": [],
   "source": [
    "if dataset in [\"onestop\", \"celer\"]:\n",
    "    means_df = pd.concat([ia_means_df, fix_means_df, means_skip_rate], axis=0)\n",
    "elif dataset == \"sbsat\":\n",
    "    means_df = pd.concat([ia_means_df, fix_means_df], axis=0)\n",
    "elif dataset == \"geco\":\n",
    "    means_df = pd.concat([ia_means_df, means_skip_rate], axis=0)"
   ]
  },
  {
   "cell_type": "code",
   "execution_count": 16,
   "metadata": {},
   "outputs": [
    {
     "data": {
      "text/html": [
       "<div>\n",
       "<style scoped>\n",
       "    .dataframe tbody tr th:only-of-type {\n",
       "        vertical-align: middle;\n",
       "    }\n",
       "\n",
       "    .dataframe tbody tr th {\n",
       "        vertical-align: top;\n",
       "    }\n",
       "\n",
       "    .dataframe thead tr th {\n",
       "        text-align: left;\n",
       "    }\n",
       "\n",
       "    .dataframe thead tr:last-of-type th {\n",
       "        text-align: right;\n",
       "    }\n",
       "</style>\n",
       "<table border=\"1\" class=\"dataframe\">\n",
       "  <thead>\n",
       "    <tr>\n",
       "      <th>has_preview</th>\n",
       "      <th colspan=\"2\" halign=\"left\">Gathering</th>\n",
       "      <th colspan=\"2\" halign=\"left\">Hunting</th>\n",
       "    </tr>\n",
       "    <tr>\n",
       "      <th>reread</th>\n",
       "      <th>0</th>\n",
       "      <th>1</th>\n",
       "      <th>0</th>\n",
       "      <th>1</th>\n",
       "    </tr>\n",
       "    <tr>\n",
       "      <th>outcome_variable</th>\n",
       "      <th></th>\n",
       "      <th></th>\n",
       "      <th></th>\n",
       "      <th></th>\n",
       "    </tr>\n",
       "  </thead>\n",
       "  <tbody>\n",
       "    <tr>\n",
       "      <th>First Fixation Duration</th>\n",
       "      <td>$193.7_{\\pm 3.9}$</td>\n",
       "      <td>$186.1_{\\pm 3.8}$</td>\n",
       "      <td>$186.5_{\\pm 3.4}$</td>\n",
       "      <td>$178.9_{\\pm 3.2}$</td>\n",
       "    </tr>\n",
       "    <tr>\n",
       "      <th>Gaze Duration</th>\n",
       "      <td>$214.6_{\\pm 5.2}$</td>\n",
       "      <td>$200.0_{\\pm 4.7}$</td>\n",
       "      <td>$200.9_{\\pm 4.2}$</td>\n",
       "      <td>$187.5_{\\pm 3.7}$</td>\n",
       "    </tr>\n",
       "    <tr>\n",
       "      <th>First Pass Gaze Duration</th>\n",
       "      <td>$218.4_{\\pm 5.4}$</td>\n",
       "      <td>$201.4_{\\pm 4.9}$</td>\n",
       "      <td>$203.3_{\\pm 4.3}$</td>\n",
       "      <td>$187.9_{\\pm 3.8}$</td>\n",
       "    </tr>\n",
       "    <tr>\n",
       "      <th>Total Fixation Duration</th>\n",
       "      <td>$306.6_{\\pm 10.9}$</td>\n",
       "      <td>$248.3_{\\pm 8.4}$</td>\n",
       "      <td>$283.6_{\\pm 7.9}$</td>\n",
       "      <td>$236.9_{\\pm 6.7}$</td>\n",
       "    </tr>\n",
       "    <tr>\n",
       "      <th>Regression Rate</th>\n",
       "      <td>$0.23_{\\pm 0.01}$</td>\n",
       "      <td>$0.13_{\\pm 0.01}$</td>\n",
       "      <td>$0.2_{\\pm 0.01}$</td>\n",
       "      <td>$0.1_{\\pm 0.01}$</td>\n",
       "    </tr>\n",
       "    <tr>\n",
       "      <th>Fixation Count</th>\n",
       "      <td>$1.04_{\\pm 0.05}$</td>\n",
       "      <td>$0.68_{\\pm 0.04}$</td>\n",
       "      <td>$0.88_{\\pm 0.04}$</td>\n",
       "      <td>$0.48_{\\pm 0.03}$</td>\n",
       "    </tr>\n",
       "    <tr>\n",
       "      <th>Global Skip Rate (TF = 0)</th>\n",
       "      <td>$0.36_{\\pm 0.01}$</td>\n",
       "      <td>$0.5_{\\pm 0.02}$</td>\n",
       "      <td>$0.43_{\\pm 0.02}$</td>\n",
       "      <td>$0.64_{\\pm 0.02}$</td>\n",
       "    </tr>\n",
       "    <tr>\n",
       "      <th>Skip Rate</th>\n",
       "      <td>$0.55_{\\pm 0.02}$</td>\n",
       "      <td>$0.64_{\\pm 0.02}$</td>\n",
       "      <td>$0.61_{\\pm 0.02}$</td>\n",
       "      <td>$0.76_{\\pm 0.02}$</td>\n",
       "    </tr>\n",
       "    <tr>\n",
       "      <th>Saccade Length</th>\n",
       "      <td>$14.8_{\\pm 0.4}$</td>\n",
       "      <td>$16.7_{\\pm 0.5}$</td>\n",
       "      <td>$15.9_{\\pm 0.5}$</td>\n",
       "      <td>$17.6_{\\pm 0.5}$</td>\n",
       "    </tr>\n",
       "    <tr>\n",
       "      <th>Single Fixation Duration</th>\n",
       "      <td>$191.6_{\\pm 3.7}$</td>\n",
       "      <td>$185.0_{\\pm 3.7}$</td>\n",
       "      <td>$185.8_{\\pm 3.3}$</td>\n",
       "      <td>$178.8_{\\pm 3.2}$</td>\n",
       "    </tr>\n",
       "  </tbody>\n",
       "</table>\n",
       "</div>"
      ],
      "text/plain": [
       "has_preview                         Gathering                     \\\n",
       "reread                                      0                  1   \n",
       "outcome_variable                                                   \n",
       "First Fixation Duration     $193.7_{\\pm 3.9}$  $186.1_{\\pm 3.8}$   \n",
       "Gaze Duration               $214.6_{\\pm 5.2}$  $200.0_{\\pm 4.7}$   \n",
       "First Pass Gaze Duration    $218.4_{\\pm 5.4}$  $201.4_{\\pm 4.9}$   \n",
       "Total Fixation Duration    $306.6_{\\pm 10.9}$  $248.3_{\\pm 8.4}$   \n",
       "Regression Rate             $0.23_{\\pm 0.01}$  $0.13_{\\pm 0.01}$   \n",
       "Fixation Count              $1.04_{\\pm 0.05}$  $0.68_{\\pm 0.04}$   \n",
       "Global Skip Rate (TF = 0)   $0.36_{\\pm 0.01}$   $0.5_{\\pm 0.02}$   \n",
       "Skip Rate                   $0.55_{\\pm 0.02}$  $0.64_{\\pm 0.02}$   \n",
       "Saccade Length               $14.8_{\\pm 0.4}$   $16.7_{\\pm 0.5}$   \n",
       "Single Fixation Duration    $191.6_{\\pm 3.7}$  $185.0_{\\pm 3.7}$   \n",
       "\n",
       "has_preview                          Hunting                     \n",
       "reread                                     0                  1  \n",
       "outcome_variable                                                 \n",
       "First Fixation Duration    $186.5_{\\pm 3.4}$  $178.9_{\\pm 3.2}$  \n",
       "Gaze Duration              $200.9_{\\pm 4.2}$  $187.5_{\\pm 3.7}$  \n",
       "First Pass Gaze Duration   $203.3_{\\pm 4.3}$  $187.9_{\\pm 3.8}$  \n",
       "Total Fixation Duration    $283.6_{\\pm 7.9}$  $236.9_{\\pm 6.7}$  \n",
       "Regression Rate             $0.2_{\\pm 0.01}$   $0.1_{\\pm 0.01}$  \n",
       "Fixation Count             $0.88_{\\pm 0.04}$  $0.48_{\\pm 0.03}$  \n",
       "Global Skip Rate (TF = 0)  $0.43_{\\pm 0.02}$  $0.64_{\\pm 0.02}$  \n",
       "Skip Rate                  $0.61_{\\pm 0.02}$  $0.76_{\\pm 0.02}$  \n",
       "Saccade Length              $15.9_{\\pm 0.5}$   $17.6_{\\pm 0.5}$  \n",
       "Single Fixation Duration   $185.8_{\\pm 3.3}$  $178.8_{\\pm 3.2}$  "
      ]
     },
     "execution_count": 16,
     "metadata": {},
     "output_type": "execute_result"
    }
   ],
   "source": [
    "means_df_styled = means_df.copy()\n",
    "\n",
    "\n",
    "# round values if 'mean' and '2se' according to rounding dict by outcome_variable value\n",
    "def means_df_to_table(means_df):\n",
    "    for outcome_variable in pos_outcomes + fix_rep_outcomes + non_pos_outcomes:\n",
    "        means_df.loc[means_df[\"outcome_variable\"] == outcome_variable, \"mean\"] = (\n",
    "            means_df.loc[\n",
    "                means_df[\"outcome_variable\"] == outcome_variable, \"mean\"\n",
    "            ].round(rounding_dict[outcome_variable])\n",
    "        )\n",
    "        means_df.loc[means_df[\"outcome_variable\"] == outcome_variable, \"2se\"] = (\n",
    "            means_df.loc[\n",
    "                means_df[\"outcome_variable\"] == outcome_variable, \"2se\"\n",
    "            ].round(rounding_dict[outcome_variable])\n",
    "        )\n",
    "\n",
    "    means_df[\"mean_sd_str\"] = (\n",
    "        \"$\"\n",
    "        + means_df[\"mean\"].astype(str)\n",
    "        + r\"_{\\pm \"\n",
    "        + (means_df[\"2se\"]).astype(str)\n",
    "        + \"}$\"\n",
    "    )\n",
    "\n",
    "    # replace each value in 'outcome_variable' with its value in the dict outcome_name_mapping\n",
    "    means_df[\"outcome_variable\"] = means_df[\"outcome_variable\"].map(\n",
    "        outcome_name_mapping, na_action=\"ignore\"\n",
    "    )\n",
    "\n",
    "    return means_df\n",
    "\n",
    "\n",
    "means_df_styled = means_df_to_table(means_df_styled)\n",
    "\n",
    "if dataset in [\"onestop\", \"celer\"]:\n",
    "    means_df_pivot = means_df_styled.pivot(\n",
    "        index=\"outcome_variable\",\n",
    "        columns=evs,\n",
    "        values=\"mean_sd_str\",\n",
    "    )\n",
    "\n",
    "    means_df_styled = means_df_pivot.loc[\n",
    "        list(\n",
    "            map(\n",
    "                lambda x: outcome_name_mapping[x],\n",
    "                pos_outcomes + non_pos_outcomes + fix_rep_outcomes,\n",
    "            )\n",
    "        ),\n",
    "        :,\n",
    "    ]\n",
    "\n",
    "means_df_styled"
   ]
  },
  {
   "cell_type": "markdown",
   "metadata": {},
   "source": [
    "## OneStop Comparisons - Has_preview $\\times$ Reread \n"
   ]
  },
  {
   "cell_type": "code",
   "execution_count": null,
   "metadata": {},
   "outputs": [],
   "source": [
    "ia_rep, fix_rep, ia_rep_fixated_only = load_and_process_dataset(dataset=\"onestop\")\n",
    "pos_outcomes, fix_rep_outcomes, non_pos_outcomes = get_outcome_vars(dataset=\"onestop\")"
   ]
  },
  {
   "cell_type": "code",
   "execution_count": 21,
   "metadata": {},
   "outputs": [],
   "source": [
    "# link_dist_dict is a dict with\n",
    "\n",
    "link_dist_dict = {\n",
    "    outcome: jl.Distributions.Normal()\n",
    "    for outcome in pos_outcomes + fix_rep_outcomes + non_pos_outcomes\n",
    "}\n",
    "\n",
    "\n",
    "link_dist_dict[\"IA_FIXATION_COUNT\"] = jl.Distributions.Normal()  # type: ignore\n",
    "link_dist_dict[\"IA_SKIP\"] = jl.Distributions.Normal()  # type: ignore\n",
    "link_dist_dict[\"IA_ZERO_TF\"] = jl.Distributions.Normal()  # type: ignore\n",
    "link_dist_dict[\"NEXT_SAC_AMPLITUDE\"] = jl.Distributions.Normal()"
   ]
  },
  {
   "cell_type": "code",
   "execution_count": 22,
   "metadata": {},
   "outputs": [
    {
     "name": "stdout",
     "output_type": "stream",
     "text": [
      "Time for IA_FIRST_FIXATION_DURATION: 9.777475357055664\n",
      "Time for IA_FIRST_RUN_DWELL_TIME: 10.77896785736084\n",
      "Time for IA_FIRST_PASS_GAZE_DURATION: 8.941622018814087\n",
      "Time for IA_DWELL_TIME: 9.72004771232605\n",
      "Time for IA_SKIP: 15.859427452087402\n",
      "Time for IA_ZERO_TF: 18.362783670425415\n",
      "Time for NEXT_SAC_AMPLITUDE: 13.876774072647095\n",
      "Time for CURRENT_FIX_DURATION: 12.941179513931274\n"
     ]
    }
   ],
   "source": [
    "import time\n",
    "\n",
    "comparisons_lists = {}\n",
    "\n",
    "for outcome in pos_outcomes + [\"IA_SKIP\", \"IA_ZERO_TF\"] + fix_rep_outcomes:\n",
    "    curr_time = time.time()\n",
    "\n",
    "    if outcome in pos_outcomes:\n",
    "        curr_df = ia_rep_fixated_only.copy()\n",
    "    elif outcome in [\"IA_SKIP\", \"IA_ZERO_TF\"]:\n",
    "        curr_df = ia_rep.copy()\n",
    "    elif outcome in fix_rep_outcomes:\n",
    "        curr_df = fix_rep.copy()\n",
    "\n",
    "    # remove all rows where the outcome contains nan\n",
    "    curr_df = curr_df.dropna(subset=[outcome])\n",
    "\n",
    "    outcome_p_vals_lst = []\n",
    "    # Inside Gathering: FR vs. RR\n",
    "    for hp_val in [\"Hunting\", \"Gathering\"]:\n",
    "        coefs, _ = run_linear_mm(\n",
    "            df_input=curr_df.query(f\"has_preview == '{hp_val}'\"),\n",
    "            re_cols=[\"subject_id\", \"unique_paragraph_id\"],\n",
    "            outcome_variable=outcome,\n",
    "            link_dist=link_dist_dict[outcome],\n",
    "            formula=f\"{outcome} ~ reread + (1 + reread | subject_id) + (1 + reread | unique_paragraph_id)\",\n",
    "            print_model_res=False,\n",
    "        )\n",
    "        outcome_p_vals_lst.append(\n",
    "            float(coefs.loc[coefs[\"Name\"] == \"reread\"][\"Pr(>|z|)\"].values[0])  # type: ignore\n",
    "        )\n",
    "\n",
    "    curr_df[\"has_preview\"] = curr_df[\"has_preview\"].map({\"Hunting\": 1, \"Gathering\": 0})\n",
    "    for RR_val in [0, 1]:\n",
    "        coefs, _ = run_linear_mm(\n",
    "            df_input=curr_df.query(f\"reread == {RR_val}\"),\n",
    "            re_cols=[\"subject_id\", \"unique_paragraph_id\"],\n",
    "            outcome_variable=outcome,\n",
    "            link_dist=link_dist_dict[outcome],\n",
    "            formula=f\"{outcome} ~ has_preview + (1 | subject_id) + (1 + has_preview | unique_paragraph_id)\",\n",
    "            print_model_res=False,\n",
    "        )\n",
    "        outcome_p_vals_lst.append(\n",
    "            float(coefs.loc[coefs[\"Name\"] == \"has_preview\"][\"Pr(>|z|)\"].values[0])  # type: ignore\n",
    "        )\n",
    "\n",
    "    comparisons_lists[outcome] = outcome_p_vals_lst\n",
    "    end_time = time.time()\n",
    "\n",
    "    print(f\"Time for {outcome}: {end_time - curr_time}\")\n"
   ]
  },
  {
   "cell_type": "code",
   "execution_count": 24,
   "metadata": {},
   "outputs": [
    {
     "data": {
      "text/html": [
       "<div>\n",
       "<style scoped>\n",
       "    .dataframe tbody tr th:only-of-type {\n",
       "        vertical-align: middle;\n",
       "    }\n",
       "\n",
       "    .dataframe tbody tr th {\n",
       "        vertical-align: top;\n",
       "    }\n",
       "\n",
       "    .dataframe thead th {\n",
       "        text-align: right;\n",
       "    }\n",
       "</style>\n",
       "<table border=\"1\" class=\"dataframe\">\n",
       "  <thead>\n",
       "    <tr style=\"text-align: right;\">\n",
       "      <th></th>\n",
       "      <th>IA_FIRST_FIXATION_DURATION</th>\n",
       "      <th>IA_FIRST_RUN_DWELL_TIME</th>\n",
       "      <th>IA_FIRST_PASS_GAZE_DURATION</th>\n",
       "      <th>IA_DWELL_TIME</th>\n",
       "      <th>IA_SKIP</th>\n",
       "      <th>IA_ZERO_TF</th>\n",
       "      <th>NEXT_SAC_AMPLITUDE</th>\n",
       "      <th>CURRENT_FIX_DURATION</th>\n",
       "    </tr>\n",
       "  </thead>\n",
       "  <tbody>\n",
       "    <tr>\n",
       "      <th>0</th>\n",
       "      <td>1.780807e-25</td>\n",
       "      <td>4.994712e-47</td>\n",
       "      <td>3.194146e-51</td>\n",
       "      <td>3.108847e-62</td>\n",
       "      <td>1.073549e-120</td>\n",
       "      <td>8.147545e-179</td>\n",
       "      <td>3.604977e-74</td>\n",
       "      <td>1.775915e-23</td>\n",
       "    </tr>\n",
       "    <tr>\n",
       "      <th>1</th>\n",
       "      <td>5.389258e-26</td>\n",
       "      <td>3.792187e-49</td>\n",
       "      <td>1.300008e-55</td>\n",
       "      <td>3.400843e-70</td>\n",
       "      <td>7.333160e-64</td>\n",
       "      <td>6.727799e-113</td>\n",
       "      <td>6.077370e-91</td>\n",
       "      <td>9.172452e-22</td>\n",
       "    </tr>\n",
       "    <tr>\n",
       "      <th>2</th>\n",
       "      <td>6.408005e-03</td>\n",
       "      <td>5.083444e-05</td>\n",
       "      <td>1.520236e-05</td>\n",
       "      <td>4.609489e-04</td>\n",
       "      <td>6.373326e-10</td>\n",
       "      <td>4.509028e-13</td>\n",
       "      <td>8.511741e-04</td>\n",
       "      <td>2.167473e-02</td>\n",
       "    </tr>\n",
       "    <tr>\n",
       "      <th>3</th>\n",
       "      <td>4.835347e-03</td>\n",
       "      <td>4.129025e-05</td>\n",
       "      <td>2.327122e-05</td>\n",
       "      <td>3.075912e-02</td>\n",
       "      <td>1.378149e-29</td>\n",
       "      <td>9.073196e-29</td>\n",
       "      <td>3.707514e-03</td>\n",
       "      <td>1.179091e-02</td>\n",
       "    </tr>\n",
       "  </tbody>\n",
       "</table>\n",
       "</div>"
      ],
      "text/plain": [
       "   IA_FIRST_FIXATION_DURATION  IA_FIRST_RUN_DWELL_TIME  \\\n",
       "0                1.780807e-25             4.994712e-47   \n",
       "1                5.389258e-26             3.792187e-49   \n",
       "2                6.408005e-03             5.083444e-05   \n",
       "3                4.835347e-03             4.129025e-05   \n",
       "\n",
       "   IA_FIRST_PASS_GAZE_DURATION  IA_DWELL_TIME        IA_SKIP     IA_ZERO_TF  \\\n",
       "0                 3.194146e-51   3.108847e-62  1.073549e-120  8.147545e-179   \n",
       "1                 1.300008e-55   3.400843e-70   7.333160e-64  6.727799e-113   \n",
       "2                 1.520236e-05   4.609489e-04   6.373326e-10   4.509028e-13   \n",
       "3                 2.327122e-05   3.075912e-02   1.378149e-29   9.073196e-29   \n",
       "\n",
       "   NEXT_SAC_AMPLITUDE  CURRENT_FIX_DURATION  \n",
       "0        3.604977e-74          1.775915e-23  \n",
       "1        6.077370e-91          9.172452e-22  \n",
       "2        8.511741e-04          2.167473e-02  \n",
       "3        3.707514e-03          1.179091e-02  "
      ]
     },
     "execution_count": 24,
     "metadata": {},
     "output_type": "execute_result"
    }
   ],
   "source": [
    "pd.DataFrame(comparisons_lists)"
   ]
  },
  {
   "cell_type": "markdown",
   "metadata": {},
   "source": [
    "# All Datasets - Compare Means for All Measures"
   ]
  },
  {
   "cell_type": "code",
   "execution_count": 33,
   "metadata": {},
   "outputs": [
    {
     "name": "stdout",
     "output_type": "stream",
     "text": [
      "Could not convert IA_FIRST_PASS_GAZE_DURATION to numeric\n",
      "Could not convert IA_FIRST_PASS_GAZE_DURATION to numeric\n"
     ]
    },
    {
     "name": "stderr",
     "output_type": "stream",
     "text": [
      "/data/home/meiri.yoav/OneStop-Eye-Movements/src/other_datasets_analyses/other_datasets_utils.py:161: DtypeWarning: Columns (44) have mixed types. Specify dtype option on import or set low_memory=False.\n",
      "  fix_rep = pd.read_csv(\n"
     ]
    },
    {
     "name": "stdout",
     "output_type": "stream",
     "text": [
      "Could not convert IA_FIRST_PASS_GAZE_DURATION to numeric\n"
     ]
    }
   ],
   "source": [
    "from other_datasets_utils import (\n",
    "    participant_id_col_name_datasets,\n",
    "    item_id_col_name_datasets,\n",
    ")\n",
    "\n",
    "dataset_names = [\"onestop\", \"geco\", \"sbsat\", \"celer\"]\n",
    "\n",
    "\n",
    "def create_dataset_dict(dataset_name: str):\n",
    "    ia_rep, fix_rep, ia_rep_fixated_only = load_and_process_dataset(\n",
    "        dataset=dataset_name\n",
    "    )\n",
    "    pos_outcomes, fix_rep_outcomes, non_pos_outcomes = get_outcome_vars(\n",
    "        dataset=dataset_name\n",
    "    )\n",
    "    return {\n",
    "        \"ia_rep\": ia_rep,\n",
    "        \"fix_rep\": fix_rep,\n",
    "        \"ia_rep_fixated_only\": ia_rep_fixated_only,\n",
    "        \"pos_outcomes\": pos_outcomes,\n",
    "        \"fix_rep_outcomes\": fix_rep_outcomes,\n",
    "        \"non_pos_outcomes\": non_pos_outcomes,\n",
    "    }\n",
    "\n",
    "\n",
    "datasets_dict = {name: create_dataset_dict(name) for name in dataset_names}"
   ]
  },
  {
   "cell_type": "code",
   "execution_count": 53,
   "metadata": {},
   "outputs": [
    {
     "name": "stderr",
     "output_type": "stream",
     "text": [
      "/tmp/ipykernel_3138233/569167697.py:7: SmallSampleWarning: After omitting NaNs, one or more sample arguments is too small; all returned values will be NaN. See documentation for sample size requirements.\n",
      "  test_res = stats.ttest_ind(\n"
     ]
    }
   ],
   "source": [
    "temp_item_id_col_name = \"item_id\"\n",
    "temp_participant_id_col_name = \"participant_id\"\n",
    "\n",
    "# create a dict of (dataset1_name, dataset2_name) -> (outcome_variable -> p_value)\n",
    "def perform_ttest(data1, data2, outcome_key):\n",
    "    test_res = stats.ttest_ind(\n",
    "        data1[outcome_key],\n",
    "        data2[outcome_key],\n",
    "        alternative=\"two-sided\",\n",
    "        nan_policy=\"omit\",\n",
    "        equal_var=False,\n",
    "    )  # make the pval a float\n",
    "    pval = test_res.pvalue\n",
    "    return \"{:e}\".format(pval)\n",
    "\n",
    "\n",
    "def compare_two_datasets(dataset1_dict: dict, dataset2_dict: dict):\n",
    "    outcome_types = {\n",
    "        \"pos_outcomes\": (\"ia_rep_fixated_only\", \"ia_rep_fixated_only\"),\n",
    "        \"fix_rep_outcomes\": (\"fix_rep\", \"fix_rep\"),\n",
    "        \"non_pos_outcomes\": (\"ia_rep\", \"ia_rep\"),\n",
    "    }\n",
    "\n",
    "    comparison_results = []\n",
    "\n",
    "    # Iterate through each outcome type\n",
    "    for outcome_key, (data_key1, data_key2) in outcome_types.items():\n",
    "        curr_dataset1 = dataset1_dict[data_key1]\n",
    "        \n",
    "        outcomes_to_compare = set(dataset1_dict[outcome_key]).intersection(\n",
    "            dataset2_dict[outcome_key]\n",
    "        )\n",
    "\n",
    "        # Perform t-tests on the common outcomes\n",
    "        for outcome in outcomes_to_compare:\n",
    "            p_value = perform_ttest(\n",
    "                dataset1_dict[data_key1], dataset2_dict[data_key2], outcome\n",
    "            )\n",
    "            comparison_results.append((outcome, p_value))\n",
    "\n",
    "    return comparison_results\n",
    "\n",
    "\n",
    "comparisons_dict = {}\n",
    "for dataset1_name, dataset2_name in combinations(dataset_names, 2):\n",
    "    comparisons_dict[(dataset1_name, dataset2_name)] = compare_two_datasets(\n",
    "        datasets_dict[dataset1_name], datasets_dict[dataset2_name]\n",
    "    )"
   ]
  },
  {
   "cell_type": "code",
   "execution_count": 56,
   "metadata": {},
   "outputs": [],
   "source": [
    "# Pivot the DataFrame so that the rows become the variable names (metrics)\n",
    "# Create a dataframe from the input data\n",
    "data = []\n",
    "for key, values in comparisons_dict.items():\n",
    "    for metric, value in values:\n",
    "        data.append([key[0], key[1], metric, value])\n",
    "\n",
    "df = pd.DataFrame(data, columns=[\"Dataset1\", \"Dataset2\", \"Metric\", \"Value\"])\n",
    "\n",
    "pivot_df = df.pivot_table(\n",
    "    index=\"Metric\", columns=[\"Dataset1\", \"Dataset2\"], values=\"Value\", aggfunc=\"first\"\n",
    ")\n",
    "\n",
    "pivot_df.columns = [\"_\".join(col).strip() for col in pivot_df.columns.values]\n"
   ]
  },
  {
   "cell_type": "code",
   "execution_count": 57,
   "metadata": {},
   "outputs": [
    {
     "data": {
      "text/html": [
       "<div>\n",
       "<style scoped>\n",
       "    .dataframe tbody tr th:only-of-type {\n",
       "        vertical-align: middle;\n",
       "    }\n",
       "\n",
       "    .dataframe tbody tr th {\n",
       "        vertical-align: top;\n",
       "    }\n",
       "\n",
       "    .dataframe thead th {\n",
       "        text-align: right;\n",
       "    }\n",
       "</style>\n",
       "<table border=\"1\" class=\"dataframe\">\n",
       "  <thead>\n",
       "    <tr style=\"text-align: right;\">\n",
       "      <th></th>\n",
       "      <th>geco_celer</th>\n",
       "      <th>geco_sbsat</th>\n",
       "      <th>onestop_celer</th>\n",
       "      <th>onestop_geco</th>\n",
       "      <th>onestop_sbsat</th>\n",
       "      <th>sbsat_celer</th>\n",
       "    </tr>\n",
       "    <tr>\n",
       "      <th>Metric</th>\n",
       "      <th></th>\n",
       "      <th></th>\n",
       "      <th></th>\n",
       "      <th></th>\n",
       "      <th></th>\n",
       "      <th></th>\n",
       "    </tr>\n",
       "  </thead>\n",
       "  <tbody>\n",
       "    <tr>\n",
       "      <th>CURRENT_FIX_DURATION</th>\n",
       "      <td>NaN</td>\n",
       "      <td>NaN</td>\n",
       "      <td>0.000000e+00</td>\n",
       "      <td>NaN</td>\n",
       "      <td>0.000000e+00</td>\n",
       "      <td>0.000000e+00</td>\n",
       "    </tr>\n",
       "    <tr>\n",
       "      <th>IA_DWELL_TIME</th>\n",
       "      <td>0.000000e+00</td>\n",
       "      <td>0.000000e+00</td>\n",
       "      <td>0.000000e+00</td>\n",
       "      <td>0.000000e+00</td>\n",
       "      <td>0.000000e+00</td>\n",
       "      <td>0.000000e+00</td>\n",
       "    </tr>\n",
       "    <tr>\n",
       "      <th>IA_FIRST_FIXATION_DURATION</th>\n",
       "      <td>0.000000e+00</td>\n",
       "      <td>3.394039e-52</td>\n",
       "      <td>0.000000e+00</td>\n",
       "      <td>0.000000e+00</td>\n",
       "      <td>0.000000e+00</td>\n",
       "      <td>0.000000e+00</td>\n",
       "    </tr>\n",
       "    <tr>\n",
       "      <th>IA_FIRST_PASS_GAZE_DURATION</th>\n",
       "      <td>nan</td>\n",
       "      <td>nan</td>\n",
       "      <td>0.000000e+00</td>\n",
       "      <td>nan</td>\n",
       "      <td>6.974993e-103</td>\n",
       "      <td>0.000000e+00</td>\n",
       "    </tr>\n",
       "    <tr>\n",
       "      <th>IA_FIRST_RUN_DWELL_TIME</th>\n",
       "      <td>0.000000e+00</td>\n",
       "      <td>0.000000e+00</td>\n",
       "      <td>0.000000e+00</td>\n",
       "      <td>0.000000e+00</td>\n",
       "      <td>0.000000e+00</td>\n",
       "      <td>0.000000e+00</td>\n",
       "    </tr>\n",
       "    <tr>\n",
       "      <th>IA_FIXATION_COUNT</th>\n",
       "      <td>0.000000e+00</td>\n",
       "      <td>NaN</td>\n",
       "      <td>0.000000e+00</td>\n",
       "      <td>0.000000e+00</td>\n",
       "      <td>NaN</td>\n",
       "      <td>NaN</td>\n",
       "    </tr>\n",
       "    <tr>\n",
       "      <th>IA_REGRESSION_OUT_FULL_COUNT</th>\n",
       "      <td>NaN</td>\n",
       "      <td>NaN</td>\n",
       "      <td>0.000000e+00</td>\n",
       "      <td>NaN</td>\n",
       "      <td>NaN</td>\n",
       "      <td>NaN</td>\n",
       "    </tr>\n",
       "    <tr>\n",
       "      <th>IA_SKIP</th>\n",
       "      <td>0.000000e+00</td>\n",
       "      <td>NaN</td>\n",
       "      <td>0.000000e+00</td>\n",
       "      <td>0.000000e+00</td>\n",
       "      <td>NaN</td>\n",
       "      <td>NaN</td>\n",
       "    </tr>\n",
       "    <tr>\n",
       "      <th>IA_ZERO_TF</th>\n",
       "      <td>0.000000e+00</td>\n",
       "      <td>NaN</td>\n",
       "      <td>0.000000e+00</td>\n",
       "      <td>0.000000e+00</td>\n",
       "      <td>NaN</td>\n",
       "      <td>NaN</td>\n",
       "    </tr>\n",
       "    <tr>\n",
       "      <th>NEXT_SAC_AMPLITUDE</th>\n",
       "      <td>NaN</td>\n",
       "      <td>NaN</td>\n",
       "      <td>0.000000e+00</td>\n",
       "      <td>NaN</td>\n",
       "      <td>NaN</td>\n",
       "      <td>NaN</td>\n",
       "    </tr>\n",
       "  </tbody>\n",
       "</table>\n",
       "</div>"
      ],
      "text/plain": [
       "                                geco_celer    geco_sbsat onestop_celer  \\\n",
       "Metric                                                                   \n",
       "CURRENT_FIX_DURATION                   NaN           NaN  0.000000e+00   \n",
       "IA_DWELL_TIME                 0.000000e+00  0.000000e+00  0.000000e+00   \n",
       "IA_FIRST_FIXATION_DURATION    0.000000e+00  3.394039e-52  0.000000e+00   \n",
       "IA_FIRST_PASS_GAZE_DURATION            nan           nan  0.000000e+00   \n",
       "IA_FIRST_RUN_DWELL_TIME       0.000000e+00  0.000000e+00  0.000000e+00   \n",
       "IA_FIXATION_COUNT             0.000000e+00           NaN  0.000000e+00   \n",
       "IA_REGRESSION_OUT_FULL_COUNT           NaN           NaN  0.000000e+00   \n",
       "IA_SKIP                       0.000000e+00           NaN  0.000000e+00   \n",
       "IA_ZERO_TF                    0.000000e+00           NaN  0.000000e+00   \n",
       "NEXT_SAC_AMPLITUDE                     NaN           NaN  0.000000e+00   \n",
       "\n",
       "                              onestop_geco  onestop_sbsat   sbsat_celer  \n",
       "Metric                                                                   \n",
       "CURRENT_FIX_DURATION                   NaN   0.000000e+00  0.000000e+00  \n",
       "IA_DWELL_TIME                 0.000000e+00   0.000000e+00  0.000000e+00  \n",
       "IA_FIRST_FIXATION_DURATION    0.000000e+00   0.000000e+00  0.000000e+00  \n",
       "IA_FIRST_PASS_GAZE_DURATION            nan  6.974993e-103  0.000000e+00  \n",
       "IA_FIRST_RUN_DWELL_TIME       0.000000e+00   0.000000e+00  0.000000e+00  \n",
       "IA_FIXATION_COUNT             0.000000e+00            NaN           NaN  \n",
       "IA_REGRESSION_OUT_FULL_COUNT           NaN            NaN           NaN  \n",
       "IA_SKIP                       0.000000e+00            NaN           NaN  \n",
       "IA_ZERO_TF                    0.000000e+00            NaN           NaN  \n",
       "NEXT_SAC_AMPLITUDE                     NaN            NaN           NaN  "
      ]
     },
     "execution_count": 57,
     "metadata": {},
     "output_type": "execute_result"
    }
   ],
   "source": [
    "pivot_df"
   ]
  },
  {
   "cell_type": "markdown",
   "metadata": {},
   "source": [
    "# OneStop - Response to Linguistic Word Properties  \n"
   ]
  },
  {
   "cell_type": "code",
   "execution_count": 2,
   "metadata": {},
   "outputs": [
    {
     "name": "stdout",
     "output_type": "stream",
     "text": [
      "Could not convert IA_FIRST_PASS_GAZE_DURATION to numeric\n"
     ]
    }
   ],
   "source": [
    "dataset = \"onestop\"\n",
    "ia_rep, fix_rep, ia_rep_fixated_only = load_and_process_dataset(dataset=dataset)\n",
    "pos_outcomes, fix_rep_outcomes, non_pos_outcomes = get_outcome_vars(dataset=dataset)"
   ]
  },
  {
   "cell_type": "code",
   "execution_count": 3,
   "metadata": {},
   "outputs": [],
   "source": [
    "fix_rep = fix_rep.merge(\n",
    "    ia_rep[\n",
    "        [\"unique_paragraph_id\", \"IA_ID\", \"end_of_line\", \"start_of_line\", \"reread\"]\n",
    "    ].drop_duplicates(),\n",
    "    on=[\"unique_paragraph_id\", \"IA_ID\", \"reread\"],\n",
    "    how=\"left\",\n",
    ")"
   ]
  },
  {
   "cell_type": "code",
   "execution_count": 4,
   "metadata": {},
   "outputs": [],
   "source": [
    "#! Exclude beginning / end of paragraph line, words with punctuations, numbers\n",
    "ia_rep_fixated_only = ia_rep[ia_rep[\"IA_DWELL_TIME\"] > 0]\n",
    "\n",
    "ia_rep_fixated_only = exclude_IAs(ia_rep_fixated_only, remove_start_end_of_line=False)\n",
    "fix_rep = exclude_IAs(fix_rep, remove_start_end_of_line=False)"
   ]
  },
  {
   "cell_type": "code",
   "execution_count": 5,
   "metadata": {},
   "outputs": [],
   "source": [
    "class config:\n",
    "    def __init__(self):\n",
    "        self.method = \"MM_coeffs\"\n",
    "        self.outcome_variable = \"log_IA_DWELL_TIME\"\n",
    "        self.explanatory_variable: str | list[str] = \"reread\"\n",
    "        self.data_path = \"data\"\n",
    "\n",
    "        self.fig_path = \"src/figures\"\n",
    "        self.exclusion_df: bool = True\n",
    "        self.model_formula: str = \"\"\n",
    "        # self.log_transform_outcome = False\n",
    "        self.z_score_w_r_t_explanatory = True\n",
    "        # query is article_ind_of_first_reading >= 0\n",
    "        self.df_query = \"\"\n",
    "        self.re_columns = [\"subject_id\", \"unique_paragraph_id\"]\n",
    "\n",
    "        self.config_name = (\n",
    "            \"Coeffs. \" + self.outcome_variable + \"_\" + self.explanatory_variable\n",
    "        )\n"
   ]
  },
  {
   "cell_type": "code",
   "execution_count": 6,
   "metadata": {},
   "outputs": [],
   "source": [
    "explanatory_var_class_names = {\n",
    "    \"reread\": {\n",
    "        0: \"First reading\",\n",
    "        1: \"Repeated Reading\",\n",
    "        \"0\": \"First Reading\",\n",
    "        \"1\": \"Repeated Reading\",\n",
    "    },\n",
    "    \"has_preview_reread\": {\n",
    "        \"Gathering_1\": \"Gathering, RR\",\n",
    "        \"Gathering_0\": \"Gathering, Not RR\",\n",
    "        \"Hunting_1\": \"Hunting, RR\",\n",
    "        \"Hunting_0\": \"Hunting, Not RR\",\n",
    "    },\n",
    "    \"has_preview\": {\n",
    "        \"Hunting\": \"Hunting\",\n",
    "        \"Gathering\": \"Gathering\",\n",
    "    },\n",
    "}\n",
    "\n",
    "explanatory_var_names = {\n",
    "    \"has_preview\": \"Condition\",\n",
    "    \"relative_to_aspan\": \"Relative to Critical Span\",\n",
    "    \"article_ind_of_first_reading\": \"Article Index of the First Reading\",\n",
    "    \"first_second_reading_types\": \"First (<10, 10) and Second (11, 12) Readings\",\n",
    "    \"article_ind_group_of_first_reading\": \"Article Index of the First Reading\",\n",
    "    \"reread\": \"Reread\",\n",
    "    \"has_preview_reread\": \"Condition and Reread\",\n",
    "}\n",
    "\n",
    "\n",
    "# # init wandb\n",
    "# import wandb\n",
    "# wandb.login()\n",
    "\n",
    "z_score_w_r_t_explanatory = False\n",
    "\n",
    "# evs = [\"reread\", \"has_preview\"]\n",
    "evs = []\n",
    "# ev_list = [\"article_ind_of_first_reading\"]\n",
    "\n",
    "cfg = config()\n",
    "\n",
    "\n",
    "cfg.z_score_w_r_t_explanatory = z_score_w_r_t_explanatory\n",
    "z_score_text = \"\" if not cfg.z_score_w_r_t_explanatory else \" (z-scored)\"\n",
    "\n",
    "cfg.explanatory_variable = evs\n"
   ]
  },
  {
   "cell_type": "code",
   "execution_count": 7,
   "metadata": {},
   "outputs": [
    {
     "name": "stdout",
     "output_type": "stream",
     "text": [
      "------------------------------------------\n",
      "IA_FIRST_FIXATION_DURATION\n",
      "------------------------------------------\n",
      "                     Name       Coef.   2se\n",
      "0             (Intercept)  195.238984  2.08\n",
      "1       subtlex_Frequency    0.956796  0.07\n",
      "2                  Length   -0.488816  0.12\n",
      "3          gpt2_Surprisal    1.230692  0.08\n",
      "4  prev_subtlex_Frequency   -0.133432  0.03\n",
      "5     prev_gpt2_Surprisal    0.424334  0.04\n",
      "6             prev_Length   -0.544728  0.06\n",
      "------------------------------------------\n",
      "IA_FIRST_RUN_DWELL_TIME\n",
      "------------------------------------------\n",
      "                     Name       Coef.   2se\n",
      "0             (Intercept)  212.857661  2.66\n",
      "1       subtlex_Frequency    1.081008  0.11\n",
      "2                  Length    3.519107  0.27\n",
      "3          gpt2_Surprisal    2.262170  0.15\n",
      "4  prev_subtlex_Frequency   -0.131949  0.04\n",
      "5     prev_gpt2_Surprisal    0.770699  0.05\n",
      "6             prev_Length   -1.024143  0.08\n",
      "------------------------------------------\n",
      "IA_DWELL_TIME\n",
      "------------------------------------------\n",
      "                     Name       Coef.   2se\n",
      "0             (Intercept)  302.015387  5.56\n",
      "1       subtlex_Frequency    1.982702  0.27\n",
      "2                  Length   12.737561  0.66\n",
      "3          gpt2_Surprisal    6.643656  0.36\n",
      "4  prev_subtlex_Frequency   -0.401014  0.07\n",
      "5     prev_gpt2_Surprisal    3.817884  0.10\n",
      "6             prev_Length   -3.689542  0.17\n"
     ]
    }
   ],
   "source": [
    "mode = \"standard\"  # standard, z_has_preview, z_combination, posi, z_reread\n",
    "\n",
    "\n",
    "for outcome in [\n",
    "    \"IA_FIRST_FIXATION_DURATION\",\n",
    "    \"IA_FIRST_RUN_DWELL_TIME\",\n",
    "    \"IA_DWELL_TIME\",\n",
    "]:\n",
    "    print(\"------------------------------------------\")\n",
    "    print(outcome)\n",
    "    print(\"------------------------------------------\")\n",
    "    ling_featurse_formula = f\"\"\"\n",
    "        {outcome} ~ 1 + subtlex_Frequency + Length + gpt2_Surprisal + prev_subtlex_Frequency + prev_gpt2_Surprisal + prev_Length +\n",
    "            (1 + subtlex_Frequency + Length + gpt2_Surprisal | subject_id) + \n",
    "            (1 + subtlex_Frequency + Length + gpt2_Surprisal | unique_paragraph_id)\n",
    "    \"\"\"\n",
    "    df_query = f\"{outcome} >= 0\" if mode != \"posi\" else f\"{outcome} > 0\"\n",
    "    if df_query != \"\":\n",
    "        df = ia_rep_fixated_only.query(df_query).copy()\n",
    "        # df['IA_DWELL_TIME'] = np.log(df[\"IA_DWELL_TIME\"])\n",
    "    else:\n",
    "        df = ia_rep_fixated_only.copy()\n",
    "\n",
    "    df = df[\n",
    "        [\n",
    "            \"gpt2_Surprisal\",\n",
    "            \"subtlex_Frequency\",\n",
    "            \"Length\",\n",
    "            \"prev_subtlex_Frequency\",\n",
    "            \"prev_gpt2_Surprisal\",\n",
    "            \"prev_Length\",\n",
    "            \"has_preview\",\n",
    "            \"reread\",\n",
    "            \"unique_paragraph_id\",\n",
    "            \"subject_id\",\n",
    "        ]\n",
    "        + [outcome]\n",
    "    ]\n",
    "    df = df.query(\"subtlex_Frequency > 0\")\n",
    "\n",
    "    df = df.dropna()\n",
    "\n",
    "    # centralize the covariates\n",
    "    df[\"subtlex_Frequency\"] = df[\"subtlex_Frequency\"] - df[\"subtlex_Frequency\"].mean()\n",
    "    df[\"gpt2_Surprisal\"] = df[\"gpt2_Surprisal\"] - df[\"gpt2_Surprisal\"].mean()\n",
    "    df[\"Length\"] = df[\"Length\"] - df[\"Length\"].mean()\n",
    "    df[\"prev_subtlex_Frequency\"] = (\n",
    "        df[\"prev_subtlex_Frequency\"] - df[\"subtlex_Frequency\"].mean()\n",
    "    )\n",
    "    df[\"prev_gpt2_Surprisal\"] = df[\"prev_gpt2_Surprisal\"] - df[\"gpt2_Surprisal\"].mean()\n",
    "    df[\"prev_Length\"] = df[\"prev_Length\"] - df[\"Length\"].mean()\n",
    "\n",
    "    # take df, and normalize the ourcome variable seperately for Hunting and Gathering\n",
    "    if mode == \"z_has_preview\":\n",
    "        df[outcome] = df.groupby(\"has_preview\")[outcome].apply(\n",
    "            lambda x: (x - x.mean()) / x.std()\n",
    "        )\n",
    "\n",
    "    if mode == \"z_reread\":\n",
    "        df[outcome] = df.groupby(\"reread\")[outcome].apply(\n",
    "            lambda x: (x - x.mean()) / x.std()\n",
    "        )\n",
    "\n",
    "    if mode == \"z_combination\":\n",
    "        df[outcome] = df.groupby([\"has_preview\", \"reread\"])[outcome].apply(\n",
    "            lambda x: (x - x.mean()) / x.std()\n",
    "        )\n",
    "\n",
    "    if type(evs) is list and len(evs) > 1:\n",
    "        cfg.explanatory_variable = \"_\".join(evs)\n",
    "        df[cfg.explanatory_variable] = df[evs].apply(\n",
    "            lambda x: \"_\".join([str(i) for i in x]), axis=1\n",
    "        )\n",
    "        res = (\n",
    "            df.groupby(cfg.explanatory_variable)\n",
    "            .apply(\n",
    "                lambda x: run_linear_mm(\n",
    "                    x,\n",
    "                    outcome,\n",
    "                    cfg.re_columns,\n",
    "                    ling_featurse_formula,\n",
    "                    model_res_var_name=\"j_model_mm\",\n",
    "                    link_dist=jl.Distributions.Normal()\n",
    "                    if cfg.outcome_variable != \"IA_SKIP\"\n",
    "                    else jl.Distributions.Bernoulli(),\n",
    "                    z_outcome=z_score_w_r_t_explanatory,\n",
    "                    centralize_covariates=False,\n",
    "                    print_model_res=False,\n",
    "                )[0]\n",
    "            )\n",
    "            .reset_index()\n",
    "            .drop(columns=[\"level_1\"])\n",
    "        )\n",
    "\n",
    "        # seperate the explanatory variable into its components in res\n",
    "        res[cfg.explanatory_variable] = res[cfg.explanatory_variable].apply(\n",
    "            lambda x: x.split(\"_\")\n",
    "        )\n",
    "        for i in range(len(evs)):\n",
    "            res[evs[i]] = res[cfg.explanatory_variable].apply(lambda x: x[i])\n",
    "        res = res.drop(columns=[cfg.explanatory_variable])\n",
    "        # turn the numeric evs back to numeric if it's possible (is_numeric)\n",
    "        for ev in evs:\n",
    "            res[ev] = pd.to_numeric(res[ev], errors=\"ignore\")\n",
    "\n",
    "    else:\n",
    "        res = run_linear_mm(\n",
    "            df.query(\"has_preview == 'Gathering' and reread == 0\"),\n",
    "            outcome,\n",
    "            cfg.re_columns,\n",
    "            ling_featurse_formula,\n",
    "            link_dist=jl.Distributions.Normal()\n",
    "            if cfg.outcome_variable != \"IA_SKIP\"\n",
    "            else jl.Distributions.Bernoulli(),\n",
    "            z_outcome=z_score_w_r_t_explanatory,\n",
    "            centralize_covariates=False,\n",
    "            print_model_res=False,\n",
    "        )[0]\n",
    "\n",
    "    # remove from res the interaction term\n",
    "    res = res.query(\"Name != 'subtlex_Frequency & Length'\")\n",
    "    res[\"2se\"] = res[\"Std. Error\"].round(2)\n",
    "    print(res[[\"Name\", \"Coef.\", \"2se\"]])"
   ]
  },
  {
   "cell_type": "code",
   "execution_count": null,
   "metadata": {},
   "outputs": [],
   "source": []
  },
  {
   "cell_type": "code",
   "execution_count": 135,
   "metadata": {},
   "outputs": [],
   "source": [
    "fig = sp.make_subplots(\n",
    "    rows=1,\n",
    "    cols=3,\n",
    "    subplot_titles=[\"Surprisal\", \"Frequency\", \"Length\"],\n",
    "    vertical_spacing=0.1,\n",
    ")\n",
    "colors = [\n",
    "    \"#347BB9\",\n",
    "    \"#AE0135\",\n",
    "    \"#003366\",\n",
    "]\n",
    "# create a subplot for each value of ['gpt2_Surprisal', 'Wordfreq_Frequency', 'Length']\n",
    "# in each subplot create a primary x axis for the has_preview and a secondary x axis for the first_second_reading types\n",
    "# Use Coef. for the bar values and Std. Error for the error bars\n",
    "\n",
    "has_preview_vars = [\"Hunting\", \"Gathering\"]\n",
    "hp_colors = colors[0:3]\n",
    "reread_vars = [0, 1]\n",
    "fsrt_colors = colors[0:3]\n",
    "\n",
    "\n",
    "for i, ling_feature in enumerate([\"gpt2_Surprisal\", \"Wordfreq_Frequency\", \"Length\"]):\n",
    "    # add a secondary x axis for the first_second_reading_types\n",
    "\n",
    "    for j, rr_val in enumerate(reread_vars):\n",
    "        hp_res = res.loc[lambda x: x[\"reread\"] == rr_val]\n",
    "        fig.add_trace(\n",
    "            go.Bar(\n",
    "                x=hp_res.loc[lambda x: x[\"Name\"] == ling_feature][\"has_preview\"],\n",
    "                y=hp_res.loc[lambda x: x[\"Name\"] == ling_feature][\"Coef.\"],\n",
    "                error_y=dict(\n",
    "                    type=\"data\",\n",
    "                    array=hp_res.loc[lambda x: x[\"Name\"] == ling_feature][\"Std. Error\"]\n",
    "                    * 2,\n",
    "                ),\n",
    "                name=\"First Reading\" if j == 0 else \"Repeated Reading\",\n",
    "                marker=dict(color=fsrt_colors[j]),\n",
    "                showlegend=True if i == 0 else False,\n",
    "            ),\n",
    "            row=1,\n",
    "            col=i + 1,\n",
    "        )\n",
    "    fig.update_layout(\n",
    "        plot_bgcolor=\"rgba(0,0,0,0)\",\n",
    "        # xaxis=dict(gridcolor=\"LightGray\"),\n",
    "        yaxis=dict(gridcolor=\"LightGray\"),\n",
    "    )\n",
    "\n",
    "    # # set the x axis title to ling_feature\n",
    "    # fig.update_xaxes(\n",
    "    #     title_text=ling_feature,\n",
    "    #     # set the font size of the title to 18\n",
    "    #     title_font=dict(size=35),\n",
    "    #     # set the tock font to 25\n",
    "    #     tickfont=dict(size=30),\n",
    "    #     row=i+1,\n",
    "    #     col=1,\n",
    "    # )\n",
    "    fig.update_yaxes(\n",
    "        # title_text=f\"Coefficient {'(Z outcome)' if z_score_w_r_t_explanatory else ''}\" if i == 0 else \"\",\n",
    "        title_text=\"Coefficient\" if i == 0 else \"\",\n",
    "        title_font=dict(size=25),\n",
    "        tickfont=dict(size=14),\n",
    "        row=1,\n",
    "        col=i + 1,\n",
    "    )\n",
    "\n",
    "fig.update_layout(\n",
    "    height=350,\n",
    "    width=1000,\n",
    ")\n",
    "\n",
    "# increse all font by 10\n",
    "fig.update_layout(font=dict(size=25))\n",
    "fig.update_annotations(font_size=25)\n",
    "\n",
    "for i in range(3):\n",
    "    # turn the grid background to white\n",
    "    fig[\"layout\"][\"yaxis\" + str(i + 1)][\"showgrid\"] = True\n",
    "    fig[\"layout\"][\"yaxis\" + str(i + 1)][\"gridcolor\"] = \"lightgray\"\n",
    "# remove all margins\n",
    "fig.update_layout(margin=dict(l=0, r=0, b=0, t=30, pad=0))\n",
    "# move the legend to the bottom\n",
    "fig = fig.update_layout(\n",
    "    legend=dict(\n",
    "        yanchor=\"bottom\",\n",
    "        y=-0.35,\n",
    "        xanchor=\"center\",\n",
    "        x=0.5,\n",
    "        font=dict(size=25),\n",
    "        orientation=\"h\",\n",
    "    )\n",
    ")"
   ]
  },
  {
   "cell_type": "code",
   "execution_count": 136,
   "metadata": {},
   "outputs": [
    {
     "data": {
      "image/svg+xml": [
       "<svg class=\"main-svg\" xmlns=\"http://www.w3.org/2000/svg\" xmlns:xlink=\"http://www.w3.org/1999/xlink\" width=\"1000\" height=\"350\" style=\"\" viewBox=\"0 0 1000 350\"><rect x=\"0\" y=\"0\" width=\"1000\" height=\"350\" style=\"fill: rgb(255, 255, 255); fill-opacity: 1;\"/><defs id=\"defs-863531\"><g class=\"clips\"><clipPath id=\"clip863531xyplot\" class=\"plotclip\"><rect width=\"272.71111111111117\" height=\"237\"/></clipPath><clipPath id=\"clip863531x2y2plot\" class=\"plotclip\"><rect width=\"272.71111111111117\" height=\"237\"/></clipPath><clipPath id=\"clip863531x3y3plot\" class=\"plotclip\"><rect width=\"272.7111111111111\" height=\"237\"/></clipPath><clipPath class=\"axesclip\" id=\"clip863531x\"><rect x=\"56\" y=\"0\" width=\"272.71111111111117\" height=\"350\"/></clipPath><clipPath class=\"axesclip\" id=\"clip863531y\"><rect x=\"0\" y=\"30\" width=\"1000\" height=\"237\"/></clipPath><clipPath class=\"axesclip\" id=\"clip863531xy\"><rect x=\"56\" y=\"30\" width=\"272.71111111111117\" height=\"237\"/></clipPath><clipPath class=\"axesclip\" id=\"clip863531y2\"><rect x=\"0\" y=\"30\" width=\"1000\" height=\"237\"/></clipPath><clipPath class=\"axesclip\" id=\"clip863531xy2\"><rect x=\"56\" y=\"30\" width=\"272.71111111111117\" height=\"237\"/></clipPath><clipPath class=\"axesclip\" id=\"clip863531y3\"><rect x=\"0\" y=\"30\" width=\"1000\" height=\"237\"/></clipPath><clipPath class=\"axesclip\" id=\"clip863531xy3\"><rect x=\"56\" y=\"30\" width=\"272.71111111111117\" height=\"237\"/></clipPath><clipPath class=\"axesclip\" id=\"clip863531x2\"><rect x=\"391.64444444444445\" y=\"0\" width=\"272.71111111111117\" height=\"350\"/></clipPath><clipPath class=\"axesclip\" id=\"clip863531x2y\"><rect x=\"391.64444444444445\" y=\"30\" width=\"272.71111111111117\" height=\"237\"/></clipPath><clipPath class=\"axesclip\" id=\"clip863531x2y2\"><rect x=\"391.64444444444445\" y=\"30\" width=\"272.71111111111117\" height=\"237\"/></clipPath><clipPath class=\"axesclip\" id=\"clip863531x2y3\"><rect x=\"391.64444444444445\" y=\"30\" width=\"272.71111111111117\" height=\"237\"/></clipPath><clipPath class=\"axesclip\" id=\"clip863531x3\"><rect x=\"727.2888888888889\" y=\"0\" width=\"272.7111111111111\" height=\"350\"/></clipPath><clipPath class=\"axesclip\" id=\"clip863531x3y\"><rect x=\"727.2888888888889\" y=\"30\" width=\"272.7111111111111\" height=\"237\"/></clipPath><clipPath class=\"axesclip\" id=\"clip863531x3y2\"><rect x=\"727.2888888888889\" y=\"30\" width=\"272.7111111111111\" height=\"237\"/></clipPath><clipPath class=\"axesclip\" id=\"clip863531x3y3\"><rect x=\"727.2888888888889\" y=\"30\" width=\"272.7111111111111\" height=\"237\"/></clipPath></g><g class=\"gradients\"/><g class=\"patterns\"/></defs><g class=\"bglayer\"><rect class=\"bg\" x=\"56\" y=\"30\" width=\"272.71111111111117\" height=\"237\" style=\"fill: rgb(0, 0, 0); fill-opacity: 0; stroke-width: 0;\"/><rect class=\"bg\" x=\"391.64444444444445\" y=\"30\" width=\"272.71111111111117\" height=\"237\" style=\"fill: rgb(0, 0, 0); fill-opacity: 0; stroke-width: 0;\"/><rect class=\"bg\" x=\"727.2888888888889\" y=\"30\" width=\"272.7111111111111\" height=\"237\" style=\"fill: rgb(0, 0, 0); fill-opacity: 0; stroke-width: 0;\"/></g><g class=\"layer-below\"><g class=\"imagelayer\"/><g class=\"shapelayer\"/></g><g class=\"cartesianlayer\"><g class=\"subplot xy\"><g class=\"layer-subplot\"><g class=\"shapelayer\"/><g class=\"imagelayer\"/></g><g class=\"minor-gridlayer\"><g class=\"x\"/><g class=\"y\"/></g><g class=\"gridlayer\"><g class=\"x\"/><g class=\"y\"><path class=\"ygrid crisp\" transform=\"translate(0,193.6)\" d=\"M56,0h272.71111111111117\" style=\"stroke: rgb(211, 211, 211); stroke-opacity: 1; stroke-width: 1px;\"/><path class=\"ygrid crisp\" transform=\"translate(0,120.19)\" d=\"M56,0h272.71111111111117\" style=\"stroke: rgb(211, 211, 211); stroke-opacity: 1; stroke-width: 1px;\"/><path class=\"ygrid crisp\" transform=\"translate(0,46.79)\" d=\"M56,0h272.71111111111117\" style=\"stroke: rgb(211, 211, 211); stroke-opacity: 1; stroke-width: 1px;\"/></g></g><g class=\"zerolinelayer\"><path class=\"yzl zl crisp\" transform=\"translate(0,267)\" d=\"M56,0h272.71111111111117\" style=\"stroke: rgb(255, 255, 255); stroke-opacity: 1; stroke-width: 2px;\"/></g><path class=\"xlines-below\"/><path class=\"ylines-below\"/><g class=\"overlines-below\"/><g class=\"xaxislayer-below\"/><g class=\"yaxislayer-below\"/><g class=\"overaxes-below\"/><g class=\"plot\" transform=\"translate(56,30)\" clip-path=\"url(#clip863531xyplot)\"><g class=\"barlayer mlayer\"><g class=\"trace bars\" style=\"opacity: 1;\"><g class=\"points\"><g class=\"point\"><path d=\"M13.64,237V39.09H68.18V237Z\" style=\"vector-effect: none; opacity: 1; stroke-width: 0.5px; fill: rgb(2, 126, 232); fill-opacity: 1; stroke: rgb(229, 236, 246); stroke-opacity: 1;\"/></g><g class=\"point\"><path d=\"M149.99,237V99.59H204.53V237Z\" style=\"vector-effect: none; opacity: 1; stroke-width: 0.5px; fill: rgb(2, 126, 232); fill-opacity: 1; stroke: rgb(229, 236, 246); stroke-opacity: 1;\"/></g></g><g class=\"errorbar\" style=\"opacity: 1;\"><path class=\"yerror\" d=\"M36.91,11.85h8m-4,0V66.33m-4,0h8\" style=\"vector-effect: none; stroke-width: 2px; stroke: rgb(42, 63, 95); stroke-opacity: 1;\"/></g><g class=\"errorbar\" style=\"opacity: 1;\"><path class=\"yerror\" d=\"M173.26,77.76h8m-4,0V121.42m-4,0h8\" style=\"vector-effect: none; stroke-width: 2px; stroke: rgb(42, 63, 95); stroke-opacity: 1;\"/></g></g><g class=\"trace bars\" style=\"opacity: 1;\"><g class=\"points\"><g class=\"point\"><path d=\"M68.18,237V109.61H122.72V237Z\" style=\"vector-effect: none; opacity: 1; stroke-width: 0.5px; fill: rgb(214, 2, 70); fill-opacity: 1; stroke: rgb(229, 236, 246); stroke-opacity: 1;\"/></g><g class=\"point\"><path d=\"M204.53,237V167.63H259.08V237Z\" style=\"vector-effect: none; opacity: 1; stroke-width: 0.5px; fill: rgb(214, 2, 70); fill-opacity: 1; stroke: rgb(229, 236, 246); stroke-opacity: 1;\"/></g></g><g class=\"errorbar\" style=\"opacity: 1;\"><path class=\"yerror\" d=\"M91.45,78.25h8m-4,0V140.97m-4,0h8\" style=\"vector-effect: none; stroke-width: 2px; stroke: rgb(42, 63, 95); stroke-opacity: 1;\"/></g><g class=\"errorbar\" style=\"opacity: 1;\"><path class=\"yerror\" d=\"M227.8,135.11h8m-4,0V200.14m-4,0h8\" style=\"vector-effect: none; stroke-width: 2px; stroke: rgb(42, 63, 95); stroke-opacity: 1;\"/></g></g></g></g><g class=\"overplot\"/><path class=\"xlines-above crisp\" d=\"M0,0\" style=\"fill: none;\"/><path class=\"ylines-above crisp\" d=\"M0,0\" style=\"fill: none;\"/><g class=\"overlines-above\"/><g class=\"xaxislayer-above\"><g class=\"xtick\"><text text-anchor=\"middle\" x=\"0\" y=\"293\" transform=\"translate(124.18,0)\" style=\"font-family: 'Open Sans', verdana, arial, sans-serif; font-size: 25px; fill: rgb(42, 63, 95); fill-opacity: 1; white-space: pre; opacity: 1;\">Gathering</text></g><g class=\"xtick\"><text text-anchor=\"middle\" x=\"0\" y=\"293\" transform=\"translate(260.53,0)\" style=\"font-family: 'Open Sans', verdana, arial, sans-serif; font-size: 25px; fill: rgb(42, 63, 95); fill-opacity: 1; white-space: pre; opacity: 1;\">Hunting</text></g></g><g class=\"yaxislayer-above\"><g class=\"ytick\"><text text-anchor=\"end\" x=\"55\" y=\"4.8999999999999995\" transform=\"translate(0,267)\" style=\"font-family: 'Open Sans', verdana, arial, sans-serif; font-size: 14px; fill: rgb(42, 63, 95); fill-opacity: 1; white-space: pre; opacity: 1;\">0</text></g><g class=\"ytick\"><text text-anchor=\"end\" x=\"55\" y=\"4.8999999999999995\" style=\"font-family: 'Open Sans', verdana, arial, sans-serif; font-size: 14px; fill: rgb(42, 63, 95); fill-opacity: 1; white-space: pre; opacity: 1;\" transform=\"translate(0,193.6)\">0.5</text></g><g class=\"ytick\"><text text-anchor=\"end\" x=\"55\" y=\"4.8999999999999995\" style=\"font-family: 'Open Sans', verdana, arial, sans-serif; font-size: 14px; fill: rgb(42, 63, 95); fill-opacity: 1; white-space: pre; opacity: 1;\" transform=\"translate(0,120.19)\">1</text></g><g class=\"ytick\"><text text-anchor=\"end\" x=\"55\" y=\"4.8999999999999995\" style=\"font-family: 'Open Sans', verdana, arial, sans-serif; font-size: 14px; fill: rgb(42, 63, 95); fill-opacity: 1; white-space: pre; opacity: 1;\" transform=\"translate(0,46.79)\">1.5</text></g></g><g class=\"overaxes-above\"/></g><g class=\"subplot x2y2\"><g class=\"layer-subplot\"><g class=\"shapelayer\"/><g class=\"imagelayer\"/></g><g class=\"minor-gridlayer\"><g class=\"x2\"/><g class=\"y2\"/></g><g class=\"gridlayer\"><g class=\"x2\"/><g class=\"y2\"><path class=\"y2grid crisp\" transform=\"translate(0,186.53)\" d=\"M391.64444444444445,0h272.71111111111117\" style=\"stroke: rgb(211, 211, 211); stroke-opacity: 1; stroke-width: 1px;\"/><path class=\"y2grid crisp\" transform=\"translate(0,106.05)\" d=\"M391.64444444444445,0h272.71111111111117\" style=\"stroke: rgb(211, 211, 211); stroke-opacity: 1; stroke-width: 1px;\"/></g></g><g class=\"zerolinelayer\"><path class=\"y2zl zl crisp\" transform=\"translate(0,267)\" d=\"M391.64444444444445,0h272.71111111111117\" style=\"stroke: rgb(255, 255, 255); stroke-opacity: 1; stroke-width: 2px;\"/></g><path class=\"xlines-below\"/><path class=\"ylines-below\"/><g class=\"overlines-below\"/><g class=\"xaxislayer-below\"/><g class=\"yaxislayer-below\"/><g class=\"overaxes-below\"/><g class=\"plot\" transform=\"translate(391.64444444444445,30)\" clip-path=\"url(#clip863531x2y2plot)\"><g class=\"barlayer mlayer\"><g class=\"trace bars\" style=\"opacity: 1;\"><g class=\"points\"><g class=\"point\"><path d=\"M13.64,237V45.74H68.18V237Z\" style=\"vector-effect: none; opacity: 1; stroke-width: 0.5px; fill: rgb(2, 126, 232); fill-opacity: 1; stroke: rgb(229, 236, 246); stroke-opacity: 1;\"/></g><g class=\"point\"><path d=\"M149.99,237V75.6H204.53V237Z\" style=\"vector-effect: none; opacity: 1; stroke-width: 0.5px; fill: rgb(2, 126, 232); fill-opacity: 1; stroke: rgb(229, 236, 246); stroke-opacity: 1;\"/></g></g><g class=\"errorbar\" style=\"opacity: 1;\"><path class=\"yerror\" d=\"M36.91,11.85h8m-4,0V79.64m-4,0h8\" style=\"vector-effect: none; stroke-width: 2px; stroke: rgb(42, 63, 95); stroke-opacity: 1;\"/></g><g class=\"errorbar\" style=\"opacity: 1;\"><path class=\"yerror\" d=\"M173.26,48.86h8m-4,0V102.34m-4,0h8\" style=\"vector-effect: none; stroke-width: 2px; stroke: rgb(42, 63, 95); stroke-opacity: 1;\"/></g></g><g class=\"trace bars\" style=\"opacity: 1;\"><g class=\"points\"><g class=\"point\"><path d=\"M68.18,237V106.73H122.72V237Z\" style=\"vector-effect: none; opacity: 1; stroke-width: 0.5px; fill: rgb(214, 2, 70); fill-opacity: 1; stroke: rgb(229, 236, 246); stroke-opacity: 1;\"/></g><g class=\"point\"><path d=\"M204.53,237V169.73H259.08V237Z\" style=\"vector-effect: none; opacity: 1; stroke-width: 0.5px; fill: rgb(214, 2, 70); fill-opacity: 1; stroke: rgb(229, 236, 246); stroke-opacity: 1;\"/></g></g><g class=\"errorbar\" style=\"opacity: 1;\"><path class=\"yerror\" d=\"M91.45,59.99h8m-4,0V153.48m-4,0h8\" style=\"vector-effect: none; stroke-width: 2px; stroke: rgb(42, 63, 95); stroke-opacity: 1;\"/></g><g class=\"errorbar\" style=\"opacity: 1;\"><path class=\"yerror\" d=\"M227.8,129.21h8m-4,0V210.25m-4,0h8\" style=\"vector-effect: none; stroke-width: 2px; stroke: rgb(42, 63, 95); stroke-opacity: 1;\"/></g></g></g></g><g class=\"overplot\"/><path class=\"xlines-above crisp\" d=\"M0,0\" style=\"fill: none;\"/><path class=\"ylines-above crisp\" d=\"M0,0\" style=\"fill: none;\"/><g class=\"overlines-above\"/><g class=\"xaxislayer-above\"><g class=\"x2tick\"><text text-anchor=\"middle\" x=\"0\" y=\"293\" transform=\"translate(459.82444444444445,0)\" style=\"font-family: 'Open Sans', verdana, arial, sans-serif; font-size: 25px; fill: rgb(42, 63, 95); fill-opacity: 1; white-space: pre; opacity: 1;\">Gathering</text></g><g class=\"x2tick\"><text text-anchor=\"middle\" x=\"0\" y=\"293\" transform=\"translate(596.1744444444445,0)\" style=\"font-family: 'Open Sans', verdana, arial, sans-serif; font-size: 25px; fill: rgb(42, 63, 95); fill-opacity: 1; white-space: pre; opacity: 1;\">Hunting</text></g></g><g class=\"yaxislayer-above\"><g class=\"y2tick\"><text text-anchor=\"end\" x=\"390.64444444444445\" y=\"4.8999999999999995\" transform=\"translate(0,267)\" style=\"font-family: 'Open Sans', verdana, arial, sans-serif; font-size: 14px; fill: rgb(42, 63, 95); fill-opacity: 1; white-space: pre; opacity: 1;\">0</text></g><g class=\"y2tick\"><text text-anchor=\"end\" x=\"390.64444444444445\" y=\"4.8999999999999995\" style=\"font-family: 'Open Sans', verdana, arial, sans-serif; font-size: 14px; fill: rgb(42, 63, 95); fill-opacity: 1; white-space: pre; opacity: 1;\" transform=\"translate(0,186.53)\">0.5</text></g><g class=\"y2tick\"><text text-anchor=\"end\" x=\"390.64444444444445\" y=\"4.8999999999999995\" style=\"font-family: 'Open Sans', verdana, arial, sans-serif; font-size: 14px; fill: rgb(42, 63, 95); fill-opacity: 1; white-space: pre; opacity: 1;\" transform=\"translate(0,106.05)\">1</text></g></g><g class=\"overaxes-above\"/></g><g class=\"subplot x3y3\"><g class=\"layer-subplot\"><g class=\"shapelayer\"/><g class=\"imagelayer\"/></g><g class=\"minor-gridlayer\"><g class=\"x3\"/><g class=\"y3\"/></g><g class=\"gridlayer\"><g class=\"x3\"/><g class=\"y3\"><path class=\"y3grid crisp\" transform=\"translate(0,210.39)\" d=\"M727.2888888888889,0h272.7111111111111\" style=\"stroke: rgb(211, 211, 211); stroke-opacity: 1; stroke-width: 1px;\"/><path class=\"y3grid crisp\" transform=\"translate(0,153.78)\" d=\"M727.2888888888889,0h272.7111111111111\" style=\"stroke: rgb(211, 211, 211); stroke-opacity: 1; stroke-width: 1px;\"/><path class=\"y3grid crisp\" transform=\"translate(0,97.16)\" d=\"M727.2888888888889,0h272.7111111111111\" style=\"stroke: rgb(211, 211, 211); stroke-opacity: 1; stroke-width: 1px;\"/><path class=\"y3grid crisp\" transform=\"translate(0,40.55)\" d=\"M727.2888888888889,0h272.7111111111111\" style=\"stroke: rgb(211, 211, 211); stroke-opacity: 1; stroke-width: 1px;\"/></g></g><g class=\"zerolinelayer\"><path class=\"y3zl zl crisp\" transform=\"translate(0,267)\" d=\"M727.2888888888889,0h272.7111111111111\" style=\"stroke: rgb(255, 255, 255); stroke-opacity: 1; stroke-width: 2px;\"/></g><path class=\"xlines-below\"/><path class=\"ylines-below\"/><g class=\"overlines-below\"/><g class=\"xaxislayer-below\"/><g class=\"yaxislayer-below\"/><g class=\"overaxes-below\"/><g class=\"plot\" transform=\"translate(727.2888888888889,30)\" clip-path=\"url(#clip863531x3y3plot)\"><g class=\"barlayer mlayer\"><g class=\"trace bars\" style=\"opacity: 1;\"><g class=\"points\"><g class=\"point\"><path d=\"M13.64,237V38.5H68.18V237Z\" style=\"vector-effect: none; opacity: 1; stroke-width: 0.5px; fill: rgb(2, 126, 232); fill-opacity: 1; stroke: rgb(229, 236, 246); stroke-opacity: 1;\"/></g><g class=\"point\"><path d=\"M149.99,237V86.35H204.53V237Z\" style=\"vector-effect: none; opacity: 1; stroke-width: 0.5px; fill: rgb(2, 126, 232); fill-opacity: 1; stroke: rgb(229, 236, 246); stroke-opacity: 1;\"/></g></g><g class=\"errorbar\" style=\"opacity: 1;\"><path class=\"yerror\" d=\"M36.91,11.85h8m-4,0V65.15m-4,0h8\" style=\"vector-effect: none; stroke-width: 2px; stroke: rgb(42, 63, 95); stroke-opacity: 1;\"/></g><g class=\"errorbar\" style=\"opacity: 1;\"><path class=\"yerror\" d=\"M173.26,64.38h8m-4,0V108.33m-4,0h8\" style=\"vector-effect: none; stroke-width: 2px; stroke: rgb(42, 63, 95); stroke-opacity: 1;\"/></g></g><g class=\"trace bars\" style=\"opacity: 1;\"><g class=\"points\"><g class=\"point\"><path d=\"M68.18,237V80.82H122.72V237Z\" style=\"vector-effect: none; opacity: 1; stroke-width: 0.5px; fill: rgb(214, 2, 70); fill-opacity: 1; stroke: rgb(229, 236, 246); stroke-opacity: 1;\"/></g><g class=\"point\"><path d=\"M204.53,237V121.67H259.08V237Z\" style=\"vector-effect: none; opacity: 1; stroke-width: 0.5px; fill: rgb(214, 2, 70); fill-opacity: 1; stroke: rgb(229, 236, 246); stroke-opacity: 1;\"/></g></g><g class=\"errorbar\" style=\"opacity: 1;\"><path class=\"yerror\" d=\"M91.45,49.19h8m-4,0V112.45m-4,0h8\" style=\"vector-effect: none; stroke-width: 2px; stroke: rgb(42, 63, 95); stroke-opacity: 1;\"/></g><g class=\"errorbar\" style=\"opacity: 1;\"><path class=\"yerror\" d=\"M227.8,95.67h8m-4,0V147.67m-4,0h8\" style=\"vector-effect: none; stroke-width: 2px; stroke: rgb(42, 63, 95); stroke-opacity: 1;\"/></g></g></g></g><g class=\"overplot\"/><path class=\"xlines-above crisp\" d=\"M0,0\" style=\"fill: none;\"/><path class=\"ylines-above crisp\" d=\"M0,0\" style=\"fill: none;\"/><g class=\"overlines-above\"/><g class=\"xaxislayer-above\"><g class=\"x3tick\"><text text-anchor=\"middle\" x=\"0\" y=\"293\" transform=\"translate(795.4688888888888,0)\" style=\"font-family: 'Open Sans', verdana, arial, sans-serif; font-size: 25px; fill: rgb(42, 63, 95); fill-opacity: 1; white-space: pre; opacity: 1;\">Gathering</text></g><g class=\"x3tick\"><text text-anchor=\"middle\" x=\"0\" y=\"293\" transform=\"translate(931.8188888888889,0)\" style=\"font-family: 'Open Sans', verdana, arial, sans-serif; font-size: 25px; fill: rgb(42, 63, 95); fill-opacity: 1; white-space: pre; opacity: 1;\">Hunting</text></g></g><g class=\"yaxislayer-above\"><g class=\"y3tick\"><text text-anchor=\"end\" x=\"726.2888888888889\" y=\"4.8999999999999995\" transform=\"translate(0,267)\" style=\"font-family: 'Open Sans', verdana, arial, sans-serif; font-size: 14px; fill: rgb(42, 63, 95); fill-opacity: 1; white-space: pre; opacity: 1;\">0</text></g><g class=\"y3tick\"><text text-anchor=\"end\" x=\"726.2888888888889\" y=\"4.8999999999999995\" style=\"font-family: 'Open Sans', verdana, arial, sans-serif; font-size: 14px; fill: rgb(42, 63, 95); fill-opacity: 1; white-space: pre; opacity: 1;\" transform=\"translate(0,210.39)\">1</text></g><g class=\"y3tick\"><text text-anchor=\"end\" x=\"726.2888888888889\" y=\"4.8999999999999995\" style=\"font-family: 'Open Sans', verdana, arial, sans-serif; font-size: 14px; fill: rgb(42, 63, 95); fill-opacity: 1; white-space: pre; opacity: 1;\" transform=\"translate(0,153.78)\">2</text></g><g class=\"y3tick\"><text text-anchor=\"end\" x=\"726.2888888888889\" y=\"4.8999999999999995\" style=\"font-family: 'Open Sans', verdana, arial, sans-serif; font-size: 14px; fill: rgb(42, 63, 95); fill-opacity: 1; white-space: pre; opacity: 1;\" transform=\"translate(0,97.16)\">3</text></g><g class=\"y3tick\"><text text-anchor=\"end\" x=\"726.2888888888889\" y=\"4.8999999999999995\" style=\"font-family: 'Open Sans', verdana, arial, sans-serif; font-size: 14px; fill: rgb(42, 63, 95); fill-opacity: 1; white-space: pre; opacity: 1;\" transform=\"translate(0,40.55)\">4</text></g></g><g class=\"overaxes-above\"/></g></g><g class=\"polarlayer\"/><g class=\"smithlayer\"/><g class=\"ternarylayer\"/><g class=\"geolayer\"/><g class=\"funnelarealayer\"/><g class=\"pielayer\"/><g class=\"iciclelayer\"/><g class=\"treemaplayer\"/><g class=\"sunburstlayer\"/><g class=\"glimages\"/><defs id=\"topdefs-863531\"><g class=\"clips\"/><clipPath id=\"legend863531\"><rect width=\"481\" height=\"46\" x=\"0\" y=\"0\"/></clipPath></defs><g class=\"layer-above\"><g class=\"imagelayer\"/><g class=\"shapelayer\"/></g><g class=\"infolayer\"><g class=\"legend\" pointer-events=\"all\" transform=\"translate(287.5,303.95000000000005)\"><rect class=\"bg\" shape-rendering=\"crispEdges\" width=\"481\" height=\"46\" x=\"0\" y=\"0\" style=\"stroke: rgb(68, 68, 68); stroke-opacity: 1; fill: rgb(255, 255, 255); fill-opacity: 1; stroke-width: 0px;\"/><g class=\"scrollbox\" transform=\"\" clip-path=\"url(#legend863531)\"><g class=\"groups\"><g class=\"traces\" transform=\"translate(0,22.75)\" style=\"opacity: 1;\"><text class=\"legendtext\" text-anchor=\"start\" x=\"40\" y=\"9.75\" style=\"font-family: 'Open Sans', verdana, arial, sans-serif; font-size: 25px; fill: rgb(42, 63, 95); fill-opacity: 1; white-space: pre;\">First Reading</text><g class=\"layers\" style=\"opacity: 1;\"><g class=\"legendfill\"/><g class=\"legendlines\"/><g class=\"legendsymbols\"><g class=\"legendpoints\"><path class=\"legendundefined\" d=\"M6,6H-6V-6H6Z\" transform=\"translate(20,0)\" style=\"stroke-width: 0.5px; fill: rgb(2, 126, 232); fill-opacity: 1; stroke: rgb(229, 236, 246); stroke-opacity: 1;\"/></g></g></g><rect class=\"legendtoggle\" x=\"0\" y=\"-17.75\" width=\"204.546875\" height=\"35.5\" style=\"fill: rgb(0, 0, 0); fill-opacity: 0;\"/></g><g class=\"traces\" transform=\"translate(207.046875,22.75)\" style=\"opacity: 1;\"><text class=\"legendtext\" text-anchor=\"start\" x=\"40\" y=\"9.75\" style=\"font-family: 'Open Sans', verdana, arial, sans-serif; font-size: 25px; fill: rgb(42, 63, 95); fill-opacity: 1; white-space: pre;\">Repeated Reading</text><g class=\"layers\" style=\"opacity: 1;\"><g class=\"legendfill\"/><g class=\"legendlines\"/><g class=\"legendsymbols\"><g class=\"legendpoints\"><path class=\"legendundefined\" d=\"M6,6H-6V-6H6Z\" transform=\"translate(20,0)\" style=\"stroke-width: 0.5px; fill: rgb(214, 2, 70); fill-opacity: 1; stroke: rgb(229, 236, 246); stroke-opacity: 1;\"/></g></g></g><rect class=\"legendtoggle\" x=\"0\" y=\"-17.75\" width=\"271.1875\" height=\"35.5\" style=\"fill: rgb(0, 0, 0); fill-opacity: 0;\"/></g></g></g><rect class=\"scrollbar\" rx=\"20\" ry=\"3\" width=\"0\" height=\"0\" x=\"0\" y=\"0\" style=\"fill: rgb(128, 139, 164); fill-opacity: 1;\"/></g><g class=\"g-gtitle\"/><g class=\"g-xtitle\"/><g class=\"g-x2title\"/><g class=\"g-x3title\"/><g class=\"g-ytitle\" transform=\"translate(22.265625,0)\"><text class=\"ytitle\" transform=\"rotate(-90,0.734375,148.5)\" x=\"0.734375\" y=\"148.5\" text-anchor=\"middle\" style=\"font-family: 'Open Sans', verdana, arial, sans-serif; font-size: 25px; fill: rgb(42, 63, 95); opacity: 1; font-weight: normal; white-space: pre;\">Coefficient</text></g><g class=\"g-y2title\"/><g class=\"g-y3title\"/><g class=\"annotation\" data-index=\"0\" style=\"opacity: 1;\"><g class=\"annotation-text-g\" transform=\"rotate(0,192.35555555555558,13.499999999999996)\"><g class=\"cursor-pointer\" transform=\"translate(135,-3)\"><rect class=\"bg\" x=\"0.5\" y=\"0.5\" width=\"113\" height=\"32\" style=\"stroke-width: 1px; stroke: rgb(0, 0, 0); stroke-opacity: 0; fill: rgb(0, 0, 0); fill-opacity: 0;\"/><text class=\"annotation-text\" text-anchor=\"middle\" x=\"57.203125\" y=\"25\" style=\"font-family: 'Open Sans', verdana, arial, sans-serif; font-size: 25px; fill: rgb(42, 63, 95); fill-opacity: 1; white-space: pre;\">Surprisal</text></g></g></g><g class=\"annotation\" data-index=\"1\" style=\"opacity: 1;\"><g class=\"annotation-text-g\" transform=\"rotate(0,528,13.499999999999996)\"><g class=\"cursor-pointer\" transform=\"translate(462,-3)\"><rect class=\"bg\" x=\"0.5\" y=\"0.5\" width=\"132\" height=\"32\" style=\"stroke-width: 1px; stroke: rgb(0, 0, 0); stroke-opacity: 0; fill: rgb(0, 0, 0); fill-opacity: 0;\"/><text class=\"annotation-text\" text-anchor=\"middle\" x=\"66.578125\" y=\"25\" style=\"font-family: 'Open Sans', verdana, arial, sans-serif; font-size: 25px; fill: rgb(42, 63, 95); fill-opacity: 1; white-space: pre;\">Frequency</text></g></g></g><g class=\"annotation\" data-index=\"2\" style=\"opacity: 1;\"><g class=\"annotation-text-g\" transform=\"rotate(0,863.6444444444445,13.499999999999996)\"><g class=\"cursor-pointer\" transform=\"translate(819,-3)\"><rect class=\"bg\" x=\"0.5\" y=\"0.5\" width=\"89\" height=\"32\" style=\"stroke-width: 1px; stroke: rgb(0, 0, 0); stroke-opacity: 0; fill: rgb(0, 0, 0); fill-opacity: 0;\"/><text class=\"annotation-text\" text-anchor=\"middle\" x=\"45.125\" y=\"25\" style=\"font-family: 'Open Sans', verdana, arial, sans-serif; font-size: 25px; fill: rgb(42, 63, 95); fill-opacity: 1; white-space: pre;\">Length</text></g></g></g></g></svg>"
      ]
     },
     "metadata": {},
     "output_type": "display_data"
    }
   ],
   "source": [
    "fig.show(renderer=\"svg\")"
   ]
  },
  {
   "cell_type": "code",
   "execution_count": 137,
   "metadata": {},
   "outputs": [],
   "source": [
    "dropbox_upload(\n",
    "    project=\"OneStopGaze - Data Descriptor submissions to Scientific Data\",\n",
    "    path=\"figures/response_to_ling.pdf\",\n",
    "    fig=fig,\n",
    ")"
   ]
  },
  {
   "cell_type": "code",
   "execution_count": null,
   "metadata": {},
   "outputs": [],
   "source": []
  },
  {
   "cell_type": "markdown",
   "metadata": {},
   "source": [
    "# OneStop - Reading Comprehension Means"
   ]
  },
  {
   "cell_type": "code",
   "execution_count": 2,
   "metadata": {},
   "outputs": [
    {
     "name": "stdout",
     "output_type": "stream",
     "text": [
      "Could not convert IA_FIRST_PASS_GAZE_DURATION to numeric\n"
     ]
    }
   ],
   "source": [
    "ia_rep, fix_rep, ia_rep_fixated_only = load_and_process_dataset(dataset=\"onestop\")\n",
    "pos_outcomes, fix_rep_outcomes, non_pos_outcomes = get_outcome_vars(dataset=\"onestop\")"
   ]
  },
  {
   "cell_type": "code",
   "execution_count": 4,
   "metadata": {},
   "outputs": [
    {
     "name": "stdout",
     "output_type": "stream",
     "text": [
      "Linear mixed model fit by maximum likelihood\n",
      " is_correct ~ 1 + reread + has_preview + reread & has_preview + (1 + reread + has_preview + reread & has_preview | subject_id) + (1 + reread + has_preview + reread & has_preview | unique_paragraph_id)\n",
      "   logLik   -2 logLik     AIC       AICc        BIC    \n",
      " -8647.0189 17294.0379 17344.0379 17344.0936 17545.4710\n",
      "\n",
      "Variance components:\n",
      "                                Column             Variance   Std.Dev.    Corr.\n",
      "subject_id          (Intercept)                    0.00614669 0.07840080\n",
      "                    reread                         0.00002122 0.00460659 -1.00\n",
      "                    has_preview: Hunting           0.00692365 0.08320846 -0.77 +0.77\n",
      "                    reread & has_preview: Hunting  0.00010210 0.01010434 +0.19 -0.19 -0.77\n",
      "unique_paragraph_id (Intercept)                    0.00978648 0.09892661\n",
      "                    reread                         0.00233560 0.04832803 -0.27\n",
      "                    has_preview: Hunting           0.00156978 0.03962048 -0.84 -0.30\n",
      "                    reread & has_preview: Hunting  0.00050619 0.02249863 +0.03 -0.97 +0.52\n",
      "Residual                                           0.11761693 0.34295325\n",
      " Number of obs: 23326; levels of grouping factors: 360, 324\n",
      "\n",
      "  Fixed-effects parameters:\n",
      "──────────────────────────────────────────────────────────────────────\n",
      "                                    Coef.  Std. Error      z  Pr(>|z|)\n",
      "──────────────────────────────────────────────────────────────────────\n",
      "(Intercept)                    0.811883    0.00874394  92.85    <1e-99\n",
      "reread                         0.0301847   0.00894691   3.37    0.0007\n",
      "has_preview: Hunting           0.0574585   0.00894466   6.42    <1e-09\n",
      "reread & has_preview: Hunting  0.00564656  0.0121516    0.46    0.6422\n",
      "──────────────────────────────────────────────────────────────────────\n"
     ]
    }
   ],
   "source": [
    "paragraph_aggregated_df = ia_rep[\n",
    "    [\"subject_id\", \"unique_paragraph_id\", \"reread\", \"has_preview\", \"is_correct\"]\n",
    "].drop_duplicates()\n",
    "\n",
    "_ = run_linear_mm(\n",
    "    df_input=paragraph_aggregated_df,\n",
    "    outcome_variable=\"is_correct\",\n",
    "    re_cols=[\"subject_id\", \"unique_paragraph_id\"],\n",
    "    formula=\"is_correct ~ reread * has_preview + (reread * has_preview | subject_id) + (reread * has_preview | unique_paragraph_id)\",\n",
    "    link_dist=jl.Distributions.Normal(),\n",
    ")"
   ]
  },
  {
   "cell_type": "markdown",
   "metadata": {},
   "source": [
    "## "
   ]
  },
  {
   "cell_type": "markdown",
   "metadata": {},
   "source": [
    "## Relationship between reading comprehension and reading speed"
   ]
  },
  {
   "cell_type": "code",
   "execution_count": 5,
   "metadata": {},
   "outputs": [
    {
     "name": "stdout",
     "output_type": "stream",
     "text": [
      "R^2: 0.0010574192803742449, p-value: 0.5385532079294629\n"
     ]
    }
   ],
   "source": [
    "subject_correct_speed_df = (\n",
    "    ia_rep.query(\"reread == 0\")[[\"subject_id\", \"is_correct\", \"IA_DWELL_TIME\"]]\n",
    "    .groupby(\"subject_id\")\n",
    "    .agg({\"is_correct\": \"mean\", \"IA_DWELL_TIME\": \"mean\"})\n",
    ")\n",
    "\n",
    "# create a simple linear model for the relationship between the mean IA_DWELL_TIME and the mean is_correct\n",
    "\n",
    "slope, intercept, r_value, p_value, std_err = stats.linregress(\n",
    "    subject_correct_speed_df[\"IA_DWELL_TIME\"], subject_correct_speed_df[\"is_correct\"]\n",
    ")\n",
    "\n",
    "print(f\"R^2: {r_value**2}, p-value: {p_value}\")"
   ]
  },
  {
   "cell_type": "code",
   "execution_count": null,
   "metadata": {},
   "outputs": [],
   "source": []
  }
 ],
 "metadata": {
  "kernelspec": {
   "display_name": "onestop",
   "language": "python",
   "name": "python3"
  },
  "language_info": {
   "codemirror_mode": {
    "name": "ipython",
    "version": 3
   },
   "file_extension": ".py",
   "mimetype": "text/x-python",
   "name": "python",
   "nbconvert_exporter": "python",
   "pygments_lexer": "ipython3",
   "version": "3.12.2"
  }
 },
 "nbformat": 4,
 "nbformat_minor": 2
}
