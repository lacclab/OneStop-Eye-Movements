{
 "cells": [
  {
   "cell_type": "code",
   "execution_count": 1,
   "id": "05cefe4b",
   "metadata": {},
   "outputs": [],
   "source": [
    "import config\n",
    "from datasets import load_dataset\n",
    "import matplotlib.pyplot as plt\n",
    "import numpy as np\n",
    "import pandas as pd\n",
    "from pathlib import Path\n",
    "import seaborn as sns\n",
    "import utils"
   ]
  },
  {
   "cell_type": "code",
   "execution_count": 2,
   "id": "f71e9613",
   "metadata": {},
   "outputs": [],
   "source": [
    "fig_save_path = Path(\"figures\")\n",
    "fig_save_path.mkdir(exist_ok=True)"
   ]
  },
  {
   "cell_type": "code",
   "execution_count": 3,
   "id": "2d6940ef",
   "metadata": {},
   "outputs": [
    {
     "name": "stderr",
     "output_type": "stream",
     "text": [
      "Using the latest cached version of the module from /Users/ellalion/.cache/huggingface/modules/datasets_modules/datasets/onestop_qa/a0c95605076648b72908ed622b90af2ec131356d12bbc08bb6f26bef7758e44b (last modified on Mon Apr 15 16:05:00 2024) since it couldn't be found locally at onestop_qa, or remotely on the Hugging Face Hub.\n"
     ]
    }
   ],
   "source": [
    "# Load the OneStopQA dataset\n",
    "onestop_qa = load_dataset(\n",
    "    \"onestop_qa\", split=\"train\", trust_remote_code=True\n",
    ").to_pandas()"
   ]
  },
  {
   "cell_type": "code",
   "execution_count": 4,
   "id": "5df81626",
   "metadata": {},
   "outputs": [],
   "source": [
    "QUESTIONNAIRE = utils.load_json(config.QUESTIONNAIRE_PATH)\n",
    "SESSION_SUMMARY = utils.load_df(config.SESSION_SUMMARY_PATH)"
   ]
  },
  {
   "cell_type": "code",
   "execution_count": 5,
   "id": "e13d9526",
   "metadata": {},
   "outputs": [],
   "source": [
    "IA_P = utils.load_df(config.IA_P_PATH)\n",
    "IA_Q = utils.load_df(config.IA_Q_PATH)\n",
    "IA_A = utils.load_df(config.IA_A_PATH)\n",
    "IA_Q_preview = utils.load_df(config.IA_Q_preview_PATH)\n",
    "IA_T = utils.load_df(config.IA_T_PATH)\n",
    "IA_QA = utils.load_df(config.IA_QA_PATH)"
   ]
  },
  {
   "cell_type": "markdown",
   "id": "71684c714035d1c6",
   "metadata": {
    "collapsed": false
   },
   "source": [
    "# 1.1.1 Key Statistics"
   ]
  },
  {
   "cell_type": "code",
   "execution_count": 6,
   "id": "8c2feebb",
   "metadata": {},
   "outputs": [
    {
     "name": "stdout",
     "output_type": "stream",
     "text": [
      "Number of tokens in IA reports:\n",
      "paragraphs - 2632159\n",
      "questions - 242208\n",
      "questions and answers - 1190732\n",
      "questions preview - 121110\n",
      "titles - 38798\n",
      "total words - 3982709\n"
     ]
    }
   ],
   "source": [
    "# Calculate the lengths\n",
    "p = len(IA_P)\n",
    "q = len(IA_Q)\n",
    "a = len(IA_A)\n",
    "qa = len(IA_QA)\n",
    "q_pre = len(IA_Q_preview)\n",
    "t = len(IA_T)\n",
    "total = p + q + a + t + q_pre\n",
    "\n",
    "# Consolidated print statement\n",
    "print(\n",
    "    f\"Number of tokens in IA reports:\\nparagraphs - {p}\\nquestions - {q}\\nquestions and answers - {qa}\\nquestions preview - {q_pre}\\ntitles - {t}\\ntotal words - {total}\"\n",
    ")"
   ]
  },
  {
   "cell_type": "code",
   "execution_count": 7,
   "id": "28634fb7",
   "metadata": {},
   "outputs": [
    {
     "name": "stdout",
     "output_type": "stream",
     "text": [
      "KeyError: ('l55_519', 2, 9, 2, 0)\n",
      "KeyError: ('l56_489', 1, 10, 6, 0)\n"
     ]
    },
    {
     "ename": "KeyError",
     "evalue": "('l55_519', 2, 9, 2, 0)",
     "output_type": "error",
     "traceback": [
      "\u001b[0;31m---------------------------------------------------------------------------\u001b[0m",
      "\u001b[0;31mKeyError\u001b[0m                                  Traceback (most recent call last)",
      "Cell \u001b[0;32mIn[7], line 25\u001b[0m\n\u001b[1;32m     22\u001b[0m         diff[key] \u001b[38;5;241m=\u001b[39m dict1[key] \u001b[38;5;241m-\u001b[39m dict2[key]\n\u001b[1;32m     23\u001b[0m     \u001b[38;5;28;01mreturn\u001b[39;00m diff\n\u001b[0;32m---> 25\u001b[0m \u001b[38;5;28mprint\u001b[39m(diff_dicts_values(ia_qa, ia_q_a))\n\u001b[1;32m     27\u001b[0m \u001b[38;5;28;01mdef\u001b[39;00m \u001b[38;5;21mcount_trials_prticipant\u001b[39m(df):\n\u001b[1;32m     28\u001b[0m     \u001b[38;5;28;01mreturn\u001b[39;00m df\u001b[38;5;241m.\u001b[39mgroupby([\u001b[38;5;124m\"\u001b[39m\u001b[38;5;124marticle_id\u001b[39m\u001b[38;5;124m\"\u001b[39m, \u001b[38;5;124m\"\u001b[39m\u001b[38;5;124mparagraph_id\u001b[39m\u001b[38;5;124m\"\u001b[39m, \u001b[38;5;124m\"\u001b[39m\u001b[38;5;124mreread\u001b[39m\u001b[38;5;124m\"\u001b[39m])\u001b[38;5;241m.\u001b[39msize()\n",
      "Cell \u001b[0;32mIn[7], line 22\u001b[0m, in \u001b[0;36mdiff_dicts_values\u001b[0;34m(dict1, dict2)\u001b[0m\n\u001b[1;32m     20\u001b[0m diff \u001b[38;5;241m=\u001b[39m {}\n\u001b[1;32m     21\u001b[0m \u001b[38;5;28;01mfor\u001b[39;00m key \u001b[38;5;129;01min\u001b[39;00m dict1:\n\u001b[0;32m---> 22\u001b[0m     diff[key] \u001b[38;5;241m=\u001b[39m dict1[key] \u001b[38;5;241m-\u001b[39m dict2[key]\n\u001b[1;32m     23\u001b[0m \u001b[38;5;28;01mreturn\u001b[39;00m diff\n",
      "\u001b[0;31mKeyError\u001b[0m: ('l55_519', 2, 9, 2, 0)"
     ]
    }
   ],
   "source": [
    "def count_lines_prticipant(df):\n",
    "    return df.groupby([\"RECORDING_SESSION_LABEL\", \"batch\", \"article_id\", \"paragraph_id\", \"reread\"]).size()\n",
    "\n",
    "ia_qa = count_lines_prticipant(IA_QA).to_dict()\n",
    "ia_q = count_lines_prticipant(IA_Q).to_dict()\n",
    "ia_a = count_lines_prticipant(IA_A).to_dict()\n",
    "\n",
    "def merge_dicts_values(dict1, dict2):\n",
    "    merge = {}\n",
    "    for key in dict1:\n",
    "        try:\n",
    "            merge[key] = dict1[key] + dict2[key]   \n",
    "        except KeyError:\n",
    "            print(f\"KeyError: {key}\")\n",
    "    return merge\n",
    "\n",
    "ia_q_a = merge_dicts_values(ia_q, ia_a)\n",
    "\n",
    "def diff_dicts_values(dict1, dict2):\n",
    "    diff = {}\n",
    "    for key in dict1:\n",
    "        diff[key] = dict1[key] - dict2[key]\n",
    "    return diff\n",
    "\n",
    "print(diff_dicts_values(ia_qa, ia_q_a))\n",
    "\n",
    "def count_trials_prticipant(df):\n",
    "    return df.groupby([\"article_id\", \"paragraph_id\", \"reread\"]).size()\n",
    "\n",
    "l55_519_qa = count_trials_prticipant(IA_QA[IA_QA[\"RECORDING_SESSION_LABEL\"] == \"l55_519\"]).to_dict()\n",
    "l55_519_q = count_trials_prticipant(IA_Q[IA_Q[\"RECORDING_SESSION_LABEL\"] == \"l55_519\"]).to_dict()\n",
    "l55_519_a = count_trials_prticipant(IA_A[IA_A[\"RECORDING_SESSION_LABEL\"] == \"l55_519\"]).to_dict()\n",
    "l56_489_qa = count_trials_prticipant(IA_QA[IA_QA[\"RECORDING_SESSION_LABEL\"] == \"l56_489\"]).to_dict()\n",
    "l56_489_q = count_trials_prticipant(IA_Q[IA_Q[\"RECORDING_SESSION_LABEL\"] == \"l56_489\"]).to_dict()\n",
    "l56_489_a = count_trials_prticipant(IA_A[IA_A[\"RECORDING_SESSION_LABEL\"] == \"l56_489\"]).to_dict()\n"
   ]
  },
  {
   "cell_type": "code",
   "execution_count": 8,
   "id": "00df619b",
   "metadata": {},
   "outputs": [
    {
     "name": "stdout",
     "output_type": "stream",
     "text": [
      "qa -             IA_LABEL  IA_ID  IA_DWELL_TIME  TRIAL_INDEX\n",
      "329165           Why      1            200           33\n",
      "329166           Why      1              0           33\n",
      "329167            do      2              0           33\n",
      "329168            do      2              0           33\n",
      "329169          some      3              0           33\n",
      "329170          some      3              0           33\n",
      "329171        people      4           1051           33\n",
      "329172        people      4              0           33\n",
      "329173       support      5            118           33\n",
      "329174       support      5              0           33\n",
      "329175     Bolivia's      6            832           33\n",
      "329176     Bolivia's      6              0           33\n",
      "329177     position?      7            506           33\n",
      "329178     position?      7              0           33\n",
      "329179       Because      8            151           33\n",
      "329180          they      9              0           33\n",
      "329181       believe     10            154           33\n",
      "329182          coca     11            160           33\n",
      "329183        leaves     12              0           33\n",
      "329184          have     13              0           33\n",
      "329185     medicinal     14            277           33\n",
      "329186     qualities     15              0           33\n",
      "329187       Because     16            169           33\n",
      "329188         their     17            262           33\n",
      "329189     countries     18            452           33\n",
      "329190           are     19            136           33\n",
      "329191        facing     20            366           33\n",
      "329192       similar     21            440           33\n",
      "329193        issues     22              0           33\n",
      "329194       Because     23              0           33\n",
      "329195          they     24            129           33\n",
      "329196          they     25              0           33\n",
      "329197           see     26            367           33\n",
      "329198            it     27              0           33\n",
      "329199            as     28              0           33\n",
      "329200             a     29              0           33\n",
      "329201  humanitarian     30            227           33\n",
      "329202         issue     31              0           33\n",
      "329203       Because     32              0           33\n",
      "329204            it     33            172           33\n",
      "329205      protects     34              0           33\n",
      "329206           the     35            147           33\n",
      "329207        rights     36            100           33\n",
      "329208            of     37              0           33\n",
      "329209           the     38              0           33\n",
      "329210        people     39              0           33\n",
      "329211        native     40            514           33\n",
      "329212            to     41              0           33\n",
      "329213           the     42              0           33\n",
      "329214          land     43              0           33\n",
      "q -         IA_LABEL  IA_ID  IA_DWELL_TIME  TRIAL_INDEX\n",
      "66440        Why      1            200           33\n",
      "66441         do      2              0           33\n",
      "66442       some      3              0           33\n",
      "66443     people      4            882           33\n",
      "66444    support      5              0           33\n",
      "66445  Bolivia's      6            685           33\n",
      "66446  position?      7            385           33\n",
      "a - Empty DataFrame\n",
      "Columns: [IA_LABEL, IA_ID, IA_DWELL_TIME, TRIAL_INDEX]\n",
      "Index: []\n",
      "qa -           IA_LABEL  IA_ID  IA_DWELL_TIME  TRIAL_INDEX\n",
      "696391         Why      1            229           11\n",
      "696392         Why      1              0           11\n",
      "696393        does      2              0           11\n",
      "696394        does      2              0           11\n",
      "696395      Lemnos      3              0           11\n",
      "696396      Lemnos      3              0           11\n",
      "696397        have      4            172           11\n",
      "696398        have      4              0           11\n",
      "696399          to      5              0           11\n",
      "696400          to      5              0           11\n",
      "696401         pay      6              0           11\n",
      "696402         pay      6              0           11\n",
      "696403         the      7            211           11\n",
      "696404         the      7              0           11\n",
      "696405       first      8              0           11\n",
      "696406       first      8              0           11\n",
      "696407       round      9            502           11\n",
      "696408       round      9              0           11\n",
      "696409          of     10            257           11\n",
      "696410          of     10              0           11\n",
      "696411         tax     11            479           11\n",
      "696412         tax     11              0           11\n",
      "696413  increases?     12              0           11\n",
      "696414  increases?     12              0           11\n",
      "696415          It     13              0           11\n",
      "696416          is     14              0           11\n",
      "696417         the     15            124           11\n",
      "696418      eighth     16            950           11\n",
      "696419        most     17            172           11\n",
      "696420     visited     18              0           11\n",
      "696421      island     19            222           11\n",
      "696422          in     20            151           11\n",
      "696423      Greece     21              0           11\n",
      "696424          It     22              0           11\n",
      "696425          is     23              0           11\n",
      "696426         one     24              0           11\n",
      "696427          of     25              0           11\n",
      "696428         the     26            228           11\n",
      "696429     largest     27            212           11\n",
      "696430     islands     28            294           11\n",
      "696431          in     29              0           11\n",
      "696432      Greece     30            221           11\n",
      "696433          It     31              0           11\n",
      "696434         has     32            140           11\n",
      "696435           a     33              0           11\n",
      "696436       large     34            204           11\n",
      "696437      number     35            403           11\n",
      "696438          of     36              0           11\n",
      "696439    cultural     37              0           11\n",
      "696440       sites     38            115           11\n",
      "696441          It     39              0           11\n",
      "696442          is     40              0           11\n",
      "696443         one     41            108           11\n",
      "696444          of     42            147           11\n",
      "696445         the     43              0           11\n",
      "696446     richest     44            416           11\n",
      "696447     islands     45              0           11\n",
      "696448          in     46              0           11\n",
      "696449      Greece     47              0           11\n",
      "q -           IA_LABEL  IA_ID  IA_DWELL_TIME  TRIAL_INDEX\n",
      "142176         Why      1            229           11\n",
      "142177        does      2              0           11\n",
      "142178      Lemnos      3              0           11\n",
      "142179        have      4            172           11\n",
      "142180          to      5              0           11\n",
      "142181         pay      6              0           11\n",
      "142182         the      7            211           11\n",
      "142183       first      8              0           11\n",
      "142184       round      9            502           11\n",
      "142185          of     10            257           11\n",
      "142186         tax     11            479           11\n",
      "142187  increases?     12              0           11\n",
      "a - Empty DataFrame\n",
      "Columns: [IA_LABEL, IA_ID, IA_DWELL_TIME, TRIAL_INDEX]\n",
      "Index: []\n"
     ]
    }
   ],
   "source": [
    "\n",
    "l55_519_qa = IA_QA.query(\"RECORDING_SESSION_LABEL == 'l55_519' & batch==2 & article_id==9 & paragraph_id==2 & reread==0\")\n",
    "l55_519_q = IA_Q.query(\"RECORDING_SESSION_LABEL == 'l55_519' & batch==2 & article_id==9 & paragraph_id==2 & reread==0\")\n",
    "l55_519_a = IA_A.query(\"RECORDING_SESSION_LABEL == 'l55_519' & batch==2 & article_id==9 & paragraph_id==2 & reread==0\")\n",
    "\n",
    "fields = [\"IA_LABEL\", \"IA_ID\", \"IA_DWELL_TIME\", \"TRIAL_INDEX\"]\n",
    "print(f\"qa - {l55_519_qa[fields]}\")\n",
    "print(f\"q - {l55_519_q[fields]}\")\n",
    "print(f\"a - {l55_519_a[fields]}\")\n",
    "\n",
    "\n",
    "l56_489_qa = IA_QA.query(\"RECORDING_SESSION_LABEL == 'l56_489' & batch==1 & article_id==10 & paragraph_id==6 & reread==0\")\n",
    "l56_489_q = IA_Q.query(\"RECORDING_SESSION_LABEL == 'l56_489' & batch==1 & article_id==10 & paragraph_id==6 & reread==0\")\n",
    "l56_489_a = IA_A.query(\"RECORDING_SESSION_LABEL == 'l56_489' & batch==1 & article_id==10 & paragraph_id==6 & reread==0\")\n",
    "\n",
    "print(f\"qa - {l56_489_qa[fields]}\")\n",
    "print(f\"q - {l56_489_q[fields]}\")\n",
    "print(f\"a - {l56_489_a[fields]}\")"
   ]
  },
  {
   "cell_type": "markdown",
   "id": "28d1256d",
   "metadata": {},
   "source": [
    "# 1.1.2 Participants"
   ]
  },
  {
   "cell_type": "code",
   "execution_count": 9,
   "id": "a0811ea5",
   "metadata": {},
   "outputs": [
    {
     "name": "stdout",
     "output_type": "stream",
     "text": [
      "Total number of participants: 360\n"
     ]
    }
   ],
   "source": [
    "print(f\"Total number of participants: {len(SESSION_SUMMARY)}\")"
   ]
  },
  {
   "cell_type": "code",
   "execution_count": 10,
   "id": "4dfeec15",
   "metadata": {},
   "outputs": [],
   "source": [
    "# Questionnaire json to dataframe filled missing values with NaN\n",
    "questionnaire_df = pd.DataFrame(QUESTIONNAIRE)"
   ]
  },
  {
   "cell_type": "code",
   "execution_count": 11,
   "id": "6c84d14f",
   "metadata": {},
   "outputs": [
    {
     "name": "stdout",
     "output_type": "stream",
     "text": [
      "female - 238, male - 117, other - 5\n"
     ]
    }
   ],
   "source": [
    "# gender\n",
    "gender = questionnaire_df[\"Gender\"]\n",
    "labels, counts = np.unique(gender, return_counts=True)\n",
    "print(\n",
    "    f\"{labels[0]} - {counts[0]}, {labels[1]} - {counts[1]}, {labels[2]} - {counts[2]}\"\n",
    ")"
   ]
  },
  {
   "cell_type": "code",
   "execution_count": 12,
   "id": "3f7600df72dccc3",
   "metadata": {
    "ExecuteTime": {
     "end_time": "2024-05-11T08:50:08.273670Z",
     "start_time": "2024-05-11T08:50:08.243326Z"
    },
    "collapsed": false
   },
   "outputs": [
    {
     "name": "stdout",
     "output_type": "stream",
     "text": [
      "Age mean - 22.8,     Age std - 5.8\n"
     ]
    }
   ],
   "source": [
    "print(\n",
    "    f\"Age mean - {round(questionnaire_df['Age'].mean(), ndigits=1)}, \\\n",
    "    Age std - {round(questionnaire_df['Age'].std(), 1)}\"\n",
    ")"
   ]
  },
  {
   "cell_type": "code",
   "execution_count": 13,
   "id": "f6b9b5e5",
   "metadata": {},
   "outputs": [
    {
     "name": "stdout",
     "output_type": "stream",
     "text": [
      "Number of balanced bilinguals: 29\n"
     ]
    }
   ],
   "source": [
    "# Balanced Bilinguals\n",
    "counter = 0\n",
    "for languages in questionnaire_df[\"Languages\"]:\n",
    "    if isinstance(languages, list):\n",
    "        for lang in languages:\n",
    "            if lang.get(\"Language Proficiency\") == \"native\":\n",
    "                counter += 1\n",
    "print(f\"Number of balanced bilinguals: {counter}\")\n",
    "\n",
    "# Number of Additional Languages\n",
    "par_dict = {}\n",
    "participants_additional_languages = questionnaire_df[\"Languages\"]\n",
    "par_languages = []\n",
    "speak = []\n",
    "for participant_add_lang in participants_additional_languages:\n",
    "    if isinstance(participant_add_lang, list):\n",
    "        for l in participant_add_lang:\n",
    "            par_languages.append(l.get(\"Language\"))\n",
    "        speak.append(len(participant_add_lang))\n",
    "    else:\n",
    "        participant_add_lang = \"\"\n",
    "        speak.append(len(participant_add_lang))\n",
    "lang, counts = np.unique(par_languages, return_counts=True)\n",
    "language = dict(zip(lang, counts))\n",
    "num_of_l, c = np.unique(speak, return_counts=True)\n",
    "num_of_languages = dict(zip(num_of_l, c))\n",
    "plus_5 = [min(p_5, 5) for p_5 in speak]\n",
    "num_of_l_5, c_5 = np.unique(plus_5, return_counts=True)\n",
    "num_of_lang_plus_5 = dict(zip(num_of_l_5, c_5))"
   ]
  },
  {
   "cell_type": "code",
   "execution_count": 14,
   "id": "d2d4952acf376bdf",
   "metadata": {
    "ExecuteTime": {
     "end_time": "2024-05-11T07:17:36.663446Z",
     "start_time": "2024-05-11T07:17:36.646850Z"
    },
    "collapsed": false
   },
   "outputs": [
    {
     "name": "stdout",
     "output_type": "stream",
     "text": [
      "Mean age of acquisition (AoA) - 0.4\n"
     ]
    }
   ],
   "source": [
    "# The mean English Age of Acquisition\n",
    "print(\n",
    "    f'Mean age of acquisition (AoA) - {round(np.mean(questionnaire_df[\"English AoA\"]),1)}'\n",
    ")"
   ]
  },
  {
   "cell_type": "code",
   "execution_count": 15,
   "id": "633c9226",
   "metadata": {},
   "outputs": [
    {
     "name": "stdout",
     "output_type": "stream",
     "text": [
      "Number of participants with university affiliation: 289\n",
      "University Institutions and their counts:\n",
      "MIT: 207\n",
      "Other: 63\n",
      "Technion: 19\n",
      "University Roles and their counts:\n",
      "Admin: 4\n",
      "Faculty: 13\n",
      "Grad: 39\n",
      "Other: 8\n",
      "Undergrad: 225\n"
     ]
    }
   ],
   "source": [
    "# participants university affiliation\n",
    "uni_affiliation = sum(questionnaire_df[\"University Affiliation\"] == \"yes\")\n",
    "print(f\"Number of participants with university affiliation: {uni_affiliation}\")\n",
    "\n",
    "uni_institutions = questionnaire_df[\"University Institution\"].dropna()\n",
    "institution_mapping = {\n",
    "    \"mit\": \"MIT\",\n",
    "    \"Technion\": \"Technion\",\n",
    "}\n",
    "uni_institutions_grouped = uni_institutions.apply(\n",
    "    lambda x: institution_mapping.get(x, \"Other\")\n",
    ")\n",
    "\n",
    "institutions_labels, institutions_counts = np.unique(\n",
    "    uni_institutions_grouped, return_counts=True\n",
    ")\n",
    "print(\"University Institutions and their counts:\")\n",
    "for i_label, i_count in zip(institutions_labels, institutions_counts):\n",
    "    print(f\"{i_label}: {i_count}\")\n",
    "\n",
    "uni_roles = questionnaire_df[\"University Role\"].dropna()\n",
    "roles_mapping = {\n",
    "    \"undergrad\": \"Undergrad\",\n",
    "    \"grad\": \"Grad\",\n",
    "    \"faculty\": \"Faculty\",\n",
    "    \"admin\": \"Admin\",\n",
    "}\n",
    "uni_roles_grouped = uni_roles.apply(lambda x: roles_mapping.get(x, \"Other\"))\n",
    "role_labels, role_counts = np.unique(uni_roles_grouped, return_counts=True)\n",
    "print(\"University Roles and their counts:\")\n",
    "for r_label, r_count in zip(role_labels, role_counts):\n",
    "    print(f\"{r_label}: {r_count}\")"
   ]
  },
  {
   "cell_type": "code",
   "execution_count": 16,
   "id": "7db62edf9a50efd4",
   "metadata": {
    "ExecuteTime": {
     "end_time": "2024-05-11T07:27:08.421808Z",
     "start_time": "2024-05-11T07:27:08.240857Z"
    },
    "collapsed": false
   },
   "outputs": [
    {
     "name": "stderr",
     "output_type": "stream",
     "text": [
      "/var/folders/xz/v_bn9sxn4ld2lw3b85g8bpmw0000gn/T/ipykernel_70965/2596196557.py:27: UserWarning: set_ticklabels() should only be used with a fixed number of ticks, i.e. after set_ticks() or using a FixedLocator.\n",
      "  axes[1].set(xticklabels=education_labels)\n",
      "/var/folders/xz/v_bn9sxn4ld2lw3b85g8bpmw0000gn/T/ipykernel_70965/2596196557.py:41: UserWarning: set_ticklabels() should only be used with a fixed number of ticks, i.e. after set_ticks() or using a FixedLocator.\n",
      "  axes[2].set(xticklabels=add_lang_labels)\n"
     ]
    },
    {
     "data": {
      "image/png": "[encoded data removed]",
      "text/plain": [
       "<Figure size 2200x800 with 3 Axes>"
      ]
     },
     "metadata": {},
     "output_type": "display_data"
    }
   ],
   "source": [
    "# Create Figure 1: Demographics\n",
    "sns.set_context(\"paper\", font_scale=2)\n",
    "sns.set_theme(font_scale=1.5, style=\"whitegrid\")\n",
    "fig_colors = \"#8da0cb\"  # \"#a1c9f4\"\n",
    "fig, axes = plt.subplots(nrows=1, ncols=3, figsize=(22, 8), sharey=\"row\")\n",
    "sns.set_style(\"whitegrid\")\n",
    "\n",
    "# Plot 1: Countplot for Age\n",
    "age_bins = [18, 22, 32, 42, 52]\n",
    "age_labels = [\"18-22\", \"23-32\", \"33-42\", \"43-52\"]\n",
    "data = questionnaire_df.copy()\n",
    "data[\"age_category\"] = pd.cut(\n",
    "    data[\"Age\"], bins=age_bins, labels=age_labels, right=False\n",
    ")\n",
    "sns.countplot(\n",
    "    data=data, x=\"age_category\", color=fig_colors, ax=axes[0], order=age_labels\n",
    ")\n",
    "axes[0].set(ylabel=\"Participants\")\n",
    "axes[0].set(xlabel=\"Age\")\n",
    "\n",
    "# Plot 2: Countplot for Level of Education\n",
    "education_order = [\"secondary\", \"college\", \"postgrad\"]\n",
    "education_labels = [\"Secondary\", \"Undergraduate\", \"Graduate\"]\n",
    "sns.countplot(\n",
    "    data=data, x=\"Education Level\", color=fig_colors, ax=axes[1], order=education_order\n",
    ")\n",
    "axes[1].set(xticklabels=education_labels)\n",
    "axes[1].set(ylabel=\"\")\n",
    "axes[1].set(xlabel=\"Education\")\n",
    "\n",
    "# Plot 3: Barplot for Number of Additional Languages\n",
    "add_lang_labels = [\"0\", \"1\", \"2\", \"3\", \"4\", \"5+\"]\n",
    "axes[2] = sns.barplot(\n",
    "    x=list(num_of_lang_plus_5.keys()),\n",
    "    y=list(num_of_lang_plus_5.values()),\n",
    "    color=fig_colors,\n",
    "    ax=axes[2],\n",
    ")\n",
    "axes[2].set(ylabel=\"\")\n",
    "axes[2].set(xlabel=\"Number of Additional Languages\")\n",
    "axes[2].set(xticklabels=add_lang_labels)\n",
    "\n",
    "# Add labels (a, b, c) to each subplot\n",
    "axes[0].text(\n",
    "    -0.1,\n",
    "    1.05,\n",
    "    \"a)\",\n",
    "    transform=axes[0].transAxes,\n",
    "    fontsize=16,\n",
    "    fontweight=\"bold\",\n",
    "    va=\"top\",\n",
    ")\n",
    "axes[1].text(\n",
    "    -0.1,\n",
    "    1.05,\n",
    "    \"b)\",\n",
    "    transform=axes[1].transAxes,\n",
    "    fontsize=16,\n",
    "    fontweight=\"bold\",\n",
    "    va=\"top\",\n",
    ")\n",
    "axes[2].text(\n",
    "    -0.1,\n",
    "    1.05,\n",
    "    \"c)\",\n",
    "    transform=axes[2].transAxes,\n",
    "    fontsize=16,\n",
    "    fontweight=\"bold\",\n",
    "    va=\"top\",\n",
    ")\n",
    "\n",
    "# Adjust layout\n",
    "plt.tight_layout()\n",
    "\n",
    "# Save the plot as pdf\n",
    "plt.savefig(fig_save_path / \"demographics.pdf\")\n",
    "\n",
    "# Show the plot\n",
    "plt.show()"
   ]
  },
  {
   "cell_type": "markdown",
   "id": "9bbf8edc",
   "metadata": {},
   "source": [
    "## 1.1.3 Calibration Quality"
   ]
  },
  {
   "cell_type": "code",
   "execution_count": 17,
   "id": "cdda018e59c6cfeb",
   "metadata": {
    "ExecuteTime": {
     "end_time": "2024-05-11T09:36:18.335712Z",
     "start_time": "2024-05-11T09:36:18.330036Z"
    },
    "collapsed": false
   },
   "outputs": [
    {
     "name": "stdout",
     "output_type": "stream",
     "text": [
      "Mean number of recalibrations: 6.7\n",
      "Mean number of calibrations per-recalibration session: 1.3\n"
     ]
    }
   ],
   "source": [
    "# mean number of calibration sessions during an experiment\n",
    "session_interruptions = SESSION_SUMMARY[\"Recalibration_Count\"]\n",
    "print(f\"Mean number of recalibrations: {round(np.mean(session_interruptions),1)}\")\n",
    "\n",
    "# mean number of calibration attempts per calibration session\n",
    "mean_calibrations_per_session = sum(SESSION_SUMMARY[\"Total_Recalibrations\"]) / sum(SESSION_SUMMARY[\"Recalibration_Count\"])\n",
    "print(f\"Mean number of calibrations per-recalibration session: {round(mean_calibrations_per_session,1)}\")"
   ]
  },
  {
   "cell_type": "code",
   "execution_count": 18,
   "id": "5c290a0e",
   "metadata": {},
   "outputs": [
    {
     "name": "stdout",
     "output_type": "stream",
     "text": [
      "Percentage of Trials Over 0.3 Error: 15.5%\n",
      "Percentage of Validation Errors Over 0.3: 8.9%\n"
     ]
    }
   ],
   "source": [
    "# Percent validation error over 0.3\n",
    "validation_error = pd.read_csv(config.BASE_PATH / \"validation_error.csv\")\n",
    "over_03 = validation_error[[\"num_over_03\", \"total_trials\"]].sum()\n",
    "\n",
    "percentage_over_03 = round(over_03[\"num_over_03\"] / over_03[\"total_trials\"] * 100, 1)\n",
    "percentage_avg_error_over_03 = round(\n",
    "    (validation_error[\"avg_avg_val_error\"] > 0.3).sum() / 360 * 100, 1\n",
    ")\n",
    "\n",
    "print(f\"Percentage of Trials Over 0.3 Error: {percentage_over_03}%\")\n",
    "print(f\"Percentage of Validation Errors Over 0.3: {percentage_avg_error_over_03}%\")"
   ]
  },
  {
   "cell_type": "markdown",
   "id": "0736dcef",
   "metadata": {},
   "source": [
    "# 1.1.4 Experiment Duration"
   ]
  },
  {
   "cell_type": "code",
   "execution_count": 32,
   "id": "8027f77b2c125bce",
   "metadata": {
    "ExecuteTime": {
     "end_time": "2024-05-11T09:36:19.469806Z",
     "start_time": "2024-05-11T09:36:19.463586Z"
    },
    "collapsed": false
   },
   "outputs": [
    {
     "name": "stdout",
     "output_type": "stream",
     "text": [
      "mean duration (in minutes) - 44.3\n",
      "mean total duration (in minutes) - 55.7\n",
      "total duration of eye movements recordings (in hours) - 265.8\n"
     ]
    }
   ],
   "source": [
    "print(f'mean duration (in minutes) - {round(np.mean(SESSION_SUMMARY[\"Session_Duration\"]),1)}')\n",
    "print(f'mean total duration (in minutes) - {round(np.mean(SESSION_SUMMARY[\"Total_Session_Duration\"]),1)}')\n",
    "print(f'total duration of eye movements recordings (in hours) - {round(np.sum(SESSION_SUMMARY[\"Session_Duration\"])/60,1)}')"
   ]
  },
  {
   "cell_type": "code",
   "execution_count": 33,
   "id": "933dd93077c24cfc",
   "metadata": {
    "ExecuteTime": {
     "end_time": "2024-05-11T09:36:20.038652Z",
     "start_time": "2024-05-11T09:36:20.032796Z"
    },
    "collapsed": false
   },
   "outputs": [
    {
     "name": "stdout",
     "output_type": "stream",
     "text": [
      "mean hunting duration - 43.3\n",
      "mean gathering duration - 45.3\n",
      "total mean hunting duration - 54.3\n",
      "total mean gathering duration - 57.1\n"
     ]
    }
   ],
   "source": [
    "hunting = SESSION_SUMMARY[SESSION_SUMMARY[\"Question_Preview\"] == True]\n",
    "gathering = SESSION_SUMMARY[SESSION_SUMMARY[\"Question_Preview\"] == False]\n",
    "h_session_duration = hunting[\"Session_Duration\"]\n",
    "g_session_duration = gathering[\"Session_Duration\"]\n",
    "print(f\"mean hunting duration - {round(np.mean(h_session_duration),1)}\")\n",
    "print(f\"mean gathering duration - {round(np.mean(g_session_duration),1)}\")\n",
    "h_total_session_duration = hunting[\"Total_Session_Duration\"]\n",
    "g_total_session_duration = gathering[\"Total_Session_Duration\"]\n",
    "print(f\"total mean hunting duration - {round(np.mean(h_total_session_duration),1)}\")\n",
    "print(f\"total mean gathering duration - {round(np.mean(g_total_session_duration),1)}\")"
   ]
  },
  {
   "cell_type": "code",
   "execution_count": null,
   "id": "51583def53893ecb",
   "metadata": {
    "ExecuteTime": {
     "end_time": "2024-05-11T10:01:44.100569Z",
     "start_time": "2024-05-11T10:01:41.025298Z"
    },
    "collapsed": false
   },
   "outputs": [
    {
     "name": "stdout",
     "output_type": "stream",
     "text": [
      "EXPERIMENT DURATION - 0.0\n",
      "mean p - 26.0\n",
      "sum p - 156.1760183333333\n",
      "p hunting - 23.1\n",
      "p gathering - 28.9\n",
      "mean q - 2.6\n",
      "q hunting - 2.5\n",
      "q gathering - 2.7\n",
      "mean a - 7.6\n",
      "a hunting - 7.1\n",
      "a gathering - 8.0\n",
      "mean qa - 10.2\n",
      "qa hunting - 9.6\n",
      "qa gathering - 10.8\n",
      "q preview - 3.5\n",
      "mean difference between DURATION and PARAGRAPH_RT - 14487.4\n",
      "mean difference between total and PARAGRAPH_RT - 14487.4\n"
     ]
    },
    {
     "name": "stderr",
     "output_type": "stream",
     "text": [
      "/var/folders/xz/v_bn9sxn4ld2lw3b85g8bpmw0000gn/T/ipykernel_70965/1747954298.py:34: FutureWarning: A value is trying to be set on a copy of a DataFrame or Series through chained assignment using an inplace method.\n",
      "The behavior will change in pandas 3.0. This inplace method will never work because the intermediate object on which we are setting values always behaves as a copy.\n",
      "\n",
      "For example, when doing 'df[col].method(value, inplace=True)', try using 'df.method({col: value}, inplace=True)' or df[col] = df[col].method(value) instead, to perform the operation inplace on the original object.\n",
      "\n",
      "\n",
      "  trial_report[\"PARAGRAPH_RT\"].fillna(0, inplace=True)\n"
     ]
    }
   ],
   "source": [
    "# paragraph duration\n",
    "ia_p = IA_P.drop_duplicates(subset=[\"RECORDING_SESSION_LABEL\", \"batch\", \"article_id\", \"paragraph_id\", \"reread\"]) # change to \"Participant ID\"\n",
    "ia_h_duration = ia_p[ia_p[\"batch_condition\"] == \"p\"]\n",
    "ia_g_duration = ia_p[ia_p[\"batch_condition\"] == \"n\"]\n",
    "ia_p = ia_p.groupby(\"RECORDING_SESSION_LABEL\").sum()\n",
    "ia_h_duration = ia_h_duration.groupby(\"RECORDING_SESSION_LABEL\").sum()\n",
    "ia_g_duration = ia_g_duration.groupby(\"RECORDING_SESSION_LABEL\").sum()\n",
    "print(f\"mean p - {round((ia_p['PARAGRAPH_RT']/1000/60).mean(),1)}\")\n",
    "print(f\"sum p - {round(sum(ia_p['PARAGRAPH_RT']),1)/1000/60/60}\")\n",
    "print(f\"p hunting - {round((ia_h_duration['PARAGRAPH_RT']/1000/60).mean(),1)}\")\n",
    "print(f\"p gathering - {round((ia_g_duration['PARAGRAPH_RT']/1000/60).mean(),1)}\")\n",
    "# q duration\n",
    "print(f\"mean q - {round((ia_p['QUESTION_RT']/1000/60).mean(),1)}\")\n",
    "print(f\"q hunting - {round((ia_h_duration['QUESTION_RT']/1000/60).mean(),1)}\")\n",
    "print(f\"q gathering - {round((ia_g_duration['QUESTION_RT']/1000/60).mean(),1)}\")\n",
    "# a duration\n",
    "print(f\"mean a - {round((ia_p['CONFIRM_FINAL_ANSWER_RT']/1000/60).mean(),1)}\")\n",
    "print(f\"a hunting - {round((ia_h_duration['CONFIRM_FINAL_ANSWER_RT']/1000/60).mean(),1)}\")\n",
    "print(f\"a gathering - {round((ia_g_duration['CONFIRM_FINAL_ANSWER_RT']/1000/60).mean(),1)}\")\n",
    "# q&a duration\n",
    "print(f\"mean qa - {round((ia_p['QUESTION_RT']/1000/60).mean() + (ia_p['CONFIRM_FINAL_ANSWER_RT']/1000/60).mean(),1)}\")\n",
    "print(f\"qa hunting - {round((ia_h_duration['QUESTION_RT']/1000/60).mean() + (ia_h_duration['CONFIRM_FINAL_ANSWER_RT']/1000/60).mean(),1)}\")\n",
    "print(f\"qa gathering - {round((ia_g_duration['QUESTION_RT']/1000/60).mean() + (ia_g_duration['CONFIRM_FINAL_ANSWER_RT']/1000/60).mean(),1)}\")\n",
    "# q_preview duration\n",
    "print(f\"q preview - {round((ia_h_duration['PREVIEW_QUESTION_RT']/1000/60).mean(),1)}\")\n",
    "\n",
    "trial_report = utils.load_df(config.TRIAL_PATH)\n",
    "\n",
    "# Convert to numeric, setting invalid parsing as NaN\n",
    "trial_report[\"PARAGRAPH_RT\"] = pd.to_numeric(trial_report[\"PARAGRAPH_RT\"], errors=\"coerce\")\n",
    "\n",
    "# Replace NaN values with 0 (or another default value if appropriate)\n",
    "trial_report[\"PARAGRAPH_RT\"].fillna(0, inplace=True)\n",
    "\n",
    "# Convert to integers\n",
    "trial_report[\"PARAGRAPH_RT\"] = trial_report[\"PARAGRAPH_RT\"].astype(int)\n",
    "\n",
    "# calculate the difference between DURATION and PARAGRAPH_RT per paragraph, on average\n",
    "trial_report[\"diff\"] = trial_report[\"DURATION\"] - trial_report[\"PARAGRAPH_RT\"]\n",
    "trial_report[\"total\"] = trial_report[\"END_TIME\"] - trial_report[\"START_TIME\"]\n",
    "trial_report[\"diff_total\"] = trial_report[\"total\"] - trial_report[\"PARAGRAPH_RT\"]\n",
    "print(f\"mean difference between DURATION and PARAGRAPH_RT - {round((trial_report['diff']).mean(),1)}\")\n",
    "print(f\"mean difference between total and PARAGRAPH_RT - {round((trial_report['diff_total']).mean(),1)}\")\n"
   ]
  },
  {
   "cell_type": "markdown",
   "id": "ae9b161c",
   "metadata": {},
   "source": [
    "# 1.1.5 Reading Comprehension Performance"
   ]
  },
  {
   "cell_type": "code",
   "execution_count": 35,
   "id": "56221699afa3af09",
   "metadata": {
    "ExecuteTime": {
     "end_time": "2024-05-11T07:17:42.659471Z",
     "start_time": "2024-05-11T07:17:42.617281Z"
    },
    "collapsed": false
   },
   "outputs": [
    {
     "name": "stdout",
     "output_type": "stream",
     "text": [
      "Reading Comprehension Accuracy - Hunting (without reread): 86.9\n",
      "Reading Comprehension Accuracy - Gathering (without reread): 81.2\n",
      "Reading Comprehension Accuracy - Hunting (with reread): 90.6\n",
      "Reading Comprehension Accuracy - Gathering (with reread): 84.2\n"
     ]
    }
   ],
   "source": [
    "# reading comprehension accuracy Hunting\n",
    "comprehension_score = SESSION_SUMMARY.groupby([\"Question_Preview\"])[\"Comprehension_Score-Regular_Trials\"].mean()\n",
    "comprehension_hunting = comprehension_score[True]\n",
    "# reading comprehension accuracy Gathering\n",
    "comprehension_gathering = comprehension_score[False]\n",
    "\n",
    "# reading comprehension accuracy re-reading Hunting\n",
    "reread_comprehension_score = SESSION_SUMMARY.groupby([\"Question_Preview\"])[\"Comprehension_Score-Repeated_Reading\"].mean()\n",
    "reread_comprehension_hunting = reread_comprehension_score[True]\n",
    "# reading comprehension accuracy re-reading Gathering\n",
    "reread_comprehension_gathering = reread_comprehension_score[False]\n",
    "\n",
    "\n",
    "print(\n",
    "    f\"Reading Comprehension Accuracy - Hunting (without reread): {comprehension_hunting.round(1)}\"\n",
    ")\n",
    "print(\n",
    "    f\"Reading Comprehension Accuracy - Gathering (without reread): {comprehension_gathering.round(1)}\"\n",
    ")\n",
    "print(\n",
    "    f\"Reading Comprehension Accuracy - Hunting (with reread): {reread_comprehension_hunting.round(1)}\"\n",
    ")\n",
    "print(\n",
    "    f\"Reading Comprehension Accuracy - Gathering (with reread): {reread_comprehension_gathering.round(1)}\"\n",
    ")"
   ]
  },
  {
   "cell_type": "markdown",
   "id": "a359c1c3",
   "metadata": {},
   "source": [
    "# Figure 2"
   ]
  },
  {
   "cell_type": "code",
   "execution_count": 36,
   "id": "effd1fb21b73babb",
   "metadata": {
    "ExecuteTime": {
     "end_time": "2024-05-11T08:09:37.516565Z",
     "start_time": "2024-05-11T08:09:37.185211Z"
    },
    "collapsed": false
   },
   "outputs": [
    {
     "data": {
      "image/png": "[encoded data removed]",
      "text/plain": [
       "<Figure size 2000x1500 with 4 Axes>"
      ]
     },
     "metadata": {},
     "output_type": "display_data"
    }
   ],
   "source": [
    "sns.set_context(\"paper\", font_scale=2)\n",
    "sns.set_theme(font_scale=1.5, style=\"whitegrid\")\n",
    "# Create Figure 2\n",
    "fig_colors = \"#8da0cb\"\n",
    "colors = [\"#66c2a5\", \"#fc8d62\"]\n",
    "color_dict = {\n",
    "    True: colors[0],\n",
    "    False: colors[1],\n",
    "}\n",
    "fig, axes = plt.subplots(nrows=2, ncols=2, figsize=(20, 15), sharey=\"row\")\n",
    "\n",
    "data = SESSION_SUMMARY.copy()\n",
    "# Plot 1: Number of Recalibrations\n",
    "axes[0, 0] = sns.histplot(\n",
    "    data,\n",
    "    x=\"Recalibration_Count\",\n",
    "    color=fig_colors,\n",
    "    ax=axes[0, 0],\n",
    "    binrange=(0, 27),\n",
    "    binwidth=3,\n",
    ")\n",
    "axes[0, 0].set(ylabel=\"Participants\")\n",
    "axes[0, 0].set(xlabel=\"Recalibration Sessions\")\n",
    "axes[0, 0].axvline(session_interruptions.mean(), color=fig_colors, ls=\"--\", lw=2.5)\n",
    "axes[0, 0].set_xticks(np.arange(0, 28, 6))\n",
    "\n",
    "# Display mean value as text on the plot\n",
    "axes[0, 0].text(\n",
    "    session_interruptions.mean(),  # x-coordinate (same as mean value)\n",
    "    axes[0, 0].get_ylim()[1] * 0.95,  # y-coordinate (adjust as needed)\n",
    "    f\"  {session_interruptions.mean():.1f}\",  # Label text\n",
    "    color=fig_colors,\n",
    "    ha=\"left\",\n",
    "    fontsize=17,\n",
    "    fontweight=\"bold\"\n",
    ")\n",
    "\n",
    "# Plot 2: Validations\n",
    "axes[0, 1] = sns.histplot(\n",
    "    data,\n",
    "    x=\"Mean_Validation_Error\",\n",
    "    color=fig_colors,\n",
    "    ax=axes[0, 1],\n",
    "    binrange=(0.1, 0.5),\n",
    "    binwidth=0.025,\n",
    ")\n",
    "axes[0, 1].set(ylabel=\"\")\n",
    "axes[0, 1].set(xlabel=\"Validation Error (degrees)\")\n",
    "axes[0, 1].axvline(\n",
    "    data[\"Mean_Validation_Error\"].mean(), color=fig_colors, ls=\"--\", lw=2.5\n",
    ")\n",
    "axes[0, 1].set_xticks(np.arange(0.1, 0.51, 0.1))\n",
    "\n",
    "axes[0, 1].text(\n",
    "    data[\"Mean_Validation_Error\"].mean(), \n",
    "    axes[0, 1].get_ylim()[1] * 0.95, \n",
    "    f\"  {data[\"Mean_Validation_Error\"].mean():.2f}\", \n",
    "    color=fig_colors,\n",
    "    ha=\"left\",\n",
    "    fontsize=17,\n",
    "    fontweight=\"bold\"\n",
    ")\n",
    "\n",
    "# Plot 3: Experiment Duration\n",
    "axes[1, 0] = sns.histplot(\n",
    "    data,\n",
    "    x=\"Total_Session_Duration\",\n",
    "    color=fig_colors,\n",
    "    ax=axes[1, 0],\n",
    "    binrange=(25, 115),\n",
    "    binwidth=5,\n",
    ")\n",
    "axes[1, 0].axvline(data[\"Total_Session_Duration\"].mean(), color=fig_colors, ls=\"--\", lw=2.5)\n",
    "axes[1, 0].set(ylabel=\"Participants\")\n",
    "axes[1, 0].set(xlabel=\"Experiment Duration (minutes)\")\n",
    "\n",
    "axes[1, 0].text(\n",
    "    data[\"Total_Session_Duration\"].mean(),  \n",
    "    axes[1, 0].get_ylim()[1] * 1,  \n",
    "    f\"  {data[\"Total_Session_Duration\"].mean():.1f}\",  \n",
    "    color=fig_colors,\n",
    "    ha=\"left\",\n",
    "    fontsize=17,\n",
    "    fontweight=\"bold\"\n",
    ")\n",
    "\n",
    "# Plot 4: Reading Comprehension Score\n",
    "condition_labels = [\n",
    "    \"Hunting\",\n",
    "    \"Gathering\",\n",
    "]\n",
    "\n",
    "axes[1, 1] = sns.histplot(\n",
    "    data=data,\n",
    "    x=\"Comprehension_Score-Regular_Trials\",\n",
    "    palette=color_dict,\n",
    "    ax=axes[1, 1],\n",
    "    hue=\"Question_Preview\",\n",
    "    multiple=\"layer\",\n",
    "    binrange=(45, 100),\n",
    "    binwidth=5,\n",
    ")\n",
    "\n",
    "axes[1, 1].legend(\n",
    "    # handles=handles,\n",
    "    labels=condition_labels,\n",
    "    title=\"Condition\",\n",
    "    loc=\"upper left\",\n",
    ")\n",
    "axes[1, 1].set(xlabel=\"Reading Comprehension Accuracy\")\n",
    "axes[1, 1].set(ylabel=\"\")\n",
    "axes[1, 1].axvline(\n",
    "    comprehension_gathering,\n",
    "    color=colors[1],\n",
    "    ls=\"--\",\n",
    "    lw=2.5,\n",
    ")\n",
    "\n",
    "axes[1, 1].text(\n",
    "    comprehension_gathering,\n",
    "    axes[1, 1].get_ylim()[1] * 0.96,\n",
    "    f\"  {comprehension_gathering:.1f}\",\n",
    "    color=colors[1],\n",
    "    ha=\"left\",\n",
    "    fontsize=17,\n",
    "    fontweight=\"bold\"\n",
    ")\n",
    "\n",
    "axes[1, 1].axvline(\n",
    "    comprehension_hunting,\n",
    "    color=colors[0],\n",
    "    ls=\"--\",\n",
    "    lw=2.5,\n",
    ")\n",
    "\n",
    "axes[1, 1].text(\n",
    "    comprehension_hunting,\n",
    "    axes[1, 1].get_ylim()[1] * 0.96,\n",
    "    f\"  {comprehension_hunting:.1f}\",\n",
    "    color=colors[0],\n",
    "    ha=\"left\",\n",
    "    fontsize=17,\n",
    "    fontweight=\"bold\"\n",
    ")\n",
    "\n",
    "\n",
    "# Add labels (a, b, c, d) to each subplot\n",
    "axes[0, 0].text(\n",
    "    -0.1,\n",
    "    1.05,\n",
    "    \"a)\",\n",
    "    transform=axes[0, 0].transAxes,\n",
    "    fontsize=16,\n",
    "    fontweight=\"bold\",\n",
    "    va=\"top\",\n",
    ")\n",
    "axes[0, 1].text(\n",
    "    -0.1,\n",
    "    1.05,\n",
    "    \"b)\",\n",
    "    transform=axes[0, 1].transAxes,\n",
    "    fontsize=16,\n",
    "    fontweight=\"bold\",\n",
    "    va=\"top\",\n",
    ")\n",
    "axes[1, 0].text(\n",
    "    -0.1,\n",
    "    1.05,\n",
    "    \"c)\",\n",
    "    transform=axes[1, 0].transAxes,\n",
    "    fontsize=16,\n",
    "    fontweight=\"bold\",\n",
    "    va=\"top\",\n",
    ")\n",
    "axes[1, 1].text(\n",
    "    -0.1,\n",
    "    1.05,\n",
    "    \"d)\",\n",
    "    transform=axes[1, 1].transAxes,\n",
    "    fontsize=16,\n",
    "    fontweight=\"bold\",\n",
    "    va=\"top\",\n",
    ")\n",
    "\n",
    "# increase font size\n",
    "for ax in axes.flat:\n",
    "    ax.tick_params(axis=\"both\", which=\"major\", labelsize=20)\n",
    "\n",
    "# increase axis font size\n",
    "\n",
    "# Set facecolor for the figure\n",
    "fig.set_facecolor(\"white\")\n",
    "\n",
    "# Adjust layout\n",
    "plt.tight_layout()\n",
    "\n",
    "# Save the plot as pdf\n",
    "plt.savefig(fig_save_path / \"exp_stats.pdf\")\n",
    "\n",
    "# Show the plot\n",
    "plt.show()"
   ]
  },
  {
   "cell_type": "markdown",
   "id": "8bdab938",
   "metadata": {},
   "source": [
    "# 3.1 Textual Materials"
   ]
  },
  {
   "cell_type": "code",
   "execution_count": 37,
   "id": "209fd759",
   "metadata": {},
   "outputs": [
    {
     "name": "stdout",
     "output_type": "stream",
     "text": [
      "Total number of unique articles: 30\n"
     ]
    }
   ],
   "source": [
    "# Number of unique articles\n",
    "unique_articles = onestop_qa.drop_duplicates(subset=[\"title\"])\n",
    "print(f\"Total number of unique articles: {len(unique_articles)}\")"
   ]
  },
  {
   "cell_type": "code",
   "execution_count": 38,
   "id": "60f112ff",
   "metadata": {},
   "outputs": [
    {
     "name": "stdout",
     "output_type": "stream",
     "text": [
      "Total number of unique paragraphs: 162.0\n"
     ]
    }
   ],
   "source": [
    "# Number of unique paragraphs\n",
    "unique_paragraphs = onestop_qa.drop_duplicates(subset=[\"paragraph\"]).query(\"level!=1\")\n",
    "number_of_paragraphs = len(unique_paragraphs) / 2\n",
    "print(f\"Total number of unique paragraphs: {number_of_paragraphs}\")"
   ]
  },
  {
   "cell_type": "code",
   "execution_count": 39,
   "id": "c36b7ec9",
   "metadata": {},
   "outputs": [
    {
     "name": "stdout",
     "output_type": "stream",
     "text": [
      "OneStopQA Advanced Words Count: 19425\n",
      "mean paragraph length (words): 119.9\n",
      "mean sentence length (words): 20.8\n"
     ]
    }
   ],
   "source": [
    "# Advanced word tokens\n",
    "adv_qa = unique_paragraphs[unique_paragraphs[\"level\"] == 0]\n",
    "adv_qa_words = [\n",
    "    word\n",
    "    for paragraph in utils.get_number_of_tokens(adv_qa, \"paragraph\")\n",
    "    for word in paragraph\n",
    "]\n",
    "\n",
    "adv_sentences = [\n",
    "    sen\n",
    "    for paragraph in utils.get_number_of_tokens(adv_qa, \"paragraph\")\n",
    "    for sen in paragraph\n",
    "    if \".\" in sen\n",
    "]\n",
    "\n",
    "print(f\"OneStopQA Advanced Words Count: {len(adv_qa_words)}\")\n",
    "print(\n",
    "    f\"mean paragraph length (words): {round(len(adv_qa_words) / number_of_paragraphs,1)}\"\n",
    ")\n",
    "print(\n",
    "    f\"mean sentence length (words): {round(len(adv_qa_words) / len(adv_sentences),1)}\"\n",
    ")"
   ]
  },
  {
   "cell_type": "code",
   "execution_count": 40,
   "id": "8c2e55d5",
   "metadata": {},
   "outputs": [
    {
     "name": "stdout",
     "output_type": "stream",
     "text": [
      "OneStopQA Elementary Words Count: 15737\n",
      "mean paragraph length (words): 97.1\n",
      "mean sentence length (words): 17.0\n"
     ]
    }
   ],
   "source": [
    "# Elementary word tokens\n",
    "ele_qa = unique_paragraphs[unique_paragraphs[\"level\"] == 2]\n",
    "ele_qa_words = [\n",
    "    word\n",
    "    for paragraph in utils.get_number_of_tokens(ele_qa, \"paragraph\")\n",
    "    for word in paragraph\n",
    "]\n",
    "\n",
    "ele_sentences = [\n",
    "    sen\n",
    "    for paragraph in utils.get_number_of_tokens(ele_qa, \"paragraph\")\n",
    "    for sen in paragraph\n",
    "    if \".\" in sen\n",
    "]\n",
    "print(f\"OneStopQA Elementary Words Count: {len(ele_qa_words)}\")\n",
    "print(\n",
    "    f\"mean paragraph length (words): {round(len(ele_qa_words) / number_of_paragraphs,1)}\"\n",
    ")\n",
    "print(\n",
    "    f\"mean sentence length (words): {round(len(ele_qa_words) / len(ele_sentences),1)}\"\n",
    ")"
   ]
  },
  {
   "cell_type": "code",
   "execution_count": 41,
   "id": "b4e4de027dc5ebe6",
   "metadata": {
    "ExecuteTime": {
     "end_time": "2024-05-11T09:36:13.804757Z",
     "start_time": "2024-05-11T09:36:13.782974Z"
    },
    "collapsed": false
   },
   "outputs": [
    {
     "name": "stdout",
     "output_type": "stream",
     "text": [
      "Number of unique questions in OneStopQA: 486\n",
      "Average length of questions in OneStopQA: 9.9\n"
     ]
    }
   ],
   "source": [
    "# Number of unique questions\n",
    "onsqa_q = onestop_qa.drop_duplicates(subset=[\"paragraph_index\", \"question\"])\n",
    "onsqa_q_words = onsqa_q[\"question\"]\n",
    "\n",
    "print(f\"Number of unique questions in OneStopQA: {len(onsqa_q)}\")\n",
    "print(\n",
    "    f\"Average length of questions in OneStopQA: {round(utils.get_average_length(onsqa_q_words),1)}\"\n",
    ")"
   ]
  },
  {
   "cell_type": "code",
   "execution_count": 42,
   "id": "80fa6c25c137ad0a",
   "metadata": {
    "ExecuteTime": {
     "end_time": "2024-05-11T09:36:14.595547Z",
     "start_time": "2024-05-11T09:36:14.586585Z"
    },
    "collapsed": false
   },
   "outputs": [
    {
     "name": "stdout",
     "output_type": "stream",
     "text": [
      "Total Unique Answers: 486\n",
      "Mean Length of 'a': 7.1\n",
      "Mean Length of 'b': 7.5\n",
      "Mean Length of 'c': 7.9\n",
      "Mean Length of 'd': 6.8\n",
      "Mean Length of All Unique Answers: 7.3\n"
     ]
    }
   ],
   "source": [
    "# number of unique answers\n",
    "onestop_qa[\"answers_tuple\"] = onestop_qa[\"answers\"].apply(tuple)\n",
    "onsqa_a = onestop_qa.drop_duplicates(subset=[\"question\", \"answers_tuple\"])\n",
    "onsqa_a = onsqa_a.drop(columns=[\"answers_tuple\"])\n",
    "answers_df = pd.DataFrame(onsqa_a[\"answers\"].tolist(), columns=[\"a\", \"b\", \"c\", \"d\"])\n",
    "onsqa_a = onsqa_a.reset_index(drop=True)\n",
    "onsqa_a = pd.concat([onsqa_a, answers_df], axis=1)\n",
    "a = onsqa_a[\"a\"].tolist()\n",
    "b = onsqa_a[\"b\"].tolist()\n",
    "c = onsqa_a[\"c\"].tolist()\n",
    "d = onsqa_a[\"d\"].tolist()\n",
    "unique_answers = a + b + c + d\n",
    "\n",
    "print(f\"Total Unique Answers: {len(onsqa_a)}\")\n",
    "print(f\"Mean Length of 'a': {round(utils.get_average_length(a),1)}\")\n",
    "print(f\"Mean Length of 'b': {round(utils.get_average_length(b),1)}\")\n",
    "print(f\"Mean Length of 'c': {round(utils.get_average_length(c),1)}\")\n",
    "print(f\"Mean Length of 'd': {round(utils.get_average_length(d),1)}\")\n",
    "print(\n",
    "    f\"Mean Length of All Unique Answers: {round(utils.get_average_length(unique_answers),1)}\"\n",
    ")"
   ]
  },
  {
   "cell_type": "code",
   "execution_count": 43,
   "id": "d4bcc83440f587e0",
   "metadata": {
    "ExecuteTime": {
     "end_time": "2024-05-11T09:36:15.216095Z",
     "start_time": "2024-05-11T09:36:15.212808Z"
    },
    "collapsed": false
   },
   "outputs": [
    {
     "name": "stdout",
     "output_type": "stream",
     "text": [
      "Mean Length of Critical Span (a_span): 31.6\n",
      "Mean Length of Distractor Span (d_span): 12.9\n"
     ]
    }
   ],
   "source": [
    "# mean length of the critical span (a_span)\n",
    "onsqa_a_span = unique_paragraphs[\"a_span\"]\n",
    "total_words_a = []\n",
    "for a in onsqa_a_span:\n",
    "    words = a[1] - a[0] + 1\n",
    "    total_words_a.append(words)\n",
    "mean_a = sum(total_words_a) / len(total_words_a)\n",
    "print(f\"Mean Length of Critical Span (a_span): {round(mean_a,1)}\")\n",
    "# mean length of the distractor span (d_span)\n",
    "onsqa_d_span = unique_paragraphs[\"d_span\"]\n",
    "total_words_d = []\n",
    "for d in onsqa_d_span:\n",
    "    words = d[1] - d[0] + 1\n",
    "    total_words_d.append(words)\n",
    "mean_d = sum(total_words_d) / len(total_words_d)\n",
    "print(f\"Mean Length of Distractor Span (d_span): {round(mean_d,1)}\")"
   ]
  },
  {
   "cell_type": "markdown",
   "id": "a3c1f1de",
   "metadata": {},
   "source": [
    "# 3.3 Participants"
   ]
  },
  {
   "cell_type": "code",
   "execution_count": 44,
   "id": "23561161",
   "metadata": {},
   "outputs": [
    {
     "name": "stdout",
     "output_type": "stream",
     "text": [
      "Data_Collection_Site\n",
      "MIT         303\n",
      "Technion     57\n",
      "Name: count, dtype: int64\n"
     ]
    }
   ],
   "source": [
    "# participants recruited from:\n",
    "data_collection_sites = SESSION_SUMMARY[\"Data_Collection_Site\"].value_counts()\n",
    "print(data_collection_sites)"
   ]
  }
 ],
 "metadata": {
  "kernelspec": {
   "display_name": "onestop",
   "language": "python",
   "name": "python3"
  },
  "language_info": {
   "codemirror_mode": {
    "name": "ipython",
    "version": 3
   },
   "file_extension": ".py",
   "mimetype": "text/x-python",
   "name": "python",
   "nbconvert_exporter": "python",
   "pygments_lexer": "ipython3",
   "version": "3.12.4"
  }
 },
 "nbformat": 4,
 "nbformat_minor": 5
}
