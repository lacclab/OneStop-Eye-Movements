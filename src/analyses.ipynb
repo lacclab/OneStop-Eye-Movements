{
 "cells": [
  {
   "cell_type": "code",
   "execution_count": 3,
   "id": "05cefe4b",
   "metadata": {},
   "outputs": [],
   "source": [
    "import config\n",
    "from datasets import load_dataset\n",
    "import matplotlib.pyplot as plt\n",
    "import numpy as np\n",
    "import pandas as pd\n",
    "from pathlib import Path\n",
    "import seaborn as sns\n",
    "import utils"
   ]
  },
  {
   "cell_type": "code",
   "execution_count": 4,
   "id": "f71e9613",
   "metadata": {},
   "outputs": [],
   "source": [
    "fig_save_path = Path(\"figures\")\n",
    "fig_save_path.mkdir(exist_ok=True)"
   ]
  },
  {
   "cell_type": "code",
   "execution_count": 5,
   "id": "2d6940ef",
   "metadata": {},
   "outputs": [],
   "source": [
    "onestop_qa = load_dataset(\n",
    "    \"onestop_qa\", split=\"train\", trust_remote_code=True\n",
    ").to_pandas()"
   ]
  },
  {
   "cell_type": "markdown",
   "id": "9bbf8edc",
   "metadata": {},
   "source": [
    "## Percent validation error over 0.3"
   ]
  },
  {
   "cell_type": "code",
   "execution_count": 4,
   "id": "5c290a0e",
   "metadata": {},
   "outputs": [
    {
     "name": "stdout",
     "output_type": "stream",
     "text": [
      "Percentage of Trials Over 0.3 Error: 15.5%\n",
      "Percentage of Validation Errors Over 0.3: 8.9%\n"
     ]
    }
   ],
   "source": [
    "validation_error = pd.read_csv(config.BASE_PATH / \"validation_error.csv\")\n",
    "over_03 = validation_error[[\"num_over_03\", \"total_trials\"]].sum()\n",
    "\n",
    "percentage_over_03 = round(over_03[\"num_over_03\"] / over_03[\"total_trials\"] * 100, 1)\n",
    "percentage_avg_error_over_03 = round(\n",
    "    (validation_error[\"avg_avg_val_error\"] > 0.3).sum() / 360 * 100, 1\n",
    ")\n",
    "\n",
    "print(f\"Percentage of Trials Over 0.3 Error: {percentage_over_03}%\")\n",
    "print(f\"Percentage of Validation Errors Over 0.3: {percentage_avg_error_over_03}%\")"
   ]
  },
  {
   "cell_type": "markdown",
   "id": "71684c714035d1c6",
   "metadata": {
    "collapsed": false
   },
   "source": [
    "# Statistics"
   ]
  },
  {
   "cell_type": "code",
   "execution_count": 6,
   "id": "5df81626",
   "metadata": {},
   "outputs": [],
   "source": [
    "data = utils.load_df(config.FULL_REPORT_PATH)\n",
    "dat = utils.load_df(config.ALL_DAT_FILES)"
   ]
  },
  {
   "cell_type": "code",
   "execution_count": 7,
   "id": "e13d9526",
   "metadata": {},
   "outputs": [],
   "source": [
    "IA_P = utils.load_df(config.IA_P_PATH)\n",
    "IA_Q = utils.load_df(config.IA_Q_PATH)\n",
    "IA_A = utils.load_df(config.IA_A_PATH)\n",
    "IA_Q_preview = utils.load_df(config.IA_Q_preview_PATH)\n",
    "IA_T = utils.load_df(config.IA_T_PATH)\n",
    "TRIAL_P = utils.load_df(config.TRIAL_P_PATH)\n",
    "TRIAL_QA = utils.load_df(config.TRIAL_QA_PATH)\n",
    "TRIAL_q_preview = utils.load_df(config.TRIAL_q_preview_PATH)\n",
    "TRIAL_T = utils.load_df(config.TRIAL_T_PATH)"
   ]
  },
  {
   "cell_type": "markdown",
   "id": "c8c9ec62",
   "metadata": {},
   "source": [
    "# SHUBI GAMES"
   ]
  },
  {
   "cell_type": "code",
   "execution_count": 34,
   "id": "469f1f23",
   "metadata": {},
   "outputs": [],
   "source": [
    "import pandas as pd\n",
    "\n",
    "# Assuming IA_A is already defined\n",
    "df = IA_A.copy()\n",
    "\n",
    "# Apply function to each row to create the dictionary column\n",
    "def find_sentence_indices(main_str, sub_str):\n",
    "    sub_list = sub_str.split()\n",
    "    \n",
    "    start_index = main_str.find(sub_str)\n",
    "    start_word_index = len(main_str[:start_index].split()) + 1\n",
    "    end_word_index = start_word_index + len(sub_list) - 1\n",
    "\n",
    "    return (start_word_index, end_word_index)\n",
    "\n",
    "# Function to find the segment\n",
    "def find_segment(row):\n",
    "    concatenated = f\"{row['question']} {row['a']} {row['b']} {row['c']} {row['d']}\"\n",
    "    columns_to_check = ['question','a', 'b', 'c', 'd']\n",
    "    for col in columns_to_check:\n",
    "        start, end = find_sentence_indices(concatenated, row[col])\n",
    "        if start <= row['IA_ID'] <= end:\n",
    "            return col\n",
    "\n",
    "# Apply the function to find the segment\n",
    "df['segmented'] = df.apply(find_segment, axis=1)\n"
   ]
  },
  {
   "cell_type": "code",
   "execution_count": 12,
   "id": "31f08df8",
   "metadata": {},
   "outputs": [
    {
     "data": {
      "text/plain": [
       "array(['Adv'], dtype=object)"
      ]
     },
     "execution_count": 12,
     "metadata": {},
     "output_type": "execute_result"
    }
   ],
   "source": [
    "#Row in which IA_LABEL is culture\"\n",
    "culture = IA_P[IA_P[\"IA_LABEL\"] == r'culture\"\".'].level.unique()\n",
    "culture"
   ]
  },
  {
   "cell_type": "code",
   "execution_count": 9,
   "id": "4bbdc248",
   "metadata": {},
   "outputs": [
    {
     "name": "stdout",
     "output_type": "stream",
     "text": [
      "Empty DataFrame\n",
      "Columns: [RECORDING_SESSION_LABEL, TRIAL_INDEX, DATA_FILE, EYE_REPORTED, EYE_TRACKED, GROUPING_VARIABLES, IA_AREA, IA_AVERAGE_FIX_PUPIL_SIZE, IA_BOTTOM, IA_DWELL_TIME, IA_DWELL_TIME_%, IA_DYNAMIC, IA_END_TIME, IA_FIRST_FIXATION_DURATION, IA_FIRST_FIXATION_INDEX, IA_FIRST_FIXATION_PREVIOUS_FIX_IA, IA_FIRST_FIXATION_PREVIOUS_IAREAS, IA_FIRST_FIXATION_RUN_INDEX, IA_FIRST_FIXATION_TIME, IA_FIRST_FIXATION_VISITED_IA_COUNT, IA_FIRST_FIXATION_X, IA_FIRST_FIXATION_Y, IA_FIRST_FIX_PROGRESSIVE, IA_FIRST_RUN_DWELL_TIME, IA_FIRST_RUN_END_TIME, IA_FIRST_RUN_FIXATION_%, IA_FIRST_RUN_FIXATION_COUNT, IA_FIRST_RUN_LANDING_POSITION, IA_FIRST_RUN_LAUNCH_SITE, IA_FIRST_RUN_START_TIME, IA_FIRST_SACCADE_AMPLITUDE, IA_FIRST_SACCADE_ANGLE, IA_FIRST_SACCADE_END_TIME, IA_FIRST_SACCADE_INDEX, IA_FIRST_SACCADE_START_TIME, IA_FIXATION_%, IA_FIXATION_COUNT, IA_GROUP, IA_ID, IA_INSTANCES_COUNT, IA_LABEL, IA_LAST_FIXATION_DURATION, IA_LAST_FIXATION_RUN, IA_LAST_FIXATION_TIME, IA_LAST_FIXATION_X, IA_LAST_FIXATION_Y, IA_LAST_RUN_DWELL_TIME, IA_LAST_RUN_END_TIME, IA_LAST_RUN_FIXATION_%, IA_LAST_RUN_FIXATION_COUNT, IA_LAST_RUN_LANDING_POSITION, IA_LAST_RUN_LAUNCH_SITE, IA_LAST_RUN_START_TIME, IA_LAST_SACCADE_AMPLITUDE, IA_LAST_SACCADE_ANGLE, IA_LAST_SACCADE_END_TIME, IA_LAST_SACCADE_INDEX, IA_LAST_SACCADE_START_TIME, IA_LEFT, IA_LEGAL, IA_LEGAL_IMMEDIATE, IA_MAX_FIX_PUPIL_SIZE, IA_MIN_FIX_PUPIL_SIZE, IA_POINTS, IA_REGRESSION_IN, IA_REGRESSION_IN_COUNT, IA_REGRESSION_OUT, IA_REGRESSION_OUT_COUNT, IA_REGRESSION_OUT_FULL, IA_REGRESSION_OUT_FULL_COUNT, IA_REGRESSION_PATH_DURATION, IA_RIGHT, IA_RUN_COUNT, IA_SECOND_FIXATION_DURATION, IA_SECOND_FIXATION_RUN, IA_SECOND_FIXATION_TIME, IA_SECOND_FIXATION_X, IA_SECOND_FIXATION_Y, IA_SECOND_RUN_DWELL_TIME, IA_SECOND_RUN_END_TIME, IA_SECOND_RUN_FIXATION_%, IA_SECOND_RUN_FIXATION_COUNT, IA_SECOND_RUN_LANDING_POSITION, IA_SECOND_RUN_LAUNCH_SITE, IA_SECOND_RUN_START_TIME, IA_SELECTIVE_REGRESSION_PATH_DURATION, IA_SKIP, IA_SPILLOVER, IA_START_TIME, IA_THIRD_FIXATION_DURATION, IA_THIRD_FIXATION_RUN, IA_THIRD_FIXATION_TIME, IA_THIRD_FIXATION_X, IA_THIRD_FIXATION_Y, IA_THIRD_RUN_DWELL_TIME, IA_THIRD_RUN_END_TIME, IA_THIRD_RUN_FIXATION_%, IA_THIRD_RUN_FIXATION_COUNT, IA_THIRD_RUN_LANDING_POSITION, IA_THIRD_RUN_LAUNCH_SITE, ...]\n",
      "Index: []\n",
      "\n",
      "[0 rows x 175 columns]\n",
      "Empty DataFrame\n",
      "Columns: [RECORDING_SESSION_LABEL, TRIAL_INDEX, DATA_FILE, EYE_REPORTED, EYE_TRACKED, GROUPING_VARIABLES, IA_AREA, IA_AVERAGE_FIX_PUPIL_SIZE, IA_BOTTOM, IA_DWELL_TIME, IA_DWELL_TIME_%, IA_DYNAMIC, IA_END_TIME, IA_FIRST_FIXATION_DURATION, IA_FIRST_FIXATION_INDEX, IA_FIRST_FIXATION_PREVIOUS_FIX_IA, IA_FIRST_FIXATION_PREVIOUS_IAREAS, IA_FIRST_FIXATION_RUN_INDEX, IA_FIRST_FIXATION_TIME, IA_FIRST_FIXATION_VISITED_IA_COUNT, IA_FIRST_FIXATION_X, IA_FIRST_FIXATION_Y, IA_FIRST_FIX_PROGRESSIVE, IA_FIRST_RUN_DWELL_TIME, IA_FIRST_RUN_END_TIME, IA_FIRST_RUN_FIXATION_%, IA_FIRST_RUN_FIXATION_COUNT, IA_FIRST_RUN_LANDING_POSITION, IA_FIRST_RUN_LAUNCH_SITE, IA_FIRST_RUN_START_TIME, IA_FIRST_SACCADE_AMPLITUDE, IA_FIRST_SACCADE_ANGLE, IA_FIRST_SACCADE_END_TIME, IA_FIRST_SACCADE_INDEX, IA_FIRST_SACCADE_START_TIME, IA_FIXATION_%, IA_FIXATION_COUNT, IA_GROUP, IA_ID, IA_INSTANCES_COUNT, IA_LABEL, IA_LAST_FIXATION_DURATION, IA_LAST_FIXATION_RUN, IA_LAST_FIXATION_TIME, IA_LAST_FIXATION_X, IA_LAST_FIXATION_Y, IA_LAST_RUN_DWELL_TIME, IA_LAST_RUN_END_TIME, IA_LAST_RUN_FIXATION_%, IA_LAST_RUN_FIXATION_COUNT, IA_LAST_RUN_LANDING_POSITION, IA_LAST_RUN_LAUNCH_SITE, IA_LAST_RUN_START_TIME, IA_LAST_SACCADE_AMPLITUDE, IA_LAST_SACCADE_ANGLE, IA_LAST_SACCADE_END_TIME, IA_LAST_SACCADE_INDEX, IA_LAST_SACCADE_START_TIME, IA_LEFT, IA_LEGAL, IA_LEGAL_IMMEDIATE, IA_MAX_FIX_PUPIL_SIZE, IA_MIN_FIX_PUPIL_SIZE, IA_POINTS, IA_REGRESSION_IN, IA_REGRESSION_IN_COUNT, IA_REGRESSION_OUT, IA_REGRESSION_OUT_COUNT, IA_REGRESSION_OUT_FULL, IA_REGRESSION_OUT_FULL_COUNT, IA_REGRESSION_PATH_DURATION, IA_RIGHT, IA_RUN_COUNT, IA_SECOND_FIXATION_DURATION, IA_SECOND_FIXATION_RUN, IA_SECOND_FIXATION_TIME, IA_SECOND_FIXATION_X, IA_SECOND_FIXATION_Y, IA_SECOND_RUN_DWELL_TIME, IA_SECOND_RUN_END_TIME, IA_SECOND_RUN_FIXATION_%, IA_SECOND_RUN_FIXATION_COUNT, IA_SECOND_RUN_LANDING_POSITION, IA_SECOND_RUN_LAUNCH_SITE, IA_SECOND_RUN_START_TIME, IA_SELECTIVE_REGRESSION_PATH_DURATION, IA_SKIP, IA_SPILLOVER, IA_START_TIME, IA_THIRD_FIXATION_DURATION, IA_THIRD_FIXATION_RUN, IA_THIRD_FIXATION_TIME, IA_THIRD_FIXATION_X, IA_THIRD_FIXATION_Y, IA_THIRD_RUN_DWELL_TIME, IA_THIRD_RUN_END_TIME, IA_THIRD_RUN_FIXATION_%, IA_THIRD_RUN_FIXATION_COUNT, IA_THIRD_RUN_LANDING_POSITION, IA_THIRD_RUN_LAUNCH_SITE, ...]\n",
      "Index: []\n",
      "\n",
      "[0 rows x 175 columns]\n",
      "Empty DataFrame\n",
      "Columns: [RECORDING_SESSION_LABEL, TRIAL_INDEX, DATA_FILE, EYE_REPORTED, EYE_TRACKED, GROUPING_VARIABLES, IA_AREA, IA_AVERAGE_FIX_PUPIL_SIZE, IA_BOTTOM, IA_DWELL_TIME, IA_DWELL_TIME_%, IA_DYNAMIC, IA_END_TIME, IA_FIRST_FIXATION_DURATION, IA_FIRST_FIXATION_INDEX, IA_FIRST_FIXATION_PREVIOUS_FIX_IA, IA_FIRST_FIXATION_PREVIOUS_IAREAS, IA_FIRST_FIXATION_RUN_INDEX, IA_FIRST_FIXATION_TIME, IA_FIRST_FIXATION_VISITED_IA_COUNT, IA_FIRST_FIXATION_X, IA_FIRST_FIXATION_Y, IA_FIRST_FIX_PROGRESSIVE, IA_FIRST_RUN_DWELL_TIME, IA_FIRST_RUN_END_TIME, IA_FIRST_RUN_FIXATION_%, IA_FIRST_RUN_FIXATION_COUNT, IA_FIRST_RUN_LANDING_POSITION, IA_FIRST_RUN_LAUNCH_SITE, IA_FIRST_RUN_START_TIME, IA_FIRST_SACCADE_AMPLITUDE, IA_FIRST_SACCADE_ANGLE, IA_FIRST_SACCADE_END_TIME, IA_FIRST_SACCADE_INDEX, IA_FIRST_SACCADE_START_TIME, IA_FIXATION_%, IA_FIXATION_COUNT, IA_GROUP, IA_ID, IA_INSTANCES_COUNT, IA_LABEL, IA_LAST_FIXATION_DURATION, IA_LAST_FIXATION_RUN, IA_LAST_FIXATION_TIME, IA_LAST_FIXATION_X, IA_LAST_FIXATION_Y, IA_LAST_RUN_DWELL_TIME, IA_LAST_RUN_END_TIME, IA_LAST_RUN_FIXATION_%, IA_LAST_RUN_FIXATION_COUNT, IA_LAST_RUN_LANDING_POSITION, IA_LAST_RUN_LAUNCH_SITE, IA_LAST_RUN_START_TIME, IA_LAST_SACCADE_AMPLITUDE, IA_LAST_SACCADE_ANGLE, IA_LAST_SACCADE_END_TIME, IA_LAST_SACCADE_INDEX, IA_LAST_SACCADE_START_TIME, IA_LEFT, IA_LEGAL, IA_LEGAL_IMMEDIATE, IA_MAX_FIX_PUPIL_SIZE, IA_MIN_FIX_PUPIL_SIZE, IA_POINTS, IA_REGRESSION_IN, IA_REGRESSION_IN_COUNT, IA_REGRESSION_OUT, IA_REGRESSION_OUT_COUNT, IA_REGRESSION_OUT_FULL, IA_REGRESSION_OUT_FULL_COUNT, IA_REGRESSION_PATH_DURATION, IA_RIGHT, IA_RUN_COUNT, IA_SECOND_FIXATION_DURATION, IA_SECOND_FIXATION_RUN, IA_SECOND_FIXATION_TIME, IA_SECOND_FIXATION_X, IA_SECOND_FIXATION_Y, IA_SECOND_RUN_DWELL_TIME, IA_SECOND_RUN_END_TIME, IA_SECOND_RUN_FIXATION_%, IA_SECOND_RUN_FIXATION_COUNT, IA_SECOND_RUN_LANDING_POSITION, IA_SECOND_RUN_LAUNCH_SITE, IA_SECOND_RUN_START_TIME, IA_SELECTIVE_REGRESSION_PATH_DURATION, IA_SKIP, IA_SPILLOVER, IA_START_TIME, IA_THIRD_FIXATION_DURATION, IA_THIRD_FIXATION_RUN, IA_THIRD_FIXATION_TIME, IA_THIRD_FIXATION_X, IA_THIRD_FIXATION_Y, IA_THIRD_RUN_DWELL_TIME, IA_THIRD_RUN_END_TIME, IA_THIRD_RUN_FIXATION_%, IA_THIRD_RUN_FIXATION_COUNT, IA_THIRD_RUN_LANDING_POSITION, IA_THIRD_RUN_LAUNCH_SITE, ...]\n",
      "Index: []\n",
      "\n",
      "[0 rows x 175 columns]\n",
      "Empty DataFrame\n",
      "Columns: [RECORDING_SESSION_LABEL, TRIAL_INDEX, DATA_FILE, EYE_REPORTED, EYE_TRACKED, GROUPING_VARIABLES, IA_AREA, IA_AVERAGE_FIX_PUPIL_SIZE, IA_BOTTOM, IA_DWELL_TIME, IA_DWELL_TIME_%, IA_DYNAMIC, IA_END_TIME, IA_FIRST_FIXATION_DURATION, IA_FIRST_FIXATION_INDEX, IA_FIRST_FIXATION_PREVIOUS_FIX_IA, IA_FIRST_FIXATION_PREVIOUS_IAREAS, IA_FIRST_FIXATION_RUN_INDEX, IA_FIRST_FIXATION_TIME, IA_FIRST_FIXATION_VISITED_IA_COUNT, IA_FIRST_FIXATION_X, IA_FIRST_FIXATION_Y, IA_FIRST_FIX_PROGRESSIVE, IA_FIRST_RUN_DWELL_TIME, IA_FIRST_RUN_END_TIME, IA_FIRST_RUN_FIXATION_%, IA_FIRST_RUN_FIXATION_COUNT, IA_FIRST_RUN_LANDING_POSITION, IA_FIRST_RUN_LAUNCH_SITE, IA_FIRST_RUN_START_TIME, IA_FIRST_SACCADE_AMPLITUDE, IA_FIRST_SACCADE_ANGLE, IA_FIRST_SACCADE_END_TIME, IA_FIRST_SACCADE_INDEX, IA_FIRST_SACCADE_START_TIME, IA_FIXATION_%, IA_FIXATION_COUNT, IA_GROUP, IA_ID, IA_INSTANCES_COUNT, IA_LABEL, IA_LAST_FIXATION_DURATION, IA_LAST_FIXATION_RUN, IA_LAST_FIXATION_TIME, IA_LAST_FIXATION_X, IA_LAST_FIXATION_Y, IA_LAST_RUN_DWELL_TIME, IA_LAST_RUN_END_TIME, IA_LAST_RUN_FIXATION_%, IA_LAST_RUN_FIXATION_COUNT, IA_LAST_RUN_LANDING_POSITION, IA_LAST_RUN_LAUNCH_SITE, IA_LAST_RUN_START_TIME, IA_LAST_SACCADE_AMPLITUDE, IA_LAST_SACCADE_ANGLE, IA_LAST_SACCADE_END_TIME, IA_LAST_SACCADE_INDEX, IA_LAST_SACCADE_START_TIME, IA_LEFT, IA_LEGAL, IA_LEGAL_IMMEDIATE, IA_MAX_FIX_PUPIL_SIZE, IA_MIN_FIX_PUPIL_SIZE, IA_POINTS, IA_REGRESSION_IN, IA_REGRESSION_IN_COUNT, IA_REGRESSION_OUT, IA_REGRESSION_OUT_COUNT, IA_REGRESSION_OUT_FULL, IA_REGRESSION_OUT_FULL_COUNT, IA_REGRESSION_PATH_DURATION, IA_RIGHT, IA_RUN_COUNT, IA_SECOND_FIXATION_DURATION, IA_SECOND_FIXATION_RUN, IA_SECOND_FIXATION_TIME, IA_SECOND_FIXATION_X, IA_SECOND_FIXATION_Y, IA_SECOND_RUN_DWELL_TIME, IA_SECOND_RUN_END_TIME, IA_SECOND_RUN_FIXATION_%, IA_SECOND_RUN_FIXATION_COUNT, IA_SECOND_RUN_LANDING_POSITION, IA_SECOND_RUN_LAUNCH_SITE, IA_SECOND_RUN_START_TIME, IA_SELECTIVE_REGRESSION_PATH_DURATION, IA_SKIP, IA_SPILLOVER, IA_START_TIME, IA_THIRD_FIXATION_DURATION, IA_THIRD_FIXATION_RUN, IA_THIRD_FIXATION_TIME, IA_THIRD_FIXATION_X, IA_THIRD_FIXATION_Y, IA_THIRD_RUN_DWELL_TIME, IA_THIRD_RUN_END_TIME, IA_THIRD_RUN_FIXATION_%, IA_THIRD_RUN_FIXATION_COUNT, IA_THIRD_RUN_LANDING_POSITION, IA_THIRD_RUN_LAUNCH_SITE, ...]\n",
      "Index: []\n",
      "\n",
      "[0 rows x 175 columns]\n"
     ]
    }
   ],
   "source": [
    "data_dfs = [IA_A, IA_P, IA_Q, IA_T,]\n",
    "for data_df in data_dfs:\n",
    "    # Create a new column 'next_IA_LABEL' that contains the IA_LABEL values shifted by one position\n",
    "    data_df['next_IA_LABEL'] = data_df['IA_LABEL'].shift(-1)\n",
    "\n",
    "    # Filter the DataFrame to find rows where IA_LABEL is 'food' and next_IA_LABEL is 'pedal'\n",
    "    result = data_df[(data_df['IA_LABEL'] == 'dangerous') & (data_df['next_IA_LABEL'] == 'president')]\n",
    "\n",
    "    # Display the result\n",
    "    print(result)"
   ]
  },
  {
   "cell_type": "code",
   "execution_count": null,
   "id": "859a08bb",
   "metadata": {},
   "outputs": [],
   "source": [
    "IA_P.groupby(['RECORDING_SESSION_LABEL', 'batch', 'article_id', 'paragraph_id', 'q_ind'])"
   ]
  },
  {
   "cell_type": "code",
   "execution_count": 33,
   "id": "eb64607e",
   "metadata": {},
   "outputs": [
    {
     "data": {
      "text/html": [
       "<div>\n",
       "<style scoped>\n",
       "    .dataframe tbody tr th:only-of-type {\n",
       "        vertical-align: middle;\n",
       "    }\n",
       "\n",
       "    .dataframe tbody tr th {\n",
       "        vertical-align: top;\n",
       "    }\n",
       "\n",
       "    .dataframe thead th {\n",
       "        text-align: right;\n",
       "    }\n",
       "</style>\n",
       "<table border=\"1\" class=\"dataframe\">\n",
       "  <thead>\n",
       "    <tr style=\"text-align: right;\">\n",
       "      <th></th>\n",
       "      <th>batch</th>\n",
       "      <th>article_id</th>\n",
       "      <th>paragraph_id</th>\n",
       "      <th>level</th>\n",
       "      <th>text</th>\n",
       "    </tr>\n",
       "  </thead>\n",
       "  <tbody>\n",
       "    <tr>\n",
       "      <th>19918</th>\n",
       "      <td>3</td>\n",
       "      <td>10</td>\n",
       "      <td>5</td>\n",
       "      <td>Adv</td>\n",
       "      <td>“I knew very little about my grandfather, but ...</td>\n",
       "    </tr>\n",
       "    <tr>\n",
       "      <th>19978</th>\n",
       "      <td>3</td>\n",
       "      <td>10</td>\n",
       "      <td>5</td>\n",
       "      <td>Ele</td>\n",
       "      <td>“I knew very little about my grandfather. But ...</td>\n",
       "    </tr>\n",
       "    <tr>\n",
       "      <th>19989</th>\n",
       "      <td>3</td>\n",
       "      <td>10</td>\n",
       "      <td>5</td>\n",
       "      <td>Ele</td>\n",
       "      <td>“I knew very little about my grandfather. But ...</td>\n",
       "    </tr>\n",
       "  </tbody>\n",
       "</table>\n",
       "</div>"
      ],
      "text/plain": [
       "       batch  article_id  paragraph_id level  \\\n",
       "19918      3          10             5   Adv   \n",
       "19978      3          10             5   Ele   \n",
       "19989      3          10             5   Ele   \n",
       "\n",
       "                                                    text  \n",
       "19918  “I knew very little about my grandfather, but ...  \n",
       "19978  “I knew very little about my grandfather. But ...  \n",
       "19989  “I knew very little about my grandfather. But ...  "
      ]
     },
     "execution_count": 33,
     "metadata": {},
     "output_type": "execute_result"
    }
   ],
   "source": [
    "# Remove duplicates\n",
    "without_duplicates = IA_P[\n",
    "    [\n",
    "        'RECORDING_SESSION_LABEL', 'batch', 'article_id', 'paragraph_id', 'level',\n",
    "        \"IA_ID\",\n",
    "        \"IA_LABEL\",\n",
    "    ]\n",
    "].drop_duplicates()\n",
    "# Group by paragraph_id, article_title, level and join all IA_LABELs (words)\n",
    "text_from_et = without_duplicates.sort_values(by=['batch', 'article_id', 'paragraph_id', 'level', \"IA_ID\"]).groupby(['batch', 'article_id', 'paragraph_id', 'level', \"RECORDING_SESSION_LABEL\"])[\"IA_LABEL\"].apply(list)\n",
    "text_from_et = text_from_et.apply(lambda text: \" \".join(text)).reset_index().rename(columns={\"IA_LABEL\": \"text\"})\n",
    "text_from_et = text_from_et.sort_values(by=['batch', 'article_id', 'paragraph_id', 'level', \"RECORDING_SESSION_LABEL\"])[['batch', 'article_id', 'paragraph_id', 'level', \"text\"]].drop_duplicates()\n",
    "a=text_from_et.query('batch==3 & article_id==10 & paragraph_id==5')\n",
    "a"
   ]
  },
  {
   "cell_type": "code",
   "execution_count": 31,
   "id": "925315dd",
   "metadata": {},
   "outputs": [
    {
     "data": {
      "text/html": [
       "<div>\n",
       "<style scoped>\n",
       "    .dataframe tbody tr th:only-of-type {\n",
       "        vertical-align: middle;\n",
       "    }\n",
       "\n",
       "    .dataframe tbody tr th {\n",
       "        vertical-align: top;\n",
       "    }\n",
       "\n",
       "    .dataframe thead th {\n",
       "        text-align: right;\n",
       "    }\n",
       "</style>\n",
       "<table border=\"1\" class=\"dataframe\">\n",
       "  <thead>\n",
       "    <tr style=\"text-align: right;\">\n",
       "      <th></th>\n",
       "      <th>IA_ID</th>\n",
       "      <th>IA_LABEL</th>\n",
       "    </tr>\n",
       "  </thead>\n",
       "  <tbody>\n",
       "    <tr>\n",
       "      <th>523816</th>\n",
       "      <td>1</td>\n",
       "      <td>But</td>\n",
       "    </tr>\n",
       "    <tr>\n",
       "      <th>523817</th>\n",
       "      <td>2</td>\n",
       "      <td>the</td>\n",
       "    </tr>\n",
       "    <tr>\n",
       "      <th>523818</th>\n",
       "      <td>3</td>\n",
       "      <td>prospect</td>\n",
       "    </tr>\n",
       "    <tr>\n",
       "      <th>523819</th>\n",
       "      <td>4</td>\n",
       "      <td>of</td>\n",
       "    </tr>\n",
       "    <tr>\n",
       "      <th>523820</th>\n",
       "      <td>5</td>\n",
       "      <td>driverless</td>\n",
       "    </tr>\n",
       "    <tr>\n",
       "      <th>...</th>\n",
       "      <td>...</td>\n",
       "      <td>...</td>\n",
       "    </tr>\n",
       "    <tr>\n",
       "      <th>1917178</th>\n",
       "      <td>71</td>\n",
       "      <td>the</td>\n",
       "    </tr>\n",
       "    <tr>\n",
       "      <th>1917179</th>\n",
       "      <td>72</td>\n",
       "      <td>UK</td>\n",
       "    </tr>\n",
       "    <tr>\n",
       "      <th>1917180</th>\n",
       "      <td>73</td>\n",
       "      <td>is</td>\n",
       "    </tr>\n",
       "    <tr>\n",
       "      <th>1917181</th>\n",
       "      <td>74</td>\n",
       "      <td>about</td>\n",
       "    </tr>\n",
       "    <tr>\n",
       "      <th>1917182</th>\n",
       "      <td>75</td>\n",
       "      <td>100,000.</td>\n",
       "    </tr>\n",
       "  </tbody>\n",
       "</table>\n",
       "<p>150 rows × 2 columns</p>\n",
       "</div>"
      ],
      "text/plain": [
       "         IA_ID    IA_LABEL\n",
       "523816       1         But\n",
       "523817       2         the\n",
       "523818       3    prospect\n",
       "523819       4          of\n",
       "523820       5  driverless\n",
       "...        ...         ...\n",
       "1917178     71         the\n",
       "1917179     72          UK\n",
       "1917180     73          is\n",
       "1917181     74       about\n",
       "1917182     75    100,000.\n",
       "\n",
       "[150 rows x 2 columns]"
      ]
     },
     "execution_count": 31,
     "metadata": {},
     "output_type": "execute_result"
    }
   ],
   "source": [
    "x=IA_P.query(\"batch==1 & article_id==1 & paragraph_id==5 &list==1 & level =='Adv'\")[['IA_ID','IA_LABEL']]\n",
    "x"
   ]
  },
  {
   "cell_type": "code",
   "execution_count": 23,
   "id": "8a1b4c70",
   "metadata": {},
   "outputs": [],
   "source": [
    "dat[['batch','article_id','paragraph_id','q_ind', 'question']].drop_duplicates().to_csv(\"questions.csv\", index=False)"
   ]
  },
  {
   "cell_type": "code",
   "execution_count": 17,
   "id": "1e98d733",
   "metadata": {},
   "outputs": [
    {
     "data": {
      "text/html": [
       "<div>\n",
       "<style scoped>\n",
       "    .dataframe tbody tr th:only-of-type {\n",
       "        vertical-align: middle;\n",
       "    }\n",
       "\n",
       "    .dataframe tbody tr th {\n",
       "        vertical-align: top;\n",
       "    }\n",
       "\n",
       "    .dataframe thead th {\n",
       "        text-align: right;\n",
       "    }\n",
       "</style>\n",
       "<table border=\"1\" class=\"dataframe\">\n",
       "  <thead>\n",
       "    <tr style=\"text-align: right;\">\n",
       "      <th></th>\n",
       "      <th>RECORDING_SESSION_LABEL</th>\n",
       "      <th>batch</th>\n",
       "      <th>article_id</th>\n",
       "      <th>paragraph_id</th>\n",
       "      <th>q_ind</th>\n",
       "      <th>IA_LABEL</th>\n",
       "    </tr>\n",
       "  </thead>\n",
       "  <tbody>\n",
       "    <tr>\n",
       "      <th>0</th>\n",
       "      <td>L41_408</td>\n",
       "      <td>3</td>\n",
       "      <td>0</td>\n",
       "      <td>1</td>\n",
       "      <td>0</td>\n",
       "      <td>According to Malik Falkenmark's report, what w...</td>\n",
       "    </tr>\n",
       "    <tr>\n",
       "      <th>1</th>\n",
       "      <td>L41_408</td>\n",
       "      <td>3</td>\n",
       "      <td>0</td>\n",
       "      <td>2</td>\n",
       "      <td>0</td>\n",
       "      <td>Which factor led to the increase in the price ...</td>\n",
       "    </tr>\n",
       "    <tr>\n",
       "      <th>2</th>\n",
       "      <td>L41_408</td>\n",
       "      <td>3</td>\n",
       "      <td>1</td>\n",
       "      <td>1</td>\n",
       "      <td>0</td>\n",
       "      <td>Where will almost half of Morocco's electricit...</td>\n",
       "    </tr>\n",
       "    <tr>\n",
       "      <th>3</th>\n",
       "      <td>L41_408</td>\n",
       "      <td>3</td>\n",
       "      <td>1</td>\n",
       "      <td>2</td>\n",
       "      <td>1</td>\n",
       "      <td>Where will 580 mega-watts of electricity be pr...</td>\n",
       "    </tr>\n",
       "    <tr>\n",
       "      <th>4</th>\n",
       "      <td>L41_408</td>\n",
       "      <td>3</td>\n",
       "      <td>1</td>\n",
       "      <td>3</td>\n",
       "      <td>1</td>\n",
       "      <td>What will happen by 2020?</td>\n",
       "    </tr>\n",
       "    <tr>\n",
       "      <th>...</th>\n",
       "      <td>...</td>\n",
       "      <td>...</td>\n",
       "      <td>...</td>\n",
       "      <td>...</td>\n",
       "      <td>...</td>\n",
       "      <td>...</td>\n",
       "    </tr>\n",
       "    <tr>\n",
       "      <th>1992</th>\n",
       "      <td>l14_43</td>\n",
       "      <td>1</td>\n",
       "      <td>9</td>\n",
       "      <td>4</td>\n",
       "      <td>2</td>\n",
       "      <td>Who has a greater average sleep loss than a 24...</td>\n",
       "    </tr>\n",
       "    <tr>\n",
       "      <th>1993</th>\n",
       "      <td>l14_43</td>\n",
       "      <td>1</td>\n",
       "      <td>9</td>\n",
       "      <td>5</td>\n",
       "      <td>1</td>\n",
       "      <td>According to Kelley, how will staggered starti...</td>\n",
       "    </tr>\n",
       "    <tr>\n",
       "      <th>1994</th>\n",
       "      <td>l14_43</td>\n",
       "      <td>1</td>\n",
       "      <td>9</td>\n",
       "      <td>6</td>\n",
       "      <td>0</td>\n",
       "      <td>How might staggered starting times for work af...</td>\n",
       "    </tr>\n",
       "    <tr>\n",
       "      <th>8784</th>\n",
       "      <td>l2_323</td>\n",
       "      <td>3</td>\n",
       "      <td>5</td>\n",
       "      <td>3</td>\n",
       "      <td>1</td>\n",
       "      <td>When was the hashtag</td>\n",
       "    </tr>\n",
       "    <tr>\n",
       "      <th>17450</th>\n",
       "      <td>l4_326</td>\n",
       "      <td>3</td>\n",
       "      <td>5</td>\n",
       "      <td>3</td>\n",
       "      <td>2</td>\n",
       "      <td>Who used the</td>\n",
       "    </tr>\n",
       "  </tbody>\n",
       "</table>\n",
       "<p>489 rows × 6 columns</p>\n",
       "</div>"
      ],
      "text/plain": [
       "      RECORDING_SESSION_LABEL  batch  article_id  paragraph_id  q_ind  \\\n",
       "0                     L41_408      3           0             1      0   \n",
       "1                     L41_408      3           0             2      0   \n",
       "2                     L41_408      3           1             1      0   \n",
       "3                     L41_408      3           1             2      1   \n",
       "4                     L41_408      3           1             3      1   \n",
       "...                       ...    ...         ...           ...    ...   \n",
       "1992                   l14_43      1           9             4      2   \n",
       "1993                   l14_43      1           9             5      1   \n",
       "1994                   l14_43      1           9             6      0   \n",
       "8784                   l2_323      3           5             3      1   \n",
       "17450                  l4_326      3           5             3      2   \n",
       "\n",
       "                                                IA_LABEL  \n",
       "0      According to Malik Falkenmark's report, what w...  \n",
       "1      Which factor led to the increase in the price ...  \n",
       "2      Where will almost half of Morocco's electricit...  \n",
       "3      Where will 580 mega-watts of electricity be pr...  \n",
       "4                              What will happen by 2020?  \n",
       "...                                                  ...  \n",
       "1992   Who has a greater average sleep loss than a 24...  \n",
       "1993   According to Kelley, how will staggered starti...  \n",
       "1994   How might staggered starting times for work af...  \n",
       "8784                                When was the hashtag  \n",
       "17450                                       Who used the  \n",
       "\n",
       "[489 rows x 6 columns]"
      ]
     },
     "execution_count": 17,
     "metadata": {},
     "output_type": "execute_result"
    }
   ],
   "source": [
    "grouped.drop_duplicates(subset=\"IA_LABEL\")"
   ]
  },
  {
   "cell_type": "code",
   "execution_count": 14,
   "id": "977b2b2c",
   "metadata": {},
   "outputs": [
    {
     "data": {
      "text/html": [
       "<div>\n",
       "<style scoped>\n",
       "    .dataframe tbody tr th:only-of-type {\n",
       "        vertical-align: middle;\n",
       "    }\n",
       "\n",
       "    .dataframe tbody tr th {\n",
       "        vertical-align: top;\n",
       "    }\n",
       "\n",
       "    .dataframe thead th {\n",
       "        text-align: right;\n",
       "    }\n",
       "</style>\n",
       "<table border=\"1\" class=\"dataframe\">\n",
       "  <thead>\n",
       "    <tr style=\"text-align: right;\">\n",
       "      <th></th>\n",
       "      <th>RECORDING_SESSION_LABEL</th>\n",
       "      <th>batch</th>\n",
       "      <th>article_id</th>\n",
       "      <th>paragraph_id</th>\n",
       "      <th>q_ind</th>\n",
       "      <th>question</th>\n",
       "      <th>IA_LABEL_concatenated</th>\n",
       "    </tr>\n",
       "  </thead>\n",
       "  <tbody>\n",
       "    <tr>\n",
       "      <th>4486</th>\n",
       "      <td>l57_439</td>\n",
       "      <td>3</td>\n",
       "      <td>0</td>\n",
       "      <td>1</td>\n",
       "      <td>0</td>\n",
       "      <td>According to Malik Falkenmark's report, what w...</td>\n",
       "      <td>According to Malik Falkenmark's report, what w...</td>\n",
       "    </tr>\n",
       "    <tr>\n",
       "      <th>4679</th>\n",
       "      <td>l57_439</td>\n",
       "      <td>3</td>\n",
       "      <td>2</td>\n",
       "      <td>2</td>\n",
       "      <td>1</td>\n",
       "      <td>What is one problem with some of the senior of...</td>\n",
       "      <td>What is one problem with some of the senior of...</td>\n",
       "    </tr>\n",
       "    <tr>\n",
       "      <th>5142</th>\n",
       "      <td>l53_431</td>\n",
       "      <td>3</td>\n",
       "      <td>0</td>\n",
       "      <td>1</td>\n",
       "      <td>0</td>\n",
       "      <td>According to Malik Falkenmark's report, what w...</td>\n",
       "      <td>According to Malik Falkenmark's report, what w...</td>\n",
       "    </tr>\n",
       "    <tr>\n",
       "      <th>5809</th>\n",
       "      <td>l45_452</td>\n",
       "      <td>3</td>\n",
       "      <td>0</td>\n",
       "      <td>1</td>\n",
       "      <td>0</td>\n",
       "      <td>According to Malik Falkenmark's report, what w...</td>\n",
       "      <td>According to Malik Falkenmark's report, what w...</td>\n",
       "    </tr>\n",
       "    <tr>\n",
       "      <th>6069</th>\n",
       "      <td>l45_452</td>\n",
       "      <td>3</td>\n",
       "      <td>2</td>\n",
       "      <td>2</td>\n",
       "      <td>1</td>\n",
       "      <td>What is one problem with some of the senior of...</td>\n",
       "      <td>What is one problem with some of the senior of...</td>\n",
       "    </tr>\n",
       "    <tr>\n",
       "      <th>...</th>\n",
       "      <td>...</td>\n",
       "      <td>...</td>\n",
       "      <td>...</td>\n",
       "      <td>...</td>\n",
       "      <td>...</td>\n",
       "      <td>...</td>\n",
       "      <td>...</td>\n",
       "    </tr>\n",
       "    <tr>\n",
       "      <th>240329</th>\n",
       "      <td>l6_329</td>\n",
       "      <td>3</td>\n",
       "      <td>0</td>\n",
       "      <td>1</td>\n",
       "      <td>0</td>\n",
       "      <td>According to Malik Falkenmark's report, what w...</td>\n",
       "      <td>According to Malik Falkenmark's report, what w...</td>\n",
       "    </tr>\n",
       "    <tr>\n",
       "      <th>240579</th>\n",
       "      <td>l6_329</td>\n",
       "      <td>3</td>\n",
       "      <td>3</td>\n",
       "      <td>2</td>\n",
       "      <td>2</td>\n",
       "      <td>What is one criteria the International Dark-Sk...</td>\n",
       "      <td>What is one criteria the International Dark-Sk...</td>\n",
       "    </tr>\n",
       "    <tr>\n",
       "      <th>240972</th>\n",
       "      <td>l1_322</td>\n",
       "      <td>3</td>\n",
       "      <td>0</td>\n",
       "      <td>1</td>\n",
       "      <td>0</td>\n",
       "      <td>According to Malik Falkenmark's report, what w...</td>\n",
       "      <td>According to Malik Falkenmark's report, what w...</td>\n",
       "    </tr>\n",
       "    <tr>\n",
       "      <th>241325</th>\n",
       "      <td>l1_322</td>\n",
       "      <td>3</td>\n",
       "      <td>3</td>\n",
       "      <td>2</td>\n",
       "      <td>2</td>\n",
       "      <td>What is one criteria the International Dark-Sk...</td>\n",
       "      <td>What is one criteria the International Dark-Sk...</td>\n",
       "    </tr>\n",
       "    <tr>\n",
       "      <th>241604</th>\n",
       "      <td>l2_324</td>\n",
       "      <td>3</td>\n",
       "      <td>0</td>\n",
       "      <td>1</td>\n",
       "      <td>0</td>\n",
       "      <td>According to Malik Falkenmark's report, what w...</td>\n",
       "      <td>According to Malik Falkenmark's report, what w...</td>\n",
       "    </tr>\n",
       "  </tbody>\n",
       "</table>\n",
       "<p>627 rows × 7 columns</p>\n",
       "</div>"
      ],
      "text/plain": [
       "       RECORDING_SESSION_LABEL  batch  article_id  paragraph_id  q_ind  \\\n",
       "4486                   l57_439      3           0             1      0   \n",
       "4679                   l57_439      3           2             2      1   \n",
       "5142                   l53_431      3           0             1      0   \n",
       "5809                   l45_452      3           0             1      0   \n",
       "6069                   l45_452      3           2             2      1   \n",
       "...                        ...    ...         ...           ...    ...   \n",
       "240329                  l6_329      3           0             1      0   \n",
       "240579                  l6_329      3           3             2      2   \n",
       "240972                  l1_322      3           0             1      0   \n",
       "241325                  l1_322      3           3             2      2   \n",
       "241604                  l2_324      3           0             1      0   \n",
       "\n",
       "                                                 question  \\\n",
       "4486    According to Malik Falkenmark's report, what w...   \n",
       "4679    What is one problem with some of the senior of...   \n",
       "5142    According to Malik Falkenmark's report, what w...   \n",
       "5809    According to Malik Falkenmark's report, what w...   \n",
       "6069    What is one problem with some of the senior of...   \n",
       "...                                                   ...   \n",
       "240329  According to Malik Falkenmark's report, what w...   \n",
       "240579  What is one criteria the International Dark-Sk...   \n",
       "240972  According to Malik Falkenmark's report, what w...   \n",
       "241325  What is one criteria the International Dark-Sk...   \n",
       "241604  According to Malik Falkenmark's report, what w...   \n",
       "\n",
       "                                    IA_LABEL_concatenated  \n",
       "4486    According to Malik Falkenmark's report, what w...  \n",
       "4679    What is one problem with some of the senior of...  \n",
       "5142    According to Malik Falkenmark's report, what w...  \n",
       "5809    According to Malik Falkenmark's report, what w...  \n",
       "6069    What is one problem with some of the senior of...  \n",
       "...                                                   ...  \n",
       "240329  According to Malik Falkenmark's report, what w...  \n",
       "240579  What is one criteria the International Dark-Sk...  \n",
       "240972  According to Malik Falkenmark's report, what w...  \n",
       "241325  What is one criteria the International Dark-Sk...  \n",
       "241604  According to Malik Falkenmark's report, what w...  \n",
       "\n",
       "[627 rows x 7 columns]"
      ]
     },
     "execution_count": 14,
     "metadata": {},
     "output_type": "execute_result"
    }
   ],
   "source": [
    "# Group by the specified columns and concatenate 'IA_LABEL'\n",
    "grouped = IA_Q.groupby(['RECORDING_SESSION_LABEL', 'batch', 'article_id', 'paragraph_id', 'q_ind'])['IA_LABEL'].apply(lambda x: ' '.join(x)).reset_index()\n",
    "\n",
    "# Merge the concatenated labels back to the original dataframe\n",
    "merged_df = pd.merge(IA_Q, grouped, on=['RECORDING_SESSION_LABEL', 'batch', 'article_id', 'paragraph_id', 'q_ind'], suffixes=('', '_concatenated'))\n",
    "zz =merged_df.query(\"question !=IA_LABEL_concatenated\")[['RECORDING_SESSION_LABEL', 'batch', 'article_id', 'paragraph_id', 'q_ind', 'question', 'IA_LABEL_concatenated']].drop_duplicates()\n",
    "zz"
   ]
  },
  {
   "cell_type": "code",
   "execution_count": null,
   "id": "01ae80d2",
   "metadata": {
    "vscode": {
     "languageId": "ruby"
    }
   },
   "outputs": [],
   "source": [
    "\n",
    "# Replace 'question' with 'concatenated_ia_labels' if the length of 'question' is shorter\n",
    "merged_df['question'] = merged_df.apply(lambda row: row['IA_LABEL_concatenated'] if len(row['question']) < len(row['IA_LABEL_concatenated']) else row['question'], axis=1)\n",
    "\n",
    "# Drop the concatenated column as it's no longer needed\n",
    "merged_df.drop(columns=['IA_LABEL_concatenated'], inplace=True)\n",
    "\n",
    "print(merged_df)"
   ]
  },
  {
   "cell_type": "code",
   "execution_count": 23,
   "id": "9d60314a",
   "metadata": {},
   "outputs": [
    {
     "ename": "",
     "evalue": "",
     "output_type": "error",
     "traceback": [
      "\u001b[1;31mCannot execute code, session has been disposed. Please try restarting the Kernel."
     ]
    },
    {
     "ename": "",
     "evalue": "",
     "output_type": "error",
     "traceback": [
      "\u001b[1;31mCannot execute code, session has been disposed. Please try restarting the Kernel. \n",
      "\u001b[1;31mView Jupyter <a href='command:jupyter.viewOutput'>log</a> for further details."
     ]
    }
   ],
   "source": [
    "z=IA_P[IA_P.query(\"batch==3 & article_id==5 & paragraph_id==3\")&IA_P.paragraph.str.contains(\"#OnTheMoon\")]\n",
    "z"
   ]
  },
  {
   "cell_type": "code",
   "execution_count": null,
   "id": "b2cb4628",
   "metadata": {},
   "outputs": [
    {
     "data": {
      "text/plain": [
       "235821    l3_325\n",
       "236231    l2_323\n",
       "239971    l3_327\n",
       "241656    l2_324\n",
       "Name: RECORDING_SESSION_LABEL, dtype: object"
      ]
     },
     "execution_count": 19,
     "metadata": {},
     "output_type": "execute_result"
    }
   ],
   "source": [
    "IA_Q.query(\"batch==3 & article_id==5 & paragraph_id==3 & q_ind != 0 & question == 'When was the hashtag'\")#.drop_duplicates(subset='RECORDING_SESSION_LABEL').RECORDING_SESSION_LABEL"
   ]
  },
  {
   "cell_type": "code",
   "execution_count": 19,
   "id": "9894c30b",
   "metadata": {},
   "outputs": [
    {
     "data": {
      "text/html": [
       "<div>\n",
       "<style scoped>\n",
       "    .dataframe tbody tr th:only-of-type {\n",
       "        vertical-align: middle;\n",
       "    }\n",
       "\n",
       "    .dataframe tbody tr th {\n",
       "        vertical-align: top;\n",
       "    }\n",
       "\n",
       "    .dataframe thead th {\n",
       "        text-align: right;\n",
       "    }\n",
       "</style>\n",
       "<table border=\"1\" class=\"dataframe\">\n",
       "  <thead>\n",
       "    <tr style=\"text-align: right;\">\n",
       "      <th></th>\n",
       "      <th>batch</th>\n",
       "      <th>article_id</th>\n",
       "      <th>paragraph_id</th>\n",
       "      <th>q_ind</th>\n",
       "      <th>question</th>\n",
       "    </tr>\n",
       "  </thead>\n",
       "  <tbody>\n",
       "    <tr>\n",
       "      <th>276</th>\n",
       "      <td>3</td>\n",
       "      <td>6</td>\n",
       "      <td>1</td>\n",
       "      <td>2</td>\n",
       "      <td>What is Currie Technologies?</td>\n",
       "    </tr>\n",
       "    <tr>\n",
       "      <th>374</th>\n",
       "      <td>3</td>\n",
       "      <td>6</td>\n",
       "      <td>2</td>\n",
       "      <td>2</td>\n",
       "      <td>What is true of the e-bike market in China?</td>\n",
       "    </tr>\n",
       "    <tr>\n",
       "      <th>435</th>\n",
       "      <td>3</td>\n",
       "      <td>6</td>\n",
       "      <td>3</td>\n",
       "      <td>0</td>\n",
       "      <td>What is one difference between e-bikes and mop...</td>\n",
       "    </tr>\n",
       "    <tr>\n",
       "      <th>503</th>\n",
       "      <td>3</td>\n",
       "      <td>6</td>\n",
       "      <td>4</td>\n",
       "      <td>1</td>\n",
       "      <td>What is true of e-bike prices?</td>\n",
       "    </tr>\n",
       "    <tr>\n",
       "      <th>608</th>\n",
       "      <td>3</td>\n",
       "      <td>6</td>\n",
       "      <td>5</td>\n",
       "      <td>1</td>\n",
       "      <td>Why has bicycle commuting become more popular?</td>\n",
       "    </tr>\n",
       "    <tr>\n",
       "      <th>...</th>\n",
       "      <td>...</td>\n",
       "      <td>...</td>\n",
       "      <td>...</td>\n",
       "      <td>...</td>\n",
       "      <td>...</td>\n",
       "    </tr>\n",
       "    <tr>\n",
       "      <th>691026</th>\n",
       "      <td>2</td>\n",
       "      <td>7</td>\n",
       "      <td>4</td>\n",
       "      <td>1</td>\n",
       "      <td>According to Cockrell, why do the wealthy tend...</td>\n",
       "    </tr>\n",
       "    <tr>\n",
       "      <th>691148</th>\n",
       "      <td>2</td>\n",
       "      <td>7</td>\n",
       "      <td>5</td>\n",
       "      <td>1</td>\n",
       "      <td>What is something that got worse for the wealt...</td>\n",
       "    </tr>\n",
       "    <tr>\n",
       "      <th>691279</th>\n",
       "      <td>2</td>\n",
       "      <td>7</td>\n",
       "      <td>6</td>\n",
       "      <td>1</td>\n",
       "      <td>What does Cockrell say is a common mistake tha...</td>\n",
       "    </tr>\n",
       "    <tr>\n",
       "      <th>2547442</th>\n",
       "      <td>3</td>\n",
       "      <td>5</td>\n",
       "      <td>3</td>\n",
       "      <td>2</td>\n",
       "      <td>Who used the</td>\n",
       "    </tr>\n",
       "    <tr>\n",
       "      <th>2561058</th>\n",
       "      <td>3</td>\n",
       "      <td>5</td>\n",
       "      <td>3</td>\n",
       "      <td>1</td>\n",
       "      <td>When was the hashtag</td>\n",
       "    </tr>\n",
       "  </tbody>\n",
       "</table>\n",
       "<p>495 rows × 5 columns</p>\n",
       "</div>"
      ],
      "text/plain": [
       "         batch  article_id  paragraph_id  q_ind  \\\n",
       "276          3           6             1      2   \n",
       "374          3           6             2      2   \n",
       "435          3           6             3      0   \n",
       "503          3           6             4      1   \n",
       "608          3           6             5      1   \n",
       "...        ...         ...           ...    ...   \n",
       "691026       2           7             4      1   \n",
       "691148       2           7             5      1   \n",
       "691279       2           7             6      1   \n",
       "2547442      3           5             3      2   \n",
       "2561058      3           5             3      1   \n",
       "\n",
       "                                                  question  \n",
       "276                           What is Currie Technologies?  \n",
       "374            What is true of the e-bike market in China?  \n",
       "435      What is one difference between e-bikes and mop...  \n",
       "503                         What is true of e-bike prices?  \n",
       "608         Why has bicycle commuting become more popular?  \n",
       "...                                                    ...  \n",
       "691026   According to Cockrell, why do the wealthy tend...  \n",
       "691148   What is something that got worse for the wealt...  \n",
       "691279   What does Cockrell say is a common mistake tha...  \n",
       "2547442                                       Who used the  \n",
       "2561058                               When was the hashtag  \n",
       "\n",
       "[495 rows x 5 columns]"
      ]
     },
     "execution_count": 19,
     "metadata": {},
     "output_type": "execute_result"
    }
   ],
   "source": [
    "IA_P.query(\"article_id!=0\")[['batch','article_id', 'paragraph_id','q_ind','question']].drop_duplicates()"
   ]
  },
  {
   "cell_type": "code",
   "execution_count": 18,
   "id": "31e92f5d",
   "metadata": {},
   "outputs": [
    {
     "data": {
      "text/html": [
       "<div>\n",
       "<style scoped>\n",
       "    .dataframe tbody tr th:only-of-type {\n",
       "        vertical-align: middle;\n",
       "    }\n",
       "\n",
       "    .dataframe tbody tr th {\n",
       "        vertical-align: top;\n",
       "    }\n",
       "\n",
       "    .dataframe thead th {\n",
       "        text-align: right;\n",
       "    }\n",
       "</style>\n",
       "<table border=\"1\" class=\"dataframe\">\n",
       "  <thead>\n",
       "    <tr style=\"text-align: right;\">\n",
       "      <th></th>\n",
       "      <th>batch</th>\n",
       "      <th>article_id</th>\n",
       "      <th>paragraph_id</th>\n",
       "      <th>q_ind</th>\n",
       "      <th>question</th>\n",
       "    </tr>\n",
       "  </thead>\n",
       "  <tbody>\n",
       "    <tr>\n",
       "      <th>20</th>\n",
       "      <td>1</td>\n",
       "      <td>1</td>\n",
       "      <td>7</td>\n",
       "      <td>2</td>\n",
       "      <td>2</td>\n",
       "    </tr>\n",
       "    <tr>\n",
       "      <th>37</th>\n",
       "      <td>1</td>\n",
       "      <td>2</td>\n",
       "      <td>6</td>\n",
       "      <td>1</td>\n",
       "      <td>2</td>\n",
       "    </tr>\n",
       "    <tr>\n",
       "      <th>112</th>\n",
       "      <td>1</td>\n",
       "      <td>8</td>\n",
       "      <td>2</td>\n",
       "      <td>1</td>\n",
       "      <td>2</td>\n",
       "    </tr>\n",
       "    <tr>\n",
       "      <th>133</th>\n",
       "      <td>1</td>\n",
       "      <td>9</td>\n",
       "      <td>4</td>\n",
       "      <td>1</td>\n",
       "      <td>2</td>\n",
       "    </tr>\n",
       "    <tr>\n",
       "      <th>135</th>\n",
       "      <td>1</td>\n",
       "      <td>9</td>\n",
       "      <td>5</td>\n",
       "      <td>0</td>\n",
       "      <td>2</td>\n",
       "    </tr>\n",
       "    <tr>\n",
       "      <th>343</th>\n",
       "      <td>3</td>\n",
       "      <td>2</td>\n",
       "      <td>2</td>\n",
       "      <td>1</td>\n",
       "      <td>2</td>\n",
       "    </tr>\n",
       "    <tr>\n",
       "      <th>359</th>\n",
       "      <td>3</td>\n",
       "      <td>3</td>\n",
       "      <td>2</td>\n",
       "      <td>2</td>\n",
       "      <td>2</td>\n",
       "    </tr>\n",
       "    <tr>\n",
       "      <th>391</th>\n",
       "      <td>3</td>\n",
       "      <td>5</td>\n",
       "      <td>3</td>\n",
       "      <td>1</td>\n",
       "      <td>2</td>\n",
       "    </tr>\n",
       "    <tr>\n",
       "      <th>392</th>\n",
       "      <td>3</td>\n",
       "      <td>5</td>\n",
       "      <td>3</td>\n",
       "      <td>2</td>\n",
       "      <td>2</td>\n",
       "    </tr>\n",
       "  </tbody>\n",
       "</table>\n",
       "</div>"
      ],
      "text/plain": [
       "     batch  article_id  paragraph_id  q_ind  question\n",
       "20       1           1             7      2         2\n",
       "37       1           2             6      1         2\n",
       "112      1           8             2      1         2\n",
       "133      1           9             4      1         2\n",
       "135      1           9             5      0         2\n",
       "343      3           2             2      1         2\n",
       "359      3           3             2      2         2\n",
       "391      3           5             3      1         2\n",
       "392      3           5             3      2         2"
      ]
     },
     "execution_count": 18,
     "metadata": {},
     "output_type": "execute_result"
    }
   ],
   "source": [
    "IA_P.query(\"article_id!=0\")[['batch','article_id', 'paragraph_id','q_ind','question']].drop_duplicates().groupby(['batch','article_id', 'paragraph_id', 'q_ind']).count().reset_index().query(\"question==2\")"
   ]
  },
  {
   "cell_type": "code",
   "execution_count": 26,
   "id": "f0404219",
   "metadata": {},
   "outputs": [
    {
     "name": "stdout",
     "output_type": "stream",
     "text": [
      "What kind of accidents does Google pride itself in having managed to avoid during the testing phase of the\n",
      "What kind of accidents does Google pride itself in having managed to avoid during the testing phase of the car?\n"
     ]
    }
   ],
   "source": [
    "x=IA_Q.query(\"batch==1 & article_id==1 & paragraph_id==7 & q_ind ==2\")[['batch','article_id', 'paragraph_id','q_ind','question']].drop_duplicates()\n",
    "print(x.question.iloc[0])\n",
    "print(x.question.iloc[1])"
   ]
  },
  {
   "cell_type": "code",
   "execution_count": 28,
   "id": "27c03f3f",
   "metadata": {},
   "outputs": [],
   "source": [
    "z=IA_Q.query(\"batch==1 & article_id==1 & paragraph_id==7 & q_ind ==2\")[['batch','article_id', 'paragraph_id','q_ind','question', 'IA_ID','IA_LABEL']].drop_duplicates()"
   ]
  },
  {
   "cell_type": "code",
   "execution_count": 27,
   "id": "6c222b13",
   "metadata": {},
   "outputs": [
    {
     "data": {
      "text/html": [
       "<div>\n",
       "<style scoped>\n",
       "    .dataframe tbody tr th:only-of-type {\n",
       "        vertical-align: middle;\n",
       "    }\n",
       "\n",
       "    .dataframe tbody tr th {\n",
       "        vertical-align: top;\n",
       "    }\n",
       "\n",
       "    .dataframe thead th {\n",
       "        text-align: right;\n",
       "    }\n",
       "</style>\n",
       "<table border=\"1\" class=\"dataframe\">\n",
       "  <thead>\n",
       "    <tr style=\"text-align: right;\">\n",
       "      <th></th>\n",
       "      <th>batch</th>\n",
       "      <th>article_id</th>\n",
       "      <th>paragraph_id</th>\n",
       "      <th>q_ind</th>\n",
       "      <th>question</th>\n",
       "    </tr>\n",
       "  </thead>\n",
       "  <tbody>\n",
       "    <tr>\n",
       "      <th>22239</th>\n",
       "      <td>1</td>\n",
       "      <td>1</td>\n",
       "      <td>7</td>\n",
       "      <td>2</td>\n",
       "      <td>What kind of accidents does Google pride itsel...</td>\n",
       "    </tr>\n",
       "    <tr>\n",
       "      <th>63252</th>\n",
       "      <td>1</td>\n",
       "      <td>1</td>\n",
       "      <td>7</td>\n",
       "      <td>2</td>\n",
       "      <td>What kind of accidents does Google pride itsel...</td>\n",
       "    </tr>\n",
       "  </tbody>\n",
       "</table>\n",
       "</div>"
      ],
      "text/plain": [
       "       batch  article_id  paragraph_id  q_ind  \\\n",
       "22239      1           1             7      2   \n",
       "63252      1           1             7      2   \n",
       "\n",
       "                                                question  \n",
       "22239  What kind of accidents does Google pride itsel...  \n",
       "63252  What kind of accidents does Google pride itsel...  "
      ]
     },
     "execution_count": 27,
     "metadata": {},
     "output_type": "execute_result"
    }
   ],
   "source": [
    "x"
   ]
  },
  {
   "cell_type": "markdown",
   "id": "0ba1edbd",
   "metadata": {},
   "source": [
    "# END SHUBI GAMES"
   ]
  },
  {
   "cell_type": "code",
   "execution_count": 7,
   "id": "a0811ea5",
   "metadata": {},
   "outputs": [
    {
     "name": "stdout",
     "output_type": "stream",
     "text": [
      "Total number of participants: 360\n"
     ]
    }
   ],
   "source": [
    "print(f\"Total number of participants: {len(data)}\")"
   ]
  },
  {
   "cell_type": "code",
   "execution_count": 8,
   "id": "209fd759",
   "metadata": {},
   "outputs": [
    {
     "name": "stdout",
     "output_type": "stream",
     "text": [
      "Total number of unique articles: 30\n"
     ]
    }
   ],
   "source": [
    "unique_articles = dat.drop_duplicates(subset=[\"batch\", \"article_id\"]).query(\n",
    "    \"practice==0\"\n",
    ")\n",
    "print(f\"Total number of unique articles: {len(unique_articles)}\")"
   ]
  },
  {
   "cell_type": "code",
   "execution_count": 9,
   "id": "60f112ff",
   "metadata": {},
   "outputs": [
    {
     "name": "stdout",
     "output_type": "stream",
     "text": [
      "Total number of unique paragraphs: 162\n"
     ]
    }
   ],
   "source": [
    "unique_paragraphs = dat.drop_duplicates(\n",
    "    subset=[\"batch\", \"article_id\", \"paragraph_id\"]\n",
    ").query(\"practice==0\")\n",
    "print(f\"Total number of unique paragraphs: {len(unique_paragraphs)}\")"
   ]
  },
  {
   "cell_type": "code",
   "execution_count": 10,
   "id": "0a5d87f6",
   "metadata": {},
   "outputs": [
    {
     "name": "stdout",
     "output_type": "stream",
     "text": [
      "Average number of words per paragraph: 108.6\n"
     ]
    }
   ],
   "source": [
    "print(\n",
    "    f\"Average number of words per paragraph: {round(unique_paragraphs['paragraph'].str.split().str.len().mean(),1)}\"\n",
    ")"
   ]
  },
  {
   "cell_type": "code",
   "execution_count": 11,
   "id": "8c2feebb",
   "metadata": {},
   "outputs": [
    {
     "name": "stdout",
     "output_type": "stream",
     "text": [
      "Number of tokens in IA reports:\n",
      "p - 2532799\n",
      "q - 230688\n",
      "a - 912794\n",
      "q_pre - 115350\n",
      "t - 35585\n",
      "total - 3827216\n"
     ]
    }
   ],
   "source": [
    "# Calculate the lengths\n",
    "p = len(IA_P.query(\"practice==0\"))\n",
    "q = len(IA_Q.query(\"practice==0\"))\n",
    "a = len(IA_A.query(\"practice==0\"))\n",
    "q_pre = len(IA_Q_preview.query(\"practice==0\"))\n",
    "t = len(IA_T.query(\"practice==0\"))\n",
    "total = p + q + a + t + q_pre\n",
    "\n",
    "# Consolidated print statement\n",
    "print(\n",
    "    f\"Number of tokens in IA reports:\\np - {p}\\nq - {q}\\na - {a}\\nq_pre - {q_pre}\\nt - {t}\\ntotal - {total}\"\n",
    ")"
   ]
  },
  {
   "cell_type": "code",
   "execution_count": 12,
   "id": "b83ddb7d",
   "metadata": {},
   "outputs": [],
   "source": [
    "unique_words_ia = IA_P.drop_duplicates(\n",
    "    subset=[\"batch\", \"article_id\", \"paragraph_id\", \"level\", \"IA_ID\"]\n",
    ").query(\"practice==0\")\n",
    "onsqa_p = onestop_qa.drop_duplicates(subset=[\"paragraph\"]).query(\"level!=1\")\n",
    "unique_paragraphs_level = dat.drop_duplicates(\n",
    "    subset=[\"batch\", \"article_id\", \"paragraph_id\", \"level\"]\n",
    ").query(\"practice==0\")"
   ]
  },
  {
   "cell_type": "code",
   "execution_count": 13,
   "id": "c36b7ec9",
   "metadata": {},
   "outputs": [
    {
     "name": "stdout",
     "output_type": "stream",
     "text": [
      "DAT Advanced Tokens Count: 19428\n",
      "IA Advanced Words Count: 19444\n",
      "OneStopQA Advanced Words Count: 19425\n"
     ]
    }
   ],
   "source": [
    "# Advanced\n",
    "adv = unique_paragraphs_level[unique_paragraphs_level[\"level\"] == \"Adv\"]\n",
    "adv_tokens = [\n",
    "    word\n",
    "    for paragraph in utils.get_number_of_tokens(adv, \"paragraph\")\n",
    "    for word in paragraph\n",
    "]\n",
    "adv_ia = unique_words_ia[unique_words_ia[\"level\"] == \"Adv\"]\n",
    "adv_qa = onsqa_p[onsqa_p[\"level\"] == 0]\n",
    "adv_qa_words = [\n",
    "    word\n",
    "    for paragraph in utils.get_number_of_tokens(adv_qa, \"paragraph\")\n",
    "    for word in paragraph\n",
    "]\n",
    "\n",
    "print(f\"DAT Advanced Tokens Count: {len(adv_tokens)}\")\n",
    "print(f\"IA Advanced Words Count: {len(adv_ia)}\")\n",
    "print(f\"OneStopQA Advanced Words Count: {len(adv_qa_words)}\")"
   ]
  },
  {
   "cell_type": "code",
   "execution_count": 14,
   "id": "8c2e55d5",
   "metadata": {},
   "outputs": [
    {
     "name": "stdout",
     "output_type": "stream",
     "text": [
      "DAT Elementary Tokens Count: 15737\n",
      "IA Elementary Words Count: 15744\n",
      "OneStopQA Elementary Words Count: 15737\n"
     ]
    }
   ],
   "source": [
    "# Elementary\n",
    "ele = unique_paragraphs_level[unique_paragraphs_level[\"level\"] == \"Ele\"]\n",
    "ele_tokens = [\n",
    "    word\n",
    "    for paragraph in utils.get_number_of_tokens(ele, \"paragraph\")\n",
    "    for word in paragraph\n",
    "]\n",
    "ele_ia = unique_words_ia[unique_words_ia[\"level\"] == \"Ele\"]\n",
    "ele_qa = onsqa_p[onsqa_p[\"level\"] == 2]\n",
    "ele_qa_words = [\n",
    "    word\n",
    "    for paragraph in utils.get_number_of_tokens(ele_qa, \"paragraph\")\n",
    "    for word in paragraph\n",
    "]\n",
    "\n",
    "print(f\"DAT Elementary Tokens Count: {len(ele_tokens)}\")\n",
    "print(f\"IA Elementary Words Count: {len(ele_ia)}\")\n",
    "print(f\"OneStopQA Elementary Words Count: {len(ele_qa_words)}\")"
   ]
  },
  {
   "cell_type": "markdown",
   "id": "4eb384788b9b7bf9",
   "metadata": {
    "collapsed": false
   },
   "source": [
    "# words in OneStop"
   ]
  },
  {
   "cell_type": "code",
   "execution_count": 15,
   "id": "a328635c43e91d0",
   "metadata": {
    "ExecuteTime": {
     "end_time": "2024-05-11T09:36:11.398978Z",
     "start_time": "2024-05-11T09:36:11.381608Z"
    },
    "collapsed": false
   },
   "outputs": [
    {
     "name": "stdout",
     "output_type": "stream",
     "text": [
      "num words: 19425\n",
      "mean paragraph length: 119.9\n",
      "mean sentence length: 20.8\n"
     ]
    }
   ],
   "source": [
    "# Advanced version\n",
    "adv_sentences = [\n",
    "    sen\n",
    "    for paragraph in utils.get_number_of_tokens(adv_qa, \"paragraph\")\n",
    "    for sen in paragraph\n",
    "    if \".\" in sen\n",
    "]\n",
    "print(f\"num words: {len(adv_qa_words)}\")\n",
    "# mean paragraph length (words)\n",
    "print(f\"mean paragraph length: {round(len(adv_qa_words) / len(unique_paragraphs),1)}\")\n",
    "# mean sentence length (words)\n",
    "print(f\"mean sentence length: {round(len(adv_qa_words) / len(adv_sentences),1)}\")"
   ]
  },
  {
   "cell_type": "code",
   "execution_count": 16,
   "id": "8ea9fcb9c1236536",
   "metadata": {
    "ExecuteTime": {
     "end_time": "2024-05-11T09:36:12.903116Z",
     "start_time": "2024-05-11T09:36:12.879730Z"
    },
    "collapsed": false
   },
   "outputs": [
    {
     "name": "stdout",
     "output_type": "stream",
     "text": [
      "num words: 15737\n",
      "mean paragraph length: 97.1\n",
      "mean sentence length: 16.8\n"
     ]
    }
   ],
   "source": [
    "# Elementary version\n",
    "ele_sentences = [\n",
    "    sen\n",
    "    for paragraph in utils.get_number_of_tokens(adv, \"paragraph\")\n",
    "    for sen in paragraph\n",
    "    if \".\" in sen\n",
    "]\n",
    "print(f\"num words: {len(ele_qa_words)}\")\n",
    "# mean paragraph length (words)\n",
    "print(f\"mean paragraph length: {round(len(ele_qa_words) / len(unique_paragraphs),1)}\")\n",
    "# mean sentence length (words)\n",
    "print(f\"mean sentence length: {round(len(ele_qa_words) / len(ele_sentences),1)}\")"
   ]
  },
  {
   "cell_type": "markdown",
   "id": "233abf58ab7a064a",
   "metadata": {
    "collapsed": false
   },
   "source": [
    "# questions (486)"
   ]
  },
  {
   "cell_type": "code",
   "execution_count": 17,
   "id": "b4e4de027dc5ebe6",
   "metadata": {
    "ExecuteTime": {
     "end_time": "2024-05-11T09:36:13.804757Z",
     "start_time": "2024-05-11T09:36:13.782974Z"
    },
    "collapsed": false
   },
   "outputs": [
    {
     "name": "stdout",
     "output_type": "stream",
     "text": [
      "Number of unique questions in OneStopQA: 486\n",
      "Average length of questions in OneStopQA: 9.9\n",
      "Number of unique questions in DAT: 486\n",
      "Average length of questions in DAT: 9.9\n"
     ]
    }
   ],
   "source": [
    "onsqa_q = onestop_qa.drop_duplicates(subset=[\"paragraph_index\", \"question\"])\n",
    "onsqa_q_words = onsqa_q[\"question\"]\n",
    "\n",
    "unique_questions = dat.drop_duplicates(\n",
    "    subset=[\"batch\", \"article_id\", \"paragraph_id\", \"question\"]\n",
    ").query(\"practice==0\")\n",
    "unique_qs = unique_questions[\"question\"]\n",
    "\n",
    "print(f\"Number of unique questions in OneStopQA: {len(onsqa_q)}\")\n",
    "print(\n",
    "    f\"Average length of questions in OneStopQA: {round(utils.get_average_length(onsqa_q_words),1)}\"\n",
    ")\n",
    "print(f\"Number of unique questions in DAT: {len(unique_questions)}\")\n",
    "print(\n",
    "    f\"Average length of questions in DAT: {round(utils.get_average_length(unique_qs),1)}\"\n",
    ")"
   ]
  },
  {
   "cell_type": "code",
   "execution_count": 27,
   "id": "bee21e5c",
   "metadata": {},
   "outputs": [
    {
     "name": "stdout",
     "output_type": "stream",
     "text": [
      "Total number of words in questions: 4807\n"
     ]
    }
   ],
   "source": [
    "print(f\"Total number of words in questions: {sum([len(x.split()) for x in unique_qs])}\")"
   ]
  },
  {
   "cell_type": "markdown",
   "id": "e32cca07705577a6",
   "metadata": {
    "collapsed": false
   },
   "source": [
    "# Answers (1944)"
   ]
  },
  {
   "cell_type": "code",
   "execution_count": 18,
   "id": "80fa6c25c137ad0a",
   "metadata": {
    "ExecuteTime": {
     "end_time": "2024-05-11T09:36:14.595547Z",
     "start_time": "2024-05-11T09:36:14.586585Z"
    },
    "collapsed": false
   },
   "outputs": [
    {
     "name": "stdout",
     "output_type": "stream",
     "text": [
      "Total Unique Answers: 1944\n",
      "Mean Length of 'a': 7.4\n",
      "Mean Length of 'b': 7.5\n",
      "Mean Length of 'c': 7.1\n",
      "Mean Length of 'd': 7.2\n",
      "Mean Length of All Unique Answers: 7.3\n"
     ]
    }
   ],
   "source": [
    "# number of answers\n",
    "a = unique_questions[\"a\"].tolist()\n",
    "b = unique_questions[\"b\"].tolist()\n",
    "c = unique_questions[\"c\"].tolist()\n",
    "d = unique_questions[\"d\"].tolist()\n",
    "unique_answers = a + b + c + d\n",
    "\n",
    "print(f\"Total Unique Answers: {len(unique_answers)}\")\n",
    "print(f\"Mean Length of 'a': {round(utils.get_average_length(a),1)}\")\n",
    "print(f\"Mean Length of 'b': {round(utils.get_average_length(b),1)}\")\n",
    "print(f\"Mean Length of 'c': {round(utils.get_average_length(c),1)}\")\n",
    "print(f\"Mean Length of 'd': {round(utils.get_average_length(d),1)}\")\n",
    "print(\n",
    "    f\"Mean Length of All Unique Answers: {round(utils.get_average_length(unique_answers),1)}\"\n",
    ")"
   ]
  },
  {
   "cell_type": "code",
   "execution_count": 24,
   "id": "ead44787",
   "metadata": {},
   "outputs": [
    {
     "name": "stdout",
     "output_type": "stream",
     "text": [
      "Total Number of Words in All Unique Answers: 14214\n"
     ]
    }
   ],
   "source": [
    "print(f\"Total Number of Words in All Unique Answers: {sum([len(x.split()) for x in unique_answers])}\")\n"
   ]
  },
  {
   "cell_type": "code",
   "execution_count": 19,
   "id": "d4bcc83440f587e0",
   "metadata": {
    "ExecuteTime": {
     "end_time": "2024-05-11T09:36:15.216095Z",
     "start_time": "2024-05-11T09:36:15.212808Z"
    },
    "collapsed": false
   },
   "outputs": [
    {
     "name": "stdout",
     "output_type": "stream",
     "text": [
      "Mean Length of Critical Span (a_span): 31.6\n",
      "Mean Length of Distractor Span (d_span): 12.9\n"
     ]
    }
   ],
   "source": [
    "# mean length of the critical span (a_span)\n",
    "onsqa_a_span = onsqa_p[\"a_span\"]\n",
    "total_words_a = []\n",
    "for a in onsqa_a_span:\n",
    "    words = a[1] - a[0] + 1\n",
    "    total_words_a.append(words)\n",
    "mean_a = sum(total_words_a) / len(total_words_a)\n",
    "print(f\"Mean Length of Critical Span (a_span): {round(mean_a,1)}\")\n",
    "# mean length of the distractor span (d_span)\n",
    "onsqa_d_span = onsqa_p[\"d_span\"]\n",
    "total_words_d = []\n",
    "for d in onsqa_d_span:\n",
    "    words = d[1] - d[0] + 1\n",
    "    total_words_d.append(words)\n",
    "mean_d = sum(total_words_d) / len(total_words_d)\n",
    "print(f\"Mean Length of Distractor Span (d_span): {round(mean_d,1)}\")"
   ]
  },
  {
   "cell_type": "markdown",
   "id": "4deecccae4f1ac68",
   "metadata": {
    "collapsed": false
   },
   "source": [
    "# participants recruited from:"
   ]
  },
  {
   "cell_type": "code",
   "execution_count": 20,
   "id": "2c5f3aa553c55fdb",
   "metadata": {
    "ExecuteTime": {
     "end_time": "2024-05-11T09:36:17.111862Z",
     "start_time": "2024-05-11T09:36:17.096063Z"
    },
    "collapsed": false
   },
   "outputs": [
    {
     "name": "stdout",
     "output_type": "stream",
     "text": [
      "Data Collection Site\n",
      "Boston    303\n",
      "Haifa      57\n",
      "Name: count, dtype: int64\n"
     ]
    }
   ],
   "source": [
    "data_collection_sites = data[\"Data Collection Site\"].value_counts()\n",
    "print(data_collection_sites)"
   ]
  },
  {
   "cell_type": "markdown",
   "id": "793e2680508b0662",
   "metadata": {
    "collapsed": false
   },
   "source": [
    "# recalibrations"
   ]
  },
  {
   "cell_type": "code",
   "execution_count": 21,
   "id": "cdda018e59c6cfeb",
   "metadata": {
    "ExecuteTime": {
     "end_time": "2024-05-11T09:36:18.335712Z",
     "start_time": "2024-05-11T09:36:18.330036Z"
    },
    "collapsed": false
   },
   "outputs": [
    {
     "name": "stdout",
     "output_type": "stream",
     "text": [
      "Mean number of recalibrations: 6.7\n"
     ]
    }
   ],
   "source": [
    "session_interruptions = data[\"session_interruptions_(recalibrations)\"]\n",
    "print(f\"Mean number of recalibrations: {round(np.mean(session_interruptions),1)}\")"
   ]
  },
  {
   "cell_type": "markdown",
   "id": "93bed097062be2ad",
   "metadata": {
    "collapsed": false
   },
   "source": [
    "# duration"
   ]
  },
  {
   "cell_type": "code",
   "execution_count": 22,
   "id": "8027f77b2c125bce",
   "metadata": {
    "ExecuteTime": {
     "end_time": "2024-05-11T09:36:19.469806Z",
     "start_time": "2024-05-11T09:36:19.463586Z"
    },
    "collapsed": false
   },
   "outputs": [
    {
     "name": "stdout",
     "output_type": "stream",
     "text": [
      "mean duration (in minutes) - 44.3\n",
      "mean total duration (in minutes) - 55.7\n"
     ]
    }
   ],
   "source": [
    "print(f'mean duration (in minutes) - {round(np.mean(data[\"session_duration\"]),1)}')\n",
    "print(f'mean total duration (in minutes) - {round(np.mean(data[\"total_duration\"]),1)}')"
   ]
  },
  {
   "cell_type": "code",
   "execution_count": 23,
   "id": "933dd93077c24cfc",
   "metadata": {
    "ExecuteTime": {
     "end_time": "2024-05-11T09:36:20.038652Z",
     "start_time": "2024-05-11T09:36:20.032796Z"
    },
    "collapsed": false
   },
   "outputs": [
    {
     "name": "stdout",
     "output_type": "stream",
     "text": [
      "mean hunting duration - 43.3\n",
      "mean gathering duration - 45.3\n",
      "total mean hunting duration - 54.3\n",
      "total mean gathering duration - 57.1\n"
     ]
    }
   ],
   "source": [
    "hunting = data[data[\"batch_condition\"] == \"p\"]\n",
    "gathering = data[data[\"batch_condition\"] == \"n\"]\n",
    "h_session_duration = hunting[\"session_duration\"]\n",
    "g_session_duration = gathering[\"session_duration\"]\n",
    "print(f\"mean hunting duration - {round(np.mean(h_session_duration),1)}\")\n",
    "print(f\"mean gathering duration - {round(np.mean(g_session_duration),1)}\")\n",
    "h_total_session_duration = hunting[\"total_duration\"]\n",
    "g_total_session_duration = gathering[\"total_duration\"]\n",
    "print(f\"total mean hunting duration - {round(np.mean(h_total_session_duration),1)}\")\n",
    "print(f\"total mean gathering duration - {round(np.mean(g_total_session_duration),1)}\")"
   ]
  },
  {
   "cell_type": "code",
   "execution_count": 24,
   "id": "51583def53893ecb",
   "metadata": {
    "ExecuteTime": {
     "end_time": "2024-05-11T10:01:44.100569Z",
     "start_time": "2024-05-11T10:01:41.025298Z"
    },
    "collapsed": false
   },
   "outputs": [
    {
     "name": "stdout",
     "output_type": "stream",
     "text": [
      "p hunting - 23.1\n",
      "p gathering - 28.9\n",
      "qa hunting - 9.6\n",
      "qa gathering - 10.7\n",
      "q preview - 1.7\n",
      "13.1\n",
      "qa+q_pre - 11.9\n",
      "t - 0.7\n",
      "26.8\n",
      "p_t hunting - 23.8\n",
      "p_t gathering - 29.7\n"
     ]
    }
   ],
   "source": [
    "# paragraph duration\n",
    "p_duration = utils.duration_report(TRIAL_P)\n",
    "p_h_duration = p_duration[p_duration[\"batch_condition\"] == \"p\"]\n",
    "p_g_duration = p_duration[p_duration[\"batch_condition\"] == \"n\"]\n",
    "print(f\"p hunting - {round(p_h_duration['IP_DURATION'].mean(),1)}\")\n",
    "print(f\"p gathering - {round(p_g_duration['IP_DURATION'].mean(),1)}\")\n",
    "# q&a duration\n",
    "qa_duration = utils.duration_report(TRIAL_QA)\n",
    "qa_h_duration = qa_duration[qa_duration[\"batch_condition\"] == \"p\"]\n",
    "qa_g_duration = qa_duration[qa_duration[\"batch_condition\"] == \"n\"]\n",
    "print(f\"qa hunting - {round(qa_h_duration['IP_DURATION'].mean(),1)}\")\n",
    "print(f\"qa gathering - {round(qa_g_duration['IP_DURATION'].mean(),1)}\")\n",
    "# q_preview duration\n",
    "q_duration = utils.duration_report(TRIAL_q_preview)\n",
    "print(f\"q preview - {round(q_duration['IP_DURATION'].mean(),1)}\")\n",
    "merged_h_q = pd.merge(\n",
    "    qa_h_duration,\n",
    "    q_duration,\n",
    "    on=\"RECORDING_SESSION_LABEL\",\n",
    "    suffixes=(\"_qa_h\", \"_pre_q\"),\n",
    ")\n",
    "merged_h_q[\"sum_qa_h_duration\"] = (\n",
    "    merged_h_q[\"IP_DURATION_qa_h\"] + merged_h_q[\"IP_DURATION_pre_q\"]\n",
    ")\n",
    "print(round(merged_h_q[\"sum_qa_h_duration\"].mean(), 1))\n",
    "merged_qa_q = pd.merge(\n",
    "    qa_duration, q_duration, on=\"RECORDING_SESSION_LABEL\", suffixes=(\"_qa\", \"_pre_q\")\n",
    ")\n",
    "merged_qa_q[\"sum_qa_q_duration\"] = (\n",
    "    merged_qa_q[\"IP_DURATION_qa\"] + merged_qa_q[\"IP_DURATION_pre_q\"]\n",
    ")\n",
    "print(f\"qa+q_pre - {round(merged_qa_q['sum_qa_q_duration'].mean(),1)}\")\n",
    "t_duration = utils.duration_report(TRIAL_T)\n",
    "print(f\"t - {round(t_duration['IP_DURATION'].mean(),1)}\")\n",
    "merged_t_p = pd.merge(\n",
    "    t_duration, p_duration, on=\"RECORDING_SESSION_LABEL\", suffixes=(\"_t\", \"_p\")\n",
    ")\n",
    "merged_t_p[\"sum_t_p_duration\"] = (\n",
    "    merged_t_p[\"IP_DURATION_t\"] + merged_t_p[\"IP_DURATION_p\"]\n",
    ")\n",
    "print(round(merged_t_p[\"sum_t_p_duration\"].mean(), 1))\n",
    "p_t_h_duration = merged_t_p[merged_t_p[\"batch_condition_p\"] == \"p\"]\n",
    "p_t_g_duration = merged_t_p[merged_t_p[\"batch_condition_p\"] == \"n\"]\n",
    "print(f\"p_t hunting - {round(p_t_h_duration['sum_t_p_duration'].mean(),1)}\")\n",
    "print(f\"p_t gathering - {round(p_t_g_duration['sum_t_p_duration'].mean(),1)}\")"
   ]
  },
  {
   "cell_type": "code",
   "execution_count": 25,
   "id": "c74ac95dfbcd0ac9",
   "metadata": {
    "ExecuteTime": {
     "end_time": "2024-05-11T09:36:25.640893Z",
     "start_time": "2024-05-11T09:36:25.639287Z"
    },
    "collapsed": false
   },
   "outputs": [
    {
     "name": "stdout",
     "output_type": "stream",
     "text": [
      "p hunting - 26.0\n",
      "p hunting - 26.0\n"
     ]
    }
   ],
   "source": [
    "print(f\"p hunting - {round(p_duration['IP_DURATION'].mean(),1)}\")\n",
    "print(f\"p hunting - {round(p_duration['IP_DURATION'].mean(),1)}\")"
   ]
  },
  {
   "cell_type": "markdown",
   "id": "714af68d09579586",
   "metadata": {
    "collapsed": false
   },
   "source": [
    "# prticipants"
   ]
  },
  {
   "cell_type": "code",
   "execution_count": 26,
   "id": "6ec0ceac",
   "metadata": {},
   "outputs": [],
   "source": [
    "survey = data[data[\"age\"] != -1]  # TODO doesn't remove any"
   ]
  },
  {
   "cell_type": "code",
   "execution_count": 27,
   "id": "d2d4952acf376bdf",
   "metadata": {
    "ExecuteTime": {
     "end_time": "2024-05-11T07:17:36.663446Z",
     "start_time": "2024-05-11T07:17:36.646850Z"
    },
    "collapsed": false
   },
   "outputs": [
    {
     "name": "stdout",
     "output_type": "stream",
     "text": [
      "female - 238, male - 117, other - 5\n",
      "Mean age of acquisition (AoA) - 0.4\n",
      "University Affiliation: MIT - 207, Technion - 21, NaN - 71, Other - 61\n"
     ]
    }
   ],
   "source": [
    "# gender\n",
    "gender = survey[\"gender\"]\n",
    "labels, counts = np.unique(gender, return_counts=True)\n",
    "print(\n",
    "    f\"{labels[0]} - {counts[0]}, {labels[1]} - {counts[1]}, {labels[2]} - {counts[2]}\"\n",
    ")\n",
    "# The mean English Age of Acquisition\n",
    "print(\n",
    "    f'Mean age of acquisition (AoA) - {round(np.mean(survey[\"stat_learning_english\"]),1)}'\n",
    ")\n",
    "# participants have a university affiliation\n",
    "institutions = survey[\"institution\"]\n",
    "institutions = institutions.str.lower()\n",
    "uni_role = survey[\"University Role\"]\n",
    "mit = institutions.str.contains(\"mit\").sum()\n",
    "technion = institutions.str.contains(\"technion\").sum()\n",
    "nan = institutions.isnull().sum()\n",
    "other = len(institutions) - mit - technion - nan\n",
    "university_affiliation = {\"MIT\": mit, \"Technion\": technion, \"Other\": other, \"Not a Student\": nan}\n",
    "print(\n",
    "    f\"University Affiliation: MIT - {mit}, Technion - {technion}, NaN - {nan}, Other - {other}\"\n",
    ")"
   ]
  },
  {
   "cell_type": "code",
   "execution_count": 28,
   "id": "3f7600df72dccc3",
   "metadata": {
    "ExecuteTime": {
     "end_time": "2024-05-11T08:50:08.273670Z",
     "start_time": "2024-05-11T08:50:08.243326Z"
    },
    "collapsed": false
   },
   "outputs": [
    {
     "name": "stdout",
     "output_type": "stream",
     "text": [
      "mean age - 22.8\n",
      "std age - 5.7\n",
      "Age mean - 22.8, Age std - 5.8\n"
     ]
    }
   ],
   "source": [
    "print(f'mean age - {round(np.mean(data[\"age\"]),1)}')\n",
    "print(f'std age - {round(np.std(data[\"age\"]),1)}')\n",
    "\n",
    "print(\n",
    "    f\"Age mean - {round(survey['age'].mean(), ndigits=1)}, Age std - {round(survey['age'].std(), 1)}\"\n",
    ")"
   ]
  },
  {
   "cell_type": "markdown",
   "id": "557cfece754a8da7",
   "metadata": {
    "collapsed": false
   },
   "source": [
    "# Language"
   ]
  },
  {
   "cell_type": "code",
   "execution_count": 29,
   "id": "e7bd14223a7d8772",
   "metadata": {
    "ExecuteTime": {
     "end_time": "2024-05-11T07:17:38.692300Z",
     "start_time": "2024-05-11T07:17:38.686199Z"
    },
    "collapsed": false
   },
   "outputs": [
    {
     "name": "stdout",
     "output_type": "stream",
     "text": [
      "360\n"
     ]
    }
   ],
   "source": [
    "# balanced bilinguals\n",
    "# balanced_bilinguals = survey[survey['balanced_bilinguals']]\n",
    "ba_bi = survey[\"balanced_bilinguals\"].apply(lambda x: isinstance(x, str))\n",
    "balanced_bilinguals = survey[ba_bi]\n",
    "for bb in balanced_bilinguals:\n",
    "    if \"Hebrew\" in balanced_bilinguals[\"balanced_bilinguals\"]:\n",
    "        balanced_bilinguals.loc[bb, \"balanced_bilinguals\"] = \"Hebrew\"\n",
    "print(len(balanced_bilinguals))  # TODO is this what we want?"
   ]
  },
  {
   "cell_type": "markdown",
   "id": "7247363623c73ece",
   "metadata": {
    "collapsed": false
   },
   "source": [
    "# reading comprehension"
   ]
  },
  {
   "cell_type": "code",
   "execution_count": 30,
   "id": "56221699afa3af09",
   "metadata": {
    "ExecuteTime": {
     "end_time": "2024-05-11T07:17:42.659471Z",
     "start_time": "2024-05-11T07:17:42.617281Z"
    },
    "collapsed": false
   },
   "outputs": [
    {
     "name": "stdout",
     "output_type": "stream",
     "text": [
      "Reading Comprehension Accuracy - Hunting (without reread): 86.9\n",
      "Reading Comprehension Accuracy - Gathering (without reread): 81.2\n",
      "Reading Comprehension Accuracy - Hunting (with reread): 90.6\n",
      "Reading Comprehension Accuracy - Gathering (with reread): 84.2\n"
     ]
    }
   ],
   "source": [
    "# reading comprehension accuracy Hunting\n",
    "comprehension_score = data.groupby([\"batch_condition\"])[\n",
    "    \"comprehension_score_without_reread\"\n",
    "].mean()\n",
    "comprehension_hunting = comprehension_score[\"p\"]\n",
    "# reading comprehension accuracy Gathering\n",
    "comprehension_gathering = comprehension_score[\"n\"]\n",
    "\n",
    "# reading comprehension accuracy re-reading Hunting\n",
    "reread_comprehension_score = data.groupby([\"batch_condition\"])[\n",
    "    \"comprehension_score_reread\"\n",
    "].mean()\n",
    "reread_comprehension_hunting = reread_comprehension_score[\"p\"]\n",
    "# reading comprehension accuracy re-reading Gathering\n",
    "reread_comprehension_gathering = reread_comprehension_score[\"n\"]\n",
    "\n",
    "\n",
    "print(\n",
    "    f\"Reading Comprehension Accuracy - Hunting (without reread): {comprehension_hunting.round(1)}\"\n",
    ")\n",
    "print(\n",
    "    f\"Reading Comprehension Accuracy - Gathering (without reread): {comprehension_gathering.round(1)}\"\n",
    ")\n",
    "print(\n",
    "    f\"Reading Comprehension Accuracy - Hunting (with reread): {reread_comprehension_hunting.round(1)}\"\n",
    ")\n",
    "print(\n",
    "    f\"Reading Comprehension Accuracy - Gathering (with reread): {reread_comprehension_gathering.round(1)}\"\n",
    ")"
   ]
  },
  {
   "cell_type": "markdown",
   "id": "5ba69b9290075dc7",
   "metadata": {
    "collapsed": false
   },
   "source": [
    "# Graphs"
   ]
  },
  {
   "cell_type": "code",
   "execution_count": 31,
   "id": "dc2febea",
   "metadata": {},
   "outputs": [
    {
     "data": {
      "text/plain": [
       "0                         French \n",
       "1                             NaN\n",
       "2                         French \n",
       "3                             NaN\n",
       "4                       Japanese \n",
       "                  ...            \n",
       "355    Hebrew(Modern Ashkenazic) \n",
       "356                Spanish Tamil \n",
       "357                           NaN\n",
       "358      Mandarin Spanish French \n",
       "359                           NaN\n",
       "Name: additional_languages, Length: 360, dtype: object"
      ]
     },
     "execution_count": 31,
     "metadata": {},
     "output_type": "execute_result"
    }
   ],
   "source": [
    "survey[\"additional_languages\"]"
   ]
  },
  {
   "cell_type": "code",
   "execution_count": 32,
   "id": "4f7dc45fcc06c39c",
   "metadata": {
    "ExecuteTime": {
     "end_time": "2024-05-11T07:17:56.119554Z",
     "start_time": "2024-05-11T07:17:56.103253Z"
    },
    "collapsed": false
   },
   "outputs": [],
   "source": [
    "par_dict = {}\n",
    "additional_languages = survey[\"additional_languages\"]\n",
    "par_languages = []\n",
    "speak = []\n",
    "for l in additional_languages:\n",
    "    if pd.isna(l):\n",
    "        l = \"\"\n",
    "        speak.append(len(l))\n",
    "    else:\n",
    "        l = list(l.split())\n",
    "        par_languages = par_languages + l\n",
    "        speak.append(len(l))\n",
    "lang, counts = np.unique(par_languages, return_counts=True)\n",
    "language = dict(zip(lang, counts))\n",
    "num_of_l, c = np.unique(speak, return_counts=True)\n",
    "num_of_languages = dict(zip(num_of_l, c))\n",
    "plus_5 = [min(p_5, 5) for p_5 in speak]\n",
    "num_of_l_5, c_5 = np.unique(plus_5, return_counts=True)\n",
    "num_of_lang_plus_5 = dict(zip(num_of_l_5, c_5))"
   ]
  },
  {
   "cell_type": "code",
   "execution_count": 33,
   "id": "7db62edf9a50efd4",
   "metadata": {
    "ExecuteTime": {
     "end_time": "2024-05-11T07:27:08.421808Z",
     "start_time": "2024-05-11T07:27:08.240857Z"
    },
    "collapsed": false
   },
   "outputs": [
    {
     "name": "stderr",
     "output_type": "stream",
     "text": [
      "/var/folders/xz/v_bn9sxn4ld2lw3b85g8bpmw0000gn/T/ipykernel_48711/3448583386.py:32: UserWarning: set_ticklabels() should only be used with a fixed number of ticks, i.e. after set_ticks() or using a FixedLocator.\n",
      "  axes[0, 1].set(xticklabels=education_labels)\n",
      "/var/folders/xz/v_bn9sxn4ld2lw3b85g8bpmw0000gn/T/ipykernel_48711/3448583386.py:46: UserWarning: set_ticklabels() should only be used with a fixed number of ticks, i.e. after set_ticks() or using a FixedLocator.\n",
      "  axes[1, 0].set(xticklabels=add_lang_labels)\n"
     ]
    },
    {
     "data": {
      "image/png": "[encoded data removed]",
      "text/plain": [
       "<Figure size 2000x1500 with 4 Axes>"
      ]
     },
     "metadata": {},
     "output_type": "display_data"
    }
   ],
   "source": [
    "# Create the subplots\n",
    "sns.set_context(\"paper\", font_scale=2)\n",
    "sns.set_theme(font_scale=1.5, style=\"whitegrid\")\n",
    "fig_colors = \"#8da0cb\"  # \"#a1c9f4\"\n",
    "\n",
    "fig, axes = plt.subplots(nrows=2, ncols=2, figsize=(20, 15), sharey=\"row\")\n",
    "\n",
    "sns.set_style(\"whitegrid\")\n",
    "# seaborn.set_context(\"paper\", font_scale=2)\n",
    "\n",
    "# Plot 1: Countplot for Age\n",
    "age_bins = [18, 22, 32, 42, 52]\n",
    "age_labels = [\"18-22\", \"23-32\", \"33-42\", \"43-52\"]\n",
    "survey = survey.copy()\n",
    "survey[\"age_category\"] = pd.cut(\n",
    "    survey[\"age\"], bins=age_bins, labels=age_labels, right=False\n",
    ")\n",
    "sns.countplot(\n",
    "    data=survey, x=\"age_category\", color=fig_colors, ax=axes[0, 0], order=age_labels\n",
    ")\n",
    "# axes[0, 0].xaxis.set_major_locator(ticker.MultipleLocator(5))\n",
    "# axes[0, 0].axvline(x=survey.age.mean(), color='red', linestyle='--', linewidth=2.5)\n",
    "axes[0, 0].set(ylabel=\"Participants\")\n",
    "axes[0, 0].set(xlabel=\"Age\")\n",
    "\n",
    "# Plot 2: Countplot for Education\n",
    "education_order = [\"secondary\", \"college\", \"postgrad\"]\n",
    "education_labels = [\"Secondary\", \"Undergraduate\", \"Graduate\"]\n",
    "sns.countplot(\n",
    "    data=survey, x=\"education\", color=fig_colors, ax=axes[0, 1], order=education_order\n",
    ")\n",
    "axes[0, 1].set(xticklabels=education_labels)\n",
    "axes[0, 1].set(ylabel=\"\")\n",
    "axes[0, 1].set(xlabel=\"Education\")\n",
    "\n",
    "# Plot 3: Barplot for Number of Additional Languages\n",
    "add_lang_labels = [\"0\", \"1\", \"2\", \"3\", \"4\", \"5+\"]\n",
    "axes[1, 0] = sns.barplot(\n",
    "    x=list(num_of_lang_plus_5.keys()),\n",
    "    y=list(num_of_lang_plus_5.values()),\n",
    "    color=fig_colors,\n",
    "    ax=axes[1, 0],\n",
    ")\n",
    "axes[1, 0].set(ylabel=\"Participants\")\n",
    "axes[1, 0].set(xlabel=\"Number of Additional Languages\")\n",
    "axes[1, 0].set(xticklabels=add_lang_labels)\n",
    "# axes[1, 0] = seaborn.countplot(x=balanced_bilinguals['balanced_bilinguals'], color='#ff9f9b', ax=axes[1, 0], order=balanced_bilinguals['balanced_bilinguals'].value_counts().index)\n",
    "# axes[1, 0].set_xlabel(\"Additional Languages of Balanced Bilinguals\")\n",
    "\n",
    "# Plot 4: Current Students and Affiliation\n",
    "# university_affiliation_series = pd.Series(university_affiliation)\n",
    "affiliation_order = [\"MIT\", \"Technion\", \"Other\", \"Not a Student\"]\n",
    "sns.barplot(\n",
    "x=list(university_affiliation.keys()), y=list(university_affiliation.values()), color=fig_colors, ax=axes[1, 1], order=affiliation_order\n",
    ")\n",
    "\n",
    "axes[1, 1].set(xlabel=\"Students and Affiliation\")\n",
    "axes[1, 1].set(ylabel=\"\")\n",
    "\n",
    "# Add labels (a, b, c, d) to each subplot\n",
    "axes[0, 0].text(\n",
    "    -0.1,\n",
    "    1.05,\n",
    "    \"a)\",\n",
    "    transform=axes[0, 0].transAxes,\n",
    "    fontsize=16,\n",
    "    fontweight=\"bold\",\n",
    "    va=\"top\",\n",
    ")\n",
    "axes[0, 1].text(\n",
    "    -0.1,\n",
    "    1.05,\n",
    "    \"b)\",\n",
    "    transform=axes[0, 1].transAxes,\n",
    "    fontsize=16,\n",
    "    fontweight=\"bold\",\n",
    "    va=\"top\",\n",
    ")\n",
    "axes[1, 0].text(\n",
    "    -0.1,\n",
    "    1.05,\n",
    "    \"c)\",\n",
    "    transform=axes[1, 0].transAxes,\n",
    "    fontsize=16,\n",
    "    fontweight=\"bold\",\n",
    "    va=\"top\",\n",
    ")\n",
    "axes[1, 1].text(\n",
    "    -0.1,\n",
    "    1.05,\n",
    "    \"d)\",\n",
    "    transform=axes[1, 1].transAxes,\n",
    "    fontsize=16,\n",
    "    fontweight=\"bold\",\n",
    "    va=\"top\",\n",
    ")\n",
    "\n",
    "# Set facecolor for the figure only horizontal lines\n",
    "# fig.set_facecolor(color='white')\n",
    "\n",
    "# Adjust layout\n",
    "plt.tight_layout()\n",
    "\n",
    "# Save the plot as pdf\n",
    "plt.savefig(fig_save_path / \"demographics.pdf\")\n",
    "\n",
    "# Show the plot\n",
    "plt.show()"
   ]
  },
  {
   "cell_type": "markdown",
   "id": "968920ce83a738c",
   "metadata": {
    "collapsed": false
   },
   "source": [
    "# calibrations"
   ]
  },
  {
   "cell_type": "code",
   "execution_count": 34,
   "id": "8cdf96d968a529d3",
   "metadata": {
    "ExecuteTime": {
     "end_time": "2024-04-21T11:05:01.943894Z",
     "start_time": "2024-04-21T11:05:01.940379Z"
    },
    "collapsed": false
   },
   "outputs": [],
   "source": [
    "p_comprehension_score = data[data[\"batch_condition\"] == \"p\"]\n",
    "n_comprehension_score = data[data[\"batch_condition\"] == \"n\"]"
   ]
  },
  {
   "cell_type": "code",
   "execution_count": 41,
   "id": "effd1fb21b73babb",
   "metadata": {
    "ExecuteTime": {
     "end_time": "2024-05-11T08:09:37.516565Z",
     "start_time": "2024-05-11T08:09:37.185211Z"
    },
    "collapsed": false
   },
   "outputs": [
    {
     "data": {
      "image/png": "[encoded data removed]",
      "text/plain": [
       "<Figure size 2000x1500 with 4 Axes>"
      ]
     },
     "metadata": {},
     "output_type": "display_data"
    }
   ],
   "source": [
    "sns.set_context(\"paper\", font_scale=2)\n",
    "sns.set_theme(font_scale=1.5, style=\"whitegrid\")\n",
    "# Create the subplots\n",
    "fig_colors = \"#8da0cb\"  # \"#a1c9f4\"\n",
    "colors = [\"#66c2a5\", \"#fc8d62\"]\n",
    "color_dict = {\n",
    "    \"p\": colors[0],\n",
    "    \"n\": colors[1],\n",
    "}\n",
    "fig, axes = plt.subplots(nrows=2, ncols=2, figsize=(20, 15), sharey=\"row\")\n",
    "\n",
    "# seaborn.set_style(style=\"whitegrid\")\n",
    "\n",
    "# Plot 1: Number of Recalibrations\n",
    "axes[0, 0] = sns.histplot(\n",
    "    data,\n",
    "    x=\"session_interruptions_(recalibrations)\",\n",
    "    color=fig_colors,\n",
    "    ax=axes[0, 0],\n",
    "    binrange=(0, 27),\n",
    "    binwidth=3,\n",
    ")\n",
    "axes[0, 0].set(ylabel=\"Participants\")\n",
    "axes[0, 0].set(xlabel=\"Recalibration Sessions\")\n",
    "axes[0, 0].axvline(session_interruptions.mean(), color=fig_colors, ls=\"--\", lw=2.5)\n",
    "axes[0, 0].set_xticks(np.arange(0, 28, 6))  # Assuming the x-axis goes from 0 to 27\n",
    "\n",
    "# Display mean value as text on the plot\n",
    "axes[0, 0].text(\n",
    "    session_interruptions.mean(),  # x-coordinate (same as mean value)\n",
    "    axes[0, 0].get_ylim()[1] * 0.95,  # y-coordinate (adjust as needed)\n",
    "    f\"  {session_interruptions.mean():.2f}\",  # Label text\n",
    "    color=fig_colors,\n",
    "    ha=\"left\",\n",
    "    fontsize=14,\n",
    "    fontweight=\"bold\"\n",
    ")\n",
    "\n",
    "# Plot 2: Validations\n",
    "axes[0, 1] = sns.histplot(\n",
    "    validation_error,\n",
    "    x=\"avg_avg_val_error\",\n",
    "    color=fig_colors,\n",
    "    ax=axes[0, 1],\n",
    "    binrange=(0.1, 0.5),\n",
    "    binwidth=0.025,\n",
    ")\n",
    "axes[0, 1].set(ylabel=\"\")\n",
    "axes[0, 1].set(xlabel=\"Validation Error (degrees)\")\n",
    "axes[0, 1].axvline(\n",
    "    validation_error.avg_avg_val_error.mean(), color=fig_colors, ls=\"--\", lw=2.5\n",
    ")\n",
    "axes[0, 1].set_xticks(np.arange(0.1, 0.51, 0.1))\n",
    "\n",
    "axes[0, 1].text(\n",
    "    validation_error.avg_avg_val_error.mean(), \n",
    "    axes[0, 1].get_ylim()[1] * 0.95, \n",
    "    f\"  {validation_error.avg_avg_val_error.mean():.2f}\", \n",
    "    color=fig_colors,\n",
    "    ha=\"left\",\n",
    "    fontsize=14,\n",
    "    fontweight=\"bold\"\n",
    ")\n",
    "\n",
    "# Plot 3: Experiment Duration\n",
    "axes[1, 0] = sns.histplot(\n",
    "    data,\n",
    "    x=\"total_duration\",\n",
    "    color=fig_colors,\n",
    "    ax=axes[1, 0],\n",
    "    binrange=(25, 115),\n",
    "    binwidth=5,\n",
    ")\n",
    "# axes[0, 1] = seaborn.histplot(DATA, x=\"session_duration\", color='purple', ax=axes[1])\n",
    "axes[1, 0].axvline(data.total_duration.mean(), color=fig_colors, ls=\"--\", lw=2.5)\n",
    "axes[1, 0].set(ylabel=\"Participants\")\n",
    "axes[1, 0].set(xlabel=\"Experiment Duration (minutes)\")\n",
    "# axes[0, 1].set_xticks()\n",
    "\n",
    "axes[1, 0].text(\n",
    "    data.total_duration.mean(),  \n",
    "    axes[1, 0].get_ylim()[1] * 1,  \n",
    "    f\"  {data.total_duration.mean():.2f}\",  \n",
    "    color=fig_colors,\n",
    "    ha=\"left\",\n",
    "    fontsize=14,\n",
    "    fontweight=\"bold\"\n",
    ")\n",
    "\n",
    "# Plot 4: Reading Comprehension Score\n",
    "condition_labels = [\n",
    "    \"Hunting\",\n",
    "    \"Gathering\",\n",
    "]\n",
    "\n",
    "\n",
    "axes[1, 1] = sns.histplot(\n",
    "    data=data,\n",
    "    x=\"comprehension_score_without_reread\",\n",
    "    palette=color_dict,\n",
    "    ax=axes[1, 1],\n",
    "    hue=\"batch_condition\",\n",
    "    multiple=\"layer\",\n",
    "    binrange=(45, 100),\n",
    "    binwidth=5,\n",
    ")\n",
    "# bins = np.linspace(40, 100, 25)\n",
    "# axes[1, 1].hist([p_comprehension_score[\"comprehension_score_without_reread\"], n_comprehension_score[\"comprehension_score_without_reread\"]], bins=bins, color=['#b9f2f0', '#d0bbff'], alpha=0.7, label=['Preview', 'No Preview'])\n",
    "# handles = [plt.Rectangle((0, 0), 1, 1, fc=color, edgecolor=\"none\") for color in colors]\n",
    "axes[1, 1].legend(\n",
    "    # handles=handles,\n",
    "    labels=condition_labels,\n",
    "    title=\"Condition\",\n",
    "    loc=\"upper left\",\n",
    ")\n",
    "axes[1, 1].set(xlabel=\"Reading Comprehension Accuracy\")\n",
    "axes[1, 1].set(ylabel=\"\")\n",
    "axes[1, 1].axvline(\n",
    "    data[data[\"batch_condition\"] == \"n\"].comprehension_score_without_reread.mean(),\n",
    "    color=colors[1],\n",
    "    ls=\"--\",\n",
    "    lw=2.5,\n",
    ")\n",
    "\n",
    "axes[1, 1].text(\n",
    "    data[data[\"batch_condition\"] == \"n\"].comprehension_score_without_reread.mean(),  \n",
    "    axes[1, 1].get_ylim()[1] * 0.96,  \n",
    "    f\"  {data[data[\"batch_condition\"] == \"n\"].comprehension_score_without_reread.mean():.2f}\",  \n",
    "    color=colors[1],\n",
    "    ha=\"left\",\n",
    "    fontsize=14,\n",
    "    fontweight=\"bold\"\n",
    ")\n",
    "\n",
    "axes[1, 1].axvline(\n",
    "    data[data[\"batch_condition\"] == \"p\"].comprehension_score_without_reread.mean(),\n",
    "    color=colors[0],\n",
    "    ls=\"--\",\n",
    "    lw=2.5,\n",
    ")\n",
    "\n",
    "axes[1, 1].text(\n",
    "    data[data[\"batch_condition\"] == \"p\"].comprehension_score_without_reread.mean(),  \n",
    "    axes[1, 1].get_ylim()[1] * 0.96,  \n",
    "    f\"  {data[data[\"batch_condition\"] == \"p\"].comprehension_score_without_reread.mean():.2f}\",  \n",
    "    color=colors[0],\n",
    "    ha=\"left\",\n",
    "    fontsize=14,\n",
    "    fontweight=\"bold\"\n",
    ")\n",
    "\n",
    "\n",
    "# Add labels (a, b, c, d) to each subplot\n",
    "axes[0, 0].text(\n",
    "    -0.1,\n",
    "    1.05,\n",
    "    \"a)\",\n",
    "    transform=axes[0, 0].transAxes,\n",
    "    fontsize=16,\n",
    "    fontweight=\"bold\",\n",
    "    va=\"top\",\n",
    ")\n",
    "axes[0, 1].text(\n",
    "    -0.1,\n",
    "    1.05,\n",
    "    \"b)\",\n",
    "    transform=axes[0, 1].transAxes,\n",
    "    fontsize=16,\n",
    "    fontweight=\"bold\",\n",
    "    va=\"top\",\n",
    ")\n",
    "axes[1, 0].text(\n",
    "    -0.1,\n",
    "    1.05,\n",
    "    \"c)\",\n",
    "    transform=axes[1, 0].transAxes,\n",
    "    fontsize=16,\n",
    "    fontweight=\"bold\",\n",
    "    va=\"top\",\n",
    ")\n",
    "axes[1, 1].text(\n",
    "    -0.1,\n",
    "    1.05,\n",
    "    \"d)\",\n",
    "    transform=axes[1, 1].transAxes,\n",
    "    fontsize=16,\n",
    "    fontweight=\"bold\",\n",
    "    va=\"top\",\n",
    ")\n",
    "\n",
    "# increase font size\n",
    "for ax in axes.flat:\n",
    "    ax.tick_params(axis=\"both\", which=\"major\", labelsize=20)\n",
    "\n",
    "# increase axis font size\n",
    "\n",
    "# Set facecolor for the figure\n",
    "fig.set_facecolor(\"white\")\n",
    "\n",
    "# Adjust layout\n",
    "plt.tight_layout()\n",
    "\n",
    "# Save the plot as pdf\n",
    "plt.savefig(fig_save_path / \"exp_stats.pdf\")\n",
    "\n",
    "# Show the plot\n",
    "plt.show()"
   ]
  },
  {
   "cell_type": "code",
   "execution_count": 42,
   "id": "e1d3671485fa7c4e",
   "metadata": {
    "ExecuteTime": {
     "end_time": "2024-05-11T08:03:37.331718Z",
     "start_time": "2024-05-11T08:03:37.291797Z"
    },
    "collapsed": false
   },
   "outputs": [
    {
     "name": "stdout",
     "output_type": "stream",
     "text": [
      "Mean number of calibrations per-recalibration session: 1.3\n"
     ]
    }
   ],
   "source": [
    "mean_calibrations_per_session = sum(data[\"total_recalibrations\"]) / sum(\n",
    "    data[\"session_interruptions_(recalibrations)\"]\n",
    ")\n",
    "print(\n",
    "    f\"Mean number of calibrations per-recalibration session: {round(mean_calibrations_per_session,1)}\"\n",
    ")"
   ]
  }
 ],
 "metadata": {
  "kernelspec": {
   "display_name": "onestop",
   "language": "python",
   "name": "python3"
  },
  "language_info": {
   "codemirror_mode": {
    "name": "ipython",
    "version": 3
   },
   "file_extension": ".py",
   "mimetype": "text/x-python",
   "name": "python",
   "nbconvert_exporter": "python",
   "pygments_lexer": "ipython3",
   "version": "3.12.4"
  }
 },
 "nbformat": 4,
 "nbformat_minor": 5
}
