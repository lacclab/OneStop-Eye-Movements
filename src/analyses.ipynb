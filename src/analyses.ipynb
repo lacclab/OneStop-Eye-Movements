{
 "cells": [
  {
   "cell_type": "code",
   "execution_count": 2,
   "id": "05cefe4b",
   "metadata": {},
   "outputs": [],
   "source": [
    "import config\n",
    "from datasets import load_dataset\n",
    "import matplotlib.pyplot as plt\n",
    "import numpy as np\n",
    "import pandas as pd\n",
    "from pathlib import Path\n",
    "import seaborn as sns\n",
    "import utils"
   ]
  },
  {
   "cell_type": "code",
   "execution_count": 3,
   "id": "f71e9613",
   "metadata": {},
   "outputs": [],
   "source": [
    "fig_save_path = Path(\"figures\")\n",
    "fig_save_path.mkdir(exist_ok=True)"
   ]
  },
  {
   "cell_type": "code",
   "execution_count": 4,
   "id": "2d6940ef",
   "metadata": {},
   "outputs": [],
   "source": [
    "# Load the OneStopQA dataset\n",
    "onestop_qa = load_dataset(\n",
    "    \"onestop_qa\", split=\"train\", trust_remote_code=True\n",
    ").to_pandas()"
   ]
  },
  {
   "cell_type": "code",
   "execution_count": null,
   "id": "5df81626",
   "metadata": {},
   "outputs": [],
   "source": [
    "QUESTIONNAIRE = utils.load_json(config.QUESTIONNAIRE_PATH)\n",
    "SESSION_SUMMARY = utils.load_df(config.SESSION_SUMMARY_PATH)"
   ]
  },
  {
   "cell_type": "code",
   "execution_count": 6,
   "id": "e13d9526",
   "metadata": {},
   "outputs": [
    {
     "name": "stderr",
     "output_type": "stream",
     "text": [
      "/Users/ellalion/OneStop-Eye-Movements/src/utils.py:11: DtypeWarning: Columns (126) have mixed types. Specify dtype option on import or set low_memory=False.\n",
      "  df = pd.read_table(path, encoding=\"utf-16\")\n"
     ]
    }
   ],
   "source": [
    "IA_P = utils.load_df(config.IA_P_PATH)\n",
    "IA_Q = utils.load_df(config.IA_Q_PATH)\n",
    "IA_A = utils.load_df(config.IA_A_PATH)\n",
    "IA_Q_preview = utils.load_df(config.IA_Q_preview_PATH)\n",
    "IA_T = utils.load_df(config.IA_T_PATH)\n",
    "IA_QA = utils.load_df(config.IA_QA_PATH)"
   ]
  },
  {
   "cell_type": "markdown",
   "id": "71684c714035d1c6",
   "metadata": {
    "collapsed": false
   },
   "source": [
    "# 1.1.1 Key Statistics"
   ]
  },
  {
   "cell_type": "code",
   "execution_count": 11,
   "id": "8c2feebb",
   "metadata": {},
   "outputs": [
    {
     "name": "stdout",
     "output_type": "stream",
     "text": [
      "Number of tokens in IA reports:\n",
      "paragraphs - 2252443\n",
      "questions - 201044\n",
      "questions and answers - 868682\n",
      "questions preview - 101369\n",
      "titles - 30102\n",
      "total words - 3453640\n"
     ]
    }
   ],
   "source": [
    "# Calculate the lengths\n",
    "p = len(IA_P.query(\"practice==0\"))\n",
    "q = len(IA_Q.query(\"practice==0\"))\n",
    "a = len(IA_A.query(\"practice==0\"))\n",
    "q_pre = len(IA_Q_preview.query(\"practice==0\"))\n",
    "t = len(IA_T.query(\"practice==0\"))\n",
    "total = p + q + a + t + q_pre\n",
    "\n",
    "# Consolidated print statement\n",
    "print(\n",
    "    f\"Number of tokens in IA reports:\\nparagraphs - {p}\\nquestions - {q}\\nquestions and answers - {a}\\nquestions preview - {q_pre}\\ntitles - {t}\\ntotal words - {total}\"\n",
    ")"
   ]
  },
  {
   "cell_type": "markdown",
   "id": "28d1256d",
   "metadata": {},
   "source": [
    "# 1.1.2 Participants"
   ]
  },
  {
   "cell_type": "code",
   "execution_count": 5,
   "id": "a0811ea5",
   "metadata": {},
   "outputs": [
    {
     "name": "stdout",
     "output_type": "stream",
     "text": [
      "Total number of participants: 360\n"
     ]
    }
   ],
   "source": [
    "print(f\"Total number of participants: {len(SESSION_SUMMARY)}\")"
   ]
  },
  {
   "cell_type": "code",
   "execution_count": 16,
   "id": "4dfeec15",
   "metadata": {},
   "outputs": [],
   "source": [
    "# Questionnaire json to dataframe filled missing values with NaN\n",
    "questionnaire_df = pd.DataFrame(QUESTIONNAIRE)"
   ]
  },
  {
   "cell_type": "code",
   "execution_count": 17,
   "id": "6c84d14f",
   "metadata": {},
   "outputs": [
    {
     "name": "stdout",
     "output_type": "stream",
     "text": [
      "female - 238, male - 117, other - 5\n"
     ]
    }
   ],
   "source": [
    "# gender\n",
    "gender = questionnaire_df[\"Gender\"]\n",
    "labels, counts = np.unique(gender, return_counts=True)\n",
    "print(\n",
    "    f\"{labels[0]} - {counts[0]}, {labels[1]} - {counts[1]}, {labels[2]} - {counts[2]}\"\n",
    ")"
   ]
  },
  {
   "cell_type": "code",
   "execution_count": 8,
   "id": "3f7600df72dccc3",
   "metadata": {
    "ExecuteTime": {
     "end_time": "2024-05-11T08:50:08.273670Z",
     "start_time": "2024-05-11T08:50:08.243326Z"
    },
    "collapsed": false
   },
   "outputs": [
    {
     "name": "stdout",
     "output_type": "stream",
     "text": [
      "mean age - 22.8\n",
      "std age - 5.7\n",
      "Age mean - 22.8, Age std - 5.8\n"
     ]
    }
   ],
   "source": [
    "# age\n",
    "print(f'mean age - {round(np.mean(questionnaire_df[\"Age\"]),1)}')\n",
    "print(f'std age - {round(np.std(questionnaire_df[\"Age\"]),1)}')\n",
    "\n",
    "print(\n",
    "    f\"Age mean - {round(questionnaire_df['Age'].mean(), ndigits=1)}, Age std - {round(questionnaire_df['Age'].std(), 1)}\"\n",
    ")"
   ]
  },
  {
   "cell_type": "code",
   "execution_count": 12,
   "id": "f6b9b5e5",
   "metadata": {},
   "outputs": [
    {
     "name": "stdout",
     "output_type": "stream",
     "text": [
      "Number of balanced bilinguals: 29\n"
     ]
    }
   ],
   "source": [
    "# Balanced Bilinguals\n",
    "counter = 0\n",
    "for languages in questionnaire_df[\"Languages\"]:\n",
    "    if isinstance(languages, list):\n",
    "        for lang in languages: \n",
    "            if lang.get(\"Language Proficiency\") == \"native\":\n",
    "                counter += 1\n",
    "print(f\"Number of balanced bilinguals: {counter}\")\n",
    "\n",
    "# Number of Additional Languages\n",
    "par_dict = {}\n",
    "participants_additional_languages = questionnaire_df[\"Languages\"]\n",
    "par_languages = []\n",
    "speak = []\n",
    "for participant_add_lang in participants_additional_languages:\n",
    "    if isinstance(participant_add_lang, list):\n",
    "        for l in participant_add_lang:\n",
    "            par_languages.append(l.get(\"Language\"))  \n",
    "        speak.append(len(participant_add_lang))\n",
    "    else:\n",
    "        participant_add_lang = \"\"\n",
    "        speak.append(len(participant_add_lang))\n",
    "lang, counts = np.unique(par_languages, return_counts=True)\n",
    "language = dict(zip(lang, counts))\n",
    "num_of_l, c = np.unique(speak, return_counts=True)\n",
    "num_of_languages = dict(zip(num_of_l, c))\n",
    "plus_5 = [min(p_5, 5) for p_5 in speak]\n",
    "num_of_l_5, c_5 = np.unique(plus_5, return_counts=True)\n",
    "num_of_lang_plus_5 = dict(zip(num_of_l_5, c_5))"
   ]
  },
  {
   "cell_type": "code",
   "execution_count": 9,
   "id": "d2d4952acf376bdf",
   "metadata": {
    "ExecuteTime": {
     "end_time": "2024-05-11T07:17:36.663446Z",
     "start_time": "2024-05-11T07:17:36.646850Z"
    },
    "collapsed": false
   },
   "outputs": [
    {
     "name": "stdout",
     "output_type": "stream",
     "text": [
      "Mean age of acquisition (AoA) - 0.4\n"
     ]
    }
   ],
   "source": [
    "# The mean English Age of Acquisition\n",
    "print(\n",
    "    f'Mean age of acquisition (AoA) - {round(np.mean(questionnaire_df[\"English AoA\"]),1)}'\n",
    ")"
   ]
  },
  {
   "cell_type": "code",
   "execution_count": 10,
   "id": "633c9226",
   "metadata": {},
   "outputs": [
    {
     "name": "stdout",
     "output_type": "stream",
     "text": [
      "Number of participants with university affiliation: 289\n",
      "University Institutions and their counts:\n",
      "MIT: 207\n",
      "Other: 63\n",
      "Technion: 19\n",
      "University Roles and their counts:\n",
      "Admin: 4\n",
      "Faculty: 13\n",
      "Grad: 39\n",
      "Other: 8\n",
      "Undergrad: 225\n"
     ]
    }
   ],
   "source": [
    "# participants university affiliation\n",
    "uni_affiliation = sum(questionnaire_df[\"University Affiliation\"] == \"yes\")\n",
    "print(f\"Number of participants with university affiliation: {uni_affiliation}\")\n",
    "\n",
    "uni_institutions = questionnaire_df[\"University Institution\"].dropna()\n",
    "institution_mapping = {\n",
    "    \"mit\": \"MIT\",\n",
    "    \"Technion\": \"Technion\",\n",
    "    }\n",
    "uni_institutions_grouped = uni_institutions.apply(lambda x: institution_mapping.get(x, \"Other\"))\n",
    "\n",
    "institutions_labels, institutions_counts = np.unique(uni_institutions_grouped, return_counts=True)\n",
    "print(\"University Institutions and their counts:\")\n",
    "for i_label, i_count in zip(institutions_labels, institutions_counts):\n",
    "    print(f\"{i_label}: {i_count}\")\n",
    "\n",
    "uni_roles = questionnaire_df[\"University Role\"].dropna()\n",
    "roles_mapping = {\n",
    "    \"undergrad\": \"Undergrad\",\n",
    "    \"grad\": \"Grad\",\n",
    "    \"faculty\": \"Faculty\",\n",
    "    \"admin\": \"Admin\",\n",
    "    }\n",
    "uni_roles_grouped = uni_roles.apply(lambda x: roles_mapping.get(x, \"Other\"))\n",
    "role_labels, role_counts = np.unique(uni_roles_grouped, return_counts=True)\n",
    "print(\"University Roles and their counts:\")\n",
    "for r_label, r_count in zip(role_labels, role_counts):\n",
    "    print(f\"{r_label}: {r_count}\")\n"
   ]
  },
  {
   "cell_type": "code",
   "execution_count": 13,
   "id": "7db62edf9a50efd4",
   "metadata": {
    "ExecuteTime": {
     "end_time": "2024-05-11T07:27:08.421808Z",
     "start_time": "2024-05-11T07:27:08.240857Z"
    },
    "collapsed": false
   },
   "outputs": [
    {
     "name": "stderr",
     "output_type": "stream",
     "text": [
      "/var/folders/xz/v_bn9sxn4ld2lw3b85g8bpmw0000gn/T/ipykernel_35385/3840487682.py:21: UserWarning: set_ticklabels() should only be used with a fixed number of ticks, i.e. after set_ticks() or using a FixedLocator.\n",
      "  axes[1].set(xticklabels=education_labels)\n",
      "/var/folders/xz/v_bn9sxn4ld2lw3b85g8bpmw0000gn/T/ipykernel_35385/3840487682.py:35: UserWarning: set_ticklabels() should only be used with a fixed number of ticks, i.e. after set_ticks() or using a FixedLocator.\n",
      "  axes[2].set(xticklabels=add_lang_labels)\n"
     ]
    },
    {
     "data": {
      "image/png": "[encoded data removed]",
      "text/plain": [
       "<Figure size 2200x800 with 3 Axes>"
      ]
     },
     "metadata": {},
     "output_type": "display_data"
    }
   ],
   "source": [
    "# Create Figure 1: Demographics\n",
    "sns.set_context(\"paper\", font_scale=2)\n",
    "sns.set_theme(font_scale=1.5, style=\"whitegrid\")\n",
    "fig_colors = \"#8da0cb\"  # \"#a1c9f4\"\n",
    "fig, axes = plt.subplots(nrows=1, ncols=3, figsize=(22, 8), sharey=\"row\")\n",
    "sns.set_style(\"whitegrid\")\n",
    "\n",
    "# Plot 1: Countplot for Age\n",
    "age_bins = [18, 22, 32, 42, 52]\n",
    "age_labels = [\"18-22\", \"23-32\", \"33-42\", \"43-52\"]\n",
    "data = questionnaire_df.copy()\n",
    "data[\"age_category\"] = pd.cut(data[\"Age\"], bins=age_bins, labels=age_labels, right=False)\n",
    "sns.countplot(data=data, x=\"age_category\", color=fig_colors, ax=axes[0], order=age_labels)\n",
    "axes[0].set(ylabel=\"Participants\")\n",
    "axes[0].set(xlabel=\"Age\")\n",
    "\n",
    "# Plot 2: Countplot for Level of Education\n",
    "education_order = [\"secondary\", \"college\", \"postgrad\"]\n",
    "education_labels = [\"Secondary\", \"Undergraduate\", \"Graduate\"]\n",
    "sns.countplot(data=data, x=\"Education Level\", color=fig_colors, ax=axes[1], order=education_order)\n",
    "axes[1].set(xticklabels=education_labels)\n",
    "axes[1].set(ylabel=\"\")\n",
    "axes[1].set(xlabel=\"Education\")\n",
    "\n",
    "# Plot 3: Barplot for Number of Additional Languages\n",
    "add_lang_labels = [\"0\", \"1\", \"2\", \"3\", \"4\", \"5+\"]\n",
    "axes[2] = sns.barplot(\n",
    "    x=list(num_of_lang_plus_5.keys()),\n",
    "    y=list(num_of_lang_plus_5.values()),\n",
    "    color=fig_colors,\n",
    "    ax=axes[2],\n",
    ")\n",
    "axes[2].set(ylabel=\"\")\n",
    "axes[2].set(xlabel=\"Number of Additional Languages\")\n",
    "axes[2].set(xticklabels=add_lang_labels)\n",
    "\n",
    "# Add labels (a, b, c) to each subplot\n",
    "axes[0].text(\n",
    "    -0.1,\n",
    "    1.05,\n",
    "    \"a)\",\n",
    "    transform=axes[0].transAxes,\n",
    "    fontsize=16,\n",
    "    fontweight=\"bold\",\n",
    "    va=\"top\",\n",
    ")\n",
    "axes[1].text(\n",
    "    -0.1,\n",
    "    1.05,\n",
    "    \"b)\",\n",
    "    transform=axes[1].transAxes,\n",
    "    fontsize=16,\n",
    "    fontweight=\"bold\",\n",
    "    va=\"top\",\n",
    ")\n",
    "axes[2].text(\n",
    "    -0.1,\n",
    "    1.05,\n",
    "    \"c)\",\n",
    "    transform=axes[2].transAxes,\n",
    "    fontsize=16,\n",
    "    fontweight=\"bold\",\n",
    "    va=\"top\",\n",
    ")\n",
    "\n",
    "# Adjust layout\n",
    "plt.tight_layout()\n",
    "\n",
    "# Save the plot as pdf\n",
    "plt.savefig(fig_save_path / \"demographics.pdf\")\n",
    "\n",
    "# Show the plot\n",
    "plt.show()"
   ]
  },
  {
   "cell_type": "markdown",
   "id": "9bbf8edc",
   "metadata": {},
   "source": [
    "## 1.1.3 Calibration Quality"
   ]
  },
  {
   "cell_type": "code",
   "execution_count": 6,
   "id": "cdda018e59c6cfeb",
   "metadata": {
    "ExecuteTime": {
     "end_time": "2024-05-11T09:36:18.335712Z",
     "start_time": "2024-05-11T09:36:18.330036Z"
    },
    "collapsed": false
   },
   "outputs": [
    {
     "name": "stdout",
     "output_type": "stream",
     "text": [
      "Mean number of recalibrations: 6.7\n",
      "Mean number of calibrations per-recalibration session: 1.3\n"
     ]
    }
   ],
   "source": [
    "# mean number of calibration sessions during an experiment\n",
    "session_interruptions = SESSION_SUMMARY[\"Recalibration Count\"]\n",
    "print(f\"Mean number of recalibrations: {round(np.mean(session_interruptions),1)}\")\n",
    "\n",
    "# mean number of calibration attempts per calibration session\n",
    "mean_calibrations_per_session = sum(SESSION_SUMMARY[\"Total Recalibrations\"]) / sum(SESSION_SUMMARY[\"Recalibration Count\"])\n",
    "print(f\"Mean number of calibrations per-recalibration session: {round(mean_calibrations_per_session,1)}\")"
   ]
  },
  {
   "cell_type": "code",
   "execution_count": 8,
   "id": "5c290a0e",
   "metadata": {},
   "outputs": [
    {
     "name": "stdout",
     "output_type": "stream",
     "text": [
      "Percentage of Trials Over 0.3 Error: 15.5%\n",
      "Percentage of Validation Errors Over 0.3: 8.9%\n"
     ]
    }
   ],
   "source": [
    "# Percent validation error over 0.3\n",
    "validation_error = pd.read_csv(config.BASE_PATH / \"validation_error.csv\")\n",
    "over_03 = validation_error[[\"num_over_03\", \"total_trials\"]].sum()\n",
    "\n",
    "percentage_over_03 = round(over_03[\"num_over_03\"] / over_03[\"total_trials\"] * 100, 1)\n",
    "percentage_avg_error_over_03 = round(\n",
    "    (validation_error[\"avg_avg_val_error\"] > 0.3).sum() / 360 * 100, 1\n",
    ")\n",
    "\n",
    "print(f\"Percentage of Trials Over 0.3 Error: {percentage_over_03}%\")\n",
    "print(f\"Percentage of Validation Errors Over 0.3: {percentage_avg_error_over_03}%\")"
   ]
  },
  {
   "cell_type": "markdown",
   "id": "0736dcef",
   "metadata": {},
   "source": [
    "# 1.1.4 Experiment Duration"
   ]
  },
  {
   "cell_type": "code",
   "execution_count": 9,
   "id": "8027f77b2c125bce",
   "metadata": {
    "ExecuteTime": {
     "end_time": "2024-05-11T09:36:19.469806Z",
     "start_time": "2024-05-11T09:36:19.463586Z"
    },
    "collapsed": false
   },
   "outputs": [
    {
     "name": "stdout",
     "output_type": "stream",
     "text": [
      "mean duration (in minutes) - 44.3\n",
      "mean total duration (in minutes) - 55.7\n"
     ]
    }
   ],
   "source": [
    "print(f'mean duration (in minutes) - {round(np.mean(SESSION_SUMMARY[\"Session Duration\"]),1)}')\n",
    "print(f'mean total duration (in minutes) - {round(np.mean(SESSION_SUMMARY[\"Total Session Duration\"]),1)}')"
   ]
  },
  {
   "cell_type": "code",
   "execution_count": 10,
   "id": "933dd93077c24cfc",
   "metadata": {
    "ExecuteTime": {
     "end_time": "2024-05-11T09:36:20.038652Z",
     "start_time": "2024-05-11T09:36:20.032796Z"
    },
    "collapsed": false
   },
   "outputs": [
    {
     "name": "stdout",
     "output_type": "stream",
     "text": [
      "mean hunting duration - 43.3\n",
      "mean gathering duration - 45.3\n",
      "total mean hunting duration - 54.3\n",
      "total mean gathering duration - 57.1\n"
     ]
    }
   ],
   "source": [
    "hunting = SESSION_SUMMARY[SESSION_SUMMARY[\"Question Preview\"] == True]\n",
    "gathering = SESSION_SUMMARY[SESSION_SUMMARY[\"Question Preview\"] == False]\n",
    "h_session_duration = hunting[\"Session Duration\"]\n",
    "g_session_duration = gathering[\"Session Duration\"]\n",
    "print(f\"mean hunting duration - {round(np.mean(h_session_duration),1)}\")\n",
    "print(f\"mean gathering duration - {round(np.mean(g_session_duration),1)}\")\n",
    "h_total_session_duration = hunting[\"Total Session Duration\"]\n",
    "g_total_session_duration = gathering[\"Total Session Duration\"]\n",
    "print(f\"total mean hunting duration - {round(np.mean(h_total_session_duration),1)}\")\n",
    "print(f\"total mean gathering duration - {round(np.mean(g_total_session_duration),1)}\")"
   ]
  },
  {
   "cell_type": "code",
   "execution_count": 7,
   "id": "51583def53893ecb",
   "metadata": {
    "ExecuteTime": {
     "end_time": "2024-05-11T10:01:44.100569Z",
     "start_time": "2024-05-11T10:01:41.025298Z"
    },
    "collapsed": false
   },
   "outputs": [
    {
     "ename": "KeyError",
     "evalue": "'START_TIME'",
     "output_type": "error",
     "traceback": [
      "\u001b[0;31m---------------------------------------------------------------------------\u001b[0m",
      "\u001b[0;31mKeyError\u001b[0m                                  Traceback (most recent call last)",
      "File \u001b[0;32m~/miniforge3/envs/onestop/lib/python3.12/site-packages/pandas/core/indexes/base.py:3805\u001b[0m, in \u001b[0;36mIndex.get_loc\u001b[0;34m(self, key)\u001b[0m\n\u001b[1;32m   3804\u001b[0m \u001b[38;5;28;01mtry\u001b[39;00m:\n\u001b[0;32m-> 3805\u001b[0m     \u001b[38;5;28;01mreturn\u001b[39;00m \u001b[38;5;28mself\u001b[39m\u001b[38;5;241m.\u001b[39m_engine\u001b[38;5;241m.\u001b[39mget_loc(casted_key)\n\u001b[1;32m   3806\u001b[0m \u001b[38;5;28;01mexcept\u001b[39;00m \u001b[38;5;167;01mKeyError\u001b[39;00m \u001b[38;5;28;01mas\u001b[39;00m err:\n",
      "File \u001b[0;32mindex.pyx:167\u001b[0m, in \u001b[0;36mpandas._libs.index.IndexEngine.get_loc\u001b[0;34m()\u001b[0m\n",
      "File \u001b[0;32mindex.pyx:196\u001b[0m, in \u001b[0;36mpandas._libs.index.IndexEngine.get_loc\u001b[0;34m()\u001b[0m\n",
      "File \u001b[0;32mpandas/_libs/hashtable_class_helper.pxi:7081\u001b[0m, in \u001b[0;36mpandas._libs.hashtable.PyObjectHashTable.get_item\u001b[0;34m()\u001b[0m\n",
      "File \u001b[0;32mpandas/_libs/hashtable_class_helper.pxi:7089\u001b[0m, in \u001b[0;36mpandas._libs.hashtable.PyObjectHashTable.get_item\u001b[0;34m()\u001b[0m\n",
      "\u001b[0;31mKeyError\u001b[0m: 'START_TIME'",
      "\nThe above exception was the direct cause of the following exception:\n",
      "\u001b[0;31mKeyError\u001b[0m                                  Traceback (most recent call last)",
      "Cell \u001b[0;32mIn[7], line 2\u001b[0m\n\u001b[1;32m      1\u001b[0m \u001b[38;5;66;03m# paragraph duration\u001b[39;00m\n\u001b[0;32m----> 2\u001b[0m p_duration \u001b[38;5;241m=\u001b[39m utils\u001b[38;5;241m.\u001b[39mduration_report(IA_P)\n\u001b[1;32m      3\u001b[0m p_h_duration \u001b[38;5;241m=\u001b[39m p_duration[p_duration[\u001b[38;5;124m\"\u001b[39m\u001b[38;5;124mbatch_condition\u001b[39m\u001b[38;5;124m\"\u001b[39m] \u001b[38;5;241m==\u001b[39m \u001b[38;5;124m\"\u001b[39m\u001b[38;5;124mp\u001b[39m\u001b[38;5;124m\"\u001b[39m]\n\u001b[1;32m      4\u001b[0m p_g_duration \u001b[38;5;241m=\u001b[39m p_duration[p_duration[\u001b[38;5;124m\"\u001b[39m\u001b[38;5;124mbatch_condition\u001b[39m\u001b[38;5;124m\"\u001b[39m] \u001b[38;5;241m==\u001b[39m \u001b[38;5;124m\"\u001b[39m\u001b[38;5;124mn\u001b[39m\u001b[38;5;124m\"\u001b[39m]\n",
      "File \u001b[0;32m~/OneStop-Eye-Movements/src/utils.py:76\u001b[0m, in \u001b[0;36mduration_report\u001b[0;34m(df)\u001b[0m\n\u001b[1;32m     73\u001b[0m block \u001b[38;5;241m=\u001b[39m df\u001b[38;5;241m.\u001b[39mloc[df[\u001b[38;5;124m\"\u001b[39m\u001b[38;5;124mRECORDING_SESSION_LABEL\u001b[39m\u001b[38;5;124m\"\u001b[39m] \u001b[38;5;241m==\u001b[39m unique_part]\n\u001b[1;32m     75\u001b[0m new_row \u001b[38;5;241m=\u001b[39m block\u001b[38;5;241m.\u001b[39mloc[block\u001b[38;5;241m.\u001b[39mindex\u001b[38;5;241m.\u001b[39mvalues[\u001b[38;5;241m0\u001b[39m]]\u001b[38;5;241m.\u001b[39mcopy()\n\u001b[0;32m---> 76\u001b[0m start_time \u001b[38;5;241m=\u001b[39m block[\u001b[38;5;124m\"\u001b[39m\u001b[38;5;124mSTART_TIME\u001b[39m\u001b[38;5;124m\"\u001b[39m]\u001b[38;5;241m.\u001b[39mmin() \u001b[38;5;241m/\u001b[39m \u001b[38;5;241m1000\u001b[39m \u001b[38;5;241m/\u001b[39m \u001b[38;5;241m60\u001b[39m\n\u001b[1;32m     77\u001b[0m end_time \u001b[38;5;241m=\u001b[39m block[\u001b[38;5;124m\"\u001b[39m\u001b[38;5;124mEND_TIME\u001b[39m\u001b[38;5;124m\"\u001b[39m]\u001b[38;5;241m.\u001b[39mmax() \u001b[38;5;241m/\u001b[39m \u001b[38;5;241m1000\u001b[39m \u001b[38;5;241m/\u001b[39m \u001b[38;5;241m60\u001b[39m\n\u001b[1;32m     78\u001b[0m session_duration \u001b[38;5;241m=\u001b[39m block[\u001b[38;5;124m\"\u001b[39m\u001b[38;5;124mDURATION\u001b[39m\u001b[38;5;124m\"\u001b[39m]\u001b[38;5;241m.\u001b[39msum() \u001b[38;5;241m/\u001b[39m \u001b[38;5;241m1000\u001b[39m \u001b[38;5;241m/\u001b[39m \u001b[38;5;241m60\u001b[39m\n",
      "File \u001b[0;32m~/miniforge3/envs/onestop/lib/python3.12/site-packages/pandas/core/frame.py:4102\u001b[0m, in \u001b[0;36mDataFrame.__getitem__\u001b[0;34m(self, key)\u001b[0m\n\u001b[1;32m   4100\u001b[0m \u001b[38;5;28;01mif\u001b[39;00m \u001b[38;5;28mself\u001b[39m\u001b[38;5;241m.\u001b[39mcolumns\u001b[38;5;241m.\u001b[39mnlevels \u001b[38;5;241m>\u001b[39m \u001b[38;5;241m1\u001b[39m:\n\u001b[1;32m   4101\u001b[0m     \u001b[38;5;28;01mreturn\u001b[39;00m \u001b[38;5;28mself\u001b[39m\u001b[38;5;241m.\u001b[39m_getitem_multilevel(key)\n\u001b[0;32m-> 4102\u001b[0m indexer \u001b[38;5;241m=\u001b[39m \u001b[38;5;28mself\u001b[39m\u001b[38;5;241m.\u001b[39mcolumns\u001b[38;5;241m.\u001b[39mget_loc(key)\n\u001b[1;32m   4103\u001b[0m \u001b[38;5;28;01mif\u001b[39;00m is_integer(indexer):\n\u001b[1;32m   4104\u001b[0m     indexer \u001b[38;5;241m=\u001b[39m [indexer]\n",
      "File \u001b[0;32m~/miniforge3/envs/onestop/lib/python3.12/site-packages/pandas/core/indexes/base.py:3812\u001b[0m, in \u001b[0;36mIndex.get_loc\u001b[0;34m(self, key)\u001b[0m\n\u001b[1;32m   3807\u001b[0m     \u001b[38;5;28;01mif\u001b[39;00m \u001b[38;5;28misinstance\u001b[39m(casted_key, \u001b[38;5;28mslice\u001b[39m) \u001b[38;5;129;01mor\u001b[39;00m (\n\u001b[1;32m   3808\u001b[0m         \u001b[38;5;28misinstance\u001b[39m(casted_key, abc\u001b[38;5;241m.\u001b[39mIterable)\n\u001b[1;32m   3809\u001b[0m         \u001b[38;5;129;01mand\u001b[39;00m \u001b[38;5;28many\u001b[39m(\u001b[38;5;28misinstance\u001b[39m(x, \u001b[38;5;28mslice\u001b[39m) \u001b[38;5;28;01mfor\u001b[39;00m x \u001b[38;5;129;01min\u001b[39;00m casted_key)\n\u001b[1;32m   3810\u001b[0m     ):\n\u001b[1;32m   3811\u001b[0m         \u001b[38;5;28;01mraise\u001b[39;00m InvalidIndexError(key)\n\u001b[0;32m-> 3812\u001b[0m     \u001b[38;5;28;01mraise\u001b[39;00m \u001b[38;5;167;01mKeyError\u001b[39;00m(key) \u001b[38;5;28;01mfrom\u001b[39;00m \u001b[38;5;21;01merr\u001b[39;00m\n\u001b[1;32m   3813\u001b[0m \u001b[38;5;28;01mexcept\u001b[39;00m \u001b[38;5;167;01mTypeError\u001b[39;00m:\n\u001b[1;32m   3814\u001b[0m     \u001b[38;5;66;03m# If we have a listlike key, _check_indexing_error will raise\u001b[39;00m\n\u001b[1;32m   3815\u001b[0m     \u001b[38;5;66;03m#  InvalidIndexError. Otherwise we fall through and re-raise\u001b[39;00m\n\u001b[1;32m   3816\u001b[0m     \u001b[38;5;66;03m#  the TypeError.\u001b[39;00m\n\u001b[1;32m   3817\u001b[0m     \u001b[38;5;28mself\u001b[39m\u001b[38;5;241m.\u001b[39m_check_indexing_error(key)\n",
      "\u001b[0;31mKeyError\u001b[0m: 'START_TIME'"
     ]
    }
   ],
   "source": [
    "# paragraph duration\n",
    "p_duration = utils.duration_report(IA_P)\n",
    "p_h_duration = p_duration[p_duration[\"batch_condition\"] == \"p\"]\n",
    "p_g_duration = p_duration[p_duration[\"batch_condition\"] == \"n\"]\n",
    "print(f\"p hunting - {round(p_h_duration['IP_DURATION'].mean(),1)}\")\n",
    "print(f\"p gathering - {round(p_g_duration['IP_DURATION'].mean(),1)}\")\n",
    "# q&a duration\n",
    "qa_duration = utils.duration_report(IA_QA)\n",
    "qa_h_duration = qa_duration[qa_duration[\"batch_condition\"] == \"p\"]\n",
    "qa_g_duration = qa_duration[qa_duration[\"batch_condition\"] == \"n\"]\n",
    "print(f\"qa hunting - {round(qa_h_duration['IP_DURATION'].mean(),1)}\")\n",
    "print(f\"qa gathering - {round(qa_g_duration['IP_DURATION'].mean(),1)}\")\n",
    "# q_preview duration\n",
    "q_duration = utils.duration_report(IA_Q_preview)\n",
    "print(f\"q preview - {round(q_duration['IP_DURATION'].mean(),1)}\")\n",
    "merged_h_q = pd.merge(\n",
    "    qa_h_duration,\n",
    "    q_duration,\n",
    "    on=\"RECORDING_SESSION_LABEL\",\n",
    "    suffixes=(\"_qa_h\", \"_pre_q\"),\n",
    ")\n",
    "merged_h_q[\"sum_qa_h_duration\"] = (\n",
    "    merged_h_q[\"IP_DURATION_qa_h\"] + merged_h_q[\"IP_DURATION_pre_q\"]\n",
    ")\n",
    "print(round(merged_h_q[\"sum_qa_h_duration\"].mean(), 1))\n",
    "merged_qa_q = pd.merge(\n",
    "    qa_duration, q_duration, on=\"RECORDING_SESSION_LABEL\", suffixes=(\"_qa\", \"_pre_q\")\n",
    ")\n",
    "merged_qa_q[\"sum_qa_q_duration\"] = (\n",
    "    merged_qa_q[\"IP_DURATION_qa\"] + merged_qa_q[\"IP_DURATION_pre_q\"]\n",
    ")\n",
    "print(f\"qa+q_pre - {round(merged_qa_q['sum_qa_q_duration'].mean(),1)}\")\n",
    "t_duration = utils.duration_report(IA_T)\n",
    "print(f\"t - {round(t_duration['IP_DURATION'].mean(),1)}\")\n",
    "merged_t_p = pd.merge(\n",
    "    t_duration, p_duration, on=\"RECORDING_SESSION_LABEL\", suffixes=(\"_t\", \"_p\")\n",
    ")\n",
    "merged_t_p[\"sum_t_p_duration\"] = (\n",
    "    merged_t_p[\"IP_DURATION_t\"] + merged_t_p[\"IP_DURATION_p\"]\n",
    ")\n",
    "print(round(merged_t_p[\"sum_t_p_duration\"].mean(), 1))\n",
    "p_t_h_duration = merged_t_p[merged_t_p[\"batch_condition_p\"] == \"p\"]\n",
    "p_t_g_duration = merged_t_p[merged_t_p[\"batch_condition_p\"] == \"n\"]\n",
    "print(f\"p_t hunting - {round(p_t_h_duration['sum_t_p_duration'].mean(),1)}\")\n",
    "print(f\"p_t gathering - {round(p_t_g_duration['sum_t_p_duration'].mean(),1)}\")"
   ]
  },
  {
   "cell_type": "markdown",
   "id": "ae9b161c",
   "metadata": {},
   "source": [
    "# 1.1.5 Reading Comprehension Performance"
   ]
  },
  {
   "cell_type": "code",
   "execution_count": null,
   "id": "56221699afa3af09",
   "metadata": {
    "ExecuteTime": {
     "end_time": "2024-05-11T07:17:42.659471Z",
     "start_time": "2024-05-11T07:17:42.617281Z"
    },
    "collapsed": false
   },
   "outputs": [
    {
     "name": "stdout",
     "output_type": "stream",
     "text": [
      "Reading Comprehension Accuracy - Hunting (without reread): 86.9\n",
      "Reading Comprehension Accuracy - Gathering (without reread): 81.2\n",
      "Reading Comprehension Accuracy - Hunting (with reread): 90.6\n",
      "Reading Comprehension Accuracy - Gathering (with reread): 84.2\n"
     ]
    }
   ],
   "source": [
    "# reading comprehension accuracy Hunting\n",
    "comprehension_score = SESSION_SUMMARY.groupby([\"Question Preview\"])[\"Comprehension Score - Regular Trials\"].mean()\n",
    "comprehension_hunting = comprehension_score[True]\n",
    "# reading comprehension accuracy Gathering\n",
    "comprehension_gathering = comprehension_score[False]\n",
    "\n",
    "# reading comprehension accuracy re-reading Hunting\n",
    "reread_comprehension_score = SESSION_SUMMARY.groupby([\"Question Preview\"])[\"Comprehension Score - Repeated Reading\"].mean()\n",
    "reread_comprehension_hunting = reread_comprehension_score[True]\n",
    "# reading comprehension accuracy re-reading Gathering\n",
    "reread_comprehension_gathering = reread_comprehension_score[False]\n",
    "\n",
    "\n",
    "print(\n",
    "    f\"Reading Comprehension Accuracy - Hunting (without reread): {comprehension_hunting.round(1)}\"\n",
    ")\n",
    "print(\n",
    "    f\"Reading Comprehension Accuracy - Gathering (without reread): {comprehension_gathering.round(1)}\"\n",
    ")\n",
    "print(\n",
    "    f\"Reading Comprehension Accuracy - Hunting (with reread): {reread_comprehension_hunting.round(1)}\"\n",
    ")\n",
    "print(\n",
    "    f\"Reading Comprehension Accuracy - Gathering (with reread): {reread_comprehension_gathering.round(1)}\"\n",
    ")"
   ]
  },
  {
   "cell_type": "markdown",
   "id": "a359c1c3",
   "metadata": {},
   "source": [
    "# Figure 2"
   ]
  },
  {
   "cell_type": "code",
   "execution_count": 13,
   "id": "effd1fb21b73babb",
   "metadata": {
    "ExecuteTime": {
     "end_time": "2024-05-11T08:09:37.516565Z",
     "start_time": "2024-05-11T08:09:37.185211Z"
    },
    "collapsed": false
   },
   "outputs": [
    {
     "ename": "ValueError",
     "evalue": "Could not interpret value `Mean Validation Error` for `x`. An entry with this name does not appear in `data`.",
     "output_type": "error",
     "traceback": [
      "\u001b[0;31m---------------------------------------------------------------------------\u001b[0m",
      "\u001b[0;31mValueError\u001b[0m                                Traceback (most recent call last)",
      "Cell \u001b[0;32mIn[13], line 39\u001b[0m\n\u001b[1;32m     28\u001b[0m axes[\u001b[38;5;241m0\u001b[39m, \u001b[38;5;241m0\u001b[39m]\u001b[38;5;241m.\u001b[39mtext(\n\u001b[1;32m     29\u001b[0m     session_interruptions\u001b[38;5;241m.\u001b[39mmean(),  \u001b[38;5;66;03m# x-coordinate (same as mean value)\u001b[39;00m\n\u001b[1;32m     30\u001b[0m     axes[\u001b[38;5;241m0\u001b[39m, \u001b[38;5;241m0\u001b[39m]\u001b[38;5;241m.\u001b[39mget_ylim()[\u001b[38;5;241m1\u001b[39m] \u001b[38;5;241m*\u001b[39m \u001b[38;5;241m0.95\u001b[39m,  \u001b[38;5;66;03m# y-coordinate (adjust as needed)\u001b[39;00m\n\u001b[0;32m   (...)\u001b[0m\n\u001b[1;32m     35\u001b[0m     fontweight\u001b[38;5;241m=\u001b[39m\u001b[38;5;124m\"\u001b[39m\u001b[38;5;124mbold\u001b[39m\u001b[38;5;124m\"\u001b[39m\n\u001b[1;32m     36\u001b[0m )\n\u001b[1;32m     38\u001b[0m \u001b[38;5;66;03m# Plot 2: Validations\u001b[39;00m\n\u001b[0;32m---> 39\u001b[0m axes[\u001b[38;5;241m0\u001b[39m, \u001b[38;5;241m1\u001b[39m] \u001b[38;5;241m=\u001b[39m sns\u001b[38;5;241m.\u001b[39mhistplot(\n\u001b[1;32m     40\u001b[0m     validation_error,\n\u001b[1;32m     41\u001b[0m     x\u001b[38;5;241m=\u001b[39m\u001b[38;5;124m\"\u001b[39m\u001b[38;5;124mMean Validation Error\u001b[39m\u001b[38;5;124m\"\u001b[39m,\n\u001b[1;32m     42\u001b[0m     color\u001b[38;5;241m=\u001b[39mfig_colors,\n\u001b[1;32m     43\u001b[0m     ax\u001b[38;5;241m=\u001b[39maxes[\u001b[38;5;241m0\u001b[39m, \u001b[38;5;241m1\u001b[39m],\n\u001b[1;32m     44\u001b[0m     binrange\u001b[38;5;241m=\u001b[39m(\u001b[38;5;241m0.1\u001b[39m, \u001b[38;5;241m0.5\u001b[39m),\n\u001b[1;32m     45\u001b[0m     binwidth\u001b[38;5;241m=\u001b[39m\u001b[38;5;241m0.025\u001b[39m,\n\u001b[1;32m     46\u001b[0m )\n\u001b[1;32m     47\u001b[0m axes[\u001b[38;5;241m0\u001b[39m, \u001b[38;5;241m1\u001b[39m]\u001b[38;5;241m.\u001b[39mset(ylabel\u001b[38;5;241m=\u001b[39m\u001b[38;5;124m\"\u001b[39m\u001b[38;5;124m\"\u001b[39m)\n\u001b[1;32m     48\u001b[0m axes[\u001b[38;5;241m0\u001b[39m, \u001b[38;5;241m1\u001b[39m]\u001b[38;5;241m.\u001b[39mset(xlabel\u001b[38;5;241m=\u001b[39m\u001b[38;5;124m\"\u001b[39m\u001b[38;5;124mValidation Error (degrees)\u001b[39m\u001b[38;5;124m\"\u001b[39m)\n",
      "File \u001b[0;32m~/miniforge3/envs/onestop/lib/python3.12/site-packages/seaborn/distributions.py:1379\u001b[0m, in \u001b[0;36mhistplot\u001b[0;34m(data, x, y, hue, weights, stat, bins, binwidth, binrange, discrete, cumulative, common_bins, common_norm, multiple, element, fill, shrink, kde, kde_kws, line_kws, thresh, pthresh, pmax, cbar, cbar_ax, cbar_kws, palette, hue_order, hue_norm, color, log_scale, legend, ax, **kwargs)\u001b[0m\n\u001b[1;32m   1358\u001b[0m \u001b[38;5;28;01mdef\u001b[39;00m \u001b[38;5;21mhistplot\u001b[39m(\n\u001b[1;32m   1359\u001b[0m     data\u001b[38;5;241m=\u001b[39m\u001b[38;5;28;01mNone\u001b[39;00m, \u001b[38;5;241m*\u001b[39m,\n\u001b[1;32m   1360\u001b[0m     \u001b[38;5;66;03m# Vector variables\u001b[39;00m\n\u001b[0;32m   (...)\u001b[0m\n\u001b[1;32m   1376\u001b[0m     \u001b[38;5;241m*\u001b[39m\u001b[38;5;241m*\u001b[39mkwargs,\n\u001b[1;32m   1377\u001b[0m ):\n\u001b[0;32m-> 1379\u001b[0m     p \u001b[38;5;241m=\u001b[39m _DistributionPlotter(\n\u001b[1;32m   1380\u001b[0m         data\u001b[38;5;241m=\u001b[39mdata,\n\u001b[1;32m   1381\u001b[0m         variables\u001b[38;5;241m=\u001b[39m\u001b[38;5;28mdict\u001b[39m(x\u001b[38;5;241m=\u001b[39mx, y\u001b[38;5;241m=\u001b[39my, hue\u001b[38;5;241m=\u001b[39mhue, weights\u001b[38;5;241m=\u001b[39mweights),\n\u001b[1;32m   1382\u001b[0m     )\n\u001b[1;32m   1384\u001b[0m     p\u001b[38;5;241m.\u001b[39mmap_hue(palette\u001b[38;5;241m=\u001b[39mpalette, order\u001b[38;5;241m=\u001b[39mhue_order, norm\u001b[38;5;241m=\u001b[39mhue_norm)\n\u001b[1;32m   1386\u001b[0m     \u001b[38;5;28;01mif\u001b[39;00m ax \u001b[38;5;129;01mis\u001b[39;00m \u001b[38;5;28;01mNone\u001b[39;00m:\n",
      "File \u001b[0;32m~/miniforge3/envs/onestop/lib/python3.12/site-packages/seaborn/distributions.py:110\u001b[0m, in \u001b[0;36m_DistributionPlotter.__init__\u001b[0;34m(self, data, variables)\u001b[0m\n\u001b[1;32m    104\u001b[0m \u001b[38;5;28;01mdef\u001b[39;00m \u001b[38;5;21m__init__\u001b[39m(\n\u001b[1;32m    105\u001b[0m     \u001b[38;5;28mself\u001b[39m,\n\u001b[1;32m    106\u001b[0m     data\u001b[38;5;241m=\u001b[39m\u001b[38;5;28;01mNone\u001b[39;00m,\n\u001b[1;32m    107\u001b[0m     variables\u001b[38;5;241m=\u001b[39m{},\n\u001b[1;32m    108\u001b[0m ):\n\u001b[0;32m--> 110\u001b[0m     \u001b[38;5;28msuper\u001b[39m()\u001b[38;5;241m.\u001b[39m\u001b[38;5;21m__init__\u001b[39m(data\u001b[38;5;241m=\u001b[39mdata, variables\u001b[38;5;241m=\u001b[39mvariables)\n",
      "File \u001b[0;32m~/miniforge3/envs/onestop/lib/python3.12/site-packages/seaborn/_base.py:634\u001b[0m, in \u001b[0;36mVectorPlotter.__init__\u001b[0;34m(self, data, variables)\u001b[0m\n\u001b[1;32m    629\u001b[0m \u001b[38;5;66;03m# var_ordered is relevant only for categorical axis variables, and may\u001b[39;00m\n\u001b[1;32m    630\u001b[0m \u001b[38;5;66;03m# be better handled by an internal axis information object that tracks\u001b[39;00m\n\u001b[1;32m    631\u001b[0m \u001b[38;5;66;03m# such information and is set up by the scale_* methods. The analogous\u001b[39;00m\n\u001b[1;32m    632\u001b[0m \u001b[38;5;66;03m# information for numeric axes would be information about log scales.\u001b[39;00m\n\u001b[1;32m    633\u001b[0m \u001b[38;5;28mself\u001b[39m\u001b[38;5;241m.\u001b[39m_var_ordered \u001b[38;5;241m=\u001b[39m {\u001b[38;5;124m\"\u001b[39m\u001b[38;5;124mx\u001b[39m\u001b[38;5;124m\"\u001b[39m: \u001b[38;5;28;01mFalse\u001b[39;00m, \u001b[38;5;124m\"\u001b[39m\u001b[38;5;124my\u001b[39m\u001b[38;5;124m\"\u001b[39m: \u001b[38;5;28;01mFalse\u001b[39;00m}  \u001b[38;5;66;03m# alt., used DefaultDict\u001b[39;00m\n\u001b[0;32m--> 634\u001b[0m \u001b[38;5;28mself\u001b[39m\u001b[38;5;241m.\u001b[39massign_variables(data, variables)\n\u001b[1;32m    636\u001b[0m \u001b[38;5;66;03m# TODO Lots of tests assume that these are called to initialize the\u001b[39;00m\n\u001b[1;32m    637\u001b[0m \u001b[38;5;66;03m# mappings to default values on class initialization. I'd prefer to\u001b[39;00m\n\u001b[1;32m    638\u001b[0m \u001b[38;5;66;03m# move away from that and only have a mapping when explicitly called.\u001b[39;00m\n\u001b[1;32m    639\u001b[0m \u001b[38;5;28;01mfor\u001b[39;00m var \u001b[38;5;129;01min\u001b[39;00m [\u001b[38;5;124m\"\u001b[39m\u001b[38;5;124mhue\u001b[39m\u001b[38;5;124m\"\u001b[39m, \u001b[38;5;124m\"\u001b[39m\u001b[38;5;124msize\u001b[39m\u001b[38;5;124m\"\u001b[39m, \u001b[38;5;124m\"\u001b[39m\u001b[38;5;124mstyle\u001b[39m\u001b[38;5;124m\"\u001b[39m]:\n",
      "File \u001b[0;32m~/miniforge3/envs/onestop/lib/python3.12/site-packages/seaborn/_base.py:679\u001b[0m, in \u001b[0;36mVectorPlotter.assign_variables\u001b[0;34m(self, data, variables)\u001b[0m\n\u001b[1;32m    674\u001b[0m \u001b[38;5;28;01melse\u001b[39;00m:\n\u001b[1;32m    675\u001b[0m     \u001b[38;5;66;03m# When dealing with long-form input, use the newer PlotData\u001b[39;00m\n\u001b[1;32m    676\u001b[0m     \u001b[38;5;66;03m# object (internal but introduced for the objects interface)\u001b[39;00m\n\u001b[1;32m    677\u001b[0m     \u001b[38;5;66;03m# to centralize / standardize data consumption logic.\u001b[39;00m\n\u001b[1;32m    678\u001b[0m     \u001b[38;5;28mself\u001b[39m\u001b[38;5;241m.\u001b[39minput_format \u001b[38;5;241m=\u001b[39m \u001b[38;5;124m\"\u001b[39m\u001b[38;5;124mlong\u001b[39m\u001b[38;5;124m\"\u001b[39m\n\u001b[0;32m--> 679\u001b[0m     plot_data \u001b[38;5;241m=\u001b[39m PlotData(data, variables)\n\u001b[1;32m    680\u001b[0m     frame \u001b[38;5;241m=\u001b[39m plot_data\u001b[38;5;241m.\u001b[39mframe\n\u001b[1;32m    681\u001b[0m     names \u001b[38;5;241m=\u001b[39m plot_data\u001b[38;5;241m.\u001b[39mnames\n",
      "File \u001b[0;32m~/miniforge3/envs/onestop/lib/python3.12/site-packages/seaborn/_core/data.py:58\u001b[0m, in \u001b[0;36mPlotData.__init__\u001b[0;34m(self, data, variables)\u001b[0m\n\u001b[1;32m     51\u001b[0m \u001b[38;5;28;01mdef\u001b[39;00m \u001b[38;5;21m__init__\u001b[39m(\n\u001b[1;32m     52\u001b[0m     \u001b[38;5;28mself\u001b[39m,\n\u001b[1;32m     53\u001b[0m     data: DataSource,\n\u001b[1;32m     54\u001b[0m     variables: \u001b[38;5;28mdict\u001b[39m[\u001b[38;5;28mstr\u001b[39m, VariableSpec],\n\u001b[1;32m     55\u001b[0m ):\n\u001b[1;32m     57\u001b[0m     data \u001b[38;5;241m=\u001b[39m handle_data_source(data)\n\u001b[0;32m---> 58\u001b[0m     frame, names, ids \u001b[38;5;241m=\u001b[39m \u001b[38;5;28mself\u001b[39m\u001b[38;5;241m.\u001b[39m_assign_variables(data, variables)\n\u001b[1;32m     60\u001b[0m     \u001b[38;5;28mself\u001b[39m\u001b[38;5;241m.\u001b[39mframe \u001b[38;5;241m=\u001b[39m frame\n\u001b[1;32m     61\u001b[0m     \u001b[38;5;28mself\u001b[39m\u001b[38;5;241m.\u001b[39mnames \u001b[38;5;241m=\u001b[39m names\n",
      "File \u001b[0;32m~/miniforge3/envs/onestop/lib/python3.12/site-packages/seaborn/_core/data.py:232\u001b[0m, in \u001b[0;36mPlotData._assign_variables\u001b[0;34m(self, data, variables)\u001b[0m\n\u001b[1;32m    230\u001b[0m     \u001b[38;5;28;01melse\u001b[39;00m:\n\u001b[1;32m    231\u001b[0m         err \u001b[38;5;241m+\u001b[39m\u001b[38;5;241m=\u001b[39m \u001b[38;5;124m\"\u001b[39m\u001b[38;5;124mAn entry with this name does not appear in `data`.\u001b[39m\u001b[38;5;124m\"\u001b[39m\n\u001b[0;32m--> 232\u001b[0m     \u001b[38;5;28;01mraise\u001b[39;00m \u001b[38;5;167;01mValueError\u001b[39;00m(err)\n\u001b[1;32m    234\u001b[0m \u001b[38;5;28;01melse\u001b[39;00m:\n\u001b[1;32m    235\u001b[0m \n\u001b[1;32m    236\u001b[0m     \u001b[38;5;66;03m# Otherwise, assume the value somehow represents data\u001b[39;00m\n\u001b[1;32m    237\u001b[0m \n\u001b[1;32m    238\u001b[0m     \u001b[38;5;66;03m# Ignore empty data structures\u001b[39;00m\n\u001b[1;32m    239\u001b[0m     \u001b[38;5;28;01mif\u001b[39;00m \u001b[38;5;28misinstance\u001b[39m(val, Sized) \u001b[38;5;129;01mand\u001b[39;00m \u001b[38;5;28mlen\u001b[39m(val) \u001b[38;5;241m==\u001b[39m \u001b[38;5;241m0\u001b[39m:\n",
      "\u001b[0;31mValueError\u001b[0m: Could not interpret value `Mean Validation Error` for `x`. An entry with this name does not appear in `data`."
     ]
    },
    {
     "data": {
      "image/png": "[encoded data removed]",
      "text/plain": [
       "<Figure size 2000x1500 with 4 Axes>"
      ]
     },
     "metadata": {},
     "output_type": "display_data"
    }
   ],
   "source": [
    "sns.set_context(\"paper\", font_scale=2)\n",
    "sns.set_theme(font_scale=1.5, style=\"whitegrid\")\n",
    "# Create Figure 2\n",
    "fig_colors = \"#8da0cb\"  # \"#a1c9f4\"\n",
    "colors = [\"#66c2a5\", \"#fc8d62\"]\n",
    "color_dict = {\n",
    "    \"p\": colors[0],\n",
    "    \"n\": colors[1],\n",
    "}\n",
    "fig, axes = plt.subplots(nrows=2, ncols=2, figsize=(20, 15), sharey=\"row\")\n",
    "\n",
    "data = SESSION_SUMMARY.copy()\n",
    "# Plot 1: Number of Recalibrations\n",
    "axes[0, 0] = sns.histplot(\n",
    "    data,\n",
    "    x=\"Recalibration Count\",\n",
    "    color=fig_colors,\n",
    "    ax=axes[0, 0],\n",
    "    binrange=(0, 27),\n",
    "    binwidth=3,\n",
    ")\n",
    "axes[0, 0].set(ylabel=\"Participants\")\n",
    "axes[0, 0].set(xlabel=\"Recalibration Sessions\")\n",
    "axes[0, 0].axvline(session_interruptions.mean(), color=fig_colors, ls=\"--\", lw=2.5)\n",
    "axes[0, 0].set_xticks(np.arange(0, 28, 6)) \n",
    "\n",
    "# Display mean value as text on the plot\n",
    "axes[0, 0].text(\n",
    "    session_interruptions.mean(),  # x-coordinate (same as mean value)\n",
    "    axes[0, 0].get_ylim()[1] * 0.95,  # y-coordinate (adjust as needed)\n",
    "    f\"  {session_interruptions.mean():.1f}\",  # Label text\n",
    "    color=fig_colors,\n",
    "    ha=\"left\",\n",
    "    fontsize=15,\n",
    "    fontweight=\"bold\"\n",
    ")\n",
    "\n",
    "# Plot 2: Validations\n",
    "axes[0, 1] = sns.histplot(\n",
    "    validation_error,\n",
    "    x=\"Mean Validation Error\",\n",
    "    color=fig_colors,\n",
    "    ax=axes[0, 1],\n",
    "    binrange=(0.1, 0.5),\n",
    "    binwidth=0.025,\n",
    ")\n",
    "axes[0, 1].set(ylabel=\"\")\n",
    "axes[0, 1].set(xlabel=\"Validation Error (degrees)\")\n",
    "axes[0, 1].axvline(\n",
    "    validation_error.avg_avg_val_error.mean(), color=fig_colors, ls=\"--\", lw=2.5\n",
    ")\n",
    "axes[0, 1].set_xticks(np.arange(0.1, 0.51, 0.1))\n",
    "\n",
    "axes[0, 1].text(\n",
    "    validation_error.avg_avg_val_error.mean(), \n",
    "    axes[0, 1].get_ylim()[1] * 0.95, \n",
    "    f\"  {validation_error.avg_avg_val_error.mean():.2f}\", \n",
    "    color=fig_colors,\n",
    "    ha=\"left\",\n",
    "    fontsize=15,\n",
    "    fontweight=\"bold\"\n",
    ")\n",
    "\n",
    "# Plot 3: Experiment Duration\n",
    "axes[1, 0] = sns.histplot(\n",
    "    data,\n",
    "    x=\"Total Session Duration\",\n",
    "    color=fig_colors,\n",
    "    ax=axes[1, 0],\n",
    "    binrange=(25, 115),\n",
    "    binwidth=5,\n",
    ")\n",
    "axes[1, 0].axvline(data.total_duration.mean(), color=fig_colors, ls=\"--\", lw=2.5)\n",
    "axes[1, 0].set(ylabel=\"Participants\")\n",
    "axes[1, 0].set(xlabel=\"Experiment Duration (minutes)\")\n",
    "\n",
    "axes[1, 0].text(\n",
    "    data.total_duration.mean(),  \n",
    "    axes[1, 0].get_ylim()[1] * 1,  \n",
    "    f\"  {data.total_duration.mean():.1f}\",  \n",
    "    color=fig_colors,\n",
    "    ha=\"left\",\n",
    "    fontsize=15,\n",
    "    fontweight=\"bold\"\n",
    ")\n",
    "\n",
    "# Plot 4: Reading Comprehension Score\n",
    "condition_labels = [\n",
    "    \"Hunting\",\n",
    "    \"Gathering\",\n",
    "]\n",
    "\n",
    "axes[1, 1] = sns.histplot(\n",
    "    data=data,\n",
    "    x=\"Comprehension Score - Regular Trials\",\n",
    "    palette=color_dict,\n",
    "    ax=axes[1, 1],\n",
    "    hue=\"batch_condition\",\n",
    "    multiple=\"layer\",\n",
    "    binrange=(45, 100),\n",
    "    binwidth=5,\n",
    ")\n",
    "\n",
    "axes[1, 1].legend(\n",
    "    # handles=handles,\n",
    "    labels=condition_labels,\n",
    "    title=\"Condition\",\n",
    "    loc=\"upper left\",\n",
    ")\n",
    "axes[1, 1].set(xlabel=\"Reading Comprehension Accuracy\")\n",
    "axes[1, 1].set(ylabel=\"\")\n",
    "axes[1, 1].axvline(\n",
    "    comprehension_gathering,\n",
    "    color=colors[1],\n",
    "    ls=\"--\",\n",
    "    lw=2.5,\n",
    ")\n",
    "\n",
    "axes[1, 1].text(\n",
    "    comprehension_gathering,  \n",
    "    axes[1, 1].get_ylim()[1] * 0.96,  \n",
    "    f\"  {comprehension_gathering:.1f}\",  \n",
    "    color=colors[1],\n",
    "    ha=\"left\",\n",
    "    fontsize=15,\n",
    "    fontweight=\"bold\"\n",
    ")\n",
    "\n",
    "axes[1, 1].axvline(\n",
    "    comprehension_hunting,\n",
    "    color=colors[0],\n",
    "    ls=\"--\",\n",
    "    lw=2.5,\n",
    ")\n",
    "\n",
    "axes[1, 1].text(\n",
    "    comprehension_hunting,  \n",
    "    axes[1, 1].get_ylim()[1] * 0.96,  \n",
    "    f\"  {comprehension_hunting:.1f}\",  \n",
    "    color=colors[0],\n",
    "    ha=\"left\",\n",
    "    fontsize=15,\n",
    "    fontweight=\"bold\"\n",
    ")\n",
    "\n",
    "\n",
    "# Add labels (a, b, c, d) to each subplot\n",
    "axes[0, 0].text(\n",
    "    -0.1,\n",
    "    1.05,\n",
    "    \"a)\",\n",
    "    transform=axes[0, 0].transAxes,\n",
    "    fontsize=16,\n",
    "    fontweight=\"bold\",\n",
    "    va=\"top\",\n",
    ")\n",
    "axes[0, 1].text(\n",
    "    -0.1,\n",
    "    1.05,\n",
    "    \"b)\",\n",
    "    transform=axes[0, 1].transAxes,\n",
    "    fontsize=16,\n",
    "    fontweight=\"bold\",\n",
    "    va=\"top\",\n",
    ")\n",
    "axes[1, 0].text(\n",
    "    -0.1,\n",
    "    1.05,\n",
    "    \"c)\",\n",
    "    transform=axes[1, 0].transAxes,\n",
    "    fontsize=16,\n",
    "    fontweight=\"bold\",\n",
    "    va=\"top\",\n",
    ")\n",
    "axes[1, 1].text(\n",
    "    -0.1,\n",
    "    1.05,\n",
    "    \"d)\",\n",
    "    transform=axes[1, 1].transAxes,\n",
    "    fontsize=16,\n",
    "    fontweight=\"bold\",\n",
    "    va=\"top\",\n",
    ")\n",
    "\n",
    "# increase font size\n",
    "for ax in axes.flat:\n",
    "    ax.tick_params(axis=\"both\", which=\"major\", labelsize=20)\n",
    "\n",
    "# increase axis font size\n",
    "\n",
    "# Set facecolor for the figure\n",
    "fig.set_facecolor(\"white\")\n",
    "\n",
    "# Adjust layout\n",
    "plt.tight_layout()\n",
    "\n",
    "# Save the plot as pdf\n",
    "plt.savefig(fig_save_path / \"exp_stats.pdf\")\n",
    "\n",
    "# Show the plot\n",
    "plt.show()"
   ]
  },
  {
   "cell_type": "markdown",
   "id": "8bdab938",
   "metadata": {},
   "source": [
    "# 3.1 Textual Materials"
   ]
  },
  {
   "cell_type": "code",
   "execution_count": null,
   "id": "209fd759",
   "metadata": {},
   "outputs": [
    {
     "name": "stdout",
     "output_type": "stream",
     "text": [
      "Total number of unique articles: 30\n"
     ]
    }
   ],
   "source": [
    "# Number of unique articles\n",
    "unique_articles = onestop_qa.drop_duplicates(subset=[\"title\"])\n",
    "print(f\"Total number of unique articles: {len(unique_articles)}\")"
   ]
  },
  {
   "cell_type": "code",
   "execution_count": 32,
   "id": "60f112ff",
   "metadata": {},
   "outputs": [
    {
     "name": "stdout",
     "output_type": "stream",
     "text": [
      "Total number of unique paragraphs: 162.0\n"
     ]
    }
   ],
   "source": [
    "# Number of unique paragraphs\n",
    "unique_paragraphs = onestop_qa.drop_duplicates(subset=[\"paragraph\"]).query(\"level!=1\")\n",
    "number_of_paragraphs = len(unique_paragraphs)/2\n",
    "print(f\"Total number of unique paragraphs: {number_of_paragraphs}\")"
   ]
  },
  {
   "cell_type": "code",
   "execution_count": 34,
   "id": "c36b7ec9",
   "metadata": {},
   "outputs": [
    {
     "name": "stdout",
     "output_type": "stream",
     "text": [
      "OneStopQA Advanced Words Count: 19425\n",
      "mean paragraph length (words): 119.9\n",
      "mean sentence length (words): 20.8\n"
     ]
    }
   ],
   "source": [
    "# Advanced word tokens\n",
    "adv_qa = unique_paragraphs[unique_paragraphs[\"level\"] == 0]\n",
    "adv_qa_words = [\n",
    "    word\n",
    "    for paragraph in utils.get_number_of_tokens(adv_qa, \"paragraph\")\n",
    "    for word in paragraph\n",
    "]\n",
    "\n",
    "adv_sentences = [\n",
    "    sen\n",
    "    for paragraph in utils.get_number_of_tokens(adv_qa, \"paragraph\")\n",
    "    for sen in paragraph\n",
    "    if \".\" in sen\n",
    "]\n",
    "\n",
    "print(f\"OneStopQA Advanced Words Count: {len(adv_qa_words)}\")\n",
    "print(f\"mean paragraph length (words): {round(len(adv_qa_words) / number_of_paragraphs,1)}\")\n",
    "print(f\"mean sentence length (words): {round(len(adv_qa_words) / len(adv_sentences),1)}\")"
   ]
  },
  {
   "cell_type": "code",
   "execution_count": 36,
   "id": "8c2e55d5",
   "metadata": {},
   "outputs": [
    {
     "name": "stdout",
     "output_type": "stream",
     "text": [
      "OneStopQA Elementary Words Count: 15737\n",
      "mean paragraph length (words): 97.1\n",
      "mean sentence length (words): 17.0\n"
     ]
    }
   ],
   "source": [
    "# Elementary word tokens\n",
    "ele_qa = unique_paragraphs[unique_paragraphs[\"level\"] == 2]\n",
    "ele_qa_words = [\n",
    "    word\n",
    "    for paragraph in utils.get_number_of_tokens(ele_qa, \"paragraph\")\n",
    "    for word in paragraph\n",
    "]\n",
    "\n",
    "ele_sentences = [\n",
    "    sen\n",
    "    for paragraph in utils.get_number_of_tokens(ele_qa, \"paragraph\")\n",
    "    for sen in paragraph\n",
    "    if \".\" in sen\n",
    "]\n",
    "print(f\"OneStopQA Elementary Words Count: {len(ele_qa_words)}\")\n",
    "print(f\"mean paragraph length (words): {round(len(ele_qa_words) / number_of_paragraphs,1)}\")\n",
    "print(f\"mean sentence length (words): {round(len(ele_qa_words) / len(ele_sentences),1)}\")\n"
   ]
  },
  {
   "cell_type": "code",
   "execution_count": 37,
   "id": "b4e4de027dc5ebe6",
   "metadata": {
    "ExecuteTime": {
     "end_time": "2024-05-11T09:36:13.804757Z",
     "start_time": "2024-05-11T09:36:13.782974Z"
    },
    "collapsed": false
   },
   "outputs": [
    {
     "name": "stdout",
     "output_type": "stream",
     "text": [
      "Number of unique questions in OneStopQA: 486\n",
      "Average length of questions in OneStopQA: 9.9\n"
     ]
    }
   ],
   "source": [
    "# Number of unique questions\n",
    "onsqa_q = onestop_qa.drop_duplicates(subset=[\"paragraph_index\", \"question\"])\n",
    "onsqa_q_words = onsqa_q[\"question\"]\n",
    "\n",
    "print(f\"Number of unique questions in OneStopQA: {len(onsqa_q)}\")\n",
    "print(\n",
    "    f\"Average length of questions in OneStopQA: {round(utils.get_average_length(onsqa_q_words),1)}\"\n",
    ")"
   ]
  },
  {
   "cell_type": "code",
   "execution_count": 43,
   "id": "80fa6c25c137ad0a",
   "metadata": {
    "ExecuteTime": {
     "end_time": "2024-05-11T09:36:14.595547Z",
     "start_time": "2024-05-11T09:36:14.586585Z"
    },
    "collapsed": false
   },
   "outputs": [
    {
     "name": "stdout",
     "output_type": "stream",
     "text": [
      "Total Unique Answers: 486\n",
      "Mean Length of 'a': 7.1\n",
      "Mean Length of 'b': 7.5\n",
      "Mean Length of 'c': 7.9\n",
      "Mean Length of 'd': 6.8\n",
      "Mean Length of All Unique Answers: 7.3\n"
     ]
    }
   ],
   "source": [
    "# number of unique answers\n",
    "onestop_qa[\"answers_tuple\"] = onestop_qa[\"answers\"].apply(tuple)\n",
    "onsqa_a = onestop_qa.drop_duplicates(subset=[\"question\", \"answers_tuple\"])\n",
    "onsqa_a = onsqa_a.drop(columns=[\"answers_tuple\"])\n",
    "answers_df = pd.DataFrame(onsqa_a[\"answers\"].tolist(), columns=[\"a\", \"b\", \"c\", \"d\"])\n",
    "onsqa_a = onsqa_a.reset_index(drop=True)\n",
    "onsqa_a = pd.concat([onsqa_a, answers_df], axis=1)\n",
    "a = onsqa_a[\"a\"].tolist()\n",
    "b = onsqa_a[\"b\"].tolist()\n",
    "c = onsqa_a[\"c\"].tolist()\n",
    "d = onsqa_a[\"d\"].tolist()\n",
    "unique_answers = a + b + c + d\n",
    "\n",
    "print(f\"Total Unique Answers: {len(onsqa_a)}\")\n",
    "print(f\"Mean Length of 'a': {round(utils.get_average_length(a),1)}\")\n",
    "print(f\"Mean Length of 'b': {round(utils.get_average_length(b),1)}\")\n",
    "print(f\"Mean Length of 'c': {round(utils.get_average_length(c),1)}\")\n",
    "print(f\"Mean Length of 'd': {round(utils.get_average_length(d),1)}\")\n",
    "print(\n",
    "    f\"Mean Length of All Unique Answers: {round(utils.get_average_length(unique_answers),1)}\"\n",
    ")"
   ]
  },
  {
   "cell_type": "code",
   "execution_count": 39,
   "id": "d4bcc83440f587e0",
   "metadata": {
    "ExecuteTime": {
     "end_time": "2024-05-11T09:36:15.216095Z",
     "start_time": "2024-05-11T09:36:15.212808Z"
    },
    "collapsed": false
   },
   "outputs": [
    {
     "name": "stdout",
     "output_type": "stream",
     "text": [
      "Mean Length of Critical Span (a_span): 31.6\n",
      "Mean Length of Distractor Span (d_span): 12.9\n"
     ]
    }
   ],
   "source": [
    "# mean length of the critical span (a_span)\n",
    "onsqa_a_span = unique_paragraphs[\"a_span\"]\n",
    "total_words_a = []\n",
    "for a in onsqa_a_span:\n",
    "    words = a[1] - a[0] + 1\n",
    "    total_words_a.append(words)\n",
    "mean_a = sum(total_words_a) / len(total_words_a)\n",
    "print(f\"Mean Length of Critical Span (a_span): {round(mean_a,1)}\")\n",
    "# mean length of the distractor span (d_span)\n",
    "onsqa_d_span = unique_paragraphs[\"d_span\"]\n",
    "total_words_d = []\n",
    "for d in onsqa_d_span:\n",
    "    words = d[1] - d[0] + 1\n",
    "    total_words_d.append(words)\n",
    "mean_d = sum(total_words_d) / len(total_words_d)\n",
    "print(f\"Mean Length of Distractor Span (d_span): {round(mean_d,1)}\")"
   ]
  },
  {
   "cell_type": "markdown",
   "id": "a3c1f1de",
   "metadata": {},
   "source": [
    "# 3.3 Participants"
   ]
  },
  {
   "cell_type": "code",
   "execution_count": 40,
   "id": "23561161",
   "metadata": {},
   "outputs": [
    {
     "name": "stdout",
     "output_type": "stream",
     "text": [
      "Data Collection Site\n",
      "MIT         303\n",
      "Technion     57\n",
      "Name: count, dtype: int64\n"
     ]
    }
   ],
   "source": [
    "# participants recruited from:\n",
    "data_collection_sites = SESSION_SUMMARY[\"Data Collection Site\"].value_counts()\n",
    "print(data_collection_sites)"
   ]
  }
 ],
 "metadata": {
  "kernelspec": {
   "display_name": "onestop",
   "language": "python",
   "name": "python3"
  },
  "language_info": {
   "codemirror_mode": {
    "name": "ipython",
    "version": 3
   },
   "file_extension": ".py",
   "mimetype": "text/x-python",
   "name": "python",
   "nbconvert_exporter": "python",
   "pygments_lexer": "ipython3",
   "version": "3.12.4"
  }
 },
 "nbformat": 4,
 "nbformat_minor": 5
}
