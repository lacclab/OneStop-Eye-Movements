{
 "cells": [
  {
   "cell_type": "markdown",
   "id": "513db31f",
   "metadata": {},
   "source": [
    "# OneStop Paper Analyses\n",
    "\n",
    "This notebook contains the code for reproducing the analyses in the dataset paper.\n",
    "\n",
    "Before running the notebook make sure you have\n",
    "\n",
    "1. Have the python environment configured, by following the instructions in the [documentation](https://lacclab.github.io/OneStop-Eye-Movements/preprocessing_analyses.html) \n",
    "2.  the data by running `\n",
    "    python download_data_files.py --extract --mode onestop-full  \n",
    "    `\n"
   ]
  },
  {
   "cell_type": "code",
   "execution_count": 2,
   "id": "05cefe4b",
   "metadata": {},
   "outputs": [],
   "source": [
    "import ast\n",
    "from datasets import load_dataset\n",
    "from itertools import combinations\n",
    "import matplotlib.pyplot as plt\n",
    "import numpy as np\n",
    "import pandas as pd\n",
    "from pathlib import Path\n",
    "from scipy import stats\n",
    "import seaborn as sns\n",
    "from sklearn.metrics import cohen_kappa_score\n",
    "import sys\n",
    "from utils import utils"
   ]
  },
  {
   "cell_type": "code",
   "execution_count": 52,
   "id": "386e0cd4",
   "metadata": {},
   "outputs": [],
   "source": [
    "BASE_PATH = Path(\"../data/OneStop/onestop-full\")\n",
    "METADATA_PATH = Path(\"../data/OneStop/metadata\")\n",
    "METADATA_PATH.mkdir(parents=True, exist_ok=True)\n",
    "QUESTIONNAIRE_PATH = METADATA_PATH / \"questionnaire.json\"\n",
    "SESSION_SUMMARY_PATH = METADATA_PATH / \"session_summary.csv\"\n",
    "\n",
    "IA_P_PATH = Path(BASE_PATH, \"ia_Paragraph.csv\")\n",
    "IA_Q_PATH = Path(BASE_PATH, \"ia_Questions.csv\")\n",
    "IA_A_PATH = Path(BASE_PATH, \"ia_Answers.csv\")\n",
    "IA_T_PATH = Path(BASE_PATH, \"ia_Title.csv\")\n",
    "IA_QA_PATH = Path(BASE_PATH, \"ia_QA.csv\")\n",
    "IA_Q_preview_PATH = Path(BASE_PATH, \"ia_Question_preview.csv\")"
   ]
  },
  {
   "cell_type": "code",
   "execution_count": 4,
   "id": "f71e9613",
   "metadata": {},
   "outputs": [],
   "source": [
    "fig_save_path = Path(\"figures\")\n",
    "fig_save_path.mkdir(exist_ok=True)"
   ]
  },
  {
   "cell_type": "code",
   "execution_count": 5,
   "id": "2d6940ef",
   "metadata": {},
   "outputs": [],
   "source": [
    "# Load the OneStopQA dataset\n",
    "onestop_qa: pd.DataFrame = load_dataset(\n",
    "    \"onestop_qa\", split=\"train\", trust_remote_code=True\n",
    ").to_pandas() # type: ignore"
   ]
  },
  {
   "cell_type": "code",
   "execution_count": 53,
   "id": "eb6f1a7c",
   "metadata": {},
   "outputs": [
    {
     "name": "stdout",
     "output_type": "stream",
     "text": [
      "--2025-10-09 14:31:13--  https://osf.io/download/yvu5w\n",
      "Resolving osf.io (osf.io)... 35.190.84.173\n",
      "Connecting to osf.io (osf.io)|35.190.84.173|:443... connected.\n",
      "HTTP request sent, awaiting response... 308 PERMANENT REDIRECT\n",
      "Location: https://osf.io/download/yvu5w/ [following]\n",
      "--2025-10-09 14:31:14--  https://osf.io/download/yvu5w/\n",
      "Reusing existing connection to osf.io:443.\n",
      "HTTP request sent, awaiting response... 302 FOUND\n",
      "Location: https://files.osf.io/v1/resources/jbd24/providers/osfstorage/676590797f64c40edac55a6e [following]\n",
      "--2025-10-09 14:31:14--  https://files.osf.io/v1/resources/jbd24/providers/osfstorage/676590797f64c40edac55a6e\n",
      "Resolving files.osf.io (files.osf.io)... 35.186.214.196\n",
      "Connecting to files.osf.io (files.osf.io)|35.186.214.196|:443... connected.\n",
      "HTTP request sent, awaiting response... 302 Found\n",
      "Location: https://storage.googleapis.com/cos-osf-prod-files-us-east1/4cb5b66067bd55bd7d297a5092fc47a579e2058b30cb92f891accb2810b33dda?response-content-disposition=attachment%3B%20filename%3D%22session_summary.csv%22%3B%20filename%2A%3DUTF-8%27%27session_summary.csv&GoogleAccessId=files-us%40cos-osf-prod.iam.gserviceaccount.com&Expires=1760009535&Signature=ILoqeOFFhhKRbDkNIc1LiXzq09lwUWBhKsDoP5t9LFWSKTbTimVZ%2FdbXOA8JEeH59yazBWxa%2BpA4PJ6CqU60f8ebKgzDZYr%2FvHVK8GCJqrz9Sg8jkDgyvMpcTuqIus7uULB4VXaqHXqqR%2FDhMl4FNvE%2BTRY5NZdvB6iqAP7bwESaf391Qm5hWDq0pSG8uiKgoWDwYsI54WYu4J%2FIdwyLo50gM0W7FJdMkI6B%2Bm47BodGY%2FlqoMPgziJpT0Qabk9Uhr2JR0DiVIkItvRkwkRX3Kvima7ZjxhjWUw9NJ7IICQtwJgVFJAnj%2F%2Fb3rZ9ePM9n372rZRKD3aKWbac7li%2FrA%3D%3D [following]\n",
      "--2025-10-09 14:31:15--  https://storage.googleapis.com/cos-osf-prod-files-us-east1/4cb5b66067bd55bd7d297a5092fc47a579e2058b30cb92f891accb2810b33dda?response-content-disposition=attachment%3B%20filename%3D%22session_summary.csv%22%3B%20filename%2A%3DUTF-8%27%27session_summary.csv&GoogleAccessId=files-us%40cos-osf-prod.iam.gserviceaccount.com&Expires=1760009535&Signature=ILoqeOFFhhKRbDkNIc1LiXzq09lwUWBhKsDoP5t9LFWSKTbTimVZ%2FdbXOA8JEeH59yazBWxa%2BpA4PJ6CqU60f8ebKgzDZYr%2FvHVK8GCJqrz9Sg8jkDgyvMpcTuqIus7uULB4VXaqHXqqR%2FDhMl4FNvE%2BTRY5NZdvB6iqAP7bwESaf391Qm5hWDq0pSG8uiKgoWDwYsI54WYu4J%2FIdwyLo50gM0W7FJdMkI6B%2Bm47BodGY%2FlqoMPgziJpT0Qabk9Uhr2JR0DiVIkItvRkwkRX3Kvima7ZjxhjWUw9NJ7IICQtwJgVFJAnj%2F%2Fb3rZ9ePM9n372rZRKD3aKWbac7li%2FrA%3D%3D\n",
      "Resolving storage.googleapis.com (storage.googleapis.com)... 142.250.75.91, 142.250.75.187, 142.250.75.219, ...\n",
      "Connecting to storage.googleapis.com (storage.googleapis.com)|142.250.75.91|:443... connected.\n",
      "HTTP request sent, awaiting response... 200 OK\n",
      "Length: 31396 (31K) [application/octet-stream]\n",
      "Saving to: ‘../data/OneStop/metadata/session_summary.csv’\n",
      "\n",
      "../data/OneStop/met 100%[===================>]  30.66K  --.-KB/s    in 0.1s    \n",
      "\n",
      "2025-10-09 14:31:16 (253 KB/s) - ‘../data/OneStop/metadata/session_summary.csv’ saved [31396/31396]\n",
      "\n",
      "--2025-10-09 14:31:16--  https://osf.io/download/a765t\n",
      "Resolving osf.io (osf.io)... 35.190.84.173\n",
      "Connecting to osf.io (osf.io)|35.190.84.173|:443... connected.\n",
      "HTTP request sent, awaiting response... 308 PERMANENT REDIRECT\n",
      "Location: https://osf.io/download/a765t/ [following]\n",
      "--2025-10-09 14:31:16--  https://osf.io/download/a765t/\n",
      "Reusing existing connection to osf.io:443.\n",
      "HTTP request sent, awaiting response... 302 FOUND\n",
      "Location: https://files.osf.io/v1/resources/jbd24/providers/osfstorage/6763f6d7ec144c185274ea68 [following]\n",
      "--2025-10-09 14:31:17--  https://files.osf.io/v1/resources/jbd24/providers/osfstorage/6763f6d7ec144c185274ea68\n",
      "Resolving files.osf.io (files.osf.io)... 35.186.214.196\n",
      "Connecting to files.osf.io (files.osf.io)|35.186.214.196|:443... connected.\n",
      "HTTP request sent, awaiting response... 302 Found\n",
      "Location: https://storage.googleapis.com/cos-osf-prod-files-us-east1/fbd865849fe8af12f7b5cc9405ee83ba24333565aed7402af315242381b4d79f?response-content-disposition=attachment%3B%20filename%3D%22questionnaire.json%22%3B%20filename%2A%3DUTF-8%27%27questionnaire.json&GoogleAccessId=files-us%40cos-osf-prod.iam.gserviceaccount.com&Expires=1760009540&Signature=fkBUMbVhll6%2FexfW34efZLnMDgwaJioWLd0e8xJ9ZYBn%2F%2FuPhQqrTtTQfBbRhSj2JLg3mLV0l6SCzJbS%2BetHxj3JIamTAx9KUUy9rodnJL%2FgdliKnpejY3UF2DaPjFJKuDkN7Th9t92%2BS3itFnwMligMIwTlvFTJCrzrbo%2BWZsul1jAUPzracmpceShx%2B0fgCJH3GVyqqqpWqDZLRc6BR8I%2Bg1%2FFKius%2B%2FlHAJnht7MxYtabhRczf0qz21YoSV%2FQriIiNzCKNQYMjsjjxqUSctwWKGuMf1kN0bM9tQX%2BW%2FyP3UwWoeJXwlMlNl%2Bw1BwyRxsSU7BvGTtMOe%2FRlj87qw%3D%3D [following]\n",
      "--2025-10-09 14:31:20--  https://storage.googleapis.com/cos-osf-prod-files-us-east1/fbd865849fe8af12f7b5cc9405ee83ba24333565aed7402af315242381b4d79f?response-content-disposition=attachment%3B%20filename%3D%22questionnaire.json%22%3B%20filename%2A%3DUTF-8%27%27questionnaire.json&GoogleAccessId=files-us%40cos-osf-prod.iam.gserviceaccount.com&Expires=1760009540&Signature=fkBUMbVhll6%2FexfW34efZLnMDgwaJioWLd0e8xJ9ZYBn%2F%2FuPhQqrTtTQfBbRhSj2JLg3mLV0l6SCzJbS%2BetHxj3JIamTAx9KUUy9rodnJL%2FgdliKnpejY3UF2DaPjFJKuDkN7Th9t92%2BS3itFnwMligMIwTlvFTJCrzrbo%2BWZsul1jAUPzracmpceShx%2B0fgCJH3GVyqqqpWqDZLRc6BR8I%2Bg1%2FFKius%2B%2FlHAJnht7MxYtabhRczf0qz21YoSV%2FQriIiNzCKNQYMjsjjxqUSctwWKGuMf1kN0bM9tQX%2BW%2FyP3UwWoeJXwlMlNl%2Bw1BwyRxsSU7BvGTtMOe%2FRlj87qw%3D%3D\n",
      "Resolving storage.googleapis.com (storage.googleapis.com)... 142.250.75.91, 142.250.75.187, 142.250.75.219, ...\n",
      "Connecting to storage.googleapis.com (storage.googleapis.com)|142.250.75.91|:443... connected.\n",
      "HTTP request sent, awaiting response... 200 OK\n",
      "Length: 676263 (660K) [application/octet-stream]\n",
      "Saving to: ‘../data/OneStop/metadata/questionnaire.json’\n",
      "\n",
      "../data/OneStop/met 100%[===================>] 660.41K   739KB/s    in 0.9s    \n",
      "\n",
      "2025-10-09 14:31:21 (739 KB/s) - ‘../data/OneStop/metadata/questionnaire.json’ saved [676263/676263]\n",
      "\n"
     ]
    }
   ],
   "source": [
    "# Download the session summary and questionnaire data\n",
    "!wget -O ../data/OneStop/metadata/session_summary.csv https://osf.io/download/yvu5w\n",
    "!wget -O ../data/OneStop/metadata/questionnaire.json https://osf.io/download/a765t"
   ]
  },
  {
   "cell_type": "code",
   "execution_count": 54,
   "id": "5df81626",
   "metadata": {},
   "outputs": [],
   "source": [
    "questionnaire_df = pd.DataFrame(utils.load_json(QUESTIONNAIRE_PATH))\n",
    "session_summary = utils.load_df(SESSION_SUMMARY_PATH)"
   ]
  },
  {
   "cell_type": "code",
   "execution_count": 8,
   "id": "e13d9526",
   "metadata": {},
   "outputs": [],
   "source": [
    "IA_P = utils.load_df(IA_P_PATH)\n",
    "IA_Q = utils.load_df(IA_Q_PATH)\n",
    "IA_A = utils.load_df(IA_A_PATH)\n",
    "IA_Q_preview = utils.load_df(IA_Q_preview_PATH)\n",
    "IA_T = utils.load_df(IA_T_PATH)\n",
    "IA_QA = utils.load_df(IA_QA_PATH)"
   ]
  },
  {
   "cell_type": "markdown",
   "id": "22a97484",
   "metadata": {},
   "source": [
    "# Textual Materials"
   ]
  },
  {
   "cell_type": "code",
   "execution_count": 9,
   "id": "6079aebf",
   "metadata": {},
   "outputs": [
    {
     "name": "stdout",
     "output_type": "stream",
     "text": [
      "Total number of unique articles: 30\n"
     ]
    }
   ],
   "source": [
    "# Number of unique articles\n",
    "unique_articles = onestop_qa.drop_duplicates(subset=[\"title\"])\n",
    "print(f\"Total number of unique articles: {len(unique_articles)}\")"
   ]
  },
  {
   "cell_type": "code",
   "execution_count": 10,
   "id": "be41a26a",
   "metadata": {},
   "outputs": [
    {
     "name": "stdout",
     "output_type": "stream",
     "text": [
      "Total number of unique paragraphs: 162.0\n"
     ]
    }
   ],
   "source": [
    "# Number of unique paragraphs\n",
    "unique_paragraphs = onestop_qa.drop_duplicates(subset=[\"paragraph\"]).query(\"level!=1\")\n",
    "number_of_paragraphs = len(unique_paragraphs) / 2\n",
    "print(f\"Total number of unique paragraphs: {number_of_paragraphs}\")"
   ]
  },
  {
   "cell_type": "code",
   "execution_count": 11,
   "id": "f64b98f4",
   "metadata": {},
   "outputs": [
    {
     "name": "stdout",
     "output_type": "stream",
     "text": [
      "Mean number of words per level:\n",
      "Advanced (level 0): 19425\n",
      "Elementary (level 2): 15737\n"
     ]
    }
   ],
   "source": [
    "# Calculate mean number of words per level\n",
    "n_words = (\n",
    "    onestop_qa.drop_duplicates(subset=[\"paragraph\"])\n",
    "    .query(\"level!=1\")\n",
    "    .groupby(\"level\")[\"paragraph\"]\n",
    "    .apply(lambda x: x.str.split().str.len().sum())\n",
    ")\n",
    "\n",
    "print(\"Mean number of words per level:\")\n",
    "print(f\"Advanced (level 0): {round(n_words[0], 1)}\")\n",
    "print(f\"Elementary (level 2): {round(n_words[2], 1)}\")"
   ]
  },
  {
   "cell_type": "code",
   "execution_count": 12,
   "id": "531b1942",
   "metadata": {},
   "outputs": [
    {
     "name": "stdout",
     "output_type": "stream",
     "text": [
      "OneStopQA Advanced Words Count: 19425\n",
      "mean paragraph length (words): 119.9\n",
      "mean sentence length (words): 20.8\n"
     ]
    }
   ],
   "source": [
    "# Advanced word tokens\n",
    "adv_qa = unique_paragraphs[unique_paragraphs[\"level\"] == 0]\n",
    "adv_qa_words = [\n",
    "    word\n",
    "    for paragraph in utils.get_number_of_tokens(adv_qa, \"paragraph\")\n",
    "    for word in paragraph\n",
    "]\n",
    "\n",
    "adv_sentences = [\n",
    "    sen\n",
    "    for paragraph in utils.get_number_of_tokens(adv_qa, \"paragraph\")\n",
    "    for sen in paragraph\n",
    "    if \".\" in sen\n",
    "]\n",
    "\n",
    "print(f\"OneStopQA Advanced Words Count: {len(adv_qa_words)}\")\n",
    "print(\n",
    "    f\"mean paragraph length (words): {round(len(adv_qa_words) / number_of_paragraphs, 1)}\"\n",
    ")\n",
    "print(\n",
    "    f\"mean sentence length (words): {round(len(adv_qa_words) / len(adv_sentences), 1)}\"\n",
    ")"
   ]
  },
  {
   "cell_type": "code",
   "execution_count": 13,
   "id": "f91690d0",
   "metadata": {},
   "outputs": [
    {
     "name": "stdout",
     "output_type": "stream",
     "text": [
      "OneStopQA Elementary Words Count: 15737\n",
      "mean paragraph length (words): 97.1\n",
      "mean sentence length (words): 17.0\n"
     ]
    }
   ],
   "source": [
    "# Elementary word tokens\n",
    "ele_qa = unique_paragraphs[unique_paragraphs[\"level\"] == 2]\n",
    "ele_qa_words = [\n",
    "    word\n",
    "    for paragraph in utils.get_number_of_tokens(ele_qa, \"paragraph\")\n",
    "    for word in paragraph\n",
    "]\n",
    "\n",
    "ele_sentences = [\n",
    "    sen\n",
    "    for paragraph in utils.get_number_of_tokens(ele_qa, \"paragraph\")\n",
    "    for sen in paragraph\n",
    "    if \".\" in sen\n",
    "]\n",
    "print(f\"OneStopQA Elementary Words Count: {len(ele_qa_words)}\")\n",
    "print(\n",
    "    f\"mean paragraph length (words): {round(len(ele_qa_words) / number_of_paragraphs, 1)}\"\n",
    ")\n",
    "print(\n",
    "    f\"mean sentence length (words): {round(len(ele_qa_words) / len(ele_sentences), 1)}\"\n",
    ")"
   ]
  },
  {
   "cell_type": "code",
   "execution_count": 14,
   "id": "18212a65",
   "metadata": {},
   "outputs": [
    {
     "name": "stdout",
     "output_type": "stream",
     "text": [
      "Mean sentences per paragraph in Advanced: 5.77\n",
      "Mean sentences per paragraph in Elementary: 5.75\n"
     ]
    }
   ],
   "source": [
    "res_0 = utils.analyze_text_series(unique_paragraphs.query(\"level==0\")[\"paragraph\"])\n",
    "res_2 = utils.analyze_text_series(unique_paragraphs.query(\"level==2\")[\"paragraph\"])\n",
    "print(\n",
    "    f\"Mean sentences per paragraph in Advanced: {round(res_0.sentence_count.mean(), 2)}\"\n",
    ")\n",
    "print(\n",
    "    f\"Mean sentences per paragraph in Elementary: {round(res_2.sentence_count.mean(), 2)}\"\n",
    ")"
   ]
  },
  {
   "cell_type": "code",
   "execution_count": 15,
   "id": "0105344f",
   "metadata": {},
   "outputs": [
    {
     "name": "stdout",
     "output_type": "stream",
     "text": [
      "Level 0 average words per sentence: 20.8\n",
      "Level 2 average words per sentence: 16.9\n"
     ]
    }
   ],
   "source": [
    "# Calculate total words and sentences for level 0\n",
    "total_words_0 = res_0[\"word_count\"].sum()\n",
    "total_sentences_0 = res_0[\"sentence_count\"].sum()\n",
    "avg_words_per_sentence_0 = round(total_words_0 / total_sentences_0, 1)\n",
    "\n",
    "# Calculate total words and sentences for level 2\n",
    "total_words_2 = res_2[\"word_count\"].sum()\n",
    "total_sentences_2 = res_2[\"sentence_count\"].sum()\n",
    "avg_words_per_sentence_2 = round(total_words_2 / total_sentences_2, 1)\n",
    "\n",
    "print(f\"Level 0 average words per sentence: {avg_words_per_sentence_0}\")\n",
    "print(f\"Level 2 average words per sentence: {avg_words_per_sentence_2}\")"
   ]
  },
  {
   "cell_type": "code",
   "execution_count": 16,
   "id": "1b0a187b",
   "metadata": {},
   "outputs": [
    {
     "name": "stdout",
     "output_type": "stream",
     "text": [
      "Number of unique questions in OneStopQA: 486\n",
      "Average length of questions in OneStopQA: 9.9\n"
     ]
    }
   ],
   "source": [
    "# Number of unique questions\n",
    "onsqa_q = onestop_qa.drop_duplicates(subset=[\"paragraph_index\", \"question\"])\n",
    "onsqa_q_words = onsqa_q[\"question\"]\n",
    "\n",
    "print(f\"Number of unique questions in OneStopQA: {len(onsqa_q)}\")\n",
    "print(\n",
    "    f\"Average length of questions in OneStopQA: {round(utils.get_average_length(onsqa_q_words), 1)}\"\n",
    ")"
   ]
  },
  {
   "cell_type": "code",
   "execution_count": 17,
   "id": "22ec81b8",
   "metadata": {},
   "outputs": [
    {
     "name": "stdout",
     "output_type": "stream",
     "text": [
      "Total Unique Answers: 486\n",
      "Mean Length of 'a': 7.1\n",
      "Mean Length of 'b': 7.5\n",
      "Mean Length of 'c': 7.9\n",
      "Mean Length of 'd': 6.8\n",
      "Mean Length of All Unique Answers: 7.3\n"
     ]
    }
   ],
   "source": [
    "# number of unique answers\n",
    "onestop_qa[\"answers_tuple\"] = onestop_qa[\"answers\"].apply(tuple)\n",
    "onsqa_a = onestop_qa.drop_duplicates(subset=[\"question\", \"answers_tuple\"])\n",
    "onsqa_a = onsqa_a.drop(columns=[\"answers_tuple\"])\n",
    "answers_df = pd.DataFrame(onsqa_a[\"answers\"].tolist(), columns=[\"a\", \"b\", \"c\", \"d\"])\n",
    "onsqa_a = onsqa_a.reset_index(drop=True)\n",
    "onsqa_a = pd.concat([onsqa_a, answers_df], axis=1)\n",
    "a = onsqa_a[\"a\"].tolist()\n",
    "b = onsqa_a[\"b\"].tolist()\n",
    "c = onsqa_a[\"c\"].tolist()\n",
    "d = onsqa_a[\"d\"].tolist()\n",
    "unique_answers = a + b + c + d\n",
    "\n",
    "print(f\"Total Unique Answers: {len(onsqa_a)}\")\n",
    "print(f\"Mean Length of 'a': {round(utils.get_average_length(a), 1)}\")\n",
    "print(f\"Mean Length of 'b': {round(utils.get_average_length(b), 1)}\")\n",
    "print(f\"Mean Length of 'c': {round(utils.get_average_length(c), 1)}\")\n",
    "print(f\"Mean Length of 'd': {round(utils.get_average_length(d), 1)}\")\n",
    "print(\n",
    "    f\"Mean Length of All Unique Answers: {round(utils.get_average_length(unique_answers), 1)}\"\n",
    ")"
   ]
  },
  {
   "cell_type": "code",
   "execution_count": 18,
   "id": "fe571ce4",
   "metadata": {},
   "outputs": [
    {
     "name": "stdout",
     "output_type": "stream",
     "text": [
      "Mean Length of Critical Span (a_span): 31.6\n",
      "Mean Length of Distractor Span (d_span): 12.9\n"
     ]
    }
   ],
   "source": [
    "# mean length of the critical span (a_span)\n",
    "onsqa_a_span = unique_paragraphs[\"a_span\"]\n",
    "total_words_a = []\n",
    "for a in onsqa_a_span:\n",
    "    words = a[1] - a[0] + 1\n",
    "    total_words_a.append(words)\n",
    "mean_a = sum(total_words_a) / len(total_words_a)\n",
    "print(f\"Mean Length of Critical Span (a_span): {round(mean_a, 1)}\")\n",
    "# mean length of the distractor span (d_span)\n",
    "onsqa_d_span = unique_paragraphs[\"d_span\"]\n",
    "total_words_d = []\n",
    "for d in onsqa_d_span:\n",
    "    words = d[1] - d[0] + 1\n",
    "    total_words_d.append(words)\n",
    "mean_d = sum(total_words_d) / len(total_words_d)\n",
    "print(f\"Mean Length of Distractor Span (d_span): {round(mean_d, 1)}\")"
   ]
  },
  {
   "cell_type": "markdown",
   "id": "71658aed",
   "metadata": {},
   "source": [
    "# Participants"
   ]
  },
  {
   "cell_type": "code",
   "execution_count": 19,
   "id": "a9d24b14",
   "metadata": {},
   "outputs": [
    {
     "name": "stdout",
     "output_type": "stream",
     "text": [
      "data_collection_site\n",
      "MIT         303\n",
      "Technion     57\n",
      "Name: count, dtype: int64\n"
     ]
    }
   ],
   "source": [
    "# participants recruited from:\n",
    "data_collection_sites = session_summary[\"data_collection_site\"].value_counts()\n",
    "print(data_collection_sites)"
   ]
  },
  {
   "cell_type": "code",
   "execution_count": 20,
   "id": "9759af52",
   "metadata": {},
   "outputs": [
    {
     "name": "stdout",
     "output_type": "stream",
     "text": [
      "Mean AoA of Gathering participants: 0.5\n"
     ]
    }
   ],
   "source": [
    "metadata = session_summary.merge(\n",
    "    questionnaire_df, left_on=\"participant_id\", right_on=\"Participant ID\"\n",
    ")\n",
    "metadata_gathering = metadata[metadata[\"question_preview\"] == False]\n",
    "print(\n",
    "    f\"Mean AoA of Gathering participants: {metadata_gathering['English AoA'].mean().round(1)}\"\n",
    ")"
   ]
  },
  {
   "cell_type": "code",
   "execution_count": 21,
   "id": "d878ca40",
   "metadata": {},
   "outputs": [
    {
     "name": "stdout",
     "output_type": "stream",
     "text": [
      "Number of participants with university affiliation: 138\n",
      "In percent: 76.7%\n"
     ]
    }
   ],
   "source": [
    "uni_affiliation = sum(metadata_gathering[\"University Affiliation\"] == \"yes\")\n",
    "print(f\"Number of participants with university affiliation: {uni_affiliation}\")\n",
    "print(f\"In percent: {round(uni_affiliation / len(metadata_gathering) * 100, 1)}%\")"
   ]
  },
  {
   "cell_type": "code",
   "execution_count": 22,
   "id": "7f80afec",
   "metadata": {},
   "outputs": [
    {
     "name": "stdout",
     "output_type": "stream",
     "text": [
      "Mean Age of Gathering participants: 23.4\n"
     ]
    }
   ],
   "source": [
    "print(f\"Mean Age of Gathering participants: {metadata_gathering.Age.mean().round(1)}\")"
   ]
  },
  {
   "cell_type": "markdown",
   "id": "71684c714035d1c6",
   "metadata": {
    "collapsed": false
   },
   "source": [
    "# Key Statistics"
   ]
  },
  {
   "cell_type": "code",
   "execution_count": 23,
   "id": "8c2feebb",
   "metadata": {},
   "outputs": [
    {
     "name": "stdout",
     "output_type": "stream",
     "text": [
      "Number of tokens in IA reports:\n",
      "paragraphs - 2632159\n",
      "questions - 242208\n",
      "questions and answers - 1190732\n",
      "questions preview - 121110\n",
      "titles - 38798\n",
      "total words - 3982709\n"
     ]
    }
   ],
   "source": [
    "# Calculate the lengths\n",
    "p = len(IA_P)\n",
    "q = len(IA_Q)\n",
    "a = len(IA_A)\n",
    "qa = len(IA_QA)\n",
    "q_pre = len(IA_Q_preview)\n",
    "t = len(IA_T)\n",
    "total = p + q + a + t + q_pre\n",
    "\n",
    "# Consolidated print statement\n",
    "print(\n",
    "    f\"Number of tokens in IA reports:\\nparagraphs - {p}\\nquestions - {q}\\nquestions and answers - {qa}\\nquestions preview - {q_pre}\\ntitles - {t}\\ntotal words - {total}\"\n",
    ")"
   ]
  },
  {
   "cell_type": "markdown",
   "id": "28d1256d",
   "metadata": {},
   "source": [
    "## Participants"
   ]
  },
  {
   "cell_type": "code",
   "execution_count": 24,
   "id": "a0811ea5",
   "metadata": {},
   "outputs": [
    {
     "name": "stdout",
     "output_type": "stream",
     "text": [
      "Total number of participants: 360\n"
     ]
    }
   ],
   "source": [
    "print(f\"Total number of participants: {len(session_summary)}\")"
   ]
  },
  {
   "cell_type": "code",
   "execution_count": 25,
   "id": "3e8b45a5",
   "metadata": {},
   "outputs": [
    {
     "name": "stdout",
     "output_type": "stream",
     "text": [
      "Eye Condition Counts:\n",
      "Normalized Condition\n",
      "[Astigmatism]                                                                                22\n",
      "[Lens-Corrected Myopia]                                                                      15\n",
      "[Astigmatism, Lens-Corrected Myopia]                                                          3\n",
      "[Amblyopia]                                                                                   1\n",
      "[Pseudotumor Cerebri (cured)]                                                                 1\n",
      "[Other: One eye does not see as well as the other, but cannot be corrected with glasses.]     1\n",
      "[Glasses]                                                                                     1\n",
      "Name: count, dtype: int64\n"
     ]
    }
   ],
   "source": [
    "# Eye conditions\n",
    "\n",
    "eye_cond = questionnaire_df.loc[\n",
    "    questionnaire_df[\"Eye Conditions\"] == \"Yes\", [\"Eye Condition Details\"]\n",
    "].reset_index(drop=True)\n",
    "\n",
    "# Apply normalization and get counts\n",
    "conditions = utils.normalize_eye_conditions(eye_cond, \"Eye Condition Details\")\n",
    "conditions[\"merged\"] = (\n",
    "    conditions[\"Condition1\"].fillna(\"\") + \" \" + conditions[\"Condition2\"].fillna(\"\")\n",
    ")\n",
    "condition_counts = conditions[\"Normalized Condition\"].value_counts()\n",
    "\n",
    "# Display results\n",
    "print(\"Eye Condition Counts:\")\n",
    "print(condition_counts)"
   ]
  },
  {
   "cell_type": "code",
   "execution_count": 26,
   "id": "6c84d14f",
   "metadata": {},
   "outputs": [
    {
     "name": "stdout",
     "output_type": "stream",
     "text": [
      "female - 238, male - 117, other - 5\n"
     ]
    }
   ],
   "source": [
    "# gender\n",
    "gender = questionnaire_df[\"Gender\"]\n",
    "labels, counts = np.unique(gender, return_counts=True)\n",
    "print(\n",
    "    f\"{labels[0]} - {counts[0]}, {labels[1]} - {counts[1]}, {labels[2]} - {counts[2]}\"\n",
    ")"
   ]
  },
  {
   "cell_type": "code",
   "execution_count": 27,
   "id": "3f7600df72dccc3",
   "metadata": {
    "ExecuteTime": {
     "end_time": "2024-05-11T08:50:08.273670Z",
     "start_time": "2024-05-11T08:50:08.243326Z"
    },
    "collapsed": false
   },
   "outputs": [
    {
     "name": "stdout",
     "output_type": "stream",
     "text": [
      "Age mean - 22.8,     Age std - 5.8\n"
     ]
    }
   ],
   "source": [
    "print(\n",
    "    f\"Age mean - {round(questionnaire_df['Age'].mean(), ndigits=1)}, \\\n",
    "    Age std - {round(questionnaire_df['Age'].std(), 1)}\"\n",
    ")"
   ]
  },
  {
   "cell_type": "code",
   "execution_count": 28,
   "id": "f6b9b5e5",
   "metadata": {},
   "outputs": [
    {
     "name": "stdout",
     "output_type": "stream",
     "text": [
      "Number of balanced bilinguals: 29\n"
     ]
    }
   ],
   "source": [
    "# Balanced Bilinguals\n",
    "counter = 0\n",
    "for languages in questionnaire_df[\"Languages\"]:\n",
    "    if isinstance(languages, list):\n",
    "        for lang in languages:\n",
    "            if lang.get(\"Language Proficiency\") == \"native\":\n",
    "                counter += 1\n",
    "print(f\"Number of balanced bilinguals: {counter}\")\n",
    "\n",
    "# Number of Additional Languages\n",
    "par_dict = {}\n",
    "participants_additional_languages = questionnaire_df[\"Languages\"]\n",
    "par_languages = []\n",
    "speak = []\n",
    "for participant_add_lang in participants_additional_languages:\n",
    "    if isinstance(participant_add_lang, list):\n",
    "        for l in participant_add_lang:\n",
    "            par_languages.append(l.get(\"Language\"))\n",
    "        speak.append(len(participant_add_lang))\n",
    "    else:\n",
    "        participant_add_lang = \"\"\n",
    "        speak.append(len(participant_add_lang))\n",
    "lang, counts = np.unique(par_languages, return_counts=True)\n",
    "language = dict(zip(lang, counts))\n",
    "num_of_l, c = np.unique(speak, return_counts=True)\n",
    "num_of_languages = dict(zip(num_of_l, c))\n",
    "plus_5 = [min(p_5, 5) for p_5 in speak]\n",
    "num_of_l_5, c_5 = np.unique(plus_5, return_counts=True)\n",
    "num_of_lang_plus_5 = dict(zip(num_of_l_5, c_5))"
   ]
  },
  {
   "cell_type": "code",
   "execution_count": 29,
   "id": "88d0f087",
   "metadata": {},
   "outputs": [
    {
     "name": "stdout",
     "output_type": "stream",
     "text": [
      "Mean age of acquisition (AoA) - 0.4\n"
     ]
    }
   ],
   "source": [
    "# The mean English Age of Acquisition\n",
    "print(\n",
    "    f\"Mean age of acquisition (AoA) - {round(np.mean(questionnaire_df['English AoA']), 1)}\"\n",
    ")"
   ]
  },
  {
   "cell_type": "code",
   "execution_count": 30,
   "id": "633c9226",
   "metadata": {},
   "outputs": [
    {
     "name": "stdout",
     "output_type": "stream",
     "text": [
      "Number of participants with university affiliation: 289\n",
      "University Institutions and their counts:\n",
      "MIT: 207\n",
      "Other: 63\n",
      "Technion: 19\n",
      "University Roles and their counts:\n",
      "Admin: 4\n",
      "Faculty: 13\n",
      "Grad: 39\n",
      "Other: 8\n",
      "Undergrad: 225\n"
     ]
    }
   ],
   "source": [
    "# participants university affiliation\n",
    "uni_affiliation = sum(questionnaire_df[\"University Affiliation\"] == \"yes\")\n",
    "print(f\"Number of participants with university affiliation: {uni_affiliation}\")\n",
    "\n",
    "uni_institutions = questionnaire_df[\"University Institution\"].dropna()\n",
    "institution_mapping = {\n",
    "    \"mit\": \"MIT\",\n",
    "    \"Technion\": \"Technion\",\n",
    "}\n",
    "uni_institutions_grouped = uni_institutions.apply(\n",
    "    lambda x: institution_mapping.get(x, \"Other\")\n",
    ")\n",
    "\n",
    "institutions_labels, institutions_counts = np.unique(\n",
    "    uni_institutions_grouped, return_counts=True\n",
    ")\n",
    "print(\"University Institutions and their counts:\")\n",
    "for i_label, i_count in zip(institutions_labels, institutions_counts):\n",
    "    print(f\"{i_label}: {i_count}\")\n",
    "\n",
    "uni_roles = questionnaire_df[\"University Role\"].dropna()\n",
    "roles_mapping = {\n",
    "    \"undergrad\": \"Undergrad\",\n",
    "    \"grad\": \"Grad\",\n",
    "    \"faculty\": \"Faculty\",\n",
    "    \"admin\": \"Admin\",\n",
    "}\n",
    "uni_roles_grouped = uni_roles.apply(lambda x: roles_mapping.get(x, \"Other\"))\n",
    "role_labels, role_counts = np.unique(uni_roles_grouped, return_counts=True)\n",
    "print(\"University Roles and their counts:\")\n",
    "for r_label, r_count in zip(role_labels, role_counts):\n",
    "    print(f\"{r_label}: {r_count}\")"
   ]
  },
  {
   "cell_type": "code",
   "execution_count": 55,
   "id": "7db62edf9a50efd4",
   "metadata": {
    "ExecuteTime": {
     "end_time": "2024-05-11T07:27:08.421808Z",
     "start_time": "2024-05-11T07:27:08.240857Z"
    },
    "collapsed": false
   },
   "outputs": [
    {
     "name": "stderr",
     "output_type": "stream",
     "text": [
      "/var/folders/fz/wnp3jl2n1z1gsgdq_g6_34ww0000gn/T/ipykernel_83485/1914534755.py:27: UserWarning: set_ticklabels() should only be used with a fixed number of ticks, i.e. after set_ticks() or using a FixedLocator.\n",
      "  axes[1].set(xticklabels=education_labels)\n",
      "/var/folders/fz/wnp3jl2n1z1gsgdq_g6_34ww0000gn/T/ipykernel_83485/1914534755.py:41: UserWarning: set_ticklabels() should only be used with a fixed number of ticks, i.e. after set_ticks() or using a FixedLocator.\n",
      "  axes[2].set(xticklabels=add_lang_labels)\n"
     ]
    },
    {
     "data": {
      "image/png": "[encoded data removed]",
      "text/plain": [
       "<Figure size 2200x800 with 3 Axes>"
      ]
     },
     "metadata": {},
     "output_type": "display_data"
    }
   ],
   "source": [
    "# Create Figure 3: Demographics\n",
    "sns.set_context(\"paper\", font_scale=2)\n",
    "sns.set_theme(font_scale=1.5, style=\"whitegrid\")\n",
    "fig_colors = \"#8da0cb\"  # \"#a1c9f4\"\n",
    "fig, axes = plt.subplots(nrows=1, ncols=3, figsize=(22, 8), sharey=\"row\")\n",
    "sns.set_style(\"whitegrid\")\n",
    "\n",
    "# Plot 1: Countplot for Age\n",
    "age_bins = [18, 22, 32, 42, 52]\n",
    "age_labels = [\"18-22\", \"23-32\", \"33-42\", \"43-52\"]\n",
    "data = questionnaire_df.copy()\n",
    "data[\"age_category\"] = pd.cut(\n",
    "    data[\"Age\"], bins=age_bins, labels=age_labels, right=False\n",
    ")\n",
    "sns.countplot(\n",
    "    data=data, x=\"age_category\", color=fig_colors, ax=axes[0], order=age_labels\n",
    ")\n",
    "axes[0].set(ylabel=\"Participants\")\n",
    "axes[0].set(xlabel=\"Age\")\n",
    "\n",
    "# Plot 2: Countplot for Level of Education\n",
    "education_order = [\"secondary\", \"college\", \"postgrad\"]\n",
    "education_labels = [\"Secondary\", \"Undergraduate\", \"Graduate\"]\n",
    "sns.countplot(\n",
    "    data=data, x=\"Education Level\", color=fig_colors, ax=axes[1], order=education_order\n",
    ")\n",
    "axes[1].set(xticklabels=education_labels)\n",
    "axes[1].set(ylabel=\"\")\n",
    "axes[1].set(xlabel=\"Education\")\n",
    "\n",
    "# Plot 3: Barplot for Number of Additional Languages\n",
    "add_lang_labels = [\"0\", \"1\", \"2\", \"3\", \"4\", \"5+\"]\n",
    "axes[2] = sns.barplot(\n",
    "    x=list(num_of_lang_plus_5.keys()),\n",
    "    y=list(num_of_lang_plus_5.values()),\n",
    "    color=fig_colors,\n",
    "    ax=axes[2],\n",
    ")\n",
    "axes[2].set(ylabel=\"\")\n",
    "axes[2].set(xlabel=\"Number of Additional Languages\")\n",
    "axes[2].set(xticklabels=add_lang_labels)\n",
    "\n",
    "# Add labels (a, b, c) to each subplot\n",
    "axes[0].text(\n",
    "    -0.1,\n",
    "    1.05,\n",
    "    \"a\",\n",
    "    transform=axes[0].transAxes,\n",
    "    fontsize=25,\n",
    "    fontweight=\"bold\",\n",
    "    va=\"top\",\n",
    ")\n",
    "axes[1].text(\n",
    "    -0.05,\n",
    "    1.05,\n",
    "    \"b\",\n",
    "    transform=axes[1].transAxes,\n",
    "    fontsize=25,\n",
    "    fontweight=\"bold\",\n",
    "    va=\"top\",\n",
    ")\n",
    "axes[2].text(\n",
    "    -0.05,\n",
    "    1.05,\n",
    "    \"c\",\n",
    "    transform=axes[2].transAxes,\n",
    "    fontsize=25,\n",
    "    fontweight=\"bold\",\n",
    "    va=\"top\",\n",
    ")\n",
    "\n",
    "# Adjust layout\n",
    "plt.tight_layout()\n",
    "\n",
    "# Save the plot as pdf\n",
    "plt.savefig(fig_save_path / \"figure3-demographics.pdf\")\n",
    "\n",
    "# Show the plot\n",
    "plt.show()"
   ]
  },
  {
   "cell_type": "markdown",
   "id": "8492f8f4",
   "metadata": {},
   "source": [
    "## Experiment Duration"
   ]
  },
  {
   "cell_type": "code",
   "execution_count": 32,
   "id": "bc206ded",
   "metadata": {},
   "outputs": [
    {
     "name": "stdout",
     "output_type": "stream",
     "text": [
      "mean duration (in minutes) - 44.3\n",
      "mean total duration (in minutes) - 55.7\n",
      "total duration of eye movements recordings (in hours) - 265.8\n"
     ]
    }
   ],
   "source": [
    "print(\n",
    "    f\"mean duration (in minutes) - {round(np.mean(session_summary['session_duration']), 1)}\"\n",
    ")\n",
    "print(\n",
    "    f\"mean total duration (in minutes) - {round(np.mean(session_summary['total_session_duration']), 1)}\"\n",
    ")\n",
    "print(\n",
    "    f\"total duration of eye movements recordings (in hours) - {round(np.sum(session_summary['session_duration']) / 60, 1)}\"\n",
    ")"
   ]
  },
  {
   "cell_type": "code",
   "execution_count": 33,
   "id": "b05049fe",
   "metadata": {},
   "outputs": [
    {
     "name": "stdout",
     "output_type": "stream",
     "text": [
      "mean hunting duration - 43.3\n",
      "mean gathering duration - 45.3\n",
      "total mean hunting duration - 54.3\n",
      "total mean gathering duration - 57.1\n"
     ]
    }
   ],
   "source": [
    "hunting = session_summary[session_summary[\"question_preview\"] == True]\n",
    "gathering = session_summary[session_summary[\"question_preview\"] == False]\n",
    "h_session_duration = hunting[\"session_duration\"]\n",
    "g_session_duration = gathering[\"session_duration\"]\n",
    "print(f\"mean hunting duration - {round(np.mean(h_session_duration), 1)}\")\n",
    "print(f\"mean gathering duration - {round(np.mean(g_session_duration), 1)}\")\n",
    "h_total_session_duration = hunting[\"total_session_duration\"]\n",
    "g_total_session_duration = gathering[\"total_session_duration\"]\n",
    "print(f\"total mean hunting duration - {round(np.mean(h_total_session_duration), 1)}\")\n",
    "print(f\"total mean gathering duration - {round(np.mean(g_total_session_duration), 1)}\")"
   ]
  },
  {
   "cell_type": "code",
   "execution_count": 34,
   "id": "8763602b",
   "metadata": {},
   "outputs": [
    {
     "name": "stdout",
     "output_type": "stream",
     "text": [
      "mean p - 26.0\n",
      "p hunting - 23.1\n",
      "p gathering - 28.9\n",
      "mean q - 2.6\n",
      "q hunting - 2.5\n",
      "q gathering - 2.7\n",
      "mean a - 7.6\n",
      "a hunting - 7.1\n",
      "a gathering - 8.0\n",
      "mean qa - 10.2\n",
      "qa hunting - 9.6\n",
      "qa gathering - 10.8\n",
      "q preview - 3.5\n"
     ]
    }
   ],
   "source": [
    "# paragraph duration\n",
    "ia_p = IA_P.drop_duplicates(\n",
    "    subset=[\"participant_id\", \"article_batch\", \"article_id\", \"paragraph_id\", \"repeated_reading_trial\"]\n",
    ")\n",
    "ia_h_duration = ia_p[ia_p[\"question_preview\"] == True]\n",
    "ia_g_duration = ia_p[ia_p[\"question_preview\"] == False]\n",
    "ia_p = ia_p.groupby(\"participant_id\").sum()\n",
    "ia_h_duration = ia_h_duration.groupby(\"participant_id\").sum()\n",
    "ia_g_duration = ia_g_duration.groupby(\"participant_id\").sum()\n",
    "\n",
    "print(f\"mean p - {round((ia_p['PARAGRAPH_RT'] / 1000 / 60).mean(), 1)}\")\n",
    "print(f\"p hunting - {round((ia_h_duration['PARAGRAPH_RT'] / 1000 / 60).mean(), 1)}\")\n",
    "print(f\"p gathering - {round((ia_g_duration['PARAGRAPH_RT'] / 1000 / 60).mean(), 1)}\")\n",
    "# q duration\n",
    "print(f\"mean q - {round((ia_p['QUESTION_RT'] / 1000 / 60).mean(), 1)}\")\n",
    "print(f\"q hunting - {round((ia_h_duration['QUESTION_RT'] / 1000 / 60).mean(), 1)}\")\n",
    "print(f\"q gathering - {round((ia_g_duration['QUESTION_RT'] / 1000 / 60).mean(), 1)}\")\n",
    "# a duration\n",
    "print(f\"mean a - {round((ia_p['CONFIRM_FINAL_ANSWER_RT'] / 1000 / 60).mean(), 1)}\")\n",
    "print(\n",
    "    f\"a hunting - {round((ia_h_duration['CONFIRM_FINAL_ANSWER_RT'] / 1000 / 60).mean(), 1)}\"\n",
    ")\n",
    "print(\n",
    "    f\"a gathering - {round((ia_g_duration['CONFIRM_FINAL_ANSWER_RT'] / 1000 / 60).mean(), 1)}\"\n",
    ")\n",
    "# q&a duration\n",
    "print(\n",
    "    f\"mean qa - {round((ia_p['QUESTION_RT'] / 1000 / 60).mean() + (ia_p['CONFIRM_FINAL_ANSWER_RT'] / 1000 / 60).mean(), 1)}\"\n",
    ")\n",
    "print(\n",
    "    f\"qa hunting - {round((ia_h_duration['QUESTION_RT'] / 1000 / 60).mean() + (ia_h_duration['CONFIRM_FINAL_ANSWER_RT'] / 1000 / 60).mean(), 1)}\"\n",
    ")\n",
    "print(\n",
    "    f\"qa gathering - {round((ia_g_duration['QUESTION_RT'] / 1000 / 60).mean() + (ia_g_duration['CONFIRM_FINAL_ANSWER_RT'] / 1000 / 60).mean(), 1)}\"\n",
    ")\n",
    "# q_preview duration\n",
    "print(\n",
    "    f\"q preview - {round((ia_h_duration['PREVIEW_QUESTION_RT'] / 1000 / 60).mean(), 1)}\"\n",
    ")"
   ]
  },
  {
   "cell_type": "markdown",
   "id": "f1fb36a4",
   "metadata": {},
   "source": [
    "## Reading Comprehension Performance"
   ]
  },
  {
   "cell_type": "code",
   "execution_count": 35,
   "id": "aec34797",
   "metadata": {},
   "outputs": [
    {
     "name": "stdout",
     "output_type": "stream",
     "text": [
      "Reading Comprehension Accuracy - Hunting (without reread): 86.9\n",
      "Reading Comprehension Accuracy - Gathering (without reread): 81.2\n",
      "Reading Comprehension Accuracy - Hunting (with reread): 90.6\n",
      "Reading Comprehension Accuracy - Gathering (with reread): 84.2\n"
     ]
    }
   ],
   "source": [
    "# reading comprehension accuracy Hunting\n",
    "comprehension_score = session_summary.groupby([\"question_preview\"])[\n",
    "    \"comprehension_score-regular_trials\"\n",
    "].mean()\n",
    "comprehension_hunting = comprehension_score[True]\n",
    "# reading comprehension accuracy Gathering\n",
    "comprehension_gathering = comprehension_score[False]\n",
    "\n",
    "# reading comprehension accuracy re-reading Hunting\n",
    "reread_comprehension_score = session_summary.groupby([\"question_preview\"])[\n",
    "    \"comprehension_score-repeated_reading\"\n",
    "].mean()\n",
    "reread_comprehension_hunting = reread_comprehension_score[True]\n",
    "# reading comprehension accuracy re-reading Gathering\n",
    "reread_comprehension_gathering = reread_comprehension_score[False]\n",
    "\n",
    "\n",
    "print(\n",
    "    f\"Reading Comprehension Accuracy - Hunting (without reread): {comprehension_hunting.round(1)}\"\n",
    ")\n",
    "print(\n",
    "    f\"Reading Comprehension Accuracy - Gathering (without reread): {comprehension_gathering.round(1)}\"\n",
    ")\n",
    "print(\n",
    "    f\"Reading Comprehension Accuracy - Hunting (with reread): {reread_comprehension_hunting.round(1)}\"\n",
    ")\n",
    "print(\n",
    "    f\"Reading Comprehension Accuracy - Gathering (with reread): {reread_comprehension_gathering.round(1)}\"\n",
    ")"
   ]
  },
  {
   "cell_type": "markdown",
   "id": "9bbf8edc",
   "metadata": {},
   "source": [
    "# Data quality"
   ]
  },
  {
   "cell_type": "markdown",
   "id": "f2d8198c",
   "metadata": {},
   "source": [
    "## Calibration quality"
   ]
  },
  {
   "cell_type": "code",
   "execution_count": 36,
   "id": "cdda018e59c6cfeb",
   "metadata": {
    "ExecuteTime": {
     "end_time": "2024-05-11T09:36:18.335712Z",
     "start_time": "2024-05-11T09:36:18.330036Z"
    },
    "collapsed": false
   },
   "outputs": [
    {
     "name": "stdout",
     "output_type": "stream",
     "text": [
      "Mean number of recalibrations: 6.7\n",
      "Mean number of calibrations per-recalibration session: 1.3\n"
     ]
    }
   ],
   "source": [
    "# mean number of calibration sessions during an experiment\n",
    "session_interruptions = session_summary[\"recalibration_count\"]\n",
    "print(f\"Mean number of recalibrations: {round(np.mean(session_interruptions), 1)}\")\n",
    "\n",
    "# mean number of calibration attempts per calibration session\n",
    "mean_calibrations_per_session = sum(session_summary[\"total_recalibrations\"]) / sum(\n",
    "    session_summary[\"recalibration_count\"]\n",
    ")\n",
    "print(\n",
    "    f\"Mean number of calibrations per-recalibration session: {round(mean_calibrations_per_session, 1)}\"\n",
    ")"
   ]
  },
  {
   "cell_type": "code",
   "execution_count": 37,
   "id": "5c290a0e",
   "metadata": {},
   "outputs": [
    {
     "name": "stdout",
     "output_type": "stream",
     "text": [
      "Percentage of Trials Over 0.3 Error: 15.5%\n",
      "Percentage of Validation Errors Over 0.3: 8.9%\n"
     ]
    }
   ],
   "source": [
    "# Percent validation error over 0.3\n",
    "validation_error = pd.read_csv(  \"utils/validation_error.csv\")\n",
    "over_03 = validation_error[[\"num_over_03\", \"total_trials\"]].sum()\n",
    "\n",
    "percentage_over_03 = round(over_03[\"num_over_03\"] / over_03[\"total_trials\"] * 100, 1)\n",
    "percentage_avg_error_over_03 = round(\n",
    "    (validation_error[\"avg_avg_val_error\"] > 0.3).sum() / 360 * 100, 1\n",
    ")\n",
    "\n",
    "print(f\"Percentage of Trials Over 0.3 Error: {percentage_over_03}%\")\n",
    "print(f\"Percentage of Validation Errors Over 0.3: {percentage_avg_error_over_03}%\")"
   ]
  },
  {
   "cell_type": "markdown",
   "id": "dbd5ce9f",
   "metadata": {},
   "source": [
    "## Accuracy of fixation assignments to lines"
   ]
  },
  {
   "cell_type": "code",
   "execution_count": 38,
   "id": "c5a48cbe",
   "metadata": {},
   "outputs": [
    {
     "data": {
      "text/html": [
       "<div>\n",
       "<style scoped>\n",
       "    .dataframe tbody tr th:only-of-type {\n",
       "        vertical-align: middle;\n",
       "    }\n",
       "\n",
       "    .dataframe tbody tr th {\n",
       "        vertical-align: top;\n",
       "    }\n",
       "\n",
       "    .dataframe thead th {\n",
       "        text-align: right;\n",
       "    }\n",
       "</style>\n",
       "<table border=\"1\" class=\"dataframe\">\n",
       "  <thead>\n",
       "    <tr style=\"text-align: right;\">\n",
       "      <th></th>\n",
       "      <th>file_name</th>\n",
       "      <th>num_lines</th>\n",
       "      <th>number_of_fixations</th>\n",
       "      <th>participant_id</th>\n",
       "      <th>trial_index</th>\n",
       "      <th>other_annotator1</th>\n",
       "      <th>other_annotator2</th>\n",
       "      <th>incorrect_line_annotator1</th>\n",
       "      <th>incorrect_line_annotator2</th>\n",
       "    </tr>\n",
       "  </thead>\n",
       "  <tbody>\n",
       "    <tr>\n",
       "      <th>0</th>\n",
       "      <td>10_056_l2_324_40.pdf</td>\n",
       "      <td>10</td>\n",
       "      <td>56</td>\n",
       "      <td>l2_324</td>\n",
       "      <td>40</td>\n",
       "      <td>[5, 9, 12, 18, 19, 20, 21, 26, 31, 32, 33, 41,...</td>\n",
       "      <td>[5, 9, 12, 18, 19, 26, 31, 33, 40, 41, 46, 49,...</td>\n",
       "      <td>[36]</td>\n",
       "      <td>[]</td>\n",
       "    </tr>\n",
       "    <tr>\n",
       "      <th>1</th>\n",
       "      <td>10_056_l48_535_44.pdf</td>\n",
       "      <td>10</td>\n",
       "      <td>56</td>\n",
       "      <td>l48_535</td>\n",
       "      <td>44</td>\n",
       "      <td>[6, 11, 12, 14, 15, 16, 22, 27, 31, 38, 39, 44...</td>\n",
       "      <td>[6, 11, 12, 16, 17, 22, 27, 31, 38, 39, 44, 50...</td>\n",
       "      <td>[36, 42, 43]</td>\n",
       "      <td>[36, 42, 43]</td>\n",
       "    </tr>\n",
       "    <tr>\n",
       "      <th>2</th>\n",
       "      <td>10_057_l36_280_56.pdf</td>\n",
       "      <td>10</td>\n",
       "      <td>57</td>\n",
       "      <td>l36_280</td>\n",
       "      <td>56</td>\n",
       "      <td>[8, 9, 12, 16, 22, 26, 27, 29, 36, 42, 46, 47,...</td>\n",
       "      <td>[8, 9, 12, 13, 16, 22, 26, 27, 32, 36, 37, 42,...</td>\n",
       "      <td>[7, 20, 41]</td>\n",
       "      <td>[7, 20, 41]</td>\n",
       "    </tr>\n",
       "    <tr>\n",
       "      <th>3</th>\n",
       "      <td>10_059_l52_477_34.pdf</td>\n",
       "      <td>10</td>\n",
       "      <td>59</td>\n",
       "      <td>l52_477</td>\n",
       "      <td>34</td>\n",
       "      <td>[5, 10, 12, 14, 18, 24, 25, 30, 31, 36, 37, 42...</td>\n",
       "      <td>[5, 10, 12, 14, 18, 24, 25, 30, 31, 36, 37, 42...</td>\n",
       "      <td>[6, 11]</td>\n",
       "      <td>[6, 11]</td>\n",
       "    </tr>\n",
       "    <tr>\n",
       "      <th>4</th>\n",
       "      <td>10_060_l48_140_33.pdf</td>\n",
       "      <td>10</td>\n",
       "      <td>60</td>\n",
       "      <td>l48_140</td>\n",
       "      <td>33</td>\n",
       "      <td>[8, 16, 17, 23, 24, 29, 35, 39, 43, 49, 50, 56]</td>\n",
       "      <td>[8, 16, 17, 23, 24, 29, 35, 39, 43, 49, 50, 56]</td>\n",
       "      <td>[11]</td>\n",
       "      <td>[11]</td>\n",
       "    </tr>\n",
       "  </tbody>\n",
       "</table>\n",
       "</div>"
      ],
      "text/plain": [
       "               file_name  num_lines  number_of_fixations participant_id  \\\n",
       "0   10_056_l2_324_40.pdf         10                   56         l2_324   \n",
       "1  10_056_l48_535_44.pdf         10                   56        l48_535   \n",
       "2  10_057_l36_280_56.pdf         10                   57        l36_280   \n",
       "3  10_059_l52_477_34.pdf         10                   59        l52_477   \n",
       "4  10_060_l48_140_33.pdf         10                   60        l48_140   \n",
       "\n",
       "   trial_index                                   other_annotator1  \\\n",
       "0           40  [5, 9, 12, 18, 19, 20, 21, 26, 31, 32, 33, 41,...   \n",
       "1           44  [6, 11, 12, 14, 15, 16, 22, 27, 31, 38, 39, 44...   \n",
       "2           56  [8, 9, 12, 16, 22, 26, 27, 29, 36, 42, 46, 47,...   \n",
       "3           34  [5, 10, 12, 14, 18, 24, 25, 30, 31, 36, 37, 42...   \n",
       "4           33    [8, 16, 17, 23, 24, 29, 35, 39, 43, 49, 50, 56]   \n",
       "\n",
       "                                    other_annotator2  \\\n",
       "0  [5, 9, 12, 18, 19, 26, 31, 33, 40, 41, 46, 49,...   \n",
       "1  [6, 11, 12, 16, 17, 22, 27, 31, 38, 39, 44, 50...   \n",
       "2  [8, 9, 12, 13, 16, 22, 26, 27, 32, 36, 37, 42,...   \n",
       "3  [5, 10, 12, 14, 18, 24, 25, 30, 31, 36, 37, 42...   \n",
       "4    [8, 16, 17, 23, 24, 29, 35, 39, 43, 49, 50, 56]   \n",
       "\n",
       "  incorrect_line_annotator1 incorrect_line_annotator2  \n",
       "0                      [36]                        []  \n",
       "1              [36, 42, 43]              [36, 42, 43]  \n",
       "2               [7, 20, 41]               [7, 20, 41]  \n",
       "3                   [6, 11]                   [6, 11]  \n",
       "4                      [11]                      [11]  "
      ]
     },
     "execution_count": 38,
     "metadata": {},
     "output_type": "execute_result"
    }
   ],
   "source": [
    "final_df = pd.read_csv(\"line_assignment_annotations/fixation_annotations.csv\")\n",
    "\n",
    "# Parse string representations of lists into actual lists\n",
    "list_columns = [\n",
    "    'incorrect_line_annotator1',\n",
    "    'incorrect_line_annotator2',\n",
    "    'other_annotator1',\n",
    "    'other_annotator2'\n",
    "]\n",
    "\n",
    "for col in list_columns:\n",
    "    final_df[col] = final_df[col].apply(ast.literal_eval)\n",
    "final_df.head()"
   ]
  },
  {
   "cell_type": "code",
   "execution_count": 39,
   "id": "4f7888c6",
   "metadata": {},
   "outputs": [],
   "source": [
    "# Combine incorrect_line and other_line from both annotators using union\n",
    "final_df['incorrect_line'] = [\n",
    "    sorted(list(set(final_df.iloc[i]['incorrect_line_annotator1']) | set(final_df.iloc[i]['incorrect_line_annotator2'])))\n",
    "    for i in range(len(final_df))\n",
    "]\n",
    "\n",
    "final_df['other'] = [\n",
    "    sorted(list(set(final_df.iloc[i]['other_annotator1']) | set(final_df.iloc[i]['other_annotator2'])))\n",
    "    for i in range(len(final_df))\n",
    "]\n",
    "\n",
    "# Calculate mistake count, other count, and error rate\n",
    "final_df['mistake_count'] = final_df['incorrect_line'].apply(len)\n",
    "final_df['other_count'] = final_df['other'].apply(len)\n",
    "final_df['error_rate'] = final_df['mistake_count'] / (final_df['number_of_fixations'])"
   ]
  },
  {
   "cell_type": "code",
   "execution_count": 40,
   "id": "012fcec7",
   "metadata": {},
   "outputs": [
    {
     "name": "stdout",
     "output_type": "stream",
     "text": [
      "Total fixations annotated: 1296\n",
      "Overall inter-annotator agreement (Cohen's Kappa): 0.945\n",
      "\n",
      "Annotator 1 label distribution:\n",
      "  correct: 929 (71.7%)\n",
      "  mistake: 50 (3.9%)\n",
      "  other: 317 (24.5%)\n",
      "\n",
      "Annotator 2 label distribution:\n",
      "  correct: 949 (73.2%)\n",
      "  mistake: 48 (3.7%)\n",
      "  other: 299 (23.1%)\n",
      "\n",
      "Overall distribution based on final (combined) annotations:\n",
      "  correct: 924 (71.3%)\n",
      "  mistake: 50 (3.9%)\n",
      "  other: 322 (24.8%)\n",
      "\n",
      "Average correct rate between annotators: 72.5%\n",
      "Average other rate between annotators: 23.8%\n"
     ]
    }
   ],
   "source": [
    "# Create combined binary lists for overall annotation (mistake=1, unknown=2, correct=0)\n",
    "annotator1_overall = []\n",
    "annotator2_overall = []\n",
    "\n",
    "for i in range(len(final_df)):\n",
    "    row = final_df.iloc[i]\n",
    "    \n",
    "    for line_idx in range(row['number_of_fixations']):\n",
    "        # Annotator1's annotation\n",
    "        if line_idx in row['incorrect_line_annotator1']:\n",
    "            annotator1_overall.append(1)\n",
    "        elif line_idx in row['other_annotator1']:\n",
    "            annotator1_overall.append(2)\n",
    "        else:\n",
    "            annotator1_overall.append(0)\n",
    "        \n",
    "        # Annotator2's annotation\n",
    "        if line_idx in row['incorrect_line_annotator2']:\n",
    "            annotator2_overall.append(1)\n",
    "        elif line_idx in row['other_annotator2']:\n",
    "            annotator2_overall.append(2)\n",
    "        else:\n",
    "            annotator2_overall.append(0)\n",
    "\n",
    "# Compute Cohen's Kappa for overall agreement\n",
    "overall_agreement = cohen_kappa_score(annotator1_overall, annotator2_overall)\n",
    "\n",
    "print(f\"Total fixations annotated: {len(annotator1_overall)}\")\n",
    "print(f\"Overall inter-annotator agreement (Cohen's Kappa): {overall_agreement:.3f}\")\n",
    "# Count occurrences of each label\n",
    "a1_counts = {\n",
    "    \"correct\": annotator1_overall.count(0),\n",
    "    \"mistake\": annotator1_overall.count(1),\n",
    "    \"other\": annotator1_overall.count(2)\n",
    "}\n",
    "\n",
    "a2_counts = {\n",
    "    \"correct\": annotator2_overall.count(0),\n",
    "    \"mistake\": annotator2_overall.count(1),\n",
    "    \"other\": annotator2_overall.count(2)\n",
    "}\n",
    "\n",
    "print(\"\\nAnnotator 1 label distribution:\")\n",
    "for label, count in a1_counts.items():\n",
    "    print(f\"  {label}: {count} ({count/len(annotator1_overall):.1%})\")\n",
    "\n",
    "print(\"\\nAnnotator 2 label distribution:\")\n",
    "for label, count in a2_counts.items():\n",
    "    print(f\"  {label}: {count} ({count/len(annotator2_overall):.1%})\")\n",
    "\n",
    "# Calculate overall distribution based on the combined incorrect_line and unknown_line fields\n",
    "total_fixations = sum(final_df['number_of_fixations'])\n",
    "total_mistakes = sum(final_df['mistake_count'])\n",
    "total_other = sum(final_df['other_count'])\n",
    "total_correct = total_fixations - total_mistakes - total_other\n",
    "\n",
    "print(\"\\nOverall distribution based on final (combined) annotations:\")\n",
    "print(f\"  correct: {total_correct} ({total_correct/total_fixations:.1%})\")\n",
    "print(f\"  mistake: {total_mistakes} ({total_mistakes/total_fixations:.1%})\")\n",
    "print(f\"  other: {total_other} ({total_other/total_fixations:.1%})\")\n",
    "\n",
    "# print average of % fixations marked as correct and as other between annotators\n",
    "avg_correct_rate = (a1_counts['correct']/len(annotator1_overall) + a2_counts['correct']/len(annotator2_overall)) / 2\n",
    "avg_other_rate = (a1_counts['other']/len(annotator1_overall) + a2_counts['other']/len(annotator2_overall)) / 2\n",
    "print(f\"\\nAverage correct rate between annotators: {avg_correct_rate:.1%}\")\n",
    "print(f\"Average other rate between annotators: {avg_other_rate:.1%}\")"
   ]
  },
  {
   "cell_type": "markdown",
   "id": "a359c1c3",
   "metadata": {},
   "source": [
    "# Figure 4"
   ]
  },
  {
   "cell_type": "code",
   "execution_count": 56,
   "id": "effd1fb21b73babb",
   "metadata": {
    "ExecuteTime": {
     "end_time": "2024-05-11T08:09:37.516565Z",
     "start_time": "2024-05-11T08:09:37.185211Z"
    },
    "collapsed": false
   },
   "outputs": [
    {
     "data": {
      "image/png": "[encoded data removed]",
      "text/plain": [
       "<Figure size 2000x750 with 2 Axes>"
      ]
     },
     "metadata": {},
     "output_type": "display_data"
    }
   ],
   "source": [
    "sns.set_context(\"paper\", font_scale=2)\n",
    "sns.set_theme(font_scale=1.5, style=\"whitegrid\")\n",
    "# Create Figure 2\n",
    "fig_colors = \"#8da0cb\"\n",
    "colors = [\"#66c2a5\", \"#fc8d62\"]\n",
    "color_dict = {\n",
    "    True: colors[0],\n",
    "    False: colors[1],\n",
    "}\n",
    "fig, axes = plt.subplots(nrows=1, ncols=2, figsize=(20, 7.5), sharey=True)\n",
    "\n",
    "data = session_summary.copy()\n",
    "\n",
    "# Plot 3: Experiment Duration\n",
    "axes[0] = sns.histplot(\n",
    "    data,\n",
    "    x=\"total_session_duration\",\n",
    "    color=fig_colors,\n",
    "    ax=axes[0],\n",
    "    binrange=(25, 115),\n",
    "    binwidth=5,\n",
    "    alpha=1.0\n",
    ")\n",
    "axes[0].axvline(\n",
    "    data[\"total_session_duration\"].mean(), color=fig_colors, ls=\"--\", lw=2.5\n",
    ")\n",
    "axes[0].set(ylabel=\"Participants\")\n",
    "axes[0].set(xlabel=\"Experiment Duration (minutes)\")\n",
    "\n",
    "axes[0].text(\n",
    "    data[\"total_session_duration\"].mean(),\n",
    "    axes[0].get_ylim()[1] * 1,\n",
    "    f\"  {data['total_session_duration'].mean():.1f}\",\n",
    "    color=fig_colors,\n",
    "    ha=\"left\",\n",
    "    fontsize=17,\n",
    "    fontweight=\"bold\",\n",
    ")\n",
    "\n",
    "# Plot 4: Reading Comprehension Score\n",
    "condition_labels = [\n",
    "    \"Hunting\",\n",
    "    \"Gathering\",\n",
    "]\n",
    "\n",
    "axes[1] = sns.histplot(\n",
    "    data=data,\n",
    "    x=\"comprehension_score-regular_trials\",\n",
    "    palette=color_dict,\n",
    "    ax=axes[1],\n",
    "    hue=\"question_preview\",\n",
    "    multiple=\"layer\",\n",
    "    binrange=(45, 100),\n",
    "    binwidth=5,\n",
    ")\n",
    "\n",
    "axes[1].legend(\n",
    "    labels=condition_labels,\n",
    "    title=\"Condition\",\n",
    "    loc=\"upper left\",\n",
    ")\n",
    "axes[1].set(xlabel=\"Reading Comprehension Accuracy\")\n",
    "axes[1].set(ylabel=\"\")\n",
    "axes[1].axvline(\n",
    "    comprehension_gathering,\n",
    "    color=colors[1],\n",
    "    ls=\"--\",\n",
    "    lw=2.5,\n",
    ")\n",
    "\n",
    "axes[1].text(\n",
    "    comprehension_gathering,\n",
    "    axes[1].get_ylim()[1] * 0.96,\n",
    "    f\"  {comprehension_gathering:.1f}\",\n",
    "    color=colors[1],\n",
    "    ha=\"left\",\n",
    "    fontsize=17,\n",
    "    fontweight=\"bold\",\n",
    ")\n",
    "\n",
    "axes[1].axvline(\n",
    "    comprehension_hunting,\n",
    "    color=colors[0],\n",
    "    ls=\"--\",\n",
    "    lw=2.5,\n",
    ")\n",
    "\n",
    "axes[1].text(\n",
    "    comprehension_hunting,\n",
    "    axes[1].get_ylim()[1] * 0.96,\n",
    "    f\"  {comprehension_hunting:.1f}\",\n",
    "    color=colors[0],\n",
    "    ha=\"left\",\n",
    "    fontsize=17,\n",
    "    fontweight=\"bold\",\n",
    ")\n",
    "\n",
    "# Add labels (a, b) to each subplot\n",
    "axes[0].text(\n",
    "    -0.1,\n",
    "    1.05,\n",
    "    \"a\",\n",
    "    transform=axes[0].transAxes,\n",
    "    fontsize=25,\n",
    "    fontweight=\"bold\",\n",
    "    va=\"top\",\n",
    ")\n",
    "axes[1].text(\n",
    "    -0.05,\n",
    "    1.05,\n",
    "    \"b\",\n",
    "    transform=axes[1].transAxes,\n",
    "    fontsize=25,\n",
    "    fontweight=\"bold\",\n",
    "    va=\"top\",\n",
    ")\n",
    "\n",
    "# increase font size\n",
    "for ax in axes.flat:\n",
    "    ax.tick_params(axis=\"both\", which=\"major\", labelsize=20),\n",
    "    ax.grid(axis='y', which='major', linestyle='-', linewidth=1),\n",
    "    ax.grid(False, axis='x') \n",
    "\n",
    "# Set facecolor for the figure\n",
    "fig.set_facecolor(\"white\")\n",
    "\n",
    "# Adjust layout\n",
    "plt.tight_layout()\n",
    "\n",
    "# Save the plot as pdf\n",
    "plt.savefig(fig_save_path / \"figure4-exp_stats.pdf\")\n",
    "\n",
    "# Show the plot\n",
    "plt.show()\n"
   ]
  },
  {
   "cell_type": "markdown",
   "id": "3d1ffd16",
   "metadata": {},
   "source": [
    "## Figure 5 - Calibrations"
   ]
  },
  {
   "cell_type": "code",
   "execution_count": 44,
   "id": "a71aa3e0",
   "metadata": {},
   "outputs": [
    {
     "data": {
      "image/png": "[encoded data removed]",
      "text/plain": [
       "<Figure size 2000x750 with 2 Axes>"
      ]
     },
     "metadata": {},
     "output_type": "display_data"
    }
   ],
   "source": [
    "sns.set_context(\"paper\", font_scale=2)\n",
    "sns.set_theme(font_scale=1.5, style=\"whitegrid\")\n",
    "# Create Figure 2\n",
    "fig_colors = \"#8da0cb\"\n",
    "colors = [\"#66c2a5\", \"#fc8d62\"]\n",
    "color_dict = {\n",
    "    True: colors[0],\n",
    "    False: colors[1],\n",
    "}\n",
    "fig, axes = plt.subplots(nrows=1, ncols=2, figsize=(20, 7.5), sharey=\"row\")\n",
    "\n",
    "data = session_summary.copy()\n",
    "# Plot 1: Number of Recalibrations\n",
    "axes[0] = sns.histplot(\n",
    "    data,\n",
    "    x=\"recalibration_count\",\n",
    "    color=fig_colors,\n",
    "    ax=axes[0],\n",
    "    binrange=(0, 27),\n",
    "    binwidth=3,\n",
    "    alpha=1.0\n",
    ")\n",
    "axes[0].set(ylabel=\"Participants\")\n",
    "axes[0].set(xlabel=\"Recalibration Sessions\")\n",
    "axes[0].axvline(session_interruptions.mean(), color=fig_colors, ls=\"--\", lw=2.5)\n",
    "axes[0].set_xticks(np.arange(0, 28, 6))\n",
    "\n",
    "axes[0].text(\n",
    "    session_interruptions.mean(),\n",
    "    axes[0].get_ylim()[1] * 0.95,\n",
    "    f\"  {session_interruptions.mean():.1f}\",\n",
    "    color=fig_colors,\n",
    "    ha=\"left\",\n",
    "    fontsize=17,\n",
    "    fontweight=\"bold\",\n",
    ")\n",
    "\n",
    "# Plot 2: Validations\n",
    "axes[1] = sns.histplot(\n",
    "    data,\n",
    "    x=\"mean_validation_error\",\n",
    "    color=fig_colors,\n",
    "    ax=axes[1],\n",
    "    binrange=(0.1, 0.5),\n",
    "    binwidth=0.025,\n",
    "    alpha=1.0\n",
    ")\n",
    "axes[1].set(ylabel=\"\")\n",
    "axes[1].set(xlabel=\"Calibration Error (visual degrees)\")\n",
    "axes[1].axvline(\n",
    "    data[\"mean_validation_error\"].mean(), color=fig_colors, ls=\"--\", lw=2.5\n",
    ")\n",
    "axes[1].set_xticks(np.arange(0.1, 0.51, 0.1))\n",
    "\n",
    "axes[1].text(\n",
    "    data[\"mean_validation_error\"].mean(),\n",
    "    axes[1].get_ylim()[1] * 0.95,\n",
    "    f\"  {data['mean_validation_error'].mean():.2f}\",\n",
    "    color=fig_colors,\n",
    "    ha=\"left\",\n",
    "    fontsize=17,\n",
    "    fontweight=\"bold\",\n",
    ")\n",
    "\n",
    "# Add labels (a, b) to each subplot\n",
    "axes[0].text(\n",
    "    -0.1,\n",
    "    1.05,\n",
    "    \"a\",\n",
    "    transform=axes[0].transAxes,\n",
    "    fontsize=25,\n",
    "    fontweight=\"bold\",\n",
    "    va=\"top\",\n",
    ")\n",
    "axes[1].text(\n",
    "    -0.05,\n",
    "    1.05,\n",
    "    \"b\",\n",
    "    transform=axes[1].transAxes,\n",
    "    fontsize=25,\n",
    "    fontweight=\"bold\",\n",
    "    va=\"top\",\n",
    ")\n",
    "\n",
    "# increase font size\n",
    "for ax in axes.flat:\n",
    "    ax.tick_params(axis=\"both\", which=\"major\", labelsize=20),\n",
    "    ax.grid(axis='y', which='major', linestyle='-', linewidth=1),\n",
    "    ax.grid(False, axis='x') \n",
    "\n",
    "fig.set_facecolor(\"white\")\n",
    "plt.tight_layout()\n",
    "plt.savefig(fig_save_path / \"figure5-calibration.pdf\")\n",
    "plt.show()\n"
   ]
  },
  {
   "cell_type": "markdown",
   "id": "561a2052",
   "metadata": {},
   "source": [
    "# Benchmarks for Global Eye Movement Measures\n"
   ]
  },
  {
   "cell_type": "markdown",
   "id": "d2ff2028",
   "metadata": {},
   "source": [
    "## Table 6"
   ]
  },
  {
   "cell_type": "code",
   "execution_count": null,
   "id": "965c678c",
   "metadata": {},
   "outputs": [
    {
     "name": "stdout",
     "output_type": "stream",
     "text": [
      "Detected IPython. Loading juliacall extension. See https://juliapy.github.io/PythonCall.jl/stable/compat/#IPython\n"
     ]
    }
   ],
   "source": [
    "sys.path.append(str(Path().resolve().parent))\n",
    "\n",
    "from onestop_paper_analyses.utils.other_datasets_utils import (\n",
    "    get_outcome_vars,\n",
    "    load_and_process_dataset,\n",
    "    rounding_dict,\n",
    ")\n",
    "\n",
    "from onestop_paper_analyses.utils.mixed_effects_wrapper.calc_means_main import (\n",
    "    calc_mm_means_for_all_outcomes,\n",
    ")\n",
    "from onestop_paper_analyses.utils.mixed_effects_wrapper.constants import (\n",
    "    outcome_name_mapping,\n",
    ")\n",
    "from onestop_paper_analyses.utils.mixed_effects_wrapper.julia_linear_mm import (\n",
    "    jl,\n",
    "    run_linear_mm,\n",
    ")\n",
    "from onestop_paper_analyses.utils.mixed_effects_wrapper.utils import exclude_IAs"
   ]
  },
  {
   "cell_type": "code",
   "execution_count": null,
   "id": "3e25546a",
   "metadata": {},
   "outputs": [],
   "source": [
    "# To run this code you need to download the CELER dataset, GECO dataset and SB-SAT dataset. \n",
    "# See other_datasets/README.md for more details.\n",
    "\n",
    "# dataset_options = [\"onestop\", \"celer\", \"geco\", \"sbsat\"]\n",
    "dataset = \"onestop\"  # Change this to \"sbsat\", \"geco\", or \"onestop\" as needed"
   ]
  },
  {
   "cell_type": "code",
   "execution_count": null,
   "id": "392c1425",
   "metadata": {},
   "outputs": [],
   "source": [
    "ia_rep, fix_rep, ia_rep_fixated_only = load_and_process_dataset(dataset=dataset)\n",
    "pos_outcomes, fix_rep_outcomes, non_pos_outcomes = get_outcome_vars(dataset=dataset)"
   ]
  },
  {
   "cell_type": "code",
   "execution_count": null,
   "id": "fe26b0bf",
   "metadata": {},
   "outputs": [],
   "source": [
    "if dataset == \"onestop\":\n",
    "    evs = [\"has_preview\", \"reread\"]\n",
    "elif dataset == \"celer\":\n",
    "    evs = [\"L1\"]\n",
    "else:\n",
    "    evs = []\n",
    "\n",
    "if dataset == \"onestop\":\n",
    "    re_columns = [\"participant_id\", \"unique_paragraph_id\"]\n",
    "elif dataset == \"sbsat\":\n",
    "    re_columns = [\"RECORDING_SESSION_LABEL\", \"page_name\"]\n",
    "elif dataset == \"geco\":\n",
    "    re_columns = [\"PP_NR\"]\n",
    "elif dataset == \"celer\":\n",
    "    re_columns = [\"list\"]"
   ]
  },
  {
   "cell_type": "code",
   "execution_count": null,
   "id": "64e6f760",
   "metadata": {},
   "outputs": [
    {
     "name": "stdout",
     "output_type": "stream",
     "text": [
      "outcome_variable: IA_FIRST_FIXATION_DURATION\n",
      "df_m shape before dropping nan: (472151, 62)\n",
      "df_m shape after dropping nan: (472151, 62)\n",
      "u_vals: ['']\n"
     ]
    },
    {
     "name": "stderr",
     "output_type": "stream",
     "text": [
      "100%|██████████| 1/1 [00:05<00:00,  5.73s/it]\n"
     ]
    },
    {
     "name": "stdout",
     "output_type": "stream",
     "text": [
      "outcome_variable: IA_FIRST_RUN_DWELL_TIME\n",
      "df_m shape before dropping nan: (472151, 62)\n",
      "df_m shape after dropping nan: (472151, 62)\n",
      "u_vals: ['']\n"
     ]
    },
    {
     "name": "stderr",
     "output_type": "stream",
     "text": [
      "100%|██████████| 1/1 [00:00<00:00,  1.59it/s]\n"
     ]
    },
    {
     "name": "stdout",
     "output_type": "stream",
     "text": [
      "outcome_variable: IA_FIRST_PASS_GAZE_DURATION\n",
      "df_m shape before dropping nan: (472151, 62)\n",
      "df_m shape after dropping nan: (374375, 62)\n",
      "u_vals: ['']\n"
     ]
    },
    {
     "name": "stderr",
     "output_type": "stream",
     "text": [
      "100%|██████████| 1/1 [00:00<00:00,  1.13it/s]\n"
     ]
    },
    {
     "name": "stdout",
     "output_type": "stream",
     "text": [
      "outcome_variable: IA_DWELL_TIME\n",
      "df_m shape before dropping nan: (472151, 62)\n",
      "df_m shape after dropping nan: (472151, 62)\n",
      "u_vals: ['']\n"
     ]
    },
    {
     "name": "stderr",
     "output_type": "stream",
     "text": [
      "100%|██████████| 1/1 [00:00<00:00,  1.32it/s]\n"
     ]
    },
    {
     "name": "stdout",
     "output_type": "stream",
     "text": [
      "outcome_variable: IA_FIXATION_COUNT\n",
      "df_m shape before dropping nan: (774015, 61)\n",
      "df_m shape after dropping nan: (774015, 61)\n",
      "u_vals: ['']\n"
     ]
    },
    {
     "name": "stderr",
     "output_type": "stream",
     "text": [
      "100%|██████████| 1/1 [00:01<00:00,  1.03s/it]\n"
     ]
    },
    {
     "name": "stdout",
     "output_type": "stream",
     "text": [
      "outcome_variable: IA_ZERO_TF\n",
      "df_m shape before dropping nan: (774015, 61)\n",
      "df_m shape after dropping nan: (774015, 61)\n",
      "u_vals: ['']\n"
     ]
    },
    {
     "name": "stderr",
     "output_type": "stream",
     "text": [
      "100%|██████████| 1/1 [00:00<00:00,  1.02it/s]\n"
     ]
    },
    {
     "name": "stdout",
     "output_type": "stream",
     "text": [
      "outcome_variable: IA_SKIP\n",
      "df_m shape before dropping nan: (774015, 61)\n",
      "df_m shape after dropping nan: (774015, 61)\n",
      "u_vals: ['']\n"
     ]
    },
    {
     "name": "stderr",
     "output_type": "stream",
     "text": [
      "100%|██████████| 1/1 [00:00<00:00,  1.04it/s]\n"
     ]
    }
   ],
   "source": [
    "ia_means_df = calc_mm_means_for_all_outcomes(\n",
    "    df=ia_rep_fixated_only,  # type: ignore\n",
    "    explanatory_variable_list=evs,\n",
    "    re_columns=re_columns,\n",
    "    outcomes=pos_outcomes,\n",
    "    mean_mode=\"subset_mean\",\n",
    ")\n",
    "\n",
    "if dataset != \"sbsat\":\n",
    "    means_skip_rate = calc_mm_means_for_all_outcomes(\n",
    "        df=ia_rep,\n",
    "        explanatory_variable_list=evs,\n",
    "        re_columns=re_columns,\n",
    "        outcomes=non_pos_outcomes,\n",
    "        mean_mode=\"subset_mean\",\n",
    "    )\n",
    "\n",
    "if type(fix_rep) is pd.DataFrame:\n",
    "    fix_means_df = calc_mm_means_for_all_outcomes(\n",
    "        df=fix_rep,\n",
    "        explanatory_variable_list=evs,\n",
    "        re_columns=re_columns,\n",
    "        outcomes=fix_rep_outcomes,\n",
    "        mean_mode=\"subset_mean\",\n",
    "    )"
   ]
  },
  {
   "cell_type": "code",
   "execution_count": null,
   "id": "7d9f01b9",
   "metadata": {},
   "outputs": [],
   "source": [
    "if dataset in [\"onestop\", \"celer\"]:\n",
    "    means_df = pd.concat([ia_means_df, fix_means_df, means_skip_rate], axis=0)\n",
    "elif dataset == \"sbsat\":\n",
    "    means_df = pd.concat([ia_means_df, fix_means_df], axis=0)\n",
    "elif dataset == \"geco\":\n",
    "    means_df = pd.concat([ia_means_df, means_skip_rate], axis=0)"
   ]
  },
  {
   "cell_type": "code",
   "execution_count": null,
   "id": "7694da75",
   "metadata": {},
   "outputs": [
    {
     "data": {
      "application/vnd.microsoft.datawrangler.viewer.v0+json": {
       "columns": [
        {
         "name": "index",
         "rawType": "int64",
         "type": "integer"
        },
        {
         "name": "mean",
         "rawType": "float64",
         "type": "float"
        },
        {
         "name": "p_val",
         "rawType": "float64",
         "type": "float"
        },
        {
         "name": "2se",
         "rawType": "float64",
         "type": "float"
        },
        {
         "name": "outcome_variable",
         "rawType": "object",
         "type": "string"
        },
        {
         "name": "mean_sd_str",
         "rawType": "object",
         "type": "string"
        }
       ],
       "ref": "04334dd4-1242-4285-a0ff-6cdcf47aff77",
       "rows": [
        [
         "0",
         "211.8",
         "1.0633653125170735e-181",
         "14.4",
         "First Fixation Duration",
         "$211.8_{\\pm 14.4}$"
        ],
        [
         "0",
         "233.9",
         "1.643162711465441e-149",
         "17.6",
         "Gaze Duration",
         "$233.9_{\\pm 17.6}$"
        ],
        [
         "0",
         "237.9",
         "1.042739216273951e-138",
         "18.6",
         "First Pass Gaze Duration",
         "$237.9_{\\pm 18.6}$"
        ],
        [
         "0",
         "274.2",
         "3.7741877916221345e-103",
         "24.9",
         "Total Fixation Duration",
         "$274.2_{\\pm 24.9}$"
        ],
        [
         "0",
         "0.8",
         "3.2426163194822155e-104",
         "0.07",
         "Fixation Count",
         "$0.8_{\\pm 0.07}$"
        ],
        [
         "0",
         "0.39",
         "1.6853781259031007e-115",
         "0.03",
         "Global Skip Rate (TF = 0)",
         "$0.39_{\\pm 0.03}$"
        ],
        [
         "0",
         "0.52",
         "1.8475599966835178e-162",
         "0.04",
         "Skip Rate",
         "$0.52_{\\pm 0.04}$"
        ]
       ],
       "shape": {
        "columns": 5,
        "rows": 7
       }
      },
      "text/html": [
       "<div>\n",
       "<style scoped>\n",
       "    .dataframe tbody tr th:only-of-type {\n",
       "        vertical-align: middle;\n",
       "    }\n",
       "\n",
       "    .dataframe tbody tr th {\n",
       "        vertical-align: top;\n",
       "    }\n",
       "\n",
       "    .dataframe thead th {\n",
       "        text-align: right;\n",
       "    }\n",
       "</style>\n",
       "<table border=\"1\" class=\"dataframe\">\n",
       "  <thead>\n",
       "    <tr style=\"text-align: right;\">\n",
       "      <th></th>\n",
       "      <th>mean</th>\n",
       "      <th>p_val</th>\n",
       "      <th>2se</th>\n",
       "      <th>outcome_variable</th>\n",
       "      <th>mean_sd_str</th>\n",
       "    </tr>\n",
       "  </thead>\n",
       "  <tbody>\n",
       "    <tr>\n",
       "      <th>0</th>\n",
       "      <td>211.80</td>\n",
       "      <td>1.063365e-181</td>\n",
       "      <td>14.40</td>\n",
       "      <td>First Fixation Duration</td>\n",
       "      <td>$211.8_{\\pm 14.4}$</td>\n",
       "    </tr>\n",
       "    <tr>\n",
       "      <th>0</th>\n",
       "      <td>233.90</td>\n",
       "      <td>1.643163e-149</td>\n",
       "      <td>17.60</td>\n",
       "      <td>Gaze Duration</td>\n",
       "      <td>$233.9_{\\pm 17.6}$</td>\n",
       "    </tr>\n",
       "    <tr>\n",
       "      <th>0</th>\n",
       "      <td>237.90</td>\n",
       "      <td>1.042739e-138</td>\n",
       "      <td>18.60</td>\n",
       "      <td>First Pass Gaze Duration</td>\n",
       "      <td>$237.9_{\\pm 18.6}$</td>\n",
       "    </tr>\n",
       "    <tr>\n",
       "      <th>0</th>\n",
       "      <td>274.20</td>\n",
       "      <td>3.774188e-103</td>\n",
       "      <td>24.90</td>\n",
       "      <td>Total Fixation Duration</td>\n",
       "      <td>$274.2_{\\pm 24.9}$</td>\n",
       "    </tr>\n",
       "    <tr>\n",
       "      <th>0</th>\n",
       "      <td>0.80</td>\n",
       "      <td>3.242616e-104</td>\n",
       "      <td>0.07</td>\n",
       "      <td>Fixation Count</td>\n",
       "      <td>$0.8_{\\pm 0.07}$</td>\n",
       "    </tr>\n",
       "    <tr>\n",
       "      <th>0</th>\n",
       "      <td>0.39</td>\n",
       "      <td>1.685378e-115</td>\n",
       "      <td>0.03</td>\n",
       "      <td>Global Skip Rate (TF = 0)</td>\n",
       "      <td>$0.39_{\\pm 0.03}$</td>\n",
       "    </tr>\n",
       "    <tr>\n",
       "      <th>0</th>\n",
       "      <td>0.52</td>\n",
       "      <td>1.847560e-162</td>\n",
       "      <td>0.04</td>\n",
       "      <td>Skip Rate</td>\n",
       "      <td>$0.52_{\\pm 0.04}$</td>\n",
       "    </tr>\n",
       "  </tbody>\n",
       "</table>\n",
       "</div>"
      ],
      "text/plain": [
       "     mean          p_val    2se           outcome_variable         mean_sd_str\n",
       "0  211.80  1.063365e-181  14.40    First Fixation Duration  $211.8_{\\pm 14.4}$\n",
       "0  233.90  1.643163e-149  17.60              Gaze Duration  $233.9_{\\pm 17.6}$\n",
       "0  237.90  1.042739e-138  18.60   First Pass Gaze Duration  $237.9_{\\pm 18.6}$\n",
       "0  274.20  3.774188e-103  24.90    Total Fixation Duration  $274.2_{\\pm 24.9}$\n",
       "0    0.80  3.242616e-104   0.07             Fixation Count    $0.8_{\\pm 0.07}$\n",
       "0    0.39  1.685378e-115   0.03  Global Skip Rate (TF = 0)   $0.39_{\\pm 0.03}$\n",
       "0    0.52  1.847560e-162   0.04                  Skip Rate   $0.52_{\\pm 0.04}$"
      ]
     },
     "execution_count": 8,
     "metadata": {},
     "output_type": "execute_result"
    }
   ],
   "source": [
    "means_df_styled = means_df.copy()\n",
    "\n",
    "\n",
    "# round values if 'mean' and '2se' according to rounding dict by outcome_variable value\n",
    "def means_df_to_table(means_df):\n",
    "    for outcome_variable in pos_outcomes + fix_rep_outcomes + non_pos_outcomes:\n",
    "        means_df.loc[means_df[\"outcome_variable\"] == outcome_variable, \"mean\"] = (\n",
    "            means_df.loc[\n",
    "                means_df[\"outcome_variable\"] == outcome_variable, \"mean\"\n",
    "            ].round(rounding_dict[outcome_variable])\n",
    "        )\n",
    "        means_df.loc[means_df[\"outcome_variable\"] == outcome_variable, \"2se\"] = (\n",
    "            means_df.loc[means_df[\"outcome_variable\"] == outcome_variable, \"2se\"].round(\n",
    "                rounding_dict[outcome_variable]\n",
    "            )\n",
    "        )\n",
    "\n",
    "    means_df[\"mean_sd_str\"] = (\n",
    "        \"$\"\n",
    "        + means_df[\"mean\"].astype(str)\n",
    "        + r\"_{\\pm \"\n",
    "        + (means_df[\"2se\"]).astype(str)\n",
    "        + \"}$\"\n",
    "    )\n",
    "\n",
    "    # replace each value in 'outcome_variable' with its value in the dict outcome_name_mapping\n",
    "    means_df[\"outcome_variable\"] = means_df[\"outcome_variable\"].map(\n",
    "        outcome_name_mapping, na_action=\"ignore\"\n",
    "    )\n",
    "\n",
    "    return means_df\n",
    "\n",
    "\n",
    "means_df_styled = means_df_to_table(means_df_styled)\n",
    "\n",
    "if dataset in [\"onestop\", \"celer\"]:\n",
    "    means_df_pivot = means_df_styled.pivot(\n",
    "        index=\"outcome_variable\",\n",
    "        columns=evs,\n",
    "        values=\"mean_sd_str\",\n",
    "    )\n",
    "\n",
    "    means_df_styled = means_df_pivot.loc[\n",
    "        list(\n",
    "            map(\n",
    "                lambda x: outcome_name_mapping[x],\n",
    "                pos_outcomes + non_pos_outcomes + fix_rep_outcomes,\n",
    "            )\n",
    "        ),\n",
    "        :,\n",
    "    ]\n",
    "\n",
    "means_df_styled"
   ]
  },
  {
   "cell_type": "markdown",
   "id": "e47235d3",
   "metadata": {},
   "source": [
    "## OneStop Comparisons - Information Seeking (question preview) $\\times$ Repeated Reading"
   ]
  },
  {
   "cell_type": "code",
   "execution_count": null,
   "id": "fe30847d",
   "metadata": {},
   "outputs": [
    {
     "ename": "FileNotFoundError",
     "evalue": "[Errno 2] No such file or directory: '/data/home/shared/onestop/processed/ia_data_enriched_360_05052024.csv'",
     "output_type": "error",
     "traceback": [
      "\u001b[0;31m---------------------------------------------------------------------------\u001b[0m",
      "\u001b[0;31mFileNotFoundError\u001b[0m                         Traceback (most recent call last)",
      "Cell \u001b[0;32mIn[13], line 1\u001b[0m\n\u001b[0;32m----> 1\u001b[0m ia_rep, fix_rep, ia_rep_fixated_only \u001b[38;5;241m=\u001b[39m load_and_process_dataset(dataset\u001b[38;5;241m=\u001b[39m\u001b[38;5;124m\"\u001b[39m\u001b[38;5;124monestop\u001b[39m\u001b[38;5;124m\"\u001b[39m)\n\u001b[1;32m      2\u001b[0m pos_outcomes, fix_rep_outcomes, non_pos_outcomes \u001b[38;5;241m=\u001b[39m get_outcome_vars(dataset\u001b[38;5;241m=\u001b[39m\u001b[38;5;124m\"\u001b[39m\u001b[38;5;124monestop\u001b[39m\u001b[38;5;124m\"\u001b[39m)\n",
      "File \u001b[0;32m~/projects/OneStop-Eye-Movements/onestop_paper_analyses/utils/other_datasets_utils.py:231\u001b[0m, in \u001b[0;36mload_and_process_dataset\u001b[0;34m(dataset)\u001b[0m\n\u001b[1;32m    230\u001b[0m \u001b[38;5;28;01mdef\u001b[39;00m \u001b[38;5;21mload_and_process_dataset\u001b[39m(dataset: \u001b[38;5;28mstr\u001b[39m):\n\u001b[0;32m--> 231\u001b[0m     ia_rep, fix_rep \u001b[38;5;241m=\u001b[39m load_ia_fix_reports(dataset)\n\u001b[1;32m    232\u001b[0m     pos_outcomes, fix_rep_outcomes, non_pos_outcomes \u001b[38;5;241m=\u001b[39m get_outcome_vars(dataset)\n\u001b[1;32m    233\u001b[0m     process_outcome_vars_columns(\n\u001b[1;32m    234\u001b[0m         ia_rep, fix_rep, pos_outcomes, fix_rep_outcomes, non_pos_outcomes\n\u001b[1;32m    235\u001b[0m     )\n",
      "File \u001b[0;32m~/projects/OneStop-Eye-Movements/onestop_paper_analyses/utils/other_datasets_utils.py:124\u001b[0m, in \u001b[0;36mload_ia_fix_reports\u001b[0;34m(dataset)\u001b[0m\n\u001b[1;32m    122\u001b[0m     \u001b[38;5;28;01mraise\u001b[39;00m \u001b[38;5;167;01mValueError\u001b[39;00m(\u001b[38;5;124mf\u001b[39m\u001b[38;5;124m\"\u001b[39m\u001b[38;5;124mdataset must be one of \u001b[39m\u001b[38;5;132;01m{\u001b[39;00mdataset_options\u001b[38;5;132;01m}\u001b[39;00m\u001b[38;5;124m\"\u001b[39m)\n\u001b[1;32m    123\u001b[0m \u001b[38;5;28;01mif\u001b[39;00m dataset \u001b[38;5;241m==\u001b[39m \u001b[38;5;124m\"\u001b[39m\u001b[38;5;124monestop\u001b[39m\u001b[38;5;124m\"\u001b[39m:\n\u001b[0;32m--> 124\u001b[0m     ia_rep \u001b[38;5;241m=\u001b[39m pd\u001b[38;5;241m.\u001b[39mread_csv(\n\u001b[1;32m    125\u001b[0m         \u001b[38;5;124m\"\u001b[39m\u001b[38;5;124m/data/home/shared/onestop/processed/ia_data_enriched_360_05052024.csv\u001b[39m\u001b[38;5;124m\"\u001b[39m,\n\u001b[1;32m    126\u001b[0m         engine\u001b[38;5;241m=\u001b[39m\u001b[38;5;124m\"\u001b[39m\u001b[38;5;124mpyarrow\u001b[39m\u001b[38;5;124m\"\u001b[39m,\n\u001b[1;32m    127\u001b[0m     )\n\u001b[1;32m    128\u001b[0m     fix_rep \u001b[38;5;241m=\u001b[39m pd\u001b[38;5;241m.\u001b[39mread_csv(\n\u001b[1;32m    129\u001b[0m         \u001b[38;5;124m\"\u001b[39m\u001b[38;5;124m/data/home/shared/onestop/processed/fixation_data_enriched_360_05052024.csv\u001b[39m\u001b[38;5;124m\"\u001b[39m,\n\u001b[1;32m    130\u001b[0m         engine\u001b[38;5;241m=\u001b[39m\u001b[38;5;124m\"\u001b[39m\u001b[38;5;124mpyarrow\u001b[39m\u001b[38;5;124m\"\u001b[39m,\n\u001b[1;32m    131\u001b[0m     )\n\u001b[1;32m    132\u001b[0m     fix_rep[\u001b[38;5;124m\"\u001b[39m\u001b[38;5;124mIA_LABEL\u001b[39m\u001b[38;5;124m\"\u001b[39m] \u001b[38;5;241m=\u001b[39m fix_rep[\u001b[38;5;124m\"\u001b[39m\u001b[38;5;124mCURRENT_FIX_INTEREST_AREA_LABEL\u001b[39m\u001b[38;5;124m\"\u001b[39m]\n",
      "File \u001b[0;32m~/miniforge3/envs/onestop/lib/python3.12/site-packages/pandas/io/parsers/readers.py:1026\u001b[0m, in \u001b[0;36mread_csv\u001b[0;34m(filepath_or_buffer, sep, delimiter, header, names, index_col, usecols, dtype, engine, converters, true_values, false_values, skipinitialspace, skiprows, skipfooter, nrows, na_values, keep_default_na, na_filter, verbose, skip_blank_lines, parse_dates, infer_datetime_format, keep_date_col, date_parser, date_format, dayfirst, cache_dates, iterator, chunksize, compression, thousands, decimal, lineterminator, quotechar, quoting, doublequote, escapechar, comment, encoding, encoding_errors, dialect, on_bad_lines, delim_whitespace, low_memory, memory_map, float_precision, storage_options, dtype_backend)\u001b[0m\n\u001b[1;32m   1013\u001b[0m kwds_defaults \u001b[38;5;241m=\u001b[39m _refine_defaults_read(\n\u001b[1;32m   1014\u001b[0m     dialect,\n\u001b[1;32m   1015\u001b[0m     delimiter,\n\u001b[0;32m   (...)\u001b[0m\n\u001b[1;32m   1022\u001b[0m     dtype_backend\u001b[38;5;241m=\u001b[39mdtype_backend,\n\u001b[1;32m   1023\u001b[0m )\n\u001b[1;32m   1024\u001b[0m kwds\u001b[38;5;241m.\u001b[39mupdate(kwds_defaults)\n\u001b[0;32m-> 1026\u001b[0m \u001b[38;5;28;01mreturn\u001b[39;00m _read(filepath_or_buffer, kwds)\n",
      "File \u001b[0;32m~/miniforge3/envs/onestop/lib/python3.12/site-packages/pandas/io/parsers/readers.py:620\u001b[0m, in \u001b[0;36m_read\u001b[0;34m(filepath_or_buffer, kwds)\u001b[0m\n\u001b[1;32m    617\u001b[0m _validate_names(kwds\u001b[38;5;241m.\u001b[39mget(\u001b[38;5;124m\"\u001b[39m\u001b[38;5;124mnames\u001b[39m\u001b[38;5;124m\"\u001b[39m, \u001b[38;5;28;01mNone\u001b[39;00m))\n\u001b[1;32m    619\u001b[0m \u001b[38;5;66;03m# Create the parser.\u001b[39;00m\n\u001b[0;32m--> 620\u001b[0m parser \u001b[38;5;241m=\u001b[39m TextFileReader(filepath_or_buffer, \u001b[38;5;241m*\u001b[39m\u001b[38;5;241m*\u001b[39mkwds)\n\u001b[1;32m    622\u001b[0m \u001b[38;5;28;01mif\u001b[39;00m chunksize \u001b[38;5;129;01mor\u001b[39;00m iterator:\n\u001b[1;32m    623\u001b[0m     \u001b[38;5;28;01mreturn\u001b[39;00m parser\n",
      "File \u001b[0;32m~/miniforge3/envs/onestop/lib/python3.12/site-packages/pandas/io/parsers/readers.py:1620\u001b[0m, in \u001b[0;36mTextFileReader.__init__\u001b[0;34m(self, f, engine, **kwds)\u001b[0m\n\u001b[1;32m   1617\u001b[0m     \u001b[38;5;28mself\u001b[39m\u001b[38;5;241m.\u001b[39moptions[\u001b[38;5;124m\"\u001b[39m\u001b[38;5;124mhas_index_names\u001b[39m\u001b[38;5;124m\"\u001b[39m] \u001b[38;5;241m=\u001b[39m kwds[\u001b[38;5;124m\"\u001b[39m\u001b[38;5;124mhas_index_names\u001b[39m\u001b[38;5;124m\"\u001b[39m]\n\u001b[1;32m   1619\u001b[0m \u001b[38;5;28mself\u001b[39m\u001b[38;5;241m.\u001b[39mhandles: IOHandles \u001b[38;5;241m|\u001b[39m \u001b[38;5;28;01mNone\u001b[39;00m \u001b[38;5;241m=\u001b[39m \u001b[38;5;28;01mNone\u001b[39;00m\n\u001b[0;32m-> 1620\u001b[0m \u001b[38;5;28mself\u001b[39m\u001b[38;5;241m.\u001b[39m_engine \u001b[38;5;241m=\u001b[39m \u001b[38;5;28mself\u001b[39m\u001b[38;5;241m.\u001b[39m_make_engine(f, \u001b[38;5;28mself\u001b[39m\u001b[38;5;241m.\u001b[39mengine)\n",
      "File \u001b[0;32m~/miniforge3/envs/onestop/lib/python3.12/site-packages/pandas/io/parsers/readers.py:1880\u001b[0m, in \u001b[0;36mTextFileReader._make_engine\u001b[0;34m(self, f, engine)\u001b[0m\n\u001b[1;32m   1878\u001b[0m     \u001b[38;5;28;01mif\u001b[39;00m \u001b[38;5;124m\"\u001b[39m\u001b[38;5;124mb\u001b[39m\u001b[38;5;124m\"\u001b[39m \u001b[38;5;129;01mnot\u001b[39;00m \u001b[38;5;129;01min\u001b[39;00m mode:\n\u001b[1;32m   1879\u001b[0m         mode \u001b[38;5;241m+\u001b[39m\u001b[38;5;241m=\u001b[39m \u001b[38;5;124m\"\u001b[39m\u001b[38;5;124mb\u001b[39m\u001b[38;5;124m\"\u001b[39m\n\u001b[0;32m-> 1880\u001b[0m \u001b[38;5;28mself\u001b[39m\u001b[38;5;241m.\u001b[39mhandles \u001b[38;5;241m=\u001b[39m get_handle(\n\u001b[1;32m   1881\u001b[0m     f,\n\u001b[1;32m   1882\u001b[0m     mode,\n\u001b[1;32m   1883\u001b[0m     encoding\u001b[38;5;241m=\u001b[39m\u001b[38;5;28mself\u001b[39m\u001b[38;5;241m.\u001b[39moptions\u001b[38;5;241m.\u001b[39mget(\u001b[38;5;124m\"\u001b[39m\u001b[38;5;124mencoding\u001b[39m\u001b[38;5;124m\"\u001b[39m, \u001b[38;5;28;01mNone\u001b[39;00m),\n\u001b[1;32m   1884\u001b[0m     compression\u001b[38;5;241m=\u001b[39m\u001b[38;5;28mself\u001b[39m\u001b[38;5;241m.\u001b[39moptions\u001b[38;5;241m.\u001b[39mget(\u001b[38;5;124m\"\u001b[39m\u001b[38;5;124mcompression\u001b[39m\u001b[38;5;124m\"\u001b[39m, \u001b[38;5;28;01mNone\u001b[39;00m),\n\u001b[1;32m   1885\u001b[0m     memory_map\u001b[38;5;241m=\u001b[39m\u001b[38;5;28mself\u001b[39m\u001b[38;5;241m.\u001b[39moptions\u001b[38;5;241m.\u001b[39mget(\u001b[38;5;124m\"\u001b[39m\u001b[38;5;124mmemory_map\u001b[39m\u001b[38;5;124m\"\u001b[39m, \u001b[38;5;28;01mFalse\u001b[39;00m),\n\u001b[1;32m   1886\u001b[0m     is_text\u001b[38;5;241m=\u001b[39mis_text,\n\u001b[1;32m   1887\u001b[0m     errors\u001b[38;5;241m=\u001b[39m\u001b[38;5;28mself\u001b[39m\u001b[38;5;241m.\u001b[39moptions\u001b[38;5;241m.\u001b[39mget(\u001b[38;5;124m\"\u001b[39m\u001b[38;5;124mencoding_errors\u001b[39m\u001b[38;5;124m\"\u001b[39m, \u001b[38;5;124m\"\u001b[39m\u001b[38;5;124mstrict\u001b[39m\u001b[38;5;124m\"\u001b[39m),\n\u001b[1;32m   1888\u001b[0m     storage_options\u001b[38;5;241m=\u001b[39m\u001b[38;5;28mself\u001b[39m\u001b[38;5;241m.\u001b[39moptions\u001b[38;5;241m.\u001b[39mget(\u001b[38;5;124m\"\u001b[39m\u001b[38;5;124mstorage_options\u001b[39m\u001b[38;5;124m\"\u001b[39m, \u001b[38;5;28;01mNone\u001b[39;00m),\n\u001b[1;32m   1889\u001b[0m )\n\u001b[1;32m   1890\u001b[0m \u001b[38;5;28;01massert\u001b[39;00m \u001b[38;5;28mself\u001b[39m\u001b[38;5;241m.\u001b[39mhandles \u001b[38;5;129;01mis\u001b[39;00m \u001b[38;5;129;01mnot\u001b[39;00m \u001b[38;5;28;01mNone\u001b[39;00m\n\u001b[1;32m   1891\u001b[0m f \u001b[38;5;241m=\u001b[39m \u001b[38;5;28mself\u001b[39m\u001b[38;5;241m.\u001b[39mhandles\u001b[38;5;241m.\u001b[39mhandle\n",
      "File \u001b[0;32m~/miniforge3/envs/onestop/lib/python3.12/site-packages/pandas/io/common.py:882\u001b[0m, in \u001b[0;36mget_handle\u001b[0;34m(path_or_buf, mode, encoding, compression, memory_map, is_text, errors, storage_options)\u001b[0m\n\u001b[1;32m    873\u001b[0m         handle \u001b[38;5;241m=\u001b[39m \u001b[38;5;28mopen\u001b[39m(\n\u001b[1;32m    874\u001b[0m             handle,\n\u001b[1;32m    875\u001b[0m             ioargs\u001b[38;5;241m.\u001b[39mmode,\n\u001b[0;32m   (...)\u001b[0m\n\u001b[1;32m    878\u001b[0m             newline\u001b[38;5;241m=\u001b[39m\u001b[38;5;124m\"\u001b[39m\u001b[38;5;124m\"\u001b[39m,\n\u001b[1;32m    879\u001b[0m         )\n\u001b[1;32m    880\u001b[0m     \u001b[38;5;28;01melse\u001b[39;00m:\n\u001b[1;32m    881\u001b[0m         \u001b[38;5;66;03m# Binary mode\u001b[39;00m\n\u001b[0;32m--> 882\u001b[0m         handle \u001b[38;5;241m=\u001b[39m \u001b[38;5;28mopen\u001b[39m(handle, ioargs\u001b[38;5;241m.\u001b[39mmode)\n\u001b[1;32m    883\u001b[0m     handles\u001b[38;5;241m.\u001b[39mappend(handle)\n\u001b[1;32m    885\u001b[0m \u001b[38;5;66;03m# Convert BytesIO or file objects passed with an encoding\u001b[39;00m\n",
      "\u001b[0;31mFileNotFoundError\u001b[0m: [Errno 2] No such file or directory: '/data/home/shared/onestop/processed/ia_data_enriched_360_05052024.csv'"
     ]
    }
   ],
   "source": [
    "ia_rep, fix_rep, ia_rep_fixated_only = load_and_process_dataset(dataset=\"onestop\")\n",
    "pos_outcomes, fix_rep_outcomes, non_pos_outcomes = get_outcome_vars(dataset=\"onestop\")"
   ]
  },
  {
   "cell_type": "code",
   "execution_count": null,
   "id": "ab47e21e",
   "metadata": {},
   "outputs": [],
   "source": [
    "# link_dist_dict is a dict with\n",
    "\n",
    "link_dist_dict = {\n",
    "    outcome: jl.Distributions.Normal()\n",
    "    for outcome in pos_outcomes + fix_rep_outcomes + non_pos_outcomes\n",
    "}\n",
    "\n",
    "\n",
    "link_dist_dict[\"IA_FIXATION_COUNT\"] = jl.Distributions.Normal()  # type: ignore\n",
    "link_dist_dict[\"IA_SKIP\"] = jl.Distributions.Normal()  # type: ignore\n",
    "link_dist_dict[\"IA_ZERO_TF\"] = jl.Distributions.Normal()  # type: ignore\n",
    "link_dist_dict[\"NEXT_SAC_AMPLITUDE\"] = jl.Distributions.Normal()"
   ]
  },
  {
   "cell_type": "code",
   "execution_count": null,
   "id": "4532a254",
   "metadata": {},
   "outputs": [
    {
     "name": "stdout",
     "output_type": "stream",
     "text": [
      "Time for IA_FIRST_FIXATION_DURATION: 9.777475357055664\n",
      "Time for IA_FIRST_RUN_DWELL_TIME: 10.77896785736084\n",
      "Time for IA_FIRST_PASS_GAZE_DURATION: 8.941622018814087\n",
      "Time for IA_DWELL_TIME: 9.72004771232605\n",
      "Time for IA_SKIP: 15.859427452087402\n",
      "Time for IA_ZERO_TF: 18.362783670425415\n",
      "Time for NEXT_SAC_AMPLITUDE: 13.876774072647095\n",
      "Time for CURRENT_FIX_DURATION: 12.941179513931274\n"
     ]
    }
   ],
   "source": [
    "import time\n",
    "\n",
    "comparisons_lists = {}\n",
    "\n",
    "for outcome in pos_outcomes + [\"IA_SKIP\", \"IA_ZERO_TF\"] + fix_rep_outcomes:\n",
    "    curr_time = time.time()\n",
    "\n",
    "    if outcome in pos_outcomes:\n",
    "        curr_df = ia_rep_fixated_only.copy()\n",
    "    elif outcome in [\"IA_SKIP\", \"IA_ZERO_TF\"]:\n",
    "        curr_df = ia_rep.copy()\n",
    "    elif outcome in fix_rep_outcomes:\n",
    "        curr_df = fix_rep.copy()\n",
    "\n",
    "    # remove all rows where the outcome contains nan\n",
    "    curr_df = curr_df.dropna(subset=[outcome])\n",
    "\n",
    "    outcome_p_vals_lst = []\n",
    "    # Inside Gathering: FR vs. RR\n",
    "    for hp_val in [\"Hunting\", \"Gathering\"]:\n",
    "        coefs, _ = run_linear_mm(\n",
    "            df_input=curr_df.query(f\"has_preview == '{hp_val}'\"),\n",
    "            re_cols=[\"participant_id\", \"unique_paragraph_id\"],\n",
    "            outcome_variable=outcome,\n",
    "            link_dist=link_dist_dict[outcome],\n",
    "            formula=f\"{outcome} ~ reread + (1 + reread | participant_id) + (1 + reread | unique_paragraph_id)\",\n",
    "            print_model_res=False,\n",
    "        )\n",
    "        outcome_p_vals_lst.append(\n",
    "            float(coefs.loc[coefs[\"Name\"] == \"reread\"][\"Pr(>|z|)\"].values[0])  # type: ignore\n",
    "        )\n",
    "\n",
    "    curr_df[\"has_preview\"] = curr_df[\"has_preview\"].map({\"Hunting\": 1, \"Gathering\": 0})\n",
    "    for RR_val in [0, 1]:\n",
    "        coefs, _ = run_linear_mm(\n",
    "            df_input=curr_df.query(f\"reread == {RR_val}\"),\n",
    "            re_cols=[\"participant_id\", \"unique_paragraph_id\"],\n",
    "            outcome_variable=outcome,\n",
    "            link_dist=link_dist_dict[outcome],\n",
    "            formula=f\"{outcome} ~ has_preview + (1 | participant_id) + (1 + has_preview | unique_paragraph_id)\",\n",
    "            print_model_res=False,\n",
    "        )\n",
    "        outcome_p_vals_lst.append(\n",
    "            float(coefs.loc[coefs[\"Name\"] == \"has_preview\"][\"Pr(>|z|)\"].values[0])  # type: ignore\n",
    "        )\n",
    "\n",
    "    comparisons_lists[outcome] = outcome_p_vals_lst\n",
    "    end_time = time.time()\n",
    "\n",
    "    print(f\"Time for {outcome}: {end_time - curr_time}\")"
   ]
  },
  {
   "cell_type": "code",
   "execution_count": null,
   "id": "17db1610",
   "metadata": {},
   "outputs": [
    {
     "data": {
      "text/html": [
       "<div>\n",
       "<style scoped>\n",
       "    .dataframe tbody tr th:only-of-type {\n",
       "        vertical-align: middle;\n",
       "    }\n",
       "\n",
       "    .dataframe tbody tr th {\n",
       "        vertical-align: top;\n",
       "    }\n",
       "\n",
       "    .dataframe thead th {\n",
       "        text-align: right;\n",
       "    }\n",
       "</style>\n",
       "<table border=\"1\" class=\"dataframe\">\n",
       "  <thead>\n",
       "    <tr style=\"text-align: right;\">\n",
       "      <th></th>\n",
       "      <th>IA_FIRST_FIXATION_DURATION</th>\n",
       "      <th>IA_FIRST_RUN_DWELL_TIME</th>\n",
       "      <th>IA_FIRST_PASS_GAZE_DURATION</th>\n",
       "      <th>IA_DWELL_TIME</th>\n",
       "      <th>IA_SKIP</th>\n",
       "      <th>IA_ZERO_TF</th>\n",
       "      <th>NEXT_SAC_AMPLITUDE</th>\n",
       "      <th>CURRENT_FIX_DURATION</th>\n",
       "    </tr>\n",
       "  </thead>\n",
       "  <tbody>\n",
       "    <tr>\n",
       "      <th>0</th>\n",
       "      <td>1.780807e-25</td>\n",
       "      <td>4.994712e-47</td>\n",
       "      <td>3.194146e-51</td>\n",
       "      <td>3.108847e-62</td>\n",
       "      <td>1.073549e-120</td>\n",
       "      <td>8.147545e-179</td>\n",
       "      <td>3.604977e-74</td>\n",
       "      <td>1.775915e-23</td>\n",
       "    </tr>\n",
       "    <tr>\n",
       "      <th>1</th>\n",
       "      <td>5.389258e-26</td>\n",
       "      <td>3.792187e-49</td>\n",
       "      <td>1.300008e-55</td>\n",
       "      <td>3.400843e-70</td>\n",
       "      <td>7.333160e-64</td>\n",
       "      <td>6.727799e-113</td>\n",
       "      <td>6.077370e-91</td>\n",
       "      <td>9.172452e-22</td>\n",
       "    </tr>\n",
       "    <tr>\n",
       "      <th>2</th>\n",
       "      <td>6.408005e-03</td>\n",
       "      <td>5.083444e-05</td>\n",
       "      <td>1.520236e-05</td>\n",
       "      <td>4.609489e-04</td>\n",
       "      <td>6.373326e-10</td>\n",
       "      <td>4.509028e-13</td>\n",
       "      <td>8.511741e-04</td>\n",
       "      <td>2.167473e-02</td>\n",
       "    </tr>\n",
       "    <tr>\n",
       "      <th>3</th>\n",
       "      <td>4.835347e-03</td>\n",
       "      <td>4.129025e-05</td>\n",
       "      <td>2.327122e-05</td>\n",
       "      <td>3.075912e-02</td>\n",
       "      <td>1.378149e-29</td>\n",
       "      <td>9.073196e-29</td>\n",
       "      <td>3.707514e-03</td>\n",
       "      <td>1.179091e-02</td>\n",
       "    </tr>\n",
       "  </tbody>\n",
       "</table>\n",
       "</div>"
      ],
      "text/plain": [
       "   IA_FIRST_FIXATION_DURATION  IA_FIRST_RUN_DWELL_TIME  \\\n",
       "0                1.780807e-25             4.994712e-47   \n",
       "1                5.389258e-26             3.792187e-49   \n",
       "2                6.408005e-03             5.083444e-05   \n",
       "3                4.835347e-03             4.129025e-05   \n",
       "\n",
       "   IA_FIRST_PASS_GAZE_DURATION  IA_DWELL_TIME        IA_SKIP     IA_ZERO_TF  \\\n",
       "0                 3.194146e-51   3.108847e-62  1.073549e-120  8.147545e-179   \n",
       "1                 1.300008e-55   3.400843e-70   7.333160e-64  6.727799e-113   \n",
       "2                 1.520236e-05   4.609489e-04   6.373326e-10   4.509028e-13   \n",
       "3                 2.327122e-05   3.075912e-02   1.378149e-29   9.073196e-29   \n",
       "\n",
       "   NEXT_SAC_AMPLITUDE  CURRENT_FIX_DURATION  \n",
       "0        3.604977e-74          1.775915e-23  \n",
       "1        6.077370e-91          9.172452e-22  \n",
       "2        8.511741e-04          2.167473e-02  \n",
       "3        3.707514e-03          1.179091e-02  "
      ]
     },
     "execution_count": 24,
     "metadata": {},
     "output_type": "execute_result"
    }
   ],
   "source": [
    "pd.DataFrame(comparisons_lists)"
   ]
  },
  {
   "cell_type": "markdown",
   "id": "60b45dab",
   "metadata": {},
   "source": [
    "## All Datasets - Compare Means for All Measures"
   ]
  },
  {
   "cell_type": "code",
   "execution_count": null,
   "id": "c8d456f7",
   "metadata": {},
   "outputs": [
    {
     "name": "stdout",
     "output_type": "stream",
     "text": [
      "Could not convert IA_FIRST_PASS_GAZE_DURATION to numeric\n",
      "Could not convert IA_FIRST_PASS_GAZE_DURATION to numeric\n"
     ]
    },
    {
     "name": "stderr",
     "output_type": "stream",
     "text": [
      "/data/home/meiri.yoav/OneStop-Eye-Movements/src/other_datasets_analyses/other_datasets_utils.py:161: DtypeWarning: Columns (44) have mixed types. Specify dtype option on import or set low_memory=False.\n",
      "  fix_rep = pd.read_csv(\n"
     ]
    },
    {
     "name": "stdout",
     "output_type": "stream",
     "text": [
      "Could not convert IA_FIRST_PASS_GAZE_DURATION to numeric\n"
     ]
    }
   ],
   "source": [
    "dataset_names = [\"onestop\", \"geco\", \"sbsat\", \"celer\"]\n",
    "\n",
    "\n",
    "def create_dataset_dict(dataset_name: str):\n",
    "    ia_rep, fix_rep, ia_rep_fixated_only = load_and_process_dataset(\n",
    "        dataset=dataset_name\n",
    "    )\n",
    "    pos_outcomes, fix_rep_outcomes, non_pos_outcomes = get_outcome_vars(\n",
    "        dataset=dataset_name\n",
    "    )\n",
    "    return {\n",
    "        \"ia_rep\": ia_rep,\n",
    "        \"fix_rep\": fix_rep,\n",
    "        \"ia_rep_fixated_only\": ia_rep_fixated_only,\n",
    "        \"pos_outcomes\": pos_outcomes,\n",
    "        \"fix_rep_outcomes\": fix_rep_outcomes,\n",
    "        \"non_pos_outcomes\": non_pos_outcomes,\n",
    "    }\n",
    "\n",
    "\n",
    "datasets_dict = {name: create_dataset_dict(name) for name in dataset_names}"
   ]
  },
  {
   "cell_type": "code",
   "execution_count": null,
   "id": "2f2ad85d",
   "metadata": {},
   "outputs": [
    {
     "name": "stderr",
     "output_type": "stream",
     "text": [
      "/tmp/ipykernel_3138233/569167697.py:7: SmallSampleWarning: After omitting NaNs, one or more sample arguments is too small; all returned values will be NaN. See documentation for sample size requirements.\n",
      "  test_res = stats.ttest_ind(\n"
     ]
    }
   ],
   "source": [
    "temp_item_id_col_name = \"item_id\"\n",
    "temp_participant_id_col_name = \"participant_id\"\n",
    "\n",
    "\n",
    "# create a dict of (dataset1_name, dataset2_name) -> (outcome_variable -> p_value)\n",
    "def perform_ttest(data1, data2, outcome_key):\n",
    "    test_res = stats.ttest_ind(\n",
    "        data1[outcome_key],\n",
    "        data2[outcome_key],\n",
    "        alternative=\"two-sided\",\n",
    "        nan_policy=\"omit\",\n",
    "        equal_var=False,\n",
    "    )  # make the pval a float\n",
    "    pval = test_res.pvalue\n",
    "    return \"{:e}\".format(pval)\n",
    "\n",
    "\n",
    "def compare_two_datasets(dataset1_dict: dict, dataset2_dict: dict):\n",
    "    outcome_types = {\n",
    "        \"pos_outcomes\": (\"ia_rep_fixated_only\", \"ia_rep_fixated_only\"),\n",
    "        \"fix_rep_outcomes\": (\"fix_rep\", \"fix_rep\"),\n",
    "        \"non_pos_outcomes\": (\"ia_rep\", \"ia_rep\"),\n",
    "    }\n",
    "\n",
    "    comparison_results = []\n",
    "\n",
    "    # Iterate through each outcome type\n",
    "    for outcome_key, (data_key1, data_key2) in outcome_types.items():\n",
    "        curr_dataset1 = dataset1_dict[data_key1]\n",
    "\n",
    "        outcomes_to_compare = set(dataset1_dict[outcome_key]).intersection(\n",
    "            dataset2_dict[outcome_key]\n",
    "        )\n",
    "\n",
    "        # Perform t-tests on the common outcomes\n",
    "        for outcome in outcomes_to_compare:\n",
    "            p_value = perform_ttest(\n",
    "                dataset1_dict[data_key1], dataset2_dict[data_key2], outcome\n",
    "            )\n",
    "            comparison_results.append((outcome, p_value))\n",
    "\n",
    "    return comparison_results\n",
    "\n",
    "\n",
    "comparisons_dict = {}\n",
    "for dataset1_name, dataset2_name in combinations(dataset_names, 2):\n",
    "    comparisons_dict[(dataset1_name, dataset2_name)] = compare_two_datasets(\n",
    "        datasets_dict[dataset1_name], datasets_dict[dataset2_name]\n",
    "    )"
   ]
  },
  {
   "cell_type": "code",
   "execution_count": null,
   "id": "bca73d70",
   "metadata": {},
   "outputs": [],
   "source": [
    "# Pivot the DataFrame so that the rows become the variable names (metrics)\n",
    "# Create a dataframe from the input data\n",
    "data = []\n",
    "for key, values in comparisons_dict.items():\n",
    "    for metric, value in values:\n",
    "        data.append([key[0], key[1], metric, value])\n",
    "\n",
    "df = pd.DataFrame(data, columns=[\"Dataset1\", \"Dataset2\", \"Metric\", \"Value\"])\n",
    "\n",
    "pivot_df = df.pivot_table(\n",
    "    index=\"Metric\", columns=[\"Dataset1\", \"Dataset2\"], values=\"Value\", aggfunc=\"first\"\n",
    ")\n",
    "\n",
    "pivot_df.columns = [\"_\".join(col).strip() for col in pivot_df.columns.values]"
   ]
  },
  {
   "cell_type": "code",
   "execution_count": null,
   "id": "0e9420f1",
   "metadata": {},
   "outputs": [
    {
     "data": {
      "text/html": [
       "<div>\n",
       "<style scoped>\n",
       "    .dataframe tbody tr th:only-of-type {\n",
       "        vertical-align: middle;\n",
       "    }\n",
       "\n",
       "    .dataframe tbody tr th {\n",
       "        vertical-align: top;\n",
       "    }\n",
       "\n",
       "    .dataframe thead th {\n",
       "        text-align: right;\n",
       "    }\n",
       "</style>\n",
       "<table border=\"1\" class=\"dataframe\">\n",
       "  <thead>\n",
       "    <tr style=\"text-align: right;\">\n",
       "      <th></th>\n",
       "      <th>geco_celer</th>\n",
       "      <th>geco_sbsat</th>\n",
       "      <th>onestop_celer</th>\n",
       "      <th>onestop_geco</th>\n",
       "      <th>onestop_sbsat</th>\n",
       "      <th>sbsat_celer</th>\n",
       "    </tr>\n",
       "    <tr>\n",
       "      <th>Metric</th>\n",
       "      <th></th>\n",
       "      <th></th>\n",
       "      <th></th>\n",
       "      <th></th>\n",
       "      <th></th>\n",
       "      <th></th>\n",
       "    </tr>\n",
       "  </thead>\n",
       "  <tbody>\n",
       "    <tr>\n",
       "      <th>CURRENT_FIX_DURATION</th>\n",
       "      <td>NaN</td>\n",
       "      <td>NaN</td>\n",
       "      <td>0.000000e+00</td>\n",
       "      <td>NaN</td>\n",
       "      <td>0.000000e+00</td>\n",
       "      <td>0.000000e+00</td>\n",
       "    </tr>\n",
       "    <tr>\n",
       "      <th>IA_DWELL_TIME</th>\n",
       "      <td>0.000000e+00</td>\n",
       "      <td>0.000000e+00</td>\n",
       "      <td>0.000000e+00</td>\n",
       "      <td>0.000000e+00</td>\n",
       "      <td>0.000000e+00</td>\n",
       "      <td>0.000000e+00</td>\n",
       "    </tr>\n",
       "    <tr>\n",
       "      <th>IA_FIRST_FIXATION_DURATION</th>\n",
       "      <td>0.000000e+00</td>\n",
       "      <td>3.394039e-52</td>\n",
       "      <td>0.000000e+00</td>\n",
       "      <td>0.000000e+00</td>\n",
       "      <td>0.000000e+00</td>\n",
       "      <td>0.000000e+00</td>\n",
       "    </tr>\n",
       "    <tr>\n",
       "      <th>IA_FIRST_PASS_GAZE_DURATION</th>\n",
       "      <td>nan</td>\n",
       "      <td>nan</td>\n",
       "      <td>0.000000e+00</td>\n",
       "      <td>nan</td>\n",
       "      <td>6.974993e-103</td>\n",
       "      <td>0.000000e+00</td>\n",
       "    </tr>\n",
       "    <tr>\n",
       "      <th>IA_FIRST_RUN_DWELL_TIME</th>\n",
       "      <td>0.000000e+00</td>\n",
       "      <td>0.000000e+00</td>\n",
       "      <td>0.000000e+00</td>\n",
       "      <td>0.000000e+00</td>\n",
       "      <td>0.000000e+00</td>\n",
       "      <td>0.000000e+00</td>\n",
       "    </tr>\n",
       "    <tr>\n",
       "      <th>IA_FIXATION_COUNT</th>\n",
       "      <td>0.000000e+00</td>\n",
       "      <td>NaN</td>\n",
       "      <td>0.000000e+00</td>\n",
       "      <td>0.000000e+00</td>\n",
       "      <td>NaN</td>\n",
       "      <td>NaN</td>\n",
       "    </tr>\n",
       "    <tr>\n",
       "      <th>IA_REGRESSION_OUT_FULL_COUNT</th>\n",
       "      <td>NaN</td>\n",
       "      <td>NaN</td>\n",
       "      <td>0.000000e+00</td>\n",
       "      <td>NaN</td>\n",
       "      <td>NaN</td>\n",
       "      <td>NaN</td>\n",
       "    </tr>\n",
       "    <tr>\n",
       "      <th>IA_SKIP</th>\n",
       "      <td>0.000000e+00</td>\n",
       "      <td>NaN</td>\n",
       "      <td>0.000000e+00</td>\n",
       "      <td>0.000000e+00</td>\n",
       "      <td>NaN</td>\n",
       "      <td>NaN</td>\n",
       "    </tr>\n",
       "    <tr>\n",
       "      <th>IA_ZERO_TF</th>\n",
       "      <td>0.000000e+00</td>\n",
       "      <td>NaN</td>\n",
       "      <td>0.000000e+00</td>\n",
       "      <td>0.000000e+00</td>\n",
       "      <td>NaN</td>\n",
       "      <td>NaN</td>\n",
       "    </tr>\n",
       "    <tr>\n",
       "      <th>NEXT_SAC_AMPLITUDE</th>\n",
       "      <td>NaN</td>\n",
       "      <td>NaN</td>\n",
       "      <td>0.000000e+00</td>\n",
       "      <td>NaN</td>\n",
       "      <td>NaN</td>\n",
       "      <td>NaN</td>\n",
       "    </tr>\n",
       "  </tbody>\n",
       "</table>\n",
       "</div>"
      ],
      "text/plain": [
       "                                geco_celer    geco_sbsat onestop_celer  \\\n",
       "Metric                                                                   \n",
       "CURRENT_FIX_DURATION                   NaN           NaN  0.000000e+00   \n",
       "IA_DWELL_TIME                 0.000000e+00  0.000000e+00  0.000000e+00   \n",
       "IA_FIRST_FIXATION_DURATION    0.000000e+00  3.394039e-52  0.000000e+00   \n",
       "IA_FIRST_PASS_GAZE_DURATION            nan           nan  0.000000e+00   \n",
       "IA_FIRST_RUN_DWELL_TIME       0.000000e+00  0.000000e+00  0.000000e+00   \n",
       "IA_FIXATION_COUNT             0.000000e+00           NaN  0.000000e+00   \n",
       "IA_REGRESSION_OUT_FULL_COUNT           NaN           NaN  0.000000e+00   \n",
       "IA_SKIP                       0.000000e+00           NaN  0.000000e+00   \n",
       "IA_ZERO_TF                    0.000000e+00           NaN  0.000000e+00   \n",
       "NEXT_SAC_AMPLITUDE                     NaN           NaN  0.000000e+00   \n",
       "\n",
       "                              onestop_geco  onestop_sbsat   sbsat_celer  \n",
       "Metric                                                                   \n",
       "CURRENT_FIX_DURATION                   NaN   0.000000e+00  0.000000e+00  \n",
       "IA_DWELL_TIME                 0.000000e+00   0.000000e+00  0.000000e+00  \n",
       "IA_FIRST_FIXATION_DURATION    0.000000e+00   0.000000e+00  0.000000e+00  \n",
       "IA_FIRST_PASS_GAZE_DURATION            nan  6.974993e-103  0.000000e+00  \n",
       "IA_FIRST_RUN_DWELL_TIME       0.000000e+00   0.000000e+00  0.000000e+00  \n",
       "IA_FIXATION_COUNT             0.000000e+00            NaN           NaN  \n",
       "IA_REGRESSION_OUT_FULL_COUNT           NaN            NaN           NaN  \n",
       "IA_SKIP                       0.000000e+00            NaN           NaN  \n",
       "IA_ZERO_TF                    0.000000e+00            NaN           NaN  \n",
       "NEXT_SAC_AMPLITUDE                     NaN            NaN           NaN  "
      ]
     },
     "execution_count": 57,
     "metadata": {},
     "output_type": "execute_result"
    }
   ],
   "source": [
    "pivot_df"
   ]
  },
  {
   "cell_type": "markdown",
   "id": "a11433f4",
   "metadata": {},
   "source": [
    "# The Effect of Linguistic Word Properties on Reading Times\n"
   ]
  },
  {
   "cell_type": "code",
   "execution_count": null,
   "id": "191d3be0",
   "metadata": {},
   "outputs": [
    {
     "name": "stdout",
     "output_type": "stream",
     "text": [
      "Could not convert IA_FIRST_PASS_GAZE_DURATION to numeric\n"
     ]
    }
   ],
   "source": [
    "dataset = \"onestop\"\n",
    "ia_rep, fix_rep, ia_rep_fixated_only = load_and_process_dataset(dataset=dataset)\n",
    "pos_outcomes, fix_rep_outcomes, non_pos_outcomes = get_outcome_vars(dataset=dataset)"
   ]
  },
  {
   "cell_type": "code",
   "execution_count": null,
   "id": "4f3b164f",
   "metadata": {},
   "outputs": [],
   "source": [
    "fix_rep = fix_rep.merge(\n",
    "    ia_rep[\n",
    "        [\"unique_paragraph_id\", \"IA_ID\", \"end_of_line\", \"start_of_line\", \"reread\"]\n",
    "    ].drop_duplicates(),\n",
    "    on=[\"unique_paragraph_id\", \"IA_ID\", \"reread\"],\n",
    "    how=\"left\",\n",
    ")"
   ]
  },
  {
   "cell_type": "code",
   "execution_count": null,
   "id": "b53f2243",
   "metadata": {},
   "outputs": [],
   "source": [
    "#! Exclude beginning / end of paragraph line, words with punctuations, numbers\n",
    "ia_rep_fixated_only = ia_rep[ia_rep[\"IA_DWELL_TIME\"] > 0]\n",
    "\n",
    "ia_rep_fixated_only = exclude_IAs(ia_rep_fixated_only, remove_start_end_of_line=False)\n",
    "fix_rep = exclude_IAs(fix_rep, remove_start_end_of_line=False)"
   ]
  },
  {
   "cell_type": "code",
   "execution_count": null,
   "id": "664da069",
   "metadata": {},
   "outputs": [],
   "source": [
    "class config:\n",
    "    def __init__(self):\n",
    "        self.method = \"MM_coeffs\"\n",
    "        self.outcome_variable = \"log_IA_DWELL_TIME\"\n",
    "        self.explanatory_variable: str | list[str] = \"reread\"\n",
    "        self.data_path = \"metadata\"\n",
    "\n",
    "        self.fig_path = \"onestop/figures\"\n",
    "        self.exclusion_df: bool = True\n",
    "        self.model_formula: str = \"\"\n",
    "        # self.log_transform_outcome = False\n",
    "        self.z_score_w_r_t_explanatory = True\n",
    "        # query is article_ind_of_first_reading >= 0\n",
    "        self.df_query = \"\"\n",
    "        self.re_columns = [\"participant_id\", \"unique_paragraph_id\"]\n",
    "\n",
    "        self.config_name = (\n",
    "            \"Coeffs. \" + self.outcome_variable + \"_\" + self.explanatory_variable\n",
    "        )"
   ]
  },
  {
   "cell_type": "code",
   "execution_count": null,
   "id": "fb53b444",
   "metadata": {},
   "outputs": [],
   "source": [
    "explanatory_var_class_names = {\n",
    "    \"reread\": {\n",
    "        0: \"First reading\",\n",
    "        1: \"Repeated Reading\",\n",
    "        \"0\": \"First Reading\",\n",
    "        \"1\": \"Repeated Reading\",\n",
    "    },\n",
    "    \"has_preview_reread\": {\n",
    "        \"Gathering_1\": \"Gathering, RR\",\n",
    "        \"Gathering_0\": \"Gathering, Not RR\",\n",
    "        \"Hunting_1\": \"Hunting, RR\",\n",
    "        \"Hunting_0\": \"Hunting, Not RR\",\n",
    "    },\n",
    "    \"has_preview\": {\n",
    "        \"Hunting\": \"Hunting\",\n",
    "        \"Gathering\": \"Gathering\",\n",
    "    },\n",
    "}\n",
    "\n",
    "explanatory_var_names = {\n",
    "    \"has_preview\": \"Condition\",\n",
    "    \"relative_to_aspan\": \"Relative to Critical Span\",\n",
    "    \"article_ind_of_first_reading\": \"Article Index of the First Reading\",\n",
    "    \"first_second_reading_types\": \"First (<10, 10) and Second (11, 12) Readings\",\n",
    "    \"article_ind_group_of_first_reading\": \"Article Index of the First Reading\",\n",
    "    \"reread\": \"Reread\",\n",
    "    \"has_preview_reread\": \"Condition and Reread\",\n",
    "}\n",
    "\n",
    "\n",
    "# # init wandb\n",
    "# import wandb\n",
    "# wandb.login()\n",
    "\n",
    "z_score_w_r_t_explanatory = False\n",
    "\n",
    "# evs = [\"reread\", \"has_preview\"]\n",
    "evs = []\n",
    "# ev_list = [\"article_ind_of_first_reading\"]\n",
    "\n",
    "cfg = config()\n",
    "\n",
    "\n",
    "cfg.z_score_w_r_t_explanatory = z_score_w_r_t_explanatory\n",
    "z_score_text = \"\" if not cfg.z_score_w_r_t_explanatory else \" (z-scored)\"\n",
    "\n",
    "cfg.explanatory_variable = evs"
   ]
  },
  {
   "cell_type": "code",
   "execution_count": null,
   "id": "464b2823",
   "metadata": {},
   "outputs": [
    {
     "name": "stdout",
     "output_type": "stream",
     "text": [
      "------------------------------------------\n",
      "IA_FIRST_FIXATION_DURATION\n",
      "------------------------------------------\n",
      "Index(['Name', 'Coef.', 'Std. Error', 'z', 'Pr(>|z|)', 'l_conf', 'u_conf',\n",
      "       '2se'],\n",
      "      dtype='object')\n",
      "                     Name       Coef.   2se      Pr(>|z|)\n",
      "0             (Intercept)  195.238984  2.08  0.000000e+00\n",
      "1       subtlex_Frequency    0.956796  0.07  4.458203e-40\n",
      "2                  Length   -0.488816  0.12  2.210785e-05\n",
      "3          gpt2_Surprisal    1.230692  0.08  7.389513e-49\n",
      "4  prev_subtlex_Frequency   -0.133432  0.03  1.379674e-06\n",
      "5     prev_gpt2_Surprisal    0.424334  0.04  1.669598e-30\n",
      "6             prev_Length   -0.544728  0.06  6.216808e-18\n",
      "------------------------------------------\n",
      "IA_FIRST_RUN_DWELL_TIME\n",
      "------------------------------------------\n",
      "Index(['Name', 'Coef.', 'Std. Error', 'z', 'Pr(>|z|)', 'l_conf', 'u_conf',\n",
      "       '2se'],\n",
      "      dtype='object')\n",
      "                     Name       Coef.   2se      Pr(>|z|)\n",
      "0             (Intercept)  212.857661  2.66  0.000000e+00\n",
      "1       subtlex_Frequency    1.081008  0.11  4.084291e-24\n",
      "2                  Length    3.519107  0.27  2.630935e-39\n",
      "3          gpt2_Surprisal    2.262170  0.15  4.691970e-50\n",
      "4  prev_subtlex_Frequency   -0.131949  0.04  2.858467e-04\n",
      "5     prev_gpt2_Surprisal    0.770699  0.05  1.598381e-56\n",
      "6             prev_Length   -1.024143  0.08  6.568261e-35\n",
      "------------------------------------------\n",
      "IA_DWELL_TIME\n",
      "------------------------------------------\n",
      "Index(['Name', 'Coef.', 'Std. Error', 'z', 'Pr(>|z|)', 'l_conf', 'u_conf',\n",
      "       '2se'],\n",
      "      dtype='object')\n",
      "                     Name       Coef.   2se       Pr(>|z|)\n",
      "0             (Intercept)  302.015387  5.56   0.000000e+00\n",
      "1       subtlex_Frequency    1.982702  0.27   1.372816e-13\n",
      "2                  Length   12.737561  0.66   5.350103e-84\n",
      "3          gpt2_Surprisal    6.643656  0.36   5.126134e-75\n",
      "4  prev_subtlex_Frequency   -0.401014  0.07   5.437618e-08\n",
      "5     prev_gpt2_Surprisal    3.817884  0.10   0.000000e+00\n",
      "6             prev_Length   -3.689542  0.17  2.716182e-106\n"
     ]
    }
   ],
   "source": [
    "mode = \"standard\"  # standard, z_has_preview, z_combination, posi, z_reread\n",
    "\n",
    "\n",
    "for outcome in [\n",
    "    \"IA_FIRST_FIXATION_DURATION\",\n",
    "    \"IA_FIRST_RUN_DWELL_TIME\",\n",
    "    \"IA_DWELL_TIME\",\n",
    "]:\n",
    "    print(\"------------------------------------------\")\n",
    "    print(outcome)\n",
    "    print(\"------------------------------------------\")\n",
    "    ling_featurse_formula = f\"\"\"\n",
    "        {outcome} ~ 1 + subtlex_Frequency + Length + gpt2_Surprisal + prev_subtlex_Frequency + prev_gpt2_Surprisal + prev_Length +\n",
    "            (1 + subtlex_Frequency + Length + gpt2_Surprisal | participant_id) + \n",
    "            (1 + subtlex_Frequency + Length + gpt2_Surprisal | unique_paragraph_id)\n",
    "    \"\"\"\n",
    "    df_query = f\"{outcome} >= 0\" if mode != \"posi\" else f\"{outcome} > 0\"\n",
    "    if df_query != \"\":\n",
    "        df = ia_rep_fixated_only.query(df_query).copy()\n",
    "        # df['IA_DWELL_TIME'] = np.log(df[\"IA_DWELL_TIME\"])\n",
    "    else:\n",
    "        df = ia_rep_fixated_only.copy()\n",
    "\n",
    "    df = df[\n",
    "        [\n",
    "            \"gpt2_Surprisal\",\n",
    "            \"subtlex_Frequency\",\n",
    "            \"Length\",\n",
    "            \"prev_subtlex_Frequency\",\n",
    "            \"prev_gpt2_Surprisal\",\n",
    "            \"prev_Length\",\n",
    "            \"has_preview\",\n",
    "            \"reread\",\n",
    "            \"unique_paragraph_id\",\n",
    "            \"participant_id\",\n",
    "        ]\n",
    "        + [outcome]\n",
    "    ]\n",
    "    df = df.query(\"subtlex_Frequency > 0\")\n",
    "\n",
    "    df = df.dropna()\n",
    "\n",
    "    # centralize the covariates\n",
    "    df[\"subtlex_Frequency\"] = df[\"subtlex_Frequency\"] - df[\"subtlex_Frequency\"].mean()\n",
    "    df[\"gpt2_Surprisal\"] = df[\"gpt2_Surprisal\"] - df[\"gpt2_Surprisal\"].mean()\n",
    "    df[\"Length\"] = df[\"Length\"] - df[\"Length\"].mean()\n",
    "    df[\"prev_subtlex_Frequency\"] = (\n",
    "        df[\"prev_subtlex_Frequency\"] - df[\"subtlex_Frequency\"].mean()\n",
    "    )\n",
    "    df[\"prev_gpt2_Surprisal\"] = df[\"prev_gpt2_Surprisal\"] - df[\"gpt2_Surprisal\"].mean()\n",
    "    df[\"prev_Length\"] = df[\"prev_Length\"] - df[\"Length\"].mean()\n",
    "\n",
    "    # take df, and normalize the ourcome variable seperately for Hunting and Gathering\n",
    "    if mode == \"z_has_preview\":\n",
    "        df[outcome] = df.groupby(\"has_preview\")[outcome].apply(\n",
    "            lambda x: (x - x.mean()) / x.std()\n",
    "        )\n",
    "\n",
    "    if mode == \"z_reread\":\n",
    "        df[outcome] = df.groupby(\"reread\")[outcome].apply(\n",
    "            lambda x: (x - x.mean()) / x.std()\n",
    "        )\n",
    "\n",
    "    if mode == \"z_combination\":\n",
    "        df[outcome] = df.groupby([\"has_preview\", \"reread\"])[outcome].apply(\n",
    "            lambda x: (x - x.mean()) / x.std()\n",
    "        )\n",
    "\n",
    "    if type(evs) is list and len(evs) > 1:\n",
    "        cfg.explanatory_variable = \"_\".join(evs)\n",
    "        df[cfg.explanatory_variable] = df[evs].apply(\n",
    "            lambda x: \"_\".join([str(i) for i in x]), axis=1\n",
    "        )\n",
    "        res = (\n",
    "            df.groupby(cfg.explanatory_variable)\n",
    "            .apply(\n",
    "                lambda x: run_linear_mm(\n",
    "                    x,\n",
    "                    outcome,\n",
    "                    cfg.re_columns,\n",
    "                    ling_featurse_formula,\n",
    "                    model_res_var_name=\"j_model_mm\",\n",
    "                    link_dist=jl.Distributions.Normal()\n",
    "                    if cfg.outcome_variable != \"IA_SKIP\"\n",
    "                    else jl.Distributions.Bernoulli(),\n",
    "                    z_outcome=z_score_w_r_t_explanatory,\n",
    "                    centralize_covariates=False,\n",
    "                    print_model_res=False,\n",
    "                )[0]\n",
    "            )\n",
    "            .reset_index()\n",
    "            .drop(columns=[\"level_1\"])\n",
    "        )\n",
    "\n",
    "        # seperate the explanatory variable into its components in res\n",
    "        res[cfg.explanatory_variable] = res[cfg.explanatory_variable].apply(\n",
    "            lambda x: x.split(\"_\")\n",
    "        )\n",
    "        for i in range(len(evs)):\n",
    "            res[evs[i]] = res[cfg.explanatory_variable].apply(lambda x: x[i])\n",
    "        res = res.drop(columns=[cfg.explanatory_variable])\n",
    "        # turn the numeric evs back to numeric if it's possible (is_numeric)\n",
    "        for ev in evs:\n",
    "            res[ev] = pd.to_numeric(res[ev], errors=\"ignore\")\n",
    "\n",
    "    else:\n",
    "        res = run_linear_mm(\n",
    "            df.query(\"has_preview == 'Gathering' and reread == 0\"),\n",
    "            outcome,\n",
    "            cfg.re_columns,\n",
    "            ling_featurse_formula,\n",
    "            link_dist=jl.Distributions.Normal()\n",
    "            if cfg.outcome_variable != \"IA_SKIP\"\n",
    "            else jl.Distributions.Bernoulli(),\n",
    "            z_outcome=z_score_w_r_t_explanatory,\n",
    "            centralize_covariates=False,\n",
    "            print_model_res=False,\n",
    "        )[0]\n",
    "\n",
    "    # remove from res the interaction term\n",
    "    res = res.query(\"Name != 'subtlex_Frequency & Length'\")\n",
    "    res[\"2se\"] = res[\"Std. Error\"].round(2)\n",
    "    print(res.columns)\n",
    "    print(res[[\"Name\", \"Coef.\", \"2se\", \"Pr(>|z|)\"]])"
   ]
  },
  {
   "cell_type": "markdown",
   "id": "f766e061",
   "metadata": {},
   "source": [
    "# Reading Comprehension Performance"
   ]
  },
  {
   "cell_type": "code",
   "execution_count": null,
   "id": "2523abef",
   "metadata": {},
   "outputs": [
    {
     "name": "stdout",
     "output_type": "stream",
     "text": [
      "Could not convert IA_FIRST_PASS_GAZE_DURATION to numeric\n"
     ]
    }
   ],
   "source": [
    "ia_rep, fix_rep, ia_rep_fixated_only = load_and_process_dataset(dataset=\"onestop\")\n",
    "pos_outcomes, fix_rep_outcomes, non_pos_outcomes = get_outcome_vars(dataset=\"onestop\")"
   ]
  },
  {
   "cell_type": "code",
   "execution_count": null,
   "id": "5e184ac6",
   "metadata": {},
   "outputs": [
    {
     "name": "stdout",
     "output_type": "stream",
     "text": [
      "Linear mixed model fit by maximum likelihood\n",
      " is_correct ~ 1 + reread + has_preview + reread & has_preview + (1 + reread + has_preview + reread & has_preview | subject_id) + (1 + reread + has_preview + reread & has_preview | unique_paragraph_id)\n",
      "   logLik   -2 logLik     AIC       AICc        BIC    \n",
      " -8647.0189 17294.0379 17344.0379 17344.0936 17545.4710\n",
      "\n",
      "Variance components:\n",
      "                                Column             Variance   Std.Dev.    Corr.\n",
      "subject_id          (Intercept)                    0.00614669 0.07840080\n",
      "                    reread                         0.00002122 0.00460659 -1.00\n",
      "                    has_preview: Hunting           0.00692365 0.08320846 -0.77 +0.77\n",
      "                    reread & has_preview: Hunting  0.00010210 0.01010434 +0.19 -0.19 -0.77\n",
      "unique_paragraph_id (Intercept)                    0.00978648 0.09892661\n",
      "                    reread                         0.00233560 0.04832803 -0.27\n",
      "                    has_preview: Hunting           0.00156978 0.03962048 -0.84 -0.30\n",
      "                    reread & has_preview: Hunting  0.00050619 0.02249863 +0.03 -0.97 +0.52\n",
      "Residual                                           0.11761693 0.34295325\n",
      " Number of obs: 23326; levels of grouping factors: 360, 324\n",
      "\n",
      "  Fixed-effects parameters:\n",
      "──────────────────────────────────────────────────────────────────────\n",
      "                                    Coef.  Std. Error      z  Pr(>|z|)\n",
      "──────────────────────────────────────────────────────────────────────\n",
      "(Intercept)                    0.811883    0.00874394  92.85    <1e-99\n",
      "reread                         0.0301847   0.00894691   3.37    0.0007\n",
      "has_preview: Hunting           0.0574585   0.00894466   6.42    <1e-09\n",
      "reread & has_preview: Hunting  0.00564656  0.0121516    0.46    0.6422\n",
      "──────────────────────────────────────────────────────────────────────\n"
     ]
    }
   ],
   "source": [
    "paragraph_aggregated_df = ia_rep[\n",
    "    [\"participant_id\", \"unique_paragraph_id\", \"reread\", \"has_preview\", \"is_correct\"]\n",
    "].drop_duplicates()\n",
    "\n",
    "_ = run_linear_mm(\n",
    "    df_input=paragraph_aggregated_df,\n",
    "    outcome_variable=\"is_correct\",\n",
    "    re_cols=[\"participant_id\", \"unique_paragraph_id\"],\n",
    "    formula=\"is_correct ~ reread * has_preview + (reread * has_preview | participant_id) + (reread * has_preview | unique_paragraph_id)\",\n",
    "    link_dist=jl.Distributions.Normal(),\n",
    ")"
   ]
  },
  {
   "cell_type": "markdown",
   "id": "d6e6f4c9",
   "metadata": {},
   "source": [
    "## "
   ]
  },
  {
   "cell_type": "markdown",
   "id": "9c020f56",
   "metadata": {},
   "source": [
    "## Relationship between reading comprehension and reading speed"
   ]
  },
  {
   "cell_type": "code",
   "execution_count": null,
   "id": "798a189a",
   "metadata": {},
   "outputs": [
    {
     "name": "stdout",
     "output_type": "stream",
     "text": [
      "R^2: 0.0010574192803742449, p-value: 0.5385532079294629\n"
     ]
    }
   ],
   "source": [
    "subject_correct_speed_df = (\n",
    "    ia_rep.query(\"reread == 0\")[[\"participant_id\", \"is_correct\", \"IA_DWELL_TIME\"]]\n",
    "    .groupby(\"participant_id\")\n",
    "    .agg({\"is_correct\": \"mean\", \"IA_DWELL_TIME\": \"mean\"})\n",
    ")\n",
    "\n",
    "# create a simple linear model for the relationship between the mean IA_DWELL_TIME and the mean is_correct\n",
    "\n",
    "slope, intercept, r_value, p_value, std_err = stats.linregress(\n",
    "    subject_correct_speed_df[\"IA_DWELL_TIME\"], subject_correct_speed_df[\"is_correct\"]\n",
    ")\n",
    "\n",
    "print(f\"R^2: {r_value**2}, p-value: {p_value}\")"
   ]
  }
 ],
 "metadata": {
  "kernelspec": {
   "display_name": "onestop",
   "language": "python",
   "name": "python3"
  },
  "language_info": {
   "codemirror_mode": {
    "name": "ipython",
    "version": 3
   },
   "file_extension": ".py",
   "mimetype": "text/x-python",
   "name": "python",
   "nbconvert_exporter": "python",
   "pygments_lexer": "ipython3",
   "version": "3.12.4"
  }
 },
 "nbformat": 4,
 "nbformat_minor": 5
}
